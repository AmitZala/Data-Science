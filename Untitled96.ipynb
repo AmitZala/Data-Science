{
 "cells": [
  {
   "cell_type": "code",
   "execution_count": 1,
   "id": "1ef7b72a",
   "metadata": {
    "ExecuteTime": {
     "end_time": "2022-01-29T17:22:33.793719Z",
     "start_time": "2022-01-29T17:22:33.781376Z"
    }
   },
   "outputs": [],
   "source": [
    "# import os\n",
    "# %cd \"D:\\Sentiment prediction\""
   ]
  },
  {
   "cell_type": "code",
   "execution_count": 2,
   "id": "a17c968f",
   "metadata": {
    "ExecuteTime": {
     "end_time": "2022-01-29T17:22:34.091921Z",
     "start_time": "2022-01-29T17:22:33.794716Z"
    }
   },
   "outputs": [],
   "source": [
    "import pandas as pd\n",
    "import numpy as np"
   ]
  },
  {
   "cell_type": "code",
   "execution_count": 3,
   "id": "a35b8e63",
   "metadata": {
    "ExecuteTime": {
     "end_time": "2022-01-29T17:22:34.107878Z",
     "start_time": "2022-01-29T17:22:34.092918Z"
    }
   },
   "outputs": [],
   "source": [
    "def print_tweets(x, no_tweets = 10):\n",
    "    for i in range(no_tweets):\n",
    "        print(x.iloc[i])\n",
    "        print(\"-\"*100)"
   ]
  },
  {
   "cell_type": "code",
   "execution_count": 4,
   "id": "51f89220",
   "metadata": {
    "ExecuteTime": {
     "end_time": "2022-01-29T17:22:34.153785Z",
     "start_time": "2022-01-29T17:22:34.109874Z"
    }
   },
   "outputs": [
    {
     "name": "stdout",
     "output_type": "stream",
     "text": [
      "(7920, 3)\n"
     ]
    },
    {
     "data": {
      "text/html": [
       "<div>\n",
       "<style scoped>\n",
       "    .dataframe tbody tr th:only-of-type {\n",
       "        vertical-align: middle;\n",
       "    }\n",
       "\n",
       "    .dataframe tbody tr th {\n",
       "        vertical-align: top;\n",
       "    }\n",
       "\n",
       "    .dataframe thead th {\n",
       "        text-align: right;\n",
       "    }\n",
       "</style>\n",
       "<table border=\"1\" class=\"dataframe\">\n",
       "  <thead>\n",
       "    <tr style=\"text-align: right;\">\n",
       "      <th></th>\n",
       "      <th>id</th>\n",
       "      <th>label</th>\n",
       "      <th>tweet</th>\n",
       "    </tr>\n",
       "  </thead>\n",
       "  <tbody>\n",
       "    <tr>\n",
       "      <th>0</th>\n",
       "      <td>1</td>\n",
       "      <td>0</td>\n",
       "      <td>#fingerprint #Pregnancy Test https://goo.gl/h1...</td>\n",
       "    </tr>\n",
       "    <tr>\n",
       "      <th>1</th>\n",
       "      <td>2</td>\n",
       "      <td>0</td>\n",
       "      <td>Finally a transparant silicon case ^^ Thanks t...</td>\n",
       "    </tr>\n",
       "    <tr>\n",
       "      <th>2</th>\n",
       "      <td>3</td>\n",
       "      <td>0</td>\n",
       "      <td>We love this! Would you go? #talk #makememorie...</td>\n",
       "    </tr>\n",
       "    <tr>\n",
       "      <th>3</th>\n",
       "      <td>4</td>\n",
       "      <td>0</td>\n",
       "      <td>I'm wired I know I'm George I was made that wa...</td>\n",
       "    </tr>\n",
       "    <tr>\n",
       "      <th>4</th>\n",
       "      <td>5</td>\n",
       "      <td>1</td>\n",
       "      <td>What amazing service! Apple won't even talk to...</td>\n",
       "    </tr>\n",
       "  </tbody>\n",
       "</table>\n",
       "</div>"
      ],
      "text/plain": [
       "   id  label                                              tweet\n",
       "0   1      0  #fingerprint #Pregnancy Test https://goo.gl/h1...\n",
       "1   2      0  Finally a transparant silicon case ^^ Thanks t...\n",
       "2   3      0  We love this! Would you go? #talk #makememorie...\n",
       "3   4      0  I'm wired I know I'm George I was made that wa...\n",
       "4   5      1  What amazing service! Apple won't even talk to..."
      ]
     },
     "execution_count": 4,
     "metadata": {},
     "output_type": "execute_result"
    }
   ],
   "source": [
    "train = pd.read_csv('train_2kmZucJ.csv')\n",
    "test = pd.read_csv('test_oJQbWVk.csv')\n",
    "\n",
    "print(train.shape)\n",
    "train.head()"
   ]
  },
  {
   "cell_type": "code",
   "execution_count": 5,
   "id": "f0570bf2",
   "metadata": {
    "ExecuteTime": {
     "end_time": "2022-01-29T17:22:34.169749Z",
     "start_time": "2022-01-29T17:22:34.154754Z"
    }
   },
   "outputs": [
    {
     "name": "stdout",
     "output_type": "stream",
     "text": [
      "#fingerprint #Pregnancy Test https://goo.gl/h1MfQV #android #apps #beautiful #cute #health #igers #iphoneonly #iphonesia #iphone\n",
      "----------------------------------------------------------------------------------------------------\n",
      "Finally a transparant silicon case ^^ Thanks to my uncle :) #yay #Sony #Xperia #S #sonyexperias… http://instagram.com/p/YGEt5JC6JM/\n",
      "----------------------------------------------------------------------------------------------------\n",
      "We love this! Would you go? #talk #makememories #unplug #relax #iphone #smartphone #wifi #connect... http://fb.me/6N3LsUpCu\n",
      "----------------------------------------------------------------------------------------------------\n",
      "I'm wired I know I'm George I was made that way ;) #iphone #cute #daventry #home http://instagr.am/p/Li_5_ujS4k/\n",
      "----------------------------------------------------------------------------------------------------\n",
      "What amazing service! Apple won't even talk to me about a question I have unless I pay them $19.95 for their stupid support!\n",
      "----------------------------------------------------------------------------------------------------\n",
      "iPhone software update fucked up my phone big time Stupid iPhones\n",
      "----------------------------------------------------------------------------------------------------\n",
      "Happy for us .. #instapic #instadaily #us #sony #xperia #xperiaZ https://instagram.com/p/z9qGfWlvj7/\n",
      "----------------------------------------------------------------------------------------------------\n",
      "New Type C charger cable #UK http://www.ebay.co.uk/itm/-/112598674021 … #bay #Amazon #etsy New Year #Rob Cross #Toby Young #EVEMUN #McMafia #Taylor #SPECTRE 2018 #NewYear #Starting 2018 #recipes #technology #SamsungGalaxyS9 #iPhoneX pic.twitter.com/PjIwq59WtC\n",
      "----------------------------------------------------------------------------------------------------\n",
      "Bout to go shopping again listening to music #iphone #justme #music #likeforlike #followforfollow… http://instagr.am/p/Vj6bg5tLql/\n",
      "----------------------------------------------------------------------------------------------------\n",
      "Photo: #fun #selfie #pool #water #sony #camera #picoftheday #sun #instagood #boy #cute #outdoor... http://tmblr.co/ZAjC0n1ms_Gp8\n",
      "----------------------------------------------------------------------------------------------------\n"
     ]
    }
   ],
   "source": [
    "print_tweets(train[\"tweet\"])"
   ]
  },
  {
   "cell_type": "code",
   "execution_count": 6,
   "id": "fef67763",
   "metadata": {
    "ExecuteTime": {
     "end_time": "2022-01-29T17:22:34.185671Z",
     "start_time": "2022-01-29T17:22:34.170711Z"
    }
   },
   "outputs": [],
   "source": [
    "train['tweet'] = train['tweet'].str.lower()"
   ]
  },
  {
   "cell_type": "code",
   "execution_count": 7,
   "id": "c3e3b2e1",
   "metadata": {
    "ExecuteTime": {
     "end_time": "2022-01-29T17:22:34.201628Z",
     "start_time": "2022-01-29T17:22:34.186668Z"
    },
    "scrolled": true
   },
   "outputs": [
    {
     "data": {
      "text/html": [
       "<div>\n",
       "<style scoped>\n",
       "    .dataframe tbody tr th:only-of-type {\n",
       "        vertical-align: middle;\n",
       "    }\n",
       "\n",
       "    .dataframe tbody tr th {\n",
       "        vertical-align: top;\n",
       "    }\n",
       "\n",
       "    .dataframe thead th {\n",
       "        text-align: right;\n",
       "    }\n",
       "</style>\n",
       "<table border=\"1\" class=\"dataframe\">\n",
       "  <thead>\n",
       "    <tr style=\"text-align: right;\">\n",
       "      <th></th>\n",
       "      <th>id</th>\n",
       "      <th>label</th>\n",
       "      <th>tweet</th>\n",
       "    </tr>\n",
       "  </thead>\n",
       "  <tbody>\n",
       "    <tr>\n",
       "      <th>0</th>\n",
       "      <td>1</td>\n",
       "      <td>0</td>\n",
       "      <td>#fingerprint #pregnancy test https://goo.gl/h1...</td>\n",
       "    </tr>\n",
       "    <tr>\n",
       "      <th>1</th>\n",
       "      <td>2</td>\n",
       "      <td>0</td>\n",
       "      <td>finally a transparant silicon case ^^ thanks t...</td>\n",
       "    </tr>\n",
       "    <tr>\n",
       "      <th>2</th>\n",
       "      <td>3</td>\n",
       "      <td>0</td>\n",
       "      <td>we love this! would you go? #talk #makememorie...</td>\n",
       "    </tr>\n",
       "    <tr>\n",
       "      <th>3</th>\n",
       "      <td>4</td>\n",
       "      <td>0</td>\n",
       "      <td>i'm wired i know i'm george i was made that wa...</td>\n",
       "    </tr>\n",
       "    <tr>\n",
       "      <th>4</th>\n",
       "      <td>5</td>\n",
       "      <td>1</td>\n",
       "      <td>what amazing service! apple won't even talk to...</td>\n",
       "    </tr>\n",
       "  </tbody>\n",
       "</table>\n",
       "</div>"
      ],
      "text/plain": [
       "   id  label                                              tweet\n",
       "0   1      0  #fingerprint #pregnancy test https://goo.gl/h1...\n",
       "1   2      0  finally a transparant silicon case ^^ thanks t...\n",
       "2   3      0  we love this! would you go? #talk #makememorie...\n",
       "3   4      0  i'm wired i know i'm george i was made that wa...\n",
       "4   5      1  what amazing service! apple won't even talk to..."
      ]
     },
     "execution_count": 7,
     "metadata": {},
     "output_type": "execute_result"
    }
   ],
   "source": [
    "train.head()"
   ]
  },
  {
   "cell_type": "code",
   "execution_count": 8,
   "id": "e59aedc4",
   "metadata": {
    "ExecuteTime": {
     "end_time": "2022-01-29T17:22:34.217585Z",
     "start_time": "2022-01-29T17:22:34.202626Z"
    }
   },
   "outputs": [
    {
     "name": "stdout",
     "output_type": "stream",
     "text": [
      "#fingerprint #pregnancy test https://goo.gl/h1mfqv #android #apps #beautiful #cute #health #igers #iphoneonly #iphonesia #iphone\n",
      "----------------------------------------------------------------------------------------------------\n",
      "finally a transparant silicon case ^^ thanks to my uncle :) #yay #sony #xperia #s #sonyexperias… http://instagram.com/p/yget5jc6jm/\n",
      "----------------------------------------------------------------------------------------------------\n",
      "we love this! would you go? #talk #makememories #unplug #relax #iphone #smartphone #wifi #connect... http://fb.me/6n3lsupcu\n",
      "----------------------------------------------------------------------------------------------------\n",
      "i'm wired i know i'm george i was made that way ;) #iphone #cute #daventry #home http://instagr.am/p/li_5_ujs4k/\n",
      "----------------------------------------------------------------------------------------------------\n",
      "what amazing service! apple won't even talk to me about a question i have unless i pay them $19.95 for their stupid support!\n",
      "----------------------------------------------------------------------------------------------------\n",
      "iphone software update fucked up my phone big time stupid iphones\n",
      "----------------------------------------------------------------------------------------------------\n",
      "happy for us .. #instapic #instadaily #us #sony #xperia #xperiaz https://instagram.com/p/z9qgfwlvj7/\n",
      "----------------------------------------------------------------------------------------------------\n",
      "new type c charger cable #uk http://www.ebay.co.uk/itm/-/112598674021 … #bay #amazon #etsy new year #rob cross #toby young #evemun #mcmafia #taylor #spectre 2018 #newyear #starting 2018 #recipes #technology #samsunggalaxys9 #iphonex pic.twitter.com/pjiwq59wtc\n",
      "----------------------------------------------------------------------------------------------------\n",
      "bout to go shopping again listening to music #iphone #justme #music #likeforlike #followforfollow… http://instagr.am/p/vj6bg5tlql/\n",
      "----------------------------------------------------------------------------------------------------\n",
      "photo: #fun #selfie #pool #water #sony #camera #picoftheday #sun #instagood #boy #cute #outdoor... http://tmblr.co/zajc0n1ms_gp8\n",
      "----------------------------------------------------------------------------------------------------\n"
     ]
    }
   ],
   "source": [
    "print_tweets(train[\"tweet\"])"
   ]
  },
  {
   "cell_type": "code",
   "execution_count": 9,
   "id": "d1c75032",
   "metadata": {
    "ExecuteTime": {
     "end_time": "2022-01-29T17:22:34.233543Z",
     "start_time": "2022-01-29T17:22:34.218582Z"
    }
   },
   "outputs": [],
   "source": [
    "import re"
   ]
  },
  {
   "cell_type": "code",
   "execution_count": 10,
   "id": "43055a00",
   "metadata": {
    "ExecuteTime": {
     "end_time": "2022-01-29T17:22:34.249500Z",
     "start_time": "2022-01-29T17:22:34.235539Z"
    }
   },
   "outputs": [],
   "source": [
    "def remove_html_tags(text):\n",
    "    pattern = re.compile('<.*?>')\n",
    "    return pattern.sub(r'', text)"
   ]
  },
  {
   "cell_type": "code",
   "execution_count": 11,
   "id": "753d83b4",
   "metadata": {
    "ExecuteTime": {
     "end_time": "2022-01-29T17:22:34.265458Z",
     "start_time": "2022-01-29T17:22:34.250497Z"
    }
   },
   "outputs": [],
   "source": [
    "train['tweet'] = train['tweet'].apply(remove_html_tags)"
   ]
  },
  {
   "cell_type": "code",
   "execution_count": 12,
   "id": "d0c731aa",
   "metadata": {
    "ExecuteTime": {
     "end_time": "2022-01-29T17:22:34.280419Z",
     "start_time": "2022-01-29T17:22:34.266455Z"
    }
   },
   "outputs": [
    {
     "data": {
      "text/html": [
       "<div>\n",
       "<style scoped>\n",
       "    .dataframe tbody tr th:only-of-type {\n",
       "        vertical-align: middle;\n",
       "    }\n",
       "\n",
       "    .dataframe tbody tr th {\n",
       "        vertical-align: top;\n",
       "    }\n",
       "\n",
       "    .dataframe thead th {\n",
       "        text-align: right;\n",
       "    }\n",
       "</style>\n",
       "<table border=\"1\" class=\"dataframe\">\n",
       "  <thead>\n",
       "    <tr style=\"text-align: right;\">\n",
       "      <th></th>\n",
       "      <th>id</th>\n",
       "      <th>label</th>\n",
       "      <th>tweet</th>\n",
       "    </tr>\n",
       "  </thead>\n",
       "  <tbody>\n",
       "    <tr>\n",
       "      <th>0</th>\n",
       "      <td>1</td>\n",
       "      <td>0</td>\n",
       "      <td>#fingerprint #pregnancy test https://goo.gl/h1...</td>\n",
       "    </tr>\n",
       "    <tr>\n",
       "      <th>1</th>\n",
       "      <td>2</td>\n",
       "      <td>0</td>\n",
       "      <td>finally a transparant silicon case ^^ thanks t...</td>\n",
       "    </tr>\n",
       "    <tr>\n",
       "      <th>2</th>\n",
       "      <td>3</td>\n",
       "      <td>0</td>\n",
       "      <td>we love this! would you go? #talk #makememorie...</td>\n",
       "    </tr>\n",
       "    <tr>\n",
       "      <th>3</th>\n",
       "      <td>4</td>\n",
       "      <td>0</td>\n",
       "      <td>i'm wired i know i'm george i was made that wa...</td>\n",
       "    </tr>\n",
       "    <tr>\n",
       "      <th>4</th>\n",
       "      <td>5</td>\n",
       "      <td>1</td>\n",
       "      <td>what amazing service! apple won't even talk to...</td>\n",
       "    </tr>\n",
       "  </tbody>\n",
       "</table>\n",
       "</div>"
      ],
      "text/plain": [
       "   id  label                                              tweet\n",
       "0   1      0  #fingerprint #pregnancy test https://goo.gl/h1...\n",
       "1   2      0  finally a transparant silicon case ^^ thanks t...\n",
       "2   3      0  we love this! would you go? #talk #makememorie...\n",
       "3   4      0  i'm wired i know i'm george i was made that wa...\n",
       "4   5      1  what amazing service! apple won't even talk to..."
      ]
     },
     "execution_count": 12,
     "metadata": {},
     "output_type": "execute_result"
    }
   ],
   "source": [
    "train.head()"
   ]
  },
  {
   "cell_type": "code",
   "execution_count": 13,
   "id": "976ce2b9",
   "metadata": {
    "ExecuteTime": {
     "end_time": "2022-01-29T17:22:34.295378Z",
     "start_time": "2022-01-29T17:22:34.281417Z"
    }
   },
   "outputs": [
    {
     "name": "stdout",
     "output_type": "stream",
     "text": [
      "#fingerprint #pregnancy test https://goo.gl/h1mfqv #android #apps #beautiful #cute #health #igers #iphoneonly #iphonesia #iphone\n",
      "----------------------------------------------------------------------------------------------------\n",
      "finally a transparant silicon case ^^ thanks to my uncle :) #yay #sony #xperia #s #sonyexperias… http://instagram.com/p/yget5jc6jm/\n",
      "----------------------------------------------------------------------------------------------------\n",
      "we love this! would you go? #talk #makememories #unplug #relax #iphone #smartphone #wifi #connect... http://fb.me/6n3lsupcu\n",
      "----------------------------------------------------------------------------------------------------\n",
      "i'm wired i know i'm george i was made that way ;) #iphone #cute #daventry #home http://instagr.am/p/li_5_ujs4k/\n",
      "----------------------------------------------------------------------------------------------------\n",
      "what amazing service! apple won't even talk to me about a question i have unless i pay them $19.95 for their stupid support!\n",
      "----------------------------------------------------------------------------------------------------\n",
      "iphone software update fucked up my phone big time stupid iphones\n",
      "----------------------------------------------------------------------------------------------------\n",
      "happy for us .. #instapic #instadaily #us #sony #xperia #xperiaz https://instagram.com/p/z9qgfwlvj7/\n",
      "----------------------------------------------------------------------------------------------------\n",
      "new type c charger cable #uk http://www.ebay.co.uk/itm/-/112598674021 … #bay #amazon #etsy new year #rob cross #toby young #evemun #mcmafia #taylor #spectre 2018 #newyear #starting 2018 #recipes #technology #samsunggalaxys9 #iphonex pic.twitter.com/pjiwq59wtc\n",
      "----------------------------------------------------------------------------------------------------\n",
      "bout to go shopping again listening to music #iphone #justme #music #likeforlike #followforfollow… http://instagr.am/p/vj6bg5tlql/\n",
      "----------------------------------------------------------------------------------------------------\n",
      "photo: #fun #selfie #pool #water #sony #camera #picoftheday #sun #instagood #boy #cute #outdoor... http://tmblr.co/zajc0n1ms_gp8\n",
      "----------------------------------------------------------------------------------------------------\n"
     ]
    }
   ],
   "source": [
    "print_tweets(train[\"tweet\"])"
   ]
  },
  {
   "cell_type": "code",
   "execution_count": 14,
   "id": "e10e1461",
   "metadata": {
    "ExecuteTime": {
     "end_time": "2022-01-29T17:22:34.311335Z",
     "start_time": "2022-01-29T17:22:34.296375Z"
    }
   },
   "outputs": [],
   "source": [
    "def remove_url(text):\n",
    "    return re.sub('((www.[^s]+)|(https?://[^s]+))', '', text)"
   ]
  },
  {
   "cell_type": "code",
   "execution_count": 15,
   "id": "21917560",
   "metadata": {
    "ExecuteTime": {
     "end_time": "2022-01-29T17:22:34.359207Z",
     "start_time": "2022-01-29T17:22:34.312332Z"
    }
   },
   "outputs": [],
   "source": [
    "train['tweet'] = train['tweet'].apply(lambda x: remove_url(x))"
   ]
  },
  {
   "cell_type": "code",
   "execution_count": 16,
   "id": "293490be",
   "metadata": {
    "ExecuteTime": {
     "end_time": "2022-01-29T17:22:34.374166Z",
     "start_time": "2022-01-29T17:22:34.360203Z"
    }
   },
   "outputs": [
    {
     "data": {
      "text/html": [
       "<div>\n",
       "<style scoped>\n",
       "    .dataframe tbody tr th:only-of-type {\n",
       "        vertical-align: middle;\n",
       "    }\n",
       "\n",
       "    .dataframe tbody tr th {\n",
       "        vertical-align: top;\n",
       "    }\n",
       "\n",
       "    .dataframe thead th {\n",
       "        text-align: right;\n",
       "    }\n",
       "</style>\n",
       "<table border=\"1\" class=\"dataframe\">\n",
       "  <thead>\n",
       "    <tr style=\"text-align: right;\">\n",
       "      <th></th>\n",
       "      <th>id</th>\n",
       "      <th>label</th>\n",
       "      <th>tweet</th>\n",
       "    </tr>\n",
       "  </thead>\n",
       "  <tbody>\n",
       "    <tr>\n",
       "      <th>0</th>\n",
       "      <td>1</td>\n",
       "      <td>0</td>\n",
       "      <td>#fingerprint #pregnancy test s #beautiful #cut...</td>\n",
       "    </tr>\n",
       "    <tr>\n",
       "      <th>1</th>\n",
       "      <td>2</td>\n",
       "      <td>0</td>\n",
       "      <td>finally a transparant silicon case ^^ thanks t...</td>\n",
       "    </tr>\n",
       "    <tr>\n",
       "      <th>2</th>\n",
       "      <td>3</td>\n",
       "      <td>0</td>\n",
       "      <td>we love this! would you go? #talk #makememorie...</td>\n",
       "    </tr>\n",
       "    <tr>\n",
       "      <th>3</th>\n",
       "      <td>4</td>\n",
       "      <td>0</td>\n",
       "      <td>i'm wired i know i'm george i was made that wa...</td>\n",
       "    </tr>\n",
       "    <tr>\n",
       "      <th>4</th>\n",
       "      <td>5</td>\n",
       "      <td>1</td>\n",
       "      <td>what amazing service! apple won't even talk to...</td>\n",
       "    </tr>\n",
       "  </tbody>\n",
       "</table>\n",
       "</div>"
      ],
      "text/plain": [
       "   id  label                                              tweet\n",
       "0   1      0  #fingerprint #pregnancy test s #beautiful #cut...\n",
       "1   2      0  finally a transparant silicon case ^^ thanks t...\n",
       "2   3      0  we love this! would you go? #talk #makememorie...\n",
       "3   4      0  i'm wired i know i'm george i was made that wa...\n",
       "4   5      1  what amazing service! apple won't even talk to..."
      ]
     },
     "execution_count": 16,
     "metadata": {},
     "output_type": "execute_result"
    }
   ],
   "source": [
    "train.head()"
   ]
  },
  {
   "cell_type": "code",
   "execution_count": 17,
   "id": "41169811",
   "metadata": {
    "ExecuteTime": {
     "end_time": "2022-01-29T17:22:34.390124Z",
     "start_time": "2022-01-29T17:22:34.375164Z"
    }
   },
   "outputs": [
    {
     "name": "stdout",
     "output_type": "stream",
     "text": [
      "#fingerprint #pregnancy test s #beautiful #cute #health #igers #iphoneonly #iphonesia #iphone\n",
      "----------------------------------------------------------------------------------------------------\n",
      "finally a transparant silicon case ^^ thanks to my uncle :) #yay #sony #xperia #s #sonyexperias… stagram.com/p/yget5jc6jm/\n",
      "----------------------------------------------------------------------------------------------------\n",
      "we love this! would you go? #talk #makememories #unplug #relax #iphone #smartphone #wifi #connect... supcu\n",
      "----------------------------------------------------------------------------------------------------\n",
      "i'm wired i know i'm george i was made that way ;) #iphone #cute #daventry #home stagr.am/p/li_5_ujs4k/\n",
      "----------------------------------------------------------------------------------------------------\n",
      "what amazing service! apple won't even talk to me about a question i have unless i pay them $19.95 for their stupid support!\n",
      "----------------------------------------------------------------------------------------------------\n",
      "iphone software update fucked up my phone big time stupid iphones\n",
      "----------------------------------------------------------------------------------------------------\n",
      "happy for us .. #instapic #instadaily #us #sony #xperia #xperiaz stagram.com/p/z9qgfwlvj7/\n",
      "----------------------------------------------------------------------------------------------------\n",
      "new type c charger cable #uk sy new year #rob cross #toby young #evemun #mcmafia #taylor #spectre 2018 #newyear #starting 2018 #recipes #technology #samsunggalaxys9 #iphonex pic.twitter.com/pjiwq59wtc\n",
      "----------------------------------------------------------------------------------------------------\n",
      "bout to go shopping again listening to music #iphone #justme #music #likeforlike #followforfollow… stagr.am/p/vj6bg5tlql/\n",
      "----------------------------------------------------------------------------------------------------\n",
      "photo: #fun #selfie #pool #water #sony #camera #picoftheday #sun #instagood #boy #cute #outdoor... s_gp8\n",
      "----------------------------------------------------------------------------------------------------\n"
     ]
    }
   ],
   "source": [
    "print_tweets(train[\"tweet\"])"
   ]
  },
  {
   "cell_type": "code",
   "execution_count": 18,
   "id": "4cadd4ac",
   "metadata": {
    "ExecuteTime": {
     "end_time": "2022-01-29T17:22:34.405084Z",
     "start_time": "2022-01-29T17:22:34.391122Z"
    }
   },
   "outputs": [
    {
     "data": {
      "text/html": [
       "<div>\n",
       "<style scoped>\n",
       "    .dataframe tbody tr th:only-of-type {\n",
       "        vertical-align: middle;\n",
       "    }\n",
       "\n",
       "    .dataframe tbody tr th {\n",
       "        vertical-align: top;\n",
       "    }\n",
       "\n",
       "    .dataframe thead th {\n",
       "        text-align: right;\n",
       "    }\n",
       "</style>\n",
       "<table border=\"1\" class=\"dataframe\">\n",
       "  <thead>\n",
       "    <tr style=\"text-align: right;\">\n",
       "      <th></th>\n",
       "      <th>id</th>\n",
       "      <th>label</th>\n",
       "      <th>tweet</th>\n",
       "    </tr>\n",
       "  </thead>\n",
       "  <tbody>\n",
       "    <tr>\n",
       "      <th>7915</th>\n",
       "      <td>7916</td>\n",
       "      <td>0</td>\n",
       "      <td>live out loud #lol #liveoutloud #selfie #smile...</td>\n",
       "    </tr>\n",
       "    <tr>\n",
       "      <th>7916</th>\n",
       "      <td>7917</td>\n",
       "      <td>0</td>\n",
       "      <td>we would like to wish you an amazing day! make...</td>\n",
       "    </tr>\n",
       "    <tr>\n",
       "      <th>7917</th>\n",
       "      <td>7918</td>\n",
       "      <td>0</td>\n",
       "      <td>helping my lovely 90 year old neighbor with he...</td>\n",
       "    </tr>\n",
       "    <tr>\n",
       "      <th>7918</th>\n",
       "      <td>7919</td>\n",
       "      <td>0</td>\n",
       "      <td>finally got my #smart #pocket #wifi stay conne...</td>\n",
       "    </tr>\n",
       "    <tr>\n",
       "      <th>7919</th>\n",
       "      <td>7920</td>\n",
       "      <td>0</td>\n",
       "      <td>apple barcelona!!! #apple #store #bcn #barcelo...</td>\n",
       "    </tr>\n",
       "  </tbody>\n",
       "</table>\n",
       "</div>"
      ],
      "text/plain": [
       "        id  label                                              tweet\n",
       "7915  7916      0  live out loud #lol #liveoutloud #selfie #smile...\n",
       "7916  7917      0  we would like to wish you an amazing day! make...\n",
       "7917  7918      0  helping my lovely 90 year old neighbor with he...\n",
       "7918  7919      0  finally got my #smart #pocket #wifi stay conne...\n",
       "7919  7920      0  apple barcelona!!! #apple #store #bcn #barcelo..."
      ]
     },
     "execution_count": 18,
     "metadata": {},
     "output_type": "execute_result"
    }
   ],
   "source": [
    "train.tail()"
   ]
  },
  {
   "cell_type": "code",
   "execution_count": 19,
   "id": "32343134",
   "metadata": {
    "ExecuteTime": {
     "end_time": "2022-01-29T17:22:34.421042Z",
     "start_time": "2022-01-29T17:22:34.406081Z"
    }
   },
   "outputs": [],
   "source": [
    "import string"
   ]
  },
  {
   "cell_type": "code",
   "execution_count": 20,
   "id": "6897d9fc",
   "metadata": {
    "ExecuteTime": {
     "end_time": "2022-01-29T17:22:34.436999Z",
     "start_time": "2022-01-29T17:22:34.422038Z"
    }
   },
   "outputs": [],
   "source": [
    "english_punc = string.punctuation"
   ]
  },
  {
   "cell_type": "code",
   "execution_count": 21,
   "id": "8ea40e6a",
   "metadata": {
    "ExecuteTime": {
     "end_time": "2022-01-29T17:22:34.452956Z",
     "start_time": "2022-01-29T17:22:34.437996Z"
    }
   },
   "outputs": [],
   "source": [
    "punc_list = english_punc"
   ]
  },
  {
   "cell_type": "code",
   "execution_count": 22,
   "id": "955d152e",
   "metadata": {
    "ExecuteTime": {
     "end_time": "2022-01-29T17:22:34.468913Z",
     "start_time": "2022-01-29T17:22:34.453953Z"
    }
   },
   "outputs": [
    {
     "data": {
      "text/plain": [
       "'!\"#$%&\\'()*+,-./:;<=>?@[\\\\]^_`{|}~'"
      ]
     },
     "execution_count": 22,
     "metadata": {},
     "output_type": "execute_result"
    }
   ],
   "source": [
    "punc_list"
   ]
  },
  {
   "cell_type": "code",
   "execution_count": 23,
   "id": "c89fff0d",
   "metadata": {
    "ExecuteTime": {
     "end_time": "2022-01-29T17:22:34.484870Z",
     "start_time": "2022-01-29T17:22:34.469912Z"
    }
   },
   "outputs": [],
   "source": [
    "def cleaning_punc(text):\n",
    "    translator = str.maketrans('', '', punc_list)\n",
    "    return text.translate(translator)"
   ]
  },
  {
   "cell_type": "code",
   "execution_count": 24,
   "id": "88537613",
   "metadata": {
    "ExecuteTime": {
     "end_time": "2022-01-29T17:22:34.532743Z",
     "start_time": "2022-01-29T17:22:34.485868Z"
    }
   },
   "outputs": [],
   "source": [
    "train['tweet'] = train['tweet'].apply(cleaning_punc)"
   ]
  },
  {
   "cell_type": "code",
   "execution_count": 25,
   "id": "53aee47d",
   "metadata": {
    "ExecuteTime": {
     "end_time": "2022-01-29T17:22:34.548700Z",
     "start_time": "2022-01-29T17:22:34.533740Z"
    }
   },
   "outputs": [
    {
     "data": {
      "text/html": [
       "<div>\n",
       "<style scoped>\n",
       "    .dataframe tbody tr th:only-of-type {\n",
       "        vertical-align: middle;\n",
       "    }\n",
       "\n",
       "    .dataframe tbody tr th {\n",
       "        vertical-align: top;\n",
       "    }\n",
       "\n",
       "    .dataframe thead th {\n",
       "        text-align: right;\n",
       "    }\n",
       "</style>\n",
       "<table border=\"1\" class=\"dataframe\">\n",
       "  <thead>\n",
       "    <tr style=\"text-align: right;\">\n",
       "      <th></th>\n",
       "      <th>id</th>\n",
       "      <th>label</th>\n",
       "      <th>tweet</th>\n",
       "    </tr>\n",
       "  </thead>\n",
       "  <tbody>\n",
       "    <tr>\n",
       "      <th>0</th>\n",
       "      <td>1</td>\n",
       "      <td>0</td>\n",
       "      <td>fingerprint pregnancy test s beautiful cute he...</td>\n",
       "    </tr>\n",
       "    <tr>\n",
       "      <th>1</th>\n",
       "      <td>2</td>\n",
       "      <td>0</td>\n",
       "      <td>finally a transparant silicon case  thanks to ...</td>\n",
       "    </tr>\n",
       "    <tr>\n",
       "      <th>2</th>\n",
       "      <td>3</td>\n",
       "      <td>0</td>\n",
       "      <td>we love this would you go talk makememories un...</td>\n",
       "    </tr>\n",
       "    <tr>\n",
       "      <th>3</th>\n",
       "      <td>4</td>\n",
       "      <td>0</td>\n",
       "      <td>im wired i know im george i was made that way ...</td>\n",
       "    </tr>\n",
       "    <tr>\n",
       "      <th>4</th>\n",
       "      <td>5</td>\n",
       "      <td>1</td>\n",
       "      <td>what amazing service apple wont even talk to m...</td>\n",
       "    </tr>\n",
       "  </tbody>\n",
       "</table>\n",
       "</div>"
      ],
      "text/plain": [
       "   id  label                                              tweet\n",
       "0   1      0  fingerprint pregnancy test s beautiful cute he...\n",
       "1   2      0  finally a transparant silicon case  thanks to ...\n",
       "2   3      0  we love this would you go talk makememories un...\n",
       "3   4      0  im wired i know im george i was made that way ...\n",
       "4   5      1  what amazing service apple wont even talk to m..."
      ]
     },
     "execution_count": 25,
     "metadata": {},
     "output_type": "execute_result"
    }
   ],
   "source": [
    "train.head()"
   ]
  },
  {
   "cell_type": "code",
   "execution_count": 26,
   "id": "22fd7501",
   "metadata": {
    "ExecuteTime": {
     "end_time": "2022-01-29T17:22:34.563660Z",
     "start_time": "2022-01-29T17:22:34.549697Z"
    }
   },
   "outputs": [
    {
     "name": "stdout",
     "output_type": "stream",
     "text": [
      "fingerprint pregnancy test s beautiful cute health igers iphoneonly iphonesia iphone\n",
      "----------------------------------------------------------------------------------------------------\n",
      "finally a transparant silicon case  thanks to my uncle  yay sony xperia s sonyexperias… stagramcompyget5jc6jm\n",
      "----------------------------------------------------------------------------------------------------\n",
      "we love this would you go talk makememories unplug relax iphone smartphone wifi connect supcu\n",
      "----------------------------------------------------------------------------------------------------\n",
      "im wired i know im george i was made that way  iphone cute daventry home stagrampli5ujs4k\n",
      "----------------------------------------------------------------------------------------------------\n",
      "what amazing service apple wont even talk to me about a question i have unless i pay them 1995 for their stupid support\n",
      "----------------------------------------------------------------------------------------------------\n",
      "iphone software update fucked up my phone big time stupid iphones\n",
      "----------------------------------------------------------------------------------------------------\n",
      "happy for us  instapic instadaily us sony xperia xperiaz stagramcompz9qgfwlvj7\n",
      "----------------------------------------------------------------------------------------------------\n",
      "new type c charger cable uk sy new year rob cross toby young evemun mcmafia taylor spectre 2018 newyear starting 2018 recipes technology samsunggalaxys9 iphonex pictwittercompjiwq59wtc\n",
      "----------------------------------------------------------------------------------------------------\n",
      "bout to go shopping again listening to music iphone justme music likeforlike followforfollow… stagrampvj6bg5tlql\n",
      "----------------------------------------------------------------------------------------------------\n",
      "photo fun selfie pool water sony camera picoftheday sun instagood boy cute outdoor sgp8\n",
      "----------------------------------------------------------------------------------------------------\n"
     ]
    }
   ],
   "source": [
    "print_tweets(train[\"tweet\"])"
   ]
  },
  {
   "cell_type": "code",
   "execution_count": 27,
   "id": "0e8aaeaf",
   "metadata": {
    "ExecuteTime": {
     "end_time": "2022-01-29T17:22:34.578620Z",
     "start_time": "2022-01-29T17:22:34.564658Z"
    }
   },
   "outputs": [],
   "source": [
    "# from wordcloud import WordCloud\n",
    "# from nltk.stem import WordNetLemmatizer"
   ]
  },
  {
   "cell_type": "code",
   "execution_count": 28,
   "id": "3401fb90",
   "metadata": {
    "ExecuteTime": {
     "end_time": "2022-01-29T17:22:35.134345Z",
     "start_time": "2022-01-29T17:22:34.581611Z"
    }
   },
   "outputs": [],
   "source": [
    "from nltk.corpus import stopwords"
   ]
  },
  {
   "cell_type": "code",
   "execution_count": 29,
   "id": "6d357c77",
   "metadata": {
    "ExecuteTime": {
     "end_time": "2022-01-29T17:22:35.149542Z",
     "start_time": "2022-01-29T17:22:35.134345Z"
    },
    "scrolled": true
   },
   "outputs": [],
   "source": [
    "stop = stopwords.words('english')"
   ]
  },
  {
   "cell_type": "code",
   "execution_count": 30,
   "id": "94084ef9",
   "metadata": {
    "ExecuteTime": {
     "end_time": "2022-01-29T17:22:35.164498Z",
     "start_time": "2022-01-29T17:22:35.150507Z"
    }
   },
   "outputs": [],
   "source": [
    "words = set(stop)"
   ]
  },
  {
   "cell_type": "code",
   "execution_count": 31,
   "id": "8211085e",
   "metadata": {
    "ExecuteTime": {
     "end_time": "2022-01-29T17:22:35.180428Z",
     "start_time": "2022-01-29T17:22:35.165467Z"
    }
   },
   "outputs": [],
   "source": [
    "def clean_stopword(text):\n",
    "    return \" \".join([word for word in str(text).split() if word not in words])"
   ]
  },
  {
   "cell_type": "code",
   "execution_count": 32,
   "id": "bce05cf6",
   "metadata": {
    "ExecuteTime": {
     "end_time": "2022-01-29T17:22:35.223483Z",
     "start_time": "2022-01-29T17:22:35.181425Z"
    }
   },
   "outputs": [
    {
     "data": {
      "text/html": [
       "<div>\n",
       "<style scoped>\n",
       "    .dataframe tbody tr th:only-of-type {\n",
       "        vertical-align: middle;\n",
       "    }\n",
       "\n",
       "    .dataframe tbody tr th {\n",
       "        vertical-align: top;\n",
       "    }\n",
       "\n",
       "    .dataframe thead th {\n",
       "        text-align: right;\n",
       "    }\n",
       "</style>\n",
       "<table border=\"1\" class=\"dataframe\">\n",
       "  <thead>\n",
       "    <tr style=\"text-align: right;\">\n",
       "      <th></th>\n",
       "      <th>id</th>\n",
       "      <th>label</th>\n",
       "      <th>tweet</th>\n",
       "    </tr>\n",
       "  </thead>\n",
       "  <tbody>\n",
       "    <tr>\n",
       "      <th>0</th>\n",
       "      <td>1</td>\n",
       "      <td>0</td>\n",
       "      <td>fingerprint pregnancy test beautiful cute heal...</td>\n",
       "    </tr>\n",
       "    <tr>\n",
       "      <th>1</th>\n",
       "      <td>2</td>\n",
       "      <td>0</td>\n",
       "      <td>finally transparant silicon case thanks uncle ...</td>\n",
       "    </tr>\n",
       "    <tr>\n",
       "      <th>2</th>\n",
       "      <td>3</td>\n",
       "      <td>0</td>\n",
       "      <td>love would go talk makememories unplug relax i...</td>\n",
       "    </tr>\n",
       "    <tr>\n",
       "      <th>3</th>\n",
       "      <td>4</td>\n",
       "      <td>0</td>\n",
       "      <td>im wired know im george made way iphone cute d...</td>\n",
       "    </tr>\n",
       "    <tr>\n",
       "      <th>4</th>\n",
       "      <td>5</td>\n",
       "      <td>1</td>\n",
       "      <td>amazing service apple wont even talk question ...</td>\n",
       "    </tr>\n",
       "  </tbody>\n",
       "</table>\n",
       "</div>"
      ],
      "text/plain": [
       "   id  label                                              tweet\n",
       "0   1      0  fingerprint pregnancy test beautiful cute heal...\n",
       "1   2      0  finally transparant silicon case thanks uncle ...\n",
       "2   3      0  love would go talk makememories unplug relax i...\n",
       "3   4      0  im wired know im george made way iphone cute d...\n",
       "4   5      1  amazing service apple wont even talk question ..."
      ]
     },
     "execution_count": 32,
     "metadata": {},
     "output_type": "execute_result"
    }
   ],
   "source": [
    "train['tweet'] = train['tweet'].apply(clean_stopword)\n",
    "\n",
    "train.head()"
   ]
  },
  {
   "cell_type": "code",
   "execution_count": 33,
   "id": "eeb6beeb",
   "metadata": {
    "ExecuteTime": {
     "end_time": "2022-01-29T17:22:35.239406Z",
     "start_time": "2022-01-29T17:22:35.224446Z"
    }
   },
   "outputs": [
    {
     "name": "stdout",
     "output_type": "stream",
     "text": [
      "fingerprint pregnancy test beautiful cute health igers iphoneonly iphonesia iphone\n",
      "----------------------------------------------------------------------------------------------------\n",
      "finally transparant silicon case thanks uncle yay sony xperia sonyexperias… stagramcompyget5jc6jm\n",
      "----------------------------------------------------------------------------------------------------\n",
      "love would go talk makememories unplug relax iphone smartphone wifi connect supcu\n",
      "----------------------------------------------------------------------------------------------------\n",
      "im wired know im george made way iphone cute daventry home stagrampli5ujs4k\n",
      "----------------------------------------------------------------------------------------------------\n",
      "amazing service apple wont even talk question unless pay 1995 stupid support\n",
      "----------------------------------------------------------------------------------------------------\n",
      "iphone software update fucked phone big time stupid iphones\n",
      "----------------------------------------------------------------------------------------------------\n",
      "happy us instapic instadaily us sony xperia xperiaz stagramcompz9qgfwlvj7\n",
      "----------------------------------------------------------------------------------------------------\n",
      "new type c charger cable uk sy new year rob cross toby young evemun mcmafia taylor spectre 2018 newyear starting 2018 recipes technology samsunggalaxys9 iphonex pictwittercompjiwq59wtc\n",
      "----------------------------------------------------------------------------------------------------\n",
      "bout go shopping listening music iphone justme music likeforlike followforfollow… stagrampvj6bg5tlql\n",
      "----------------------------------------------------------------------------------------------------\n",
      "photo fun selfie pool water sony camera picoftheday sun instagood boy cute outdoor sgp8\n",
      "----------------------------------------------------------------------------------------------------\n"
     ]
    }
   ],
   "source": [
    "print_tweets(train[\"tweet\"])"
   ]
  },
  {
   "cell_type": "markdown",
   "id": "289b6447",
   "metadata": {},
   "source": [
    "# removing repeating charcters"
   ]
  },
  {
   "cell_type": "code",
   "execution_count": 34,
   "id": "5590ad63",
   "metadata": {
    "ExecuteTime": {
     "end_time": "2022-01-29T17:22:35.255364Z",
     "start_time": "2022-01-29T17:22:35.240403Z"
    }
   },
   "outputs": [],
   "source": [
    "def clean_repeat_char(text):\n",
    "    return re.sub(r'(.)1+', r'1', text)"
   ]
  },
  {
   "cell_type": "code",
   "execution_count": 35,
   "id": "29ebeed6",
   "metadata": {
    "ExecuteTime": {
     "end_time": "2022-01-29T17:22:35.287278Z",
     "start_time": "2022-01-29T17:22:35.256361Z"
    }
   },
   "outputs": [
    {
     "data": {
      "text/html": [
       "<div>\n",
       "<style scoped>\n",
       "    .dataframe tbody tr th:only-of-type {\n",
       "        vertical-align: middle;\n",
       "    }\n",
       "\n",
       "    .dataframe tbody tr th {\n",
       "        vertical-align: top;\n",
       "    }\n",
       "\n",
       "    .dataframe thead th {\n",
       "        text-align: right;\n",
       "    }\n",
       "</style>\n",
       "<table border=\"1\" class=\"dataframe\">\n",
       "  <thead>\n",
       "    <tr style=\"text-align: right;\">\n",
       "      <th></th>\n",
       "      <th>id</th>\n",
       "      <th>label</th>\n",
       "      <th>tweet</th>\n",
       "    </tr>\n",
       "  </thead>\n",
       "  <tbody>\n",
       "    <tr>\n",
       "      <th>0</th>\n",
       "      <td>1</td>\n",
       "      <td>0</td>\n",
       "      <td>fingerprint pregnancy test beautiful cute heal...</td>\n",
       "    </tr>\n",
       "    <tr>\n",
       "      <th>1</th>\n",
       "      <td>2</td>\n",
       "      <td>0</td>\n",
       "      <td>finally transparant silicon case thanks uncle ...</td>\n",
       "    </tr>\n",
       "    <tr>\n",
       "      <th>2</th>\n",
       "      <td>3</td>\n",
       "      <td>0</td>\n",
       "      <td>love would go talk makememories unplug relax i...</td>\n",
       "    </tr>\n",
       "    <tr>\n",
       "      <th>3</th>\n",
       "      <td>4</td>\n",
       "      <td>0</td>\n",
       "      <td>im wired know im george made way iphone cute d...</td>\n",
       "    </tr>\n",
       "    <tr>\n",
       "      <th>4</th>\n",
       "      <td>5</td>\n",
       "      <td>1</td>\n",
       "      <td>amazing service apple wont even talk question ...</td>\n",
       "    </tr>\n",
       "  </tbody>\n",
       "</table>\n",
       "</div>"
      ],
      "text/plain": [
       "   id  label                                              tweet\n",
       "0   1      0  fingerprint pregnancy test beautiful cute heal...\n",
       "1   2      0  finally transparant silicon case thanks uncle ...\n",
       "2   3      0  love would go talk makememories unplug relax i...\n",
       "3   4      0  im wired know im george made way iphone cute d...\n",
       "4   5      1  amazing service apple wont even talk question ..."
      ]
     },
     "execution_count": 35,
     "metadata": {},
     "output_type": "execute_result"
    }
   ],
   "source": [
    "train['tweet'] = train['tweet'].apply(clean_repeat_char)\n",
    "\n",
    "train.head()"
   ]
  },
  {
   "cell_type": "code",
   "execution_count": 36,
   "id": "c235622b",
   "metadata": {
    "ExecuteTime": {
     "end_time": "2022-01-29T17:22:35.303237Z",
     "start_time": "2022-01-29T17:22:35.288276Z"
    }
   },
   "outputs": [
    {
     "name": "stdout",
     "output_type": "stream",
     "text": [
      "fingerprint pregnancy test beautiful cute health igers iphoneonly iphonesia iphone\n",
      "----------------------------------------------------------------------------------------------------\n",
      "finally transparant silicon case thanks uncle yay sony xperia sonyexperias… stagramcompyget5jc6jm\n",
      "----------------------------------------------------------------------------------------------------\n",
      "love would go talk makememories unplug relax iphone smartphone wifi connect supcu\n",
      "----------------------------------------------------------------------------------------------------\n",
      "im wired know im george made way iphone cute daventry home stagrampli5ujs4k\n",
      "----------------------------------------------------------------------------------------------------\n",
      "amazing service apple wont even talk question unless pay1995 stupid support\n",
      "----------------------------------------------------------------------------------------------------\n",
      "iphone software update fucked phone big time stupid iphones\n",
      "----------------------------------------------------------------------------------------------------\n",
      "happy us instapic instadaily us sony xperia xperiaz stagramcompz9qgfwlvj7\n",
      "----------------------------------------------------------------------------------------------------\n",
      "new type c charger cable uk sy new year rob cross toby young evemun mcmafia taylor spectre 218 newyear starting 218 recipes technology samsunggalaxys9 iphonex pictwittercompjiwq59wtc\n",
      "----------------------------------------------------------------------------------------------------\n",
      "bout go shopping listening music iphone justme music likeforlike followforfollow… stagrampvj6bg5tlql\n",
      "----------------------------------------------------------------------------------------------------\n",
      "photo fun selfie pool water sony camera picoftheday sun instagood boy cute outdoor sgp8\n",
      "----------------------------------------------------------------------------------------------------\n"
     ]
    }
   ],
   "source": [
    "print_tweets(train[\"tweet\"])"
   ]
  },
  {
   "cell_type": "markdown",
   "id": "31637b54",
   "metadata": {},
   "source": [
    "# tokenization"
   ]
  },
  {
   "cell_type": "code",
   "execution_count": 37,
   "id": "20494078",
   "metadata": {
    "ExecuteTime": {
     "end_time": "2022-01-29T17:22:35.319193Z",
     "start_time": "2022-01-29T17:22:35.304232Z"
    }
   },
   "outputs": [],
   "source": [
    "#  from nltk.tokenize import RegexpTokenizer"
   ]
  },
  {
   "cell_type": "code",
   "execution_count": 38,
   "id": "56a5bbd9",
   "metadata": {
    "ExecuteTime": {
     "end_time": "2022-01-29T17:22:35.335185Z",
     "start_time": "2022-01-29T17:22:35.320190Z"
    }
   },
   "outputs": [],
   "source": [
    "from nltk.tokenize import TweetTokenizer"
   ]
  },
  {
   "cell_type": "code",
   "execution_count": 39,
   "id": "2c04740d",
   "metadata": {
    "ExecuteTime": {
     "end_time": "2022-01-29T17:22:35.351108Z",
     "start_time": "2022-01-29T17:22:35.336147Z"
    }
   },
   "outputs": [],
   "source": [
    "tokenizer = TweetTokenizer()"
   ]
  },
  {
   "cell_type": "code",
   "execution_count": 40,
   "id": "a2973881",
   "metadata": {
    "ExecuteTime": {
     "end_time": "2022-01-29T17:22:35.862819Z",
     "start_time": "2022-01-29T17:22:35.352105Z"
    }
   },
   "outputs": [
    {
     "data": {
      "text/html": [
       "<div>\n",
       "<style scoped>\n",
       "    .dataframe tbody tr th:only-of-type {\n",
       "        vertical-align: middle;\n",
       "    }\n",
       "\n",
       "    .dataframe tbody tr th {\n",
       "        vertical-align: top;\n",
       "    }\n",
       "\n",
       "    .dataframe thead th {\n",
       "        text-align: right;\n",
       "    }\n",
       "</style>\n",
       "<table border=\"1\" class=\"dataframe\">\n",
       "  <thead>\n",
       "    <tr style=\"text-align: right;\">\n",
       "      <th></th>\n",
       "      <th>id</th>\n",
       "      <th>label</th>\n",
       "      <th>tweet</th>\n",
       "    </tr>\n",
       "  </thead>\n",
       "  <tbody>\n",
       "    <tr>\n",
       "      <th>0</th>\n",
       "      <td>1</td>\n",
       "      <td>0</td>\n",
       "      <td>[fingerprint, pregnancy, test, beautiful, cute...</td>\n",
       "    </tr>\n",
       "    <tr>\n",
       "      <th>1</th>\n",
       "      <td>2</td>\n",
       "      <td>0</td>\n",
       "      <td>[finally, transparant, silicon, case, thanks, ...</td>\n",
       "    </tr>\n",
       "    <tr>\n",
       "      <th>2</th>\n",
       "      <td>3</td>\n",
       "      <td>0</td>\n",
       "      <td>[love, would, go, talk, makememories, unplug, ...</td>\n",
       "    </tr>\n",
       "    <tr>\n",
       "      <th>3</th>\n",
       "      <td>4</td>\n",
       "      <td>0</td>\n",
       "      <td>[im, wired, know, im, george, made, way, iphon...</td>\n",
       "    </tr>\n",
       "    <tr>\n",
       "      <th>4</th>\n",
       "      <td>5</td>\n",
       "      <td>1</td>\n",
       "      <td>[amazing, service, apple, wont, even, talk, qu...</td>\n",
       "    </tr>\n",
       "  </tbody>\n",
       "</table>\n",
       "</div>"
      ],
      "text/plain": [
       "   id  label                                              tweet\n",
       "0   1      0  [fingerprint, pregnancy, test, beautiful, cute...\n",
       "1   2      0  [finally, transparant, silicon, case, thanks, ...\n",
       "2   3      0  [love, would, go, talk, makememories, unplug, ...\n",
       "3   4      0  [im, wired, know, im, george, made, way, iphon...\n",
       "4   5      1  [amazing, service, apple, wont, even, talk, qu..."
      ]
     },
     "execution_count": 40,
     "metadata": {},
     "output_type": "execute_result"
    }
   ],
   "source": [
    "train['tweet'] = train['tweet'].apply(tokenizer.tokenize)\n",
    "\n",
    "train.head()"
   ]
  },
  {
   "cell_type": "code",
   "execution_count": 41,
   "id": "de8c78b7",
   "metadata": {
    "ExecuteTime": {
     "end_time": "2022-01-29T17:22:35.877947Z",
     "start_time": "2022-01-29T17:22:35.863886Z"
    }
   },
   "outputs": [
    {
     "name": "stdout",
     "output_type": "stream",
     "text": [
      "['fingerprint', 'pregnancy', 'test', 'beautiful', 'cute', 'health', 'igers', 'iphoneonly', 'iphonesia', 'iphone']\n",
      "----------------------------------------------------------------------------------------------------\n",
      "['finally', 'transparant', 'silicon', 'case', 'thanks', 'uncle', 'yay', 'sony', 'xperia', 'sonyexperias', '…', 'stagramcompyget', '5jc6jm']\n",
      "----------------------------------------------------------------------------------------------------\n",
      "['love', 'would', 'go', 'talk', 'makememories', 'unplug', 'relax', 'iphone', 'smartphone', 'wifi', 'connect', 'supcu']\n",
      "----------------------------------------------------------------------------------------------------\n",
      "['im', 'wired', 'know', 'im', 'george', 'made', 'way', 'iphone', 'cute', 'daventry', 'home', 'stagrampli', '5ujs4k']\n",
      "----------------------------------------------------------------------------------------------------\n",
      "['amazing', 'service', 'apple', 'wont', 'even', 'talk', 'question', 'unless', 'pay', '1995', 'stupid', 'support']\n",
      "----------------------------------------------------------------------------------------------------\n",
      "['iphone', 'software', 'update', 'fucked', 'phone', 'big', 'time', 'stupid', 'iphones']\n",
      "----------------------------------------------------------------------------------------------------\n",
      "['happy', 'us', 'instapic', 'instadaily', 'us', 'sony', 'xperia', 'xperiaz', 'stagramcompz', '9qgfwlvj7']\n",
      "----------------------------------------------------------------------------------------------------\n",
      "['new', 'type', 'c', 'charger', 'cable', 'uk', 'sy', 'new', 'year', 'rob', 'cross', 'toby', 'young', 'evemun', 'mcmafia', 'taylor', 'spectre', '218', 'newyear', 'starting', '218', 'recipes', 'technology', 'samsunggalaxys', '9', 'iphonex', 'pictwittercompjiwq', '59wtc']\n",
      "----------------------------------------------------------------------------------------------------\n",
      "['bout', 'go', 'shopping', 'listening', 'music', 'iphone', 'justme', 'music', 'likeforlike', 'followforfollow', '…', 'stagrampvj', '6bg5tlql']\n",
      "----------------------------------------------------------------------------------------------------\n",
      "['photo', 'fun', 'selfie', 'pool', 'water', 'sony', 'camera', 'picoftheday', 'sun', 'instagood', 'boy', 'cute', 'outdoor', 'sgp', '8']\n",
      "----------------------------------------------------------------------------------------------------\n"
     ]
    }
   ],
   "source": [
    "print_tweets(train[\"tweet\"])"
   ]
  },
  {
   "cell_type": "code",
   "execution_count": 42,
   "id": "0abf5f77",
   "metadata": {
    "ExecuteTime": {
     "end_time": "2022-01-29T17:22:35.893899Z",
     "start_time": "2022-01-29T17:22:35.878915Z"
    }
   },
   "outputs": [],
   "source": [
    "def remove_dots(text):\n",
    "    if '…' in text:\n",
    "        text.remove('…')\n",
    "        return text\n",
    "    else:\n",
    "        return text"
   ]
  },
  {
   "cell_type": "code",
   "execution_count": 43,
   "id": "1e291a2d",
   "metadata": {
    "ExecuteTime": {
     "end_time": "2022-01-29T17:22:35.908830Z",
     "start_time": "2022-01-29T17:22:35.894867Z"
    }
   },
   "outputs": [],
   "source": [
    "train[\"tweet\"] = train[\"tweet\"].apply(remove_dots)"
   ]
  },
  {
   "cell_type": "code",
   "execution_count": 44,
   "id": "cf486a94",
   "metadata": {
    "ExecuteTime": {
     "end_time": "2022-01-29T17:22:35.923790Z",
     "start_time": "2022-01-29T17:22:35.909828Z"
    }
   },
   "outputs": [
    {
     "name": "stdout",
     "output_type": "stream",
     "text": [
      "['fingerprint', 'pregnancy', 'test', 'beautiful', 'cute', 'health', 'igers', 'iphoneonly', 'iphonesia', 'iphone']\n",
      "----------------------------------------------------------------------------------------------------\n",
      "['finally', 'transparant', 'silicon', 'case', 'thanks', 'uncle', 'yay', 'sony', 'xperia', 'sonyexperias', 'stagramcompyget', '5jc6jm']\n",
      "----------------------------------------------------------------------------------------------------\n",
      "['love', 'would', 'go', 'talk', 'makememories', 'unplug', 'relax', 'iphone', 'smartphone', 'wifi', 'connect', 'supcu']\n",
      "----------------------------------------------------------------------------------------------------\n",
      "['im', 'wired', 'know', 'im', 'george', 'made', 'way', 'iphone', 'cute', 'daventry', 'home', 'stagrampli', '5ujs4k']\n",
      "----------------------------------------------------------------------------------------------------\n",
      "['amazing', 'service', 'apple', 'wont', 'even', 'talk', 'question', 'unless', 'pay', '1995', 'stupid', 'support']\n",
      "----------------------------------------------------------------------------------------------------\n",
      "['iphone', 'software', 'update', 'fucked', 'phone', 'big', 'time', 'stupid', 'iphones']\n",
      "----------------------------------------------------------------------------------------------------\n",
      "['happy', 'us', 'instapic', 'instadaily', 'us', 'sony', 'xperia', 'xperiaz', 'stagramcompz', '9qgfwlvj7']\n",
      "----------------------------------------------------------------------------------------------------\n",
      "['new', 'type', 'c', 'charger', 'cable', 'uk', 'sy', 'new', 'year', 'rob', 'cross', 'toby', 'young', 'evemun', 'mcmafia', 'taylor', 'spectre', '218', 'newyear', 'starting', '218', 'recipes', 'technology', 'samsunggalaxys', '9', 'iphonex', 'pictwittercompjiwq', '59wtc']\n",
      "----------------------------------------------------------------------------------------------------\n",
      "['bout', 'go', 'shopping', 'listening', 'music', 'iphone', 'justme', 'music', 'likeforlike', 'followforfollow', 'stagrampvj', '6bg5tlql']\n",
      "----------------------------------------------------------------------------------------------------\n",
      "['photo', 'fun', 'selfie', 'pool', 'water', 'sony', 'camera', 'picoftheday', 'sun', 'instagood', 'boy', 'cute', 'outdoor', 'sgp', '8']\n",
      "----------------------------------------------------------------------------------------------------\n"
     ]
    }
   ],
   "source": [
    "print_tweets(train[\"tweet\"])"
   ]
  },
  {
   "cell_type": "markdown",
   "id": "5426db72",
   "metadata": {},
   "source": [
    "# Stemming"
   ]
  },
  {
   "cell_type": "code",
   "execution_count": 45,
   "id": "46b50c02",
   "metadata": {
    "ExecuteTime": {
     "end_time": "2022-01-29T17:22:35.939747Z",
     "start_time": "2022-01-29T17:22:35.924787Z"
    }
   },
   "outputs": [],
   "source": [
    "import nltk"
   ]
  },
  {
   "cell_type": "code",
   "execution_count": 46,
   "id": "40db73ed",
   "metadata": {
    "ExecuteTime": {
     "end_time": "2022-01-29T17:22:35.954708Z",
     "start_time": "2022-01-29T17:22:35.940744Z"
    }
   },
   "outputs": [],
   "source": [
    "st = nltk.PorterStemmer()"
   ]
  },
  {
   "cell_type": "code",
   "execution_count": 47,
   "id": "d86272b5",
   "metadata": {
    "ExecuteTime": {
     "end_time": "2022-01-29T17:22:35.970664Z",
     "start_time": "2022-01-29T17:22:35.955704Z"
    }
   },
   "outputs": [],
   "source": [
    "def stemming_text(text):\n",
    "    text=[st.stem(word) for word in text]\n",
    "    return text"
   ]
  },
  {
   "cell_type": "code",
   "execution_count": 48,
   "id": "aa068214",
   "metadata": {
    "ExecuteTime": {
     "end_time": "2022-01-29T17:22:37.155970Z",
     "start_time": "2022-01-29T17:22:35.971661Z"
    }
   },
   "outputs": [
    {
     "data": {
      "text/html": [
       "<div>\n",
       "<style scoped>\n",
       "    .dataframe tbody tr th:only-of-type {\n",
       "        vertical-align: middle;\n",
       "    }\n",
       "\n",
       "    .dataframe tbody tr th {\n",
       "        vertical-align: top;\n",
       "    }\n",
       "\n",
       "    .dataframe thead th {\n",
       "        text-align: right;\n",
       "    }\n",
       "</style>\n",
       "<table border=\"1\" class=\"dataframe\">\n",
       "  <thead>\n",
       "    <tr style=\"text-align: right;\">\n",
       "      <th></th>\n",
       "      <th>id</th>\n",
       "      <th>label</th>\n",
       "      <th>tweet</th>\n",
       "    </tr>\n",
       "  </thead>\n",
       "  <tbody>\n",
       "    <tr>\n",
       "      <th>0</th>\n",
       "      <td>1</td>\n",
       "      <td>0</td>\n",
       "      <td>[fingerprint, pregnanc, test, beauti, cute, he...</td>\n",
       "    </tr>\n",
       "    <tr>\n",
       "      <th>1</th>\n",
       "      <td>2</td>\n",
       "      <td>0</td>\n",
       "      <td>[final, transpar, silicon, case, thank, uncl, ...</td>\n",
       "    </tr>\n",
       "    <tr>\n",
       "      <th>2</th>\n",
       "      <td>3</td>\n",
       "      <td>0</td>\n",
       "      <td>[love, would, go, talk, makememori, unplug, re...</td>\n",
       "    </tr>\n",
       "    <tr>\n",
       "      <th>3</th>\n",
       "      <td>4</td>\n",
       "      <td>0</td>\n",
       "      <td>[im, wire, know, im, georg, made, way, iphon, ...</td>\n",
       "    </tr>\n",
       "    <tr>\n",
       "      <th>4</th>\n",
       "      <td>5</td>\n",
       "      <td>1</td>\n",
       "      <td>[amaz, servic, appl, wont, even, talk, questio...</td>\n",
       "    </tr>\n",
       "  </tbody>\n",
       "</table>\n",
       "</div>"
      ],
      "text/plain": [
       "   id  label                                              tweet\n",
       "0   1      0  [fingerprint, pregnanc, test, beauti, cute, he...\n",
       "1   2      0  [final, transpar, silicon, case, thank, uncl, ...\n",
       "2   3      0  [love, would, go, talk, makememori, unplug, re...\n",
       "3   4      0  [im, wire, know, im, georg, made, way, iphon, ...\n",
       "4   5      1  [amaz, servic, appl, wont, even, talk, questio..."
      ]
     },
     "execution_count": 48,
     "metadata": {},
     "output_type": "execute_result"
    }
   ],
   "source": [
    "train['tweet'] = train['tweet'].apply(lambda x: stemming_text(x))\n",
    "\n",
    "train.head()"
   ]
  },
  {
   "cell_type": "code",
   "execution_count": 49,
   "id": "15afb165",
   "metadata": {
    "ExecuteTime": {
     "end_time": "2022-01-29T17:22:37.171893Z",
     "start_time": "2022-01-29T17:22:37.156933Z"
    }
   },
   "outputs": [
    {
     "name": "stdout",
     "output_type": "stream",
     "text": [
      "['fingerprint', 'pregnanc', 'test', 'beauti', 'cute', 'health', 'iger', 'iphoneonli', 'iphonesia', 'iphon']\n",
      "----------------------------------------------------------------------------------------------------\n",
      "['final', 'transpar', 'silicon', 'case', 'thank', 'uncl', 'yay', 'soni', 'xperia', 'sonyexperia', 'stagramcompyget', '5jc6jm']\n",
      "----------------------------------------------------------------------------------------------------\n",
      "['love', 'would', 'go', 'talk', 'makememori', 'unplug', 'relax', 'iphon', 'smartphon', 'wifi', 'connect', 'supcu']\n",
      "----------------------------------------------------------------------------------------------------\n",
      "['im', 'wire', 'know', 'im', 'georg', 'made', 'way', 'iphon', 'cute', 'daventri', 'home', 'stagrampli', '5ujs4k']\n",
      "----------------------------------------------------------------------------------------------------\n",
      "['amaz', 'servic', 'appl', 'wont', 'even', 'talk', 'question', 'unless', 'pay', '1995', 'stupid', 'support']\n",
      "----------------------------------------------------------------------------------------------------\n",
      "['iphon', 'softwar', 'updat', 'fuck', 'phone', 'big', 'time', 'stupid', 'iphon']\n",
      "----------------------------------------------------------------------------------------------------\n",
      "['happi', 'us', 'instap', 'instadaili', 'us', 'soni', 'xperia', 'xperiaz', 'stagramcompz', '9qgfwlvj7']\n",
      "----------------------------------------------------------------------------------------------------\n",
      "['new', 'type', 'c', 'charger', 'cabl', 'uk', 'sy', 'new', 'year', 'rob', 'cross', 'tobi', 'young', 'evemun', 'mcmafia', 'taylor', 'spectr', '218', 'newyear', 'start', '218', 'recip', 'technolog', 'samsunggalaxi', '9', 'iphonex', 'pictwittercompjiwq', '59wtc']\n",
      "----------------------------------------------------------------------------------------------------\n",
      "['bout', 'go', 'shop', 'listen', 'music', 'iphon', 'justm', 'music', 'likeforlik', 'followforfollow', 'stagrampvj', '6bg5tlql']\n",
      "----------------------------------------------------------------------------------------------------\n",
      "['photo', 'fun', 'selfi', 'pool', 'water', 'soni', 'camera', 'picoftheday', 'sun', 'instagood', 'boy', 'cute', 'outdoor', 'sgp', '8']\n",
      "----------------------------------------------------------------------------------------------------\n"
     ]
    }
   ],
   "source": [
    "print_tweets(train[\"tweet\"])"
   ]
  },
  {
   "cell_type": "code",
   "execution_count": 50,
   "id": "dc153ef4",
   "metadata": {
    "ExecuteTime": {
     "end_time": "2022-01-29T17:22:37.187851Z",
     "start_time": "2022-01-29T17:22:37.172891Z"
    }
   },
   "outputs": [],
   "source": [
    "lm = nltk.WordNetLemmatizer()"
   ]
  },
  {
   "cell_type": "code",
   "execution_count": 51,
   "id": "ab3b614a",
   "metadata": {
    "ExecuteTime": {
     "end_time": "2022-01-29T17:22:37.203809Z",
     "start_time": "2022-01-29T17:22:37.188848Z"
    }
   },
   "outputs": [],
   "source": [
    "def lemmatizer_text(text):\n",
    "    txt=[lm.lemmatize(word) for word in text]\n",
    "    return text"
   ]
  },
  {
   "cell_type": "code",
   "execution_count": 52,
   "id": "225f5833",
   "metadata": {
    "ExecuteTime": {
     "end_time": "2022-01-29T17:22:38.481789Z",
     "start_time": "2022-01-29T17:22:37.204806Z"
    }
   },
   "outputs": [],
   "source": [
    "train['tweet'] = train['tweet'].apply(lambda x: lemmatizer_text(x))"
   ]
  },
  {
   "cell_type": "code",
   "execution_count": 53,
   "id": "954bf93c",
   "metadata": {
    "ExecuteTime": {
     "end_time": "2022-01-29T17:22:38.497535Z",
     "start_time": "2022-01-29T17:22:38.481789Z"
    }
   },
   "outputs": [
    {
     "name": "stdout",
     "output_type": "stream",
     "text": [
      "['fingerprint', 'pregnanc', 'test', 'beauti', 'cute', 'health', 'iger', 'iphoneonli', 'iphonesia', 'iphon']\n",
      "----------------------------------------------------------------------------------------------------\n",
      "['final', 'transpar', 'silicon', 'case', 'thank', 'uncl', 'yay', 'soni', 'xperia', 'sonyexperia', 'stagramcompyget', '5jc6jm']\n",
      "----------------------------------------------------------------------------------------------------\n",
      "['love', 'would', 'go', 'talk', 'makememori', 'unplug', 'relax', 'iphon', 'smartphon', 'wifi', 'connect', 'supcu']\n",
      "----------------------------------------------------------------------------------------------------\n",
      "['im', 'wire', 'know', 'im', 'georg', 'made', 'way', 'iphon', 'cute', 'daventri', 'home', 'stagrampli', '5ujs4k']\n",
      "----------------------------------------------------------------------------------------------------\n",
      "['amaz', 'servic', 'appl', 'wont', 'even', 'talk', 'question', 'unless', 'pay', '1995', 'stupid', 'support']\n",
      "----------------------------------------------------------------------------------------------------\n",
      "['iphon', 'softwar', 'updat', 'fuck', 'phone', 'big', 'time', 'stupid', 'iphon']\n",
      "----------------------------------------------------------------------------------------------------\n",
      "['happi', 'us', 'instap', 'instadaili', 'us', 'soni', 'xperia', 'xperiaz', 'stagramcompz', '9qgfwlvj7']\n",
      "----------------------------------------------------------------------------------------------------\n",
      "['new', 'type', 'c', 'charger', 'cabl', 'uk', 'sy', 'new', 'year', 'rob', 'cross', 'tobi', 'young', 'evemun', 'mcmafia', 'taylor', 'spectr', '218', 'newyear', 'start', '218', 'recip', 'technolog', 'samsunggalaxi', '9', 'iphonex', 'pictwittercompjiwq', '59wtc']\n",
      "----------------------------------------------------------------------------------------------------\n",
      "['bout', 'go', 'shop', 'listen', 'music', 'iphon', 'justm', 'music', 'likeforlik', 'followforfollow', 'stagrampvj', '6bg5tlql']\n",
      "----------------------------------------------------------------------------------------------------\n",
      "['photo', 'fun', 'selfi', 'pool', 'water', 'soni', 'camera', 'picoftheday', 'sun', 'instagood', 'boy', 'cute', 'outdoor', 'sgp', '8']\n",
      "----------------------------------------------------------------------------------------------------\n"
     ]
    }
   ],
   "source": [
    "print_tweets(train[\"tweet\"])"
   ]
  },
  {
   "cell_type": "code",
   "execution_count": 54,
   "id": "2d71d7a8",
   "metadata": {
    "ExecuteTime": {
     "end_time": "2022-01-29T17:22:38.512497Z",
     "start_time": "2022-01-29T17:22:38.498534Z"
    }
   },
   "outputs": [
    {
     "data": {
      "text/html": [
       "<div>\n",
       "<style scoped>\n",
       "    .dataframe tbody tr th:only-of-type {\n",
       "        vertical-align: middle;\n",
       "    }\n",
       "\n",
       "    .dataframe tbody tr th {\n",
       "        vertical-align: top;\n",
       "    }\n",
       "\n",
       "    .dataframe thead th {\n",
       "        text-align: right;\n",
       "    }\n",
       "</style>\n",
       "<table border=\"1\" class=\"dataframe\">\n",
       "  <thead>\n",
       "    <tr style=\"text-align: right;\">\n",
       "      <th></th>\n",
       "      <th>id</th>\n",
       "      <th>label</th>\n",
       "      <th>tweet</th>\n",
       "    </tr>\n",
       "  </thead>\n",
       "  <tbody>\n",
       "    <tr>\n",
       "      <th>7915</th>\n",
       "      <td>7916</td>\n",
       "      <td>0</td>\n",
       "      <td>[live, loud, lol, liveoutloud, selfi, smile, s...</td>\n",
       "    </tr>\n",
       "    <tr>\n",
       "      <th>7916</th>\n",
       "      <td>7917</td>\n",
       "      <td>0</td>\n",
       "      <td>[would, like, wish, amaz, day, make, everi, mi...</td>\n",
       "    </tr>\n",
       "    <tr>\n",
       "      <th>7917</th>\n",
       "      <td>7918</td>\n",
       "      <td>0</td>\n",
       "      <td>[help, love, 90, year, old, neighbor, ipad, mo...</td>\n",
       "    </tr>\n",
       "    <tr>\n",
       "      <th>7918</th>\n",
       "      <td>7919</td>\n",
       "      <td>0</td>\n",
       "      <td>[final, got, smart, pocket, wifi, stay, connec...</td>\n",
       "    </tr>\n",
       "    <tr>\n",
       "      <th>7919</th>\n",
       "      <td>7920</td>\n",
       "      <td>0</td>\n",
       "      <td>[appl, barcelona, appl, store, bcn, barcelona,...</td>\n",
       "    </tr>\n",
       "  </tbody>\n",
       "</table>\n",
       "</div>"
      ],
      "text/plain": [
       "        id  label                                              tweet\n",
       "7915  7916      0  [live, loud, lol, liveoutloud, selfi, smile, s...\n",
       "7916  7917      0  [would, like, wish, amaz, day, make, everi, mi...\n",
       "7917  7918      0  [help, love, 90, year, old, neighbor, ipad, mo...\n",
       "7918  7919      0  [final, got, smart, pocket, wifi, stay, connec...\n",
       "7919  7920      0  [appl, barcelona, appl, store, bcn, barcelona,..."
      ]
     },
     "execution_count": 54,
     "metadata": {},
     "output_type": "execute_result"
    }
   ],
   "source": [
    "train.tail()"
   ]
  },
  {
   "cell_type": "code",
   "execution_count": 55,
   "id": "121b3857",
   "metadata": {
    "ExecuteTime": {
     "end_time": "2022-01-29T17:22:38.528453Z",
     "start_time": "2022-01-29T17:22:38.513493Z"
    }
   },
   "outputs": [
    {
     "name": "stdout",
     "output_type": "stream",
     "text": [
      "(7920,)\n"
     ]
    },
    {
     "data": {
      "text/plain": [
       "0       [fingerprint, pregnanc, test, beauti, cute, he...\n",
       "1       [final, transpar, silicon, case, thank, uncl, ...\n",
       "2       [love, would, go, talk, makememori, unplug, re...\n",
       "3       [im, wire, know, im, georg, made, way, iphon, ...\n",
       "4       [amaz, servic, appl, wont, even, talk, questio...\n",
       "                              ...                        \n",
       "7915    [live, loud, lol, liveoutloud, selfi, smile, s...\n",
       "7916    [would, like, wish, amaz, day, make, everi, mi...\n",
       "7917    [help, love, 90, year, old, neighbor, ipad, mo...\n",
       "7918    [final, got, smart, pocket, wifi, stay, connec...\n",
       "7919    [appl, barcelona, appl, store, bcn, barcelona,...\n",
       "Name: tweet, Length: 7920, dtype: object"
      ]
     },
     "execution_count": 55,
     "metadata": {},
     "output_type": "execute_result"
    }
   ],
   "source": [
    "x = train.tweet\n",
    "print(x.shape)\n",
    "x"
   ]
  },
  {
   "cell_type": "code",
   "execution_count": 56,
   "id": "c3631a63",
   "metadata": {
    "ExecuteTime": {
     "end_time": "2022-01-29T17:22:38.544410Z",
     "start_time": "2022-01-29T17:22:38.529450Z"
    }
   },
   "outputs": [
    {
     "name": "stdout",
     "output_type": "stream",
     "text": [
      "(7920,)\n"
     ]
    },
    {
     "data": {
      "text/plain": [
       "0       0\n",
       "1       0\n",
       "2       0\n",
       "3       0\n",
       "4       1\n",
       "       ..\n",
       "7915    0\n",
       "7916    0\n",
       "7917    0\n",
       "7918    0\n",
       "7919    0\n",
       "Name: label, Length: 7920, dtype: int64"
      ]
     },
     "execution_count": 56,
     "metadata": {},
     "output_type": "execute_result"
    }
   ],
   "source": [
    "y = train.label\n",
    "print(y.shape)\n",
    "y"
   ]
  },
  {
   "cell_type": "code",
   "execution_count": 57,
   "id": "e6388c6f",
   "metadata": {
    "ExecuteTime": {
     "end_time": "2022-01-29T17:22:38.560368Z",
     "start_time": "2022-01-29T17:22:38.545408Z"
    }
   },
   "outputs": [],
   "source": [
    "from sklearn.svm import LinearSVC\n",
    "from sklearn.naive_bayes import BernoulliNB\n",
    "from sklearn.linear_model import LogisticRegression\n",
    "from sklearn.feature_extraction.text import TfidfVectorizer\n",
    "from sklearn.metrics import confusion_matrix,classification_report"
   ]
  },
  {
   "cell_type": "code",
   "execution_count": 58,
   "id": "753cbbdd",
   "metadata": {
    "ExecuteTime": {
     "end_time": "2022-01-29T17:22:38.576326Z",
     "start_time": "2022-01-29T17:22:38.561365Z"
    }
   },
   "outputs": [],
   "source": [
    "vec = TfidfVectorizer(ngram_range=(1,2), max_features=5000)"
   ]
  },
  {
   "cell_type": "code",
   "execution_count": 59,
   "id": "a3629714",
   "metadata": {
    "ExecuteTime": {
     "end_time": "2022-01-29T17:22:38.592284Z",
     "start_time": "2022-01-29T17:22:38.577325Z"
    }
   },
   "outputs": [
    {
     "data": {
      "text/plain": [
       "(7920,)"
      ]
     },
     "execution_count": 59,
     "metadata": {},
     "output_type": "execute_result"
    }
   ],
   "source": [
    "updated_x = []\n",
    "for index, document in enumerate(x):\n",
    "    updated_x.append(\" \".join(document))\n",
    "\n",
    "updated_x = np.array(updated_x).reshape(x.shape)\n",
    "updated_x.shape"
   ]
  },
  {
   "cell_type": "code",
   "execution_count": 60,
   "id": "d651806b",
   "metadata": {
    "ExecuteTime": {
     "end_time": "2022-01-29T17:22:38.954807Z",
     "start_time": "2022-01-29T17:22:38.593281Z"
    }
   },
   "outputs": [
    {
     "data": {
      "text/plain": [
       "TfidfVectorizer(max_features=5000, ngram_range=(1, 2))"
      ]
     },
     "execution_count": 60,
     "metadata": {},
     "output_type": "execute_result"
    }
   ],
   "source": [
    "vec.fit(updated_x)"
   ]
  },
  {
   "cell_type": "code",
   "execution_count": null,
   "id": "cee040fe",
   "metadata": {},
   "outputs": [],
   "source": []
  },
  {
   "cell_type": "code",
   "execution_count": null,
   "id": "450ae417",
   "metadata": {},
   "outputs": [],
   "source": []
  },
  {
   "cell_type": "code",
   "execution_count": null,
   "id": "cd39ae38",
   "metadata": {},
   "outputs": [],
   "source": []
  },
  {
   "cell_type": "code",
   "execution_count": null,
   "id": "bc250793",
   "metadata": {},
   "outputs": [],
   "source": []
  },
  {
   "cell_type": "code",
   "execution_count": null,
   "id": "3eb95ebe",
   "metadata": {},
   "outputs": [],
   "source": []
  },
  {
   "cell_type": "code",
   "execution_count": null,
   "id": "3c1801e8",
   "metadata": {
    "ExecuteTime": {
     "end_time": "2022-01-29T17:22:39.266434Z",
     "start_time": "2022-01-29T17:22:39.266434Z"
    }
   },
   "outputs": [],
   "source": [
    "df=train.copy()"
   ]
  },
  {
   "cell_type": "code",
   "execution_count": null,
   "id": "2be33362",
   "metadata": {
    "ExecuteTime": {
     "end_time": "2022-01-29T17:22:39.267432Z",
     "start_time": "2022-01-29T17:22:39.267432Z"
    }
   },
   "outputs": [],
   "source": [
    "df=df.drop(['id'],axis=1)"
   ]
  },
  {
   "cell_type": "code",
   "execution_count": null,
   "id": "0fc0b851",
   "metadata": {
    "ExecuteTime": {
     "end_time": "2022-01-29T17:22:39.268428Z",
     "start_time": "2022-01-29T17:22:39.268428Z"
    }
   },
   "outputs": [],
   "source": [
    "df_pos=df[df['label']==1]\n",
    "df_neg=df[df['label']==0]"
   ]
  },
  {
   "cell_type": "code",
   "execution_count": null,
   "id": "0f2f909f",
   "metadata": {
    "ExecuteTime": {
     "end_time": "2022-01-29T17:22:39.269426Z",
     "start_time": "2022-01-29T17:22:39.269426Z"
    }
   },
   "outputs": [],
   "source": [
    "df_pos.shape"
   ]
  },
  {
   "cell_type": "code",
   "execution_count": null,
   "id": "70008399",
   "metadata": {
    "ExecuteTime": {
     "end_time": "2022-01-29T17:22:39.269426Z",
     "start_time": "2022-01-29T17:22:39.269426Z"
    }
   },
   "outputs": [],
   "source": [
    "df_neg.shape"
   ]
  },
  {
   "cell_type": "code",
   "execution_count": null,
   "id": "173f4d8c",
   "metadata": {
    "ExecuteTime": {
     "end_time": "2022-01-29T17:22:39.270423Z",
     "start_time": "2022-01-29T17:22:39.270423Z"
    }
   },
   "outputs": [],
   "source": [
    "d=pd.concat([df_pos,df_neg])"
   ]
  },
  {
   "cell_type": "code",
   "execution_count": null,
   "id": "256d1277",
   "metadata": {
    "ExecuteTime": {
     "end_time": "2022-01-29T17:22:39.271421Z",
     "start_time": "2022-01-29T17:22:39.271421Z"
    }
   },
   "outputs": [],
   "source": [
    "d.head()"
   ]
  },
  {
   "cell_type": "code",
   "execution_count": null,
   "id": "d83ac324",
   "metadata": {
    "ExecuteTime": {
     "end_time": "2022-01-29T17:22:39.272418Z",
     "start_time": "2022-01-29T17:22:39.272418Z"
    }
   },
   "outputs": [],
   "source": [
    "data_neg=df_pos['tweet'][:,4]\n",
    "plt.figure(figsize=(20,20))\n",
    "wc=WordCloud(max_words=100,width=300,height=600,collocations=False).generate(\" \".join(data_neg))\n",
    "plt.imshow(wc)"
   ]
  },
  {
   "cell_type": "code",
   "execution_count": null,
   "id": "1d7bf637",
   "metadata": {},
   "outputs": [],
   "source": []
  },
  {
   "cell_type": "code",
   "execution_count": null,
   "id": "a604356d",
   "metadata": {
    "ExecuteTime": {
     "end_time": "2022-01-29T17:22:39.273415Z",
     "start_time": "2022-01-29T17:22:39.273415Z"
    }
   },
   "outputs": [],
   "source": [
    "def lower_txt(text):\n",
    "    text=[[word.lower() for word in line.split()] for line in text]\n",
    "    return text"
   ]
  },
  {
   "cell_type": "code",
   "execution_count": null,
   "id": "5e267759",
   "metadata": {
    "ExecuteTime": {
     "end_time": "2022-01-29T17:22:39.274412Z",
     "start_time": "2022-01-29T17:22:39.274412Z"
    }
   },
   "outputs": [],
   "source": [
    "train['tweet']=train['tweet'].apply(lower_txt)"
   ]
  },
  {
   "cell_type": "code",
   "execution_count": null,
   "id": "c230c77b",
   "metadata": {},
   "outputs": [],
   "source": []
  },
  {
   "cell_type": "code",
   "execution_count": null,
   "id": "e806370e",
   "metadata": {},
   "outputs": [],
   "source": []
  },
  {
   "cell_type": "code",
   "execution_count": null,
   "id": "aa79fb18",
   "metadata": {},
   "outputs": [],
   "source": []
  },
  {
   "cell_type": "code",
   "execution_count": null,
   "id": "afa71d82",
   "metadata": {},
   "outputs": [],
   "source": []
  },
  {
   "cell_type": "code",
   "execution_count": null,
   "id": "1ff9e565",
   "metadata": {},
   "outputs": [],
   "source": []
  },
  {
   "cell_type": "code",
   "execution_count": null,
   "id": "1386f32f",
   "metadata": {},
   "outputs": [],
   "source": []
  },
  {
   "cell_type": "code",
   "execution_count": null,
   "id": "6d05919d",
   "metadata": {},
   "outputs": [],
   "source": []
  }
 ],
 "metadata": {
  "kernelspec": {
   "display_name": "Python 3 (ipykernel)",
   "language": "python",
   "name": "python3"
  },
  "language_info": {
   "codemirror_mode": {
    "name": "ipython",
    "version": 3
   },
   "file_extension": ".py",
   "mimetype": "text/x-python",
   "name": "python",
   "nbconvert_exporter": "python",
   "pygments_lexer": "ipython3",
   "version": "3.9.10"
  },
  "toc": {
   "base_numbering": 1,
   "nav_menu": {},
   "number_sections": true,
   "sideBar": true,
   "skip_h1_title": false,
   "title_cell": "Table of Contents",
   "title_sidebar": "Contents",
   "toc_cell": false,
   "toc_position": {},
   "toc_section_display": true,
   "toc_window_display": false
  }
 },
 "nbformat": 4,
 "nbformat_minor": 5
}
