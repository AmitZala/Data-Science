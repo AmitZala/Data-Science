{
 "cells": [
  {
   "cell_type": "markdown",
   "id": "656fb945-01d5-46a7-9adb-58d3d70f88ae",
   "metadata": {},
   "source": [
    "# Padding & Stride\n",
    "\n",
    "## Import libraries"
   ]
  },
  {
   "cell_type": "code",
   "execution_count": 3,
   "id": "dd95810d-1ae7-46c6-9de4-fddb123652da",
   "metadata": {},
   "outputs": [],
   "source": [
    "from tensorflow.keras import Sequential\n",
    "from tensorflow.keras.layers import Dense, Conv2D, Flatten\n",
    "from tensorflow.keras.datasets import mnist"
   ]
  },
  {
   "cell_type": "markdown",
   "id": "0123ef33-2141-49e7-9421-e3552736fda1",
   "metadata": {},
   "source": [
    "## Load the Dataset"
   ]
  },
  {
   "cell_type": "code",
   "execution_count": 4,
   "id": "38c705c2-5897-493f-afb7-6a4aac6242db",
   "metadata": {},
   "outputs": [
    {
     "name": "stdout",
     "output_type": "stream",
     "text": [
      "Downloading data from https://storage.googleapis.com/tensorflow/tf-keras-datasets/mnist.npz\n",
      "11493376/11490434 [==============================] - 2s 0us/step\n",
      "11501568/11490434 [==============================] - 2s 0us/step\n"
     ]
    }
   ],
   "source": [
    "(X_train, y_train), (X_test, y_test) = mnist.load_data()"
   ]
  },
  {
   "cell_type": "markdown",
   "id": "967c3404-23ed-43a1-80b1-876f1589c76d",
   "metadata": {},
   "source": [
    "## Padding"
   ]
  },
  {
   "cell_type": "code",
   "execution_count": 5,
   "id": "2abfb484-7843-43dd-b18b-8ebbf81fca6e",
   "metadata": {},
   "outputs": [
    {
     "name": "stdout",
     "output_type": "stream",
     "text": [
      "Model: \"sequential\"\n",
      "_________________________________________________________________\n",
      " Layer (type)                Output Shape              Param #   \n",
      "=================================================================\n",
      " conv2d (Conv2D)             (None, 26, 26, 32)        320       \n",
      "                                                                 \n",
      " conv2d_1 (Conv2D)           (None, 24, 24, 32)        9248      \n",
      "                                                                 \n",
      " conv2d_2 (Conv2D)           (None, 22, 22, 32)        9248      \n",
      "                                                                 \n",
      " flatten (Flatten)           (None, 15488)             0         \n",
      "                                                                 \n",
      " dense (Dense)               (None, 128)               1982592   \n",
      "                                                                 \n",
      " dense_1 (Dense)             (None, 10)                1290      \n",
      "                                                                 \n",
      "=================================================================\n",
      "Total params: 2,002,698\n",
      "Trainable params: 2,002,698\n",
      "Non-trainable params: 0\n",
      "_________________________________________________________________\n"
     ]
    }
   ],
   "source": [
    "# Build CNN model architecture (padding=\"valid\")\n",
    "model = Sequential([\n",
    "    Conv2D(32, kernel_size=(3, 3), padding=\"valid\", activation=\"relu\", input_shape=(28, 28, 1)),\n",
    "    Conv2D(32, kernel_size=(3, 3), padding=\"valid\", activation=\"relu\"),\n",
    "    Conv2D(32, kernel_size=(3, 3), padding=\"valid\", activation=\"relu\"),\n",
    "    \n",
    "    Flatten(),\n",
    "    \n",
    "    Dense(128, activation=\"relu\"),\n",
    "    Dense(10, activation=\"softmax\")\n",
    "])\n",
    "\n",
    "model.summary()"
   ]
  },
  {
   "cell_type": "code",
   "execution_count": 6,
   "id": "84620c57-9005-4963-b921-626772fea424",
   "metadata": {},
   "outputs": [
    {
     "name": "stdout",
     "output_type": "stream",
     "text": [
      "Model: \"sequential_1\"\n",
      "_________________________________________________________________\n",
      " Layer (type)                Output Shape              Param #   \n",
      "=================================================================\n",
      " conv2d_3 (Conv2D)           (None, 28, 28, 32)        320       \n",
      "                                                                 \n",
      " conv2d_4 (Conv2D)           (None, 28, 28, 32)        9248      \n",
      "                                                                 \n",
      " conv2d_5 (Conv2D)           (None, 28, 28, 32)        9248      \n",
      "                                                                 \n",
      " flatten_1 (Flatten)         (None, 25088)             0         \n",
      "                                                                 \n",
      " dense_2 (Dense)             (None, 128)               3211392   \n",
      "                                                                 \n",
      " dense_3 (Dense)             (None, 10)                1290      \n",
      "                                                                 \n",
      "=================================================================\n",
      "Total params: 3,231,498\n",
      "Trainable params: 3,231,498\n",
      "Non-trainable params: 0\n",
      "_________________________________________________________________\n"
     ]
    }
   ],
   "source": [
    "# Build CNN model architecture (padding=\"same\")\n",
    "model = Sequential([\n",
    "    Conv2D(32, kernel_size=(3, 3), padding=\"same\", activation=\"relu\", input_shape=(28, 28, 1)),\n",
    "    Conv2D(32, kernel_size=(3, 3), padding=\"same\", activation=\"relu\"),\n",
    "    Conv2D(32, kernel_size=(3, 3), padding=\"same\", activation=\"relu\"),\n",
    "    \n",
    "    Flatten(),\n",
    "    \n",
    "    Dense(128, activation=\"relu\"),\n",
    "    Dense(10, activation=\"softmax\")\n",
    "])\n",
    "\n",
    "model.summary()"
   ]
  },
  {
   "cell_type": "code",
   "execution_count": null,
   "id": "c40d24b7-ab98-4c73-8518-3a16161cd89e",
   "metadata": {},
   "outputs": [],
   "source": [
    "# So, what is the difference between padding=\"valid\" and padding=\"same\"?"
   ]
  },
  {
   "cell_type": "markdown",
   "id": "fb56b1f3-6ad9-42a2-bee6-83c78fed8bd7",
   "metadata": {},
   "source": [
    "## Stride\n",
    "\n",
    "**After applying padding and stride in a Convolution layer, the resulting size of the feature map will be:**\n",
    "\n",
    "$$feature map (width) = \\frac{pixel_{width} + 2*padding - kernel_{width}}{stride} + 1$$\n",
    "\n",
    "$$feature map (height) = \\frac{pixel_{height} + 2*padding - kernel_{height}}{stride} + 1$$"
   ]
  },
  {
   "cell_type": "code",
   "execution_count": 7,
   "id": "08bf58d7-d359-4bcf-b688-e762e986f325",
   "metadata": {},
   "outputs": [
    {
     "name": "stdout",
     "output_type": "stream",
     "text": [
      "Model: \"sequential_2\"\n",
      "_________________________________________________________________\n",
      " Layer (type)                Output Shape              Param #   \n",
      "=================================================================\n",
      " conv2d_6 (Conv2D)           (None, 14, 14, 32)        320       \n",
      "                                                                 \n",
      " conv2d_7 (Conv2D)           (None, 7, 7, 32)          9248      \n",
      "                                                                 \n",
      " conv2d_8 (Conv2D)           (None, 4, 4, 32)          9248      \n",
      "                                                                 \n",
      " flatten_2 (Flatten)         (None, 512)               0         \n",
      "                                                                 \n",
      " dense_4 (Dense)             (None, 128)               65664     \n",
      "                                                                 \n",
      " dense_5 (Dense)             (None, 10)                1290      \n",
      "                                                                 \n",
      "=================================================================\n",
      "Total params: 85,770\n",
      "Trainable params: 85,770\n",
      "Non-trainable params: 0\n",
      "_________________________________________________________________\n"
     ]
    }
   ],
   "source": [
    "model = Sequential([\n",
    "    Conv2D(32, kernel_size=(3, 3), padding=\"same\", strides=(2, 2), activation=\"relu\", input_shape=(28, 28, 1)),\n",
    "    Conv2D(32, kernel_size=(3, 3), padding=\"same\", strides=(2, 2), activation=\"relu\"),\n",
    "    Conv2D(32, kernel_size=(3, 3), padding=\"same\", strides=(2, 2), activation=\"relu\"),\n",
    "    \n",
    "    Flatten(),\n",
    "    \n",
    "    Dense(128, activation=\"relu\"),\n",
    "    Dense(10, activation=\"softmax\")\n",
    "])\n",
    "\n",
    "model.summary()\n",
    "\n",
    "## (28 + 2 * 1 - 3)/2 - 1 = 14.5 = 14\n",
    "## (14 + 2 * 1 - 3)/2 - 1 = 7"
   ]
  }
 ],
 "metadata": {
  "kernelspec": {
   "display_name": "Python 3 (ipykernel)",
   "language": "python",
   "name": "python3"
  },
  "language_info": {
   "codemirror_mode": {
    "name": "ipython",
    "version": 3
   },
   "file_extension": ".py",
   "mimetype": "text/x-python",
   "name": "python",
   "nbconvert_exporter": "python",
   "pygments_lexer": "ipython3",
   "version": "3.8.8"
  }
 },
 "nbformat": 4,
 "nbformat_minor": 5
}
