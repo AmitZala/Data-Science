{
 "cells": [
  {
   "cell_type": "markdown",
   "id": "d358b661-c8ce-4bb9-9d83-0593f2700f1f",
   "metadata": {},
   "source": [
    "# CNN Pretrained Model\n",
    "\n",
    "## Import Libraries"
   ]
  },
  {
   "cell_type": "code",
   "execution_count": 1,
   "id": "ba0ac61c-d99a-4a02-8651-ef9c65d49e42",
   "metadata": {},
   "outputs": [],
   "source": [
    "import numpy as np\n",
    "\n",
    "from tensorflow.keras.applications.resnet50 import ResNet50\n",
    "from tensorflow.keras.preprocessing import image\n",
    "from tensorflow.keras.applications.resnet50 import preprocess_input, decode_predictions"
   ]
  },
  {
   "cell_type": "code",
   "execution_count": 2,
   "id": "70521aaa-1e18-4162-9e5b-038de65de01d",
   "metadata": {},
   "outputs": [
    {
     "name": "stdout",
     "output_type": "stream",
     "text": [
      "Downloading data from https://storage.googleapis.com/tensorflow/keras-applications/resnet/resnet50_weights_tf_dim_ordering_tf_kernels.h5\n",
      "102973440/102967424 [==============================] - 21s 0us/step\n",
      "102981632/102967424 [==============================] - 21s 0us/step\n"
     ]
    }
   ],
   "source": [
    "# load the pretrained model\n",
    "model = ResNet50(weights=\"imagenet\")"
   ]
  },
  {
   "cell_type": "code",
   "execution_count": 4,
   "id": "f52aa89b-2602-42a8-92d2-ad07624cd7d1",
   "metadata": {},
   "outputs": [],
   "source": [
    "# load the image and convert to requied way\n",
    "img_path = \"./data/tomato.jpg\"\n",
    "img = image.load_img(img_path, target_size=(224, 224))\n",
    "x = image.img_to_array(img)\n",
    "x = np.expand_dims(x, axis=0)\n",
    "x = preprocess_input(x)"
   ]
  },
  {
   "cell_type": "code",
   "execution_count": 5,
   "id": "0a5a6336-f8e5-4bd2-b61a-dcab7740ebcc",
   "metadata": {},
   "outputs": [
    {
     "name": "stdout",
     "output_type": "stream",
     "text": [
      "Downloading data from https://storage.googleapis.com/download.tensorflow.org/data/imagenet_class_index.json\n",
      "40960/35363 [==================================] - 0s 1us/step\n",
      "49152/35363 [=========================================] - 0s 1us/step\n",
      "Predicted: [('n07718472', 'cucumber', 0.60475904), ('n12620546', 'hip', 0.10676625), ('n02666196', 'abacus', 0.06341045)]\n"
     ]
    }
   ],
   "source": [
    "preds = model.predict(x)\n",
    "print(f\"Predicted: {decode_predictions(preds, top=3)[0]}\")"
   ]
  },
  {
   "cell_type": "code",
   "execution_count": null,
   "id": "51ce7cdf-c7cd-4abe-830d-0efcd374aa69",
   "metadata": {},
   "outputs": [],
   "source": []
  }
 ],
 "metadata": {
  "kernelspec": {
   "display_name": "Python 3 (ipykernel)",
   "language": "python",
   "name": "python3"
  },
  "language_info": {
   "codemirror_mode": {
    "name": "ipython",
    "version": 3
   },
   "file_extension": ".py",
   "mimetype": "text/x-python",
   "name": "python",
   "nbconvert_exporter": "python",
   "pygments_lexer": "ipython3",
   "version": "3.8.8"
  }
 },
 "nbformat": 4,
 "nbformat_minor": 5
}
