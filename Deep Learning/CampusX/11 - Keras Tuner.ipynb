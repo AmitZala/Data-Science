{
 "cells": [
  {
   "cell_type": "code",
   "execution_count": 22,
   "id": "6c08d591-122c-4a1a-a906-054e956a9027",
   "metadata": {},
   "outputs": [],
   "source": [
    "import numpy as np\n",
    "import pandas as pd\n",
    "\n",
    "import matplotlib.pyplot as plt\n",
    "import seaborn as sns\n",
    "\n",
    "from sklearn.preprocessing import StandardScaler\n",
    "from sklearn.model_selection import train_test_split\n",
    "\n",
    "from tensorflow.keras.models import Sequential\n",
    "from tensorflow.keras.layers import Dense, Dropout\n",
    "import keras_tuner as kt  ## new"
   ]
  },
  {
   "cell_type": "code",
   "execution_count": 12,
   "id": "d66a3875-8cb8-428b-ac19-3689be2ff1d5",
   "metadata": {},
   "outputs": [
    {
     "data": {
      "text/html": [
       "<div>\n",
       "<style scoped>\n",
       "    .dataframe tbody tr th:only-of-type {\n",
       "        vertical-align: middle;\n",
       "    }\n",
       "\n",
       "    .dataframe tbody tr th {\n",
       "        vertical-align: top;\n",
       "    }\n",
       "\n",
       "    .dataframe thead th {\n",
       "        text-align: right;\n",
       "    }\n",
       "</style>\n",
       "<table border=\"1\" class=\"dataframe\">\n",
       "  <thead>\n",
       "    <tr style=\"text-align: right;\">\n",
       "      <th></th>\n",
       "      <th>Pregnancies</th>\n",
       "      <th>Glucose</th>\n",
       "      <th>BloodPressure</th>\n",
       "      <th>SkinThickness</th>\n",
       "      <th>Insulin</th>\n",
       "      <th>BMI</th>\n",
       "      <th>DiabetesPedigreeFunction</th>\n",
       "      <th>Age</th>\n",
       "      <th>Outcome</th>\n",
       "    </tr>\n",
       "  </thead>\n",
       "  <tbody>\n",
       "    <tr>\n",
       "      <th>0</th>\n",
       "      <td>6</td>\n",
       "      <td>148</td>\n",
       "      <td>72</td>\n",
       "      <td>35</td>\n",
       "      <td>0</td>\n",
       "      <td>33.6</td>\n",
       "      <td>0.627</td>\n",
       "      <td>50</td>\n",
       "      <td>1</td>\n",
       "    </tr>\n",
       "    <tr>\n",
       "      <th>1</th>\n",
       "      <td>1</td>\n",
       "      <td>85</td>\n",
       "      <td>66</td>\n",
       "      <td>29</td>\n",
       "      <td>0</td>\n",
       "      <td>26.6</td>\n",
       "      <td>0.351</td>\n",
       "      <td>31</td>\n",
       "      <td>0</td>\n",
       "    </tr>\n",
       "    <tr>\n",
       "      <th>2</th>\n",
       "      <td>8</td>\n",
       "      <td>183</td>\n",
       "      <td>64</td>\n",
       "      <td>0</td>\n",
       "      <td>0</td>\n",
       "      <td>23.3</td>\n",
       "      <td>0.672</td>\n",
       "      <td>32</td>\n",
       "      <td>1</td>\n",
       "    </tr>\n",
       "    <tr>\n",
       "      <th>3</th>\n",
       "      <td>1</td>\n",
       "      <td>89</td>\n",
       "      <td>66</td>\n",
       "      <td>23</td>\n",
       "      <td>94</td>\n",
       "      <td>28.1</td>\n",
       "      <td>0.167</td>\n",
       "      <td>21</td>\n",
       "      <td>0</td>\n",
       "    </tr>\n",
       "    <tr>\n",
       "      <th>4</th>\n",
       "      <td>0</td>\n",
       "      <td>137</td>\n",
       "      <td>40</td>\n",
       "      <td>35</td>\n",
       "      <td>168</td>\n",
       "      <td>43.1</td>\n",
       "      <td>2.288</td>\n",
       "      <td>33</td>\n",
       "      <td>1</td>\n",
       "    </tr>\n",
       "  </tbody>\n",
       "</table>\n",
       "</div>"
      ],
      "text/plain": [
       "   Pregnancies  Glucose  BloodPressure  SkinThickness  Insulin   BMI  \\\n",
       "0            6      148             72             35        0  33.6   \n",
       "1            1       85             66             29        0  26.6   \n",
       "2            8      183             64              0        0  23.3   \n",
       "3            1       89             66             23       94  28.1   \n",
       "4            0      137             40             35      168  43.1   \n",
       "\n",
       "   DiabetesPedigreeFunction  Age  Outcome  \n",
       "0                     0.627   50        1  \n",
       "1                     0.351   31        0  \n",
       "2                     0.672   32        1  \n",
       "3                     0.167   21        0  \n",
       "4                     2.288   33        1  "
      ]
     },
     "execution_count": 12,
     "metadata": {},
     "output_type": "execute_result"
    }
   ],
   "source": [
    "df = pd.read_csv(\"diabetes.csv\")\n",
    "\n",
    "df.head()"
   ]
  },
  {
   "cell_type": "code",
   "execution_count": 13,
   "id": "74a72f25-beca-4ab1-8f96-2d9469a2af9d",
   "metadata": {},
   "outputs": [
    {
     "data": {
      "text/plain": [
       "Pregnancies                 0.221898\n",
       "Glucose                     0.466581\n",
       "BloodPressure               0.065068\n",
       "SkinThickness               0.074752\n",
       "Insulin                     0.130548\n",
       "BMI                         0.292695\n",
       "DiabetesPedigreeFunction    0.173844\n",
       "Age                         0.238356\n",
       "Outcome                     1.000000\n",
       "Name: Outcome, dtype: float64"
      ]
     },
     "execution_count": 13,
     "metadata": {},
     "output_type": "execute_result"
    }
   ],
   "source": [
    "df.corr()[\"Outcome\"]"
   ]
  },
  {
   "cell_type": "code",
   "execution_count": 14,
   "id": "92d70bb0-d768-4661-a5a4-638560178348",
   "metadata": {},
   "outputs": [],
   "source": [
    "X = df.iloc[:, 0:-1].values\n",
    "y = df.iloc[:, -1].values"
   ]
  },
  {
   "cell_type": "code",
   "execution_count": 15,
   "id": "ccbe0d38-e9ec-43c8-954c-ff999b60d401",
   "metadata": {},
   "outputs": [],
   "source": [
    "scaler = StandardScaler()\n",
    "\n",
    "X_scaled = scaler.fit_transform(X)"
   ]
  },
  {
   "cell_type": "code",
   "execution_count": 16,
   "id": "6c672492-7712-435b-8dc7-9da443bad849",
   "metadata": {},
   "outputs": [],
   "source": [
    "X_train, X_test, y_train, y_test = train_test_split(X_scaled, y, test_size=0.2, random_state=1)"
   ]
  },
  {
   "cell_type": "code",
   "execution_count": 17,
   "id": "2539ed72-07e2-4f59-a5e1-17cda86f701b",
   "metadata": {},
   "outputs": [
    {
     "data": {
      "text/plain": [
       "(614, 8)"
      ]
     },
     "execution_count": 17,
     "metadata": {},
     "output_type": "execute_result"
    }
   ],
   "source": [
    "X_train.shape"
   ]
  },
  {
   "cell_type": "code",
   "execution_count": 13,
   "id": "02c07d85-496a-481d-961e-a7b80429cbf3",
   "metadata": {},
   "outputs": [
    {
     "name": "stdout",
     "output_type": "stream",
     "text": [
      "Epoch 1/10\n",
      "20/20 [==============================] - 0s 11ms/step - loss: 0.7584 - accuracy: 0.4479 - val_loss: 0.7023 - val_accuracy: 0.5260\n",
      "Epoch 2/10\n",
      "20/20 [==============================] - 0s 6ms/step - loss: 0.6924 - accuracy: 0.5831 - val_loss: 0.6466 - val_accuracy: 0.6364\n",
      "Epoch 3/10\n",
      "20/20 [==============================] - 0s 6ms/step - loss: 0.6434 - accuracy: 0.6743 - val_loss: 0.6050 - val_accuracy: 0.6948\n",
      "Epoch 4/10\n",
      "20/20 [==============================] - 0s 5ms/step - loss: 0.6076 - accuracy: 0.7003 - val_loss: 0.5721 - val_accuracy: 0.7013\n",
      "Epoch 5/10\n",
      "20/20 [==============================] - 0s 5ms/step - loss: 0.5800 - accuracy: 0.7248 - val_loss: 0.5482 - val_accuracy: 0.7338\n",
      "Epoch 6/10\n",
      "20/20 [==============================] - 0s 5ms/step - loss: 0.5576 - accuracy: 0.7345 - val_loss: 0.5278 - val_accuracy: 0.7532\n",
      "Epoch 7/10\n",
      "20/20 [==============================] - 0s 5ms/step - loss: 0.5397 - accuracy: 0.7427 - val_loss: 0.5118 - val_accuracy: 0.7662\n",
      "Epoch 8/10\n",
      "20/20 [==============================] - 0s 5ms/step - loss: 0.5255 - accuracy: 0.7524 - val_loss: 0.5003 - val_accuracy: 0.7662\n",
      "Epoch 9/10\n",
      "20/20 [==============================] - 0s 5ms/step - loss: 0.5136 - accuracy: 0.7590 - val_loss: 0.4911 - val_accuracy: 0.7727\n",
      "Epoch 10/10\n",
      "20/20 [==============================] - 0s 5ms/step - loss: 0.5033 - accuracy: 0.7671 - val_loss: 0.4859 - val_accuracy: 0.7727\n"
     ]
    },
    {
     "data": {
      "text/plain": [
       "<keras.callbacks.History at 0x1d6ac593490>"
      ]
     },
     "execution_count": 13,
     "metadata": {},
     "output_type": "execute_result"
    }
   ],
   "source": [
    "model = Sequential([\n",
    "    Dense(32, activation=\"relu\", input_dim=X_train.shape[1]),\n",
    "    Dense(1, activation=\"sigmoid\")\n",
    "])\n",
    "\n",
    "model.compile(optimizer=\"adam\", loss=\"binary_crossentropy\", metrics=[\"accuracy\"])\n",
    "\n",
    "model.fit(X_train, y_train, batch_size=32, epochs=10, validation_data=(X_test, y_test))"
   ]
  },
  {
   "cell_type": "code",
   "execution_count": 14,
   "id": "5a7fcfe4-4f99-4740-a0a9-e2c9326e537b",
   "metadata": {},
   "outputs": [],
   "source": [
    "# 1. how to select appropriate optimizer?\n",
    "# 2. No of nodes in a layer\n",
    "# 3. How to select no of hidden layers?\n",
    "# 4. All in one model"
   ]
  },
  {
   "cell_type": "code",
   "execution_count": 18,
   "id": "dfcd74ad-42c8-4d23-af87-7eb965019183",
   "metadata": {},
   "outputs": [
    {
     "name": "stdout",
     "output_type": "stream",
     "text": [
      "Trial 4 Complete [00h 00m 02s]\n",
      "val_accuracy: 0.44805195927619934\n",
      "\n",
      "Best val_accuracy So Far: 0.798701286315918\n",
      "Total elapsed time: 00h 00m 07s\n",
      "INFO:tensorflow:Oracle triggered exit\n"
     ]
    }
   ],
   "source": [
    "def build_model(hp): # hp = hyper parameter\n",
    "    model = Sequential([\n",
    "        Dense(32, activation=\"relu\", input_dim=8),\n",
    "        Dense(1, activation=\"sigmoid\")\n",
    "    ])\n",
    "    \n",
    "    optimizers = hp.Choice(\"optimizer\", values=[\"adam\", \"sgd\", \"rmsprop\", \"adadelta\"])\n",
    "    model.compile(optimizer=optimizers, loss=\"binary_crossentropy\", metrics=[\"accuracy\"])\n",
    "    \n",
    "    return model\n",
    "\n",
    "# build tuner object\n",
    "tuner = kt.RandomSearch(build_model, objective=\"val_accuracy\", max_trials=5)\n",
    "\n",
    "# now search the best value\n",
    "tuner.search(X_train, y_train, epochs=10, validation_data=(X_test, y_test))"
   ]
  },
  {
   "cell_type": "code",
   "execution_count": 19,
   "id": "f1df3c64-b17e-48da-ac42-96d89eb8f3c3",
   "metadata": {},
   "outputs": [
    {
     "data": {
      "text/plain": [
       "{'optimizer': 'adam'}"
      ]
     },
     "execution_count": 19,
     "metadata": {},
     "output_type": "execute_result"
    }
   ],
   "source": [
    "# get best hyperparameter\n",
    "tuner.get_best_hyperparameters()[0].values"
   ]
  },
  {
   "cell_type": "code",
   "execution_count": 20,
   "id": "e3e714fc-984b-4320-968f-784c99063e52",
   "metadata": {},
   "outputs": [
    {
     "name": "stdout",
     "output_type": "stream",
     "text": [
      "Model: \"sequential\"\n",
      "_________________________________________________________________\n",
      " Layer (type)                Output Shape              Param #   \n",
      "=================================================================\n",
      " dense (Dense)               (None, 32)                288       \n",
      "                                                                 \n",
      " dense_1 (Dense)             (None, 1)                 33        \n",
      "                                                                 \n",
      "=================================================================\n",
      "Total params: 321\n",
      "Trainable params: 321\n",
      "Non-trainable params: 0\n",
      "_________________________________________________________________\n"
     ]
    }
   ],
   "source": [
    "# you can exract the best model from now\n",
    "model_adam = tuner.get_best_models(num_models=1)[0]\n",
    "\n",
    "model_adam.summary()"
   ]
  },
  {
   "cell_type": "code",
   "execution_count": 21,
   "id": "73c90f22-9b08-4d91-9b0a-95026fb9eb79",
   "metadata": {},
   "outputs": [
    {
     "data": {
      "text/plain": [
       "<keras.callbacks.History at 0x1d6be1fa160>"
      ]
     },
     "execution_count": 21,
     "metadata": {},
     "output_type": "execute_result"
    }
   ],
   "source": [
    "model_adam.fit(X_train, y_train, validation_data=(X_test, y_test), epochs=100, initial_epoch=11, batch_size=32, verbose=False)"
   ]
  },
  {
   "cell_type": "code",
   "execution_count": 24,
   "id": "f152f920-7206-4de0-80bb-b422aae96d3e",
   "metadata": {},
   "outputs": [
    {
     "name": "stdout",
     "output_type": "stream",
     "text": [
      "Trial 5 Complete [00h 00m 02s]\n",
      "val_accuracy: 0.7337662577629089\n",
      "\n",
      "Best val_accuracy So Far: 0.798701286315918\n",
      "Total elapsed time: 00h 00m 09s\n",
      "INFO:tensorflow:Oracle triggered exit\n"
     ]
    }
   ],
   "source": [
    "# 2. no of neurons hyperparameter\n",
    "def build_model(hp):\n",
    "    units = hp.Int(\"units\", min_value=8, max_value=128, step=8)\n",
    "    model = Sequential([\n",
    "        Dense(units = units, activation=\"relu\", input_dim=8),\n",
    "        Dense(1, activation=\"sigmoid\")\n",
    "    ])\n",
    "    \n",
    "    optimizers = hp.Choice(\"optimizer\", values=[\"adam\", \"sgd\", \"rmsprop\", \"adadelta\"])\n",
    "    model.compile(optimizer=optimizers, loss=\"binary_crossentropy\", metrics=[\"accuracy\"])\n",
    "    \n",
    "    return model\n",
    "\n",
    "tuner = kt.RandomSearch(build_model, objective=\"val_accuracy\", max_trials=5, directory=\"search2\")\n",
    "\n",
    "tuner.search(X_train, y_train, epochs=10, validation_data=(X_test, y_test))"
   ]
  },
  {
   "cell_type": "code",
   "execution_count": 25,
   "id": "cd2a9f62-b247-4d69-817e-8d4edceccbe0",
   "metadata": {},
   "outputs": [
    {
     "data": {
      "text/plain": [
       "{'units': 72, 'optimizer': 'adam'}"
      ]
     },
     "execution_count": 25,
     "metadata": {},
     "output_type": "execute_result"
    }
   ],
   "source": [
    "# get best hyperparameter\n",
    "tuner.get_best_hyperparameters()[0].values"
   ]
  },
  {
   "cell_type": "code",
   "execution_count": 27,
   "id": "22e9d972-7e13-43b0-b9fa-9c1007ae6942",
   "metadata": {},
   "outputs": [
    {
     "name": "stdout",
     "output_type": "stream",
     "text": [
      "Trial 10 Complete [00h 00m 03s]\n",
      "val_accuracy: 0.44155845046043396\n",
      "\n",
      "Best val_accuracy So Far: 0.8116883039474487\n",
      "Total elapsed time: 00h 00m 22s\n",
      "INFO:tensorflow:Oracle triggered exit\n"
     ]
    }
   ],
   "source": [
    "# 3. no of layers hyperparameter\n",
    "def build_model(hp):\n",
    "    units = hp.Int(\"units\", min_value=8, max_value=128)\n",
    "    layers = hp.Int(\"layers\", min_value=1, max_value=10)\n",
    "    model = Sequential([\n",
    "        Dense(72, activation=\"relu\", input_dim=8)\n",
    "    ])\n",
    "    \n",
    "    for layer in range(layers):\n",
    "        model.add(Dense(72, activation=\"relu\"))\n",
    "        \n",
    "    model.add(Dense(1, activation=\"sigmoid\"))\n",
    "    \n",
    "    optimizers = hp.Choice(\"optimizer\", values=[\"adam\", \"sgd\", \"rmsprop\", \"adadelta\"])\n",
    "    model.compile(optimizer=optimizers, loss=\"binary_crossentropy\", metrics=[\"accuracy\"])\n",
    "    \n",
    "    return model\n",
    "\n",
    "tuner = kt.RandomSearch(build_model, objective=\"val_accuracy\", max_trials=10)\n",
    "\n",
    "tuner.search(X_train, y_train, epochs=10, validation_data=(X_test, y_test))"
   ]
  },
  {
   "cell_type": "code",
   "execution_count": 29,
   "id": "053adeba-c12f-41bf-8e0a-65dc3f931078",
   "metadata": {},
   "outputs": [
    {
     "data": {
      "text/plain": [
       "{'units': 81, 'layers': 4, 'optimizer': 'adam'}"
      ]
     },
     "execution_count": 29,
     "metadata": {},
     "output_type": "execute_result"
    }
   ],
   "source": [
    "tuner.get_best_hyperparameters()[0].values"
   ]
  },
  {
   "cell_type": "code",
   "execution_count": 23,
   "id": "673e8a8b-e80b-4737-abbd-7440b8fcba65",
   "metadata": {},
   "outputs": [
    {
     "name": "stdout",
     "output_type": "stream",
     "text": [
      "Trial 70 Complete [00h 00m 02s]\n",
      "val_accuracy: 0.3571428656578064\n",
      "\n",
      "Best val_accuracy So Far: 0.8181818127632141\n",
      "Total elapsed time: 00h 02m 49s\n",
      "INFO:tensorflow:Oracle triggered exit\n"
     ]
    }
   ],
   "source": [
    "# 4. all together\n",
    "def build_model(hp):\n",
    "    # set the layer hyper-parameter\n",
    "    layers = hp.Int(\"layers\", min_value=1, max_value=10)\n",
    "    # define the model\n",
    "    model = Sequential()\n",
    "    \n",
    "    for layer in range(layers):\n",
    "        units = hp.Int(f\"units_{layer}\", min_value=8, max_value=128)\n",
    "        activation = hp.Choice(f\"activation_{layer}\", values=[\"relu\", \"tanh\", \"sigmoid\"])\n",
    "        p = hp.Choice(f\"dropout_{layer}\", values=[0.2, 0.3, 0.4, 0.5, 0.6, 0.7, 0.8, 0.9])\n",
    "        \n",
    "        # define the input layer\n",
    "        if layer == 0:\n",
    "            model.add(Dense(units=units, activation=activation, input_dim=8))\n",
    "            model.add(Dropout(p))\n",
    "        # define the hidden layers\n",
    "        else:\n",
    "            model.add(Dense(units=units, activation=activation, input_dim=8))\n",
    "            model.add(Dropout(p))\n",
    "            \n",
    "    # define the output layer\n",
    "    model.add(Dense(1, activation=\"sigmoid\"))\n",
    "    # set the optimizer and compile\n",
    "    optimizers = hp.Choice(\"optimizer\", values=[\"adam\", \"sgd\", \"rmsprop\", \"adadelta\", \"adagrad\"])\n",
    "    model.compile(optimizer=optimizers, loss=\"binary_crossentropy\", metrics=[\"accuracy\"])\n",
    "    # and return it\n",
    "    return model\n",
    "\n",
    "# build the Search object\n",
    "tuner = kt.RandomSearch(build_model, objective=\"val_accuracy\", max_trials=70, directory=\"best_params\", project_name=\"final\")\n",
    "# and find the best hyper parameters\n",
    "tuner.search(X_train, y_train, epochs=10, validation_data=(X_test, y_test))"
   ]
  },
  {
   "cell_type": "code",
   "execution_count": 19,
   "id": "8ce8f610-782b-4a78-bb1f-2621b42a2788",
   "metadata": {},
   "outputs": [
    {
     "data": {
      "text/plain": [
       "{'layers': 9,\n",
       " 'units_0': 88,\n",
       " 'activation_0': 'tanh',\n",
       " 'optimizer': 'adam',\n",
       " 'units_1': 112,\n",
       " 'activation_1': 'relu',\n",
       " 'units_2': 24,\n",
       " 'activation_2': 'sigmoid',\n",
       " 'units_3': 72,\n",
       " 'activation_3': 'tanh',\n",
       " 'units_4': 32,\n",
       " 'activation_4': 'tanh',\n",
       " 'units_5': 40,\n",
       " 'activation_5': 'tanh',\n",
       " 'units_6': 56,\n",
       " 'activation_6': 'tanh',\n",
       " 'units_7': 48,\n",
       " 'activation_7': 'tanh',\n",
       " 'units_8': 16,\n",
       " 'activation_8': 'relu',\n",
       " 'units_9': 32,\n",
       " 'activation_9': 'sigmoid'}"
      ]
     },
     "execution_count": 19,
     "metadata": {},
     "output_type": "execute_result"
    }
   ],
   "source": [
    "tuner.get_best_hyperparameters()[0].values"
   ]
  },
  {
   "cell_type": "code",
   "execution_count": 24,
   "id": "fe3ca2b6-1c7d-4a12-94a5-2758ffb4709f",
   "metadata": {},
   "outputs": [],
   "source": [
    "# now get the best model with best hyper parameters\n",
    "model = tuner.get_best_models(num_models=1)[0]\n",
    "\n",
    "# train the model\n",
    "history = model.fit(X_train, y_train, epochs=200, initial_epoch=11, validation_data=(X_test, y_test), verbose=False)"
   ]
  },
  {
   "cell_type": "code",
   "execution_count": 25,
   "id": "9018da28-49d0-4861-a9cf-1c92029fb4b4",
   "metadata": {},
   "outputs": [
    {
     "data": {
      "image/png": "[encoded data removed]",
      "text/plain": [
       "<Figure size 640x480 with 1 Axes>"
      ]
     },
     "metadata": {},
     "output_type": "display_data"
    }
   ],
   "source": [
    "plt.plot(history.history[\"accuracy\"], label=\"training_acc\")\n",
    "plt.plot(history.history[\"val_accuracy\"], label=\"val_acc\")\n",
    "plt.xlabel(\"Epochs\")\n",
    "plt.ylabel(\"Accuracy\")\n",
    "plt.legend()\n",
    "plt.show()"
   ]
  },
  {
   "cell_type": "code",
   "execution_count": null,
   "id": "cc36fd11-6e5c-4dc5-963b-61e570158a4e",
   "metadata": {},
   "outputs": [],
   "source": []
  }
 ],
 "metadata": {
  "kernelspec": {
   "display_name": "Python 3 (ipykernel)",
   "language": "python",
   "name": "python3"
  },
  "language_info": {
   "codemirror_mode": {
    "name": "ipython",
    "version": 3
   },
   "file_extension": ".py",
   "mimetype": "text/x-python",
   "name": "python",
   "nbconvert_exporter": "python",
   "pygments_lexer": "ipython3",
   "version": "3.8.8"
  }
 },
 "nbformat": 4,
 "nbformat_minor": 5
}
