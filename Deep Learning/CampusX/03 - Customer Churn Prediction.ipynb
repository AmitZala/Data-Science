{
 "cells": [
  {
   "cell_type": "code",
   "execution_count": 24,
   "id": "3863a41c",
   "metadata": {},
   "outputs": [],
   "source": [
    "import numpy as np\n",
    "import pandas as pd\n",
    "\n",
    "import matplotlib.pyplot as plt\n",
    "import seaborn as sns\n",
    "\n",
    "from sklearn.model_selection import train_test_split\n",
    "from sklearn.preprocessing import StandardScaler\n",
    "from sklearn.metrics import accuracy_score\n",
    "\n",
    "import tensorflow as tf\n",
    "from tensorflow import keras"
   ]
  },
  {
   "cell_type": "code",
   "execution_count": 3,
   "id": "fbf5e295",
   "metadata": {},
   "outputs": [
    {
     "data": {
      "text/html": [
       "<div>\n",
       "<style scoped>\n",
       "    .dataframe tbody tr th:only-of-type {\n",
       "        vertical-align: middle;\n",
       "    }\n",
       "\n",
       "    .dataframe tbody tr th {\n",
       "        vertical-align: top;\n",
       "    }\n",
       "\n",
       "    .dataframe thead th {\n",
       "        text-align: right;\n",
       "    }\n",
       "</style>\n",
       "<table border=\"1\" class=\"dataframe\">\n",
       "  <thead>\n",
       "    <tr style=\"text-align: right;\">\n",
       "      <th></th>\n",
       "      <th>RowNumber</th>\n",
       "      <th>CustomerId</th>\n",
       "      <th>Surname</th>\n",
       "      <th>CreditScore</th>\n",
       "      <th>Geography</th>\n",
       "      <th>Gender</th>\n",
       "      <th>Age</th>\n",
       "      <th>Tenure</th>\n",
       "      <th>Balance</th>\n",
       "      <th>NumOfProducts</th>\n",
       "      <th>HasCrCard</th>\n",
       "      <th>IsActiveMember</th>\n",
       "      <th>EstimatedSalary</th>\n",
       "      <th>Exited</th>\n",
       "    </tr>\n",
       "  </thead>\n",
       "  <tbody>\n",
       "    <tr>\n",
       "      <th>0</th>\n",
       "      <td>1</td>\n",
       "      <td>15634602</td>\n",
       "      <td>Hargrave</td>\n",
       "      <td>619</td>\n",
       "      <td>France</td>\n",
       "      <td>Female</td>\n",
       "      <td>42</td>\n",
       "      <td>2</td>\n",
       "      <td>0.00</td>\n",
       "      <td>1</td>\n",
       "      <td>1</td>\n",
       "      <td>1</td>\n",
       "      <td>101348.88</td>\n",
       "      <td>1</td>\n",
       "    </tr>\n",
       "    <tr>\n",
       "      <th>1</th>\n",
       "      <td>2</td>\n",
       "      <td>15647311</td>\n",
       "      <td>Hill</td>\n",
       "      <td>608</td>\n",
       "      <td>Spain</td>\n",
       "      <td>Female</td>\n",
       "      <td>41</td>\n",
       "      <td>1</td>\n",
       "      <td>83807.86</td>\n",
       "      <td>1</td>\n",
       "      <td>0</td>\n",
       "      <td>1</td>\n",
       "      <td>112542.58</td>\n",
       "      <td>0</td>\n",
       "    </tr>\n",
       "    <tr>\n",
       "      <th>2</th>\n",
       "      <td>3</td>\n",
       "      <td>15619304</td>\n",
       "      <td>Onio</td>\n",
       "      <td>502</td>\n",
       "      <td>France</td>\n",
       "      <td>Female</td>\n",
       "      <td>42</td>\n",
       "      <td>8</td>\n",
       "      <td>159660.80</td>\n",
       "      <td>3</td>\n",
       "      <td>1</td>\n",
       "      <td>0</td>\n",
       "      <td>113931.57</td>\n",
       "      <td>1</td>\n",
       "    </tr>\n",
       "    <tr>\n",
       "      <th>3</th>\n",
       "      <td>4</td>\n",
       "      <td>15701354</td>\n",
       "      <td>Boni</td>\n",
       "      <td>699</td>\n",
       "      <td>France</td>\n",
       "      <td>Female</td>\n",
       "      <td>39</td>\n",
       "      <td>1</td>\n",
       "      <td>0.00</td>\n",
       "      <td>2</td>\n",
       "      <td>0</td>\n",
       "      <td>0</td>\n",
       "      <td>93826.63</td>\n",
       "      <td>0</td>\n",
       "    </tr>\n",
       "    <tr>\n",
       "      <th>4</th>\n",
       "      <td>5</td>\n",
       "      <td>15737888</td>\n",
       "      <td>Mitchell</td>\n",
       "      <td>850</td>\n",
       "      <td>Spain</td>\n",
       "      <td>Female</td>\n",
       "      <td>43</td>\n",
       "      <td>2</td>\n",
       "      <td>125510.82</td>\n",
       "      <td>1</td>\n",
       "      <td>1</td>\n",
       "      <td>1</td>\n",
       "      <td>79084.10</td>\n",
       "      <td>0</td>\n",
       "    </tr>\n",
       "  </tbody>\n",
       "</table>\n",
       "</div>"
      ],
      "text/plain": [
       "   RowNumber  CustomerId   Surname  CreditScore Geography  Gender  Age  \\\n",
       "0          1    15634602  Hargrave          619    France  Female   42   \n",
       "1          2    15647311      Hill          608     Spain  Female   41   \n",
       "2          3    15619304      Onio          502    France  Female   42   \n",
       "3          4    15701354      Boni          699    France  Female   39   \n",
       "4          5    15737888  Mitchell          850     Spain  Female   43   \n",
       "\n",
       "   Tenure    Balance  NumOfProducts  HasCrCard  IsActiveMember  \\\n",
       "0       2       0.00              1          1               1   \n",
       "1       1   83807.86              1          0               1   \n",
       "2       8  159660.80              3          1               0   \n",
       "3       1       0.00              2          0               0   \n",
       "4       2  125510.82              1          1               1   \n",
       "\n",
       "   EstimatedSalary  Exited  \n",
       "0        101348.88       1  \n",
       "1        112542.58       0  \n",
       "2        113931.57       1  \n",
       "3         93826.63       0  \n",
       "4         79084.10       0  "
      ]
     },
     "execution_count": 3,
     "metadata": {},
     "output_type": "execute_result"
    }
   ],
   "source": [
    "df = pd.read_csv(\"../../Datasets/Customer Churn/Churn_Modelling.csv\")\n",
    "df.head()"
   ]
  },
  {
   "cell_type": "code",
   "execution_count": 4,
   "id": "2bf00555",
   "metadata": {},
   "outputs": [
    {
     "data": {
      "text/plain": [
       "(10000, 14)"
      ]
     },
     "execution_count": 4,
     "metadata": {},
     "output_type": "execute_result"
    }
   ],
   "source": [
    "df.shape"
   ]
  },
  {
   "cell_type": "code",
   "execution_count": 5,
   "id": "cc98d6a1",
   "metadata": {},
   "outputs": [
    {
     "name": "stdout",
     "output_type": "stream",
     "text": [
      "<class 'pandas.core.frame.DataFrame'>\n",
      "RangeIndex: 10000 entries, 0 to 9999\n",
      "Data columns (total 14 columns):\n",
      " #   Column           Non-Null Count  Dtype  \n",
      "---  ------           --------------  -----  \n",
      " 0   RowNumber        10000 non-null  int64  \n",
      " 1   CustomerId       10000 non-null  int64  \n",
      " 2   Surname          10000 non-null  object \n",
      " 3   CreditScore      10000 non-null  int64  \n",
      " 4   Geography        10000 non-null  object \n",
      " 5   Gender           10000 non-null  object \n",
      " 6   Age              10000 non-null  int64  \n",
      " 7   Tenure           10000 non-null  int64  \n",
      " 8   Balance          10000 non-null  float64\n",
      " 9   NumOfProducts    10000 non-null  int64  \n",
      " 10  HasCrCard        10000 non-null  int64  \n",
      " 11  IsActiveMember   10000 non-null  int64  \n",
      " 12  EstimatedSalary  10000 non-null  float64\n",
      " 13  Exited           10000 non-null  int64  \n",
      "dtypes: float64(2), int64(9), object(3)\n",
      "memory usage: 1.1+ MB\n"
     ]
    }
   ],
   "source": [
    "df.info()"
   ]
  },
  {
   "cell_type": "code",
   "execution_count": 7,
   "id": "dbed4ad1",
   "metadata": {},
   "outputs": [
    {
     "data": {
      "text/plain": [
       "0"
      ]
     },
     "execution_count": 7,
     "metadata": {},
     "output_type": "execute_result"
    }
   ],
   "source": [
    "df.duplicated().sum()"
   ]
  },
  {
   "cell_type": "code",
   "execution_count": 8,
   "id": "abbcb3e0",
   "metadata": {},
   "outputs": [
    {
     "data": {
      "text/plain": [
       "0    7963\n",
       "1    2037\n",
       "Name: Exited, dtype: int64"
      ]
     },
     "execution_count": 8,
     "metadata": {},
     "output_type": "execute_result"
    }
   ],
   "source": [
    "df[\"Exited\"].value_counts()"
   ]
  },
  {
   "cell_type": "code",
   "execution_count": 9,
   "id": "dfd9764d",
   "metadata": {},
   "outputs": [
    {
     "data": {
      "text/plain": [
       "France     5014\n",
       "Germany    2509\n",
       "Spain      2477\n",
       "Name: Geography, dtype: int64"
      ]
     },
     "execution_count": 9,
     "metadata": {},
     "output_type": "execute_result"
    }
   ],
   "source": [
    "df[\"Geography\"].value_counts()"
   ]
  },
  {
   "cell_type": "code",
   "execution_count": 10,
   "id": "90412442",
   "metadata": {},
   "outputs": [
    {
     "data": {
      "text/plain": [
       "Male      5457\n",
       "Female    4543\n",
       "Name: Gender, dtype: int64"
      ]
     },
     "execution_count": 10,
     "metadata": {},
     "output_type": "execute_result"
    }
   ],
   "source": [
    "df[\"Gender\"].value_counts()"
   ]
  },
  {
   "cell_type": "code",
   "execution_count": 11,
   "id": "6d0253ab",
   "metadata": {},
   "outputs": [
    {
     "data": {
      "text/html": [
       "<div>\n",
       "<style scoped>\n",
       "    .dataframe tbody tr th:only-of-type {\n",
       "        vertical-align: middle;\n",
       "    }\n",
       "\n",
       "    .dataframe tbody tr th {\n",
       "        vertical-align: top;\n",
       "    }\n",
       "\n",
       "    .dataframe thead th {\n",
       "        text-align: right;\n",
       "    }\n",
       "</style>\n",
       "<table border=\"1\" class=\"dataframe\">\n",
       "  <thead>\n",
       "    <tr style=\"text-align: right;\">\n",
       "      <th></th>\n",
       "      <th>CreditScore</th>\n",
       "      <th>Geography</th>\n",
       "      <th>Gender</th>\n",
       "      <th>Age</th>\n",
       "      <th>Tenure</th>\n",
       "      <th>Balance</th>\n",
       "      <th>NumOfProducts</th>\n",
       "      <th>HasCrCard</th>\n",
       "      <th>IsActiveMember</th>\n",
       "      <th>EstimatedSalary</th>\n",
       "      <th>Exited</th>\n",
       "    </tr>\n",
       "  </thead>\n",
       "  <tbody>\n",
       "    <tr>\n",
       "      <th>0</th>\n",
       "      <td>619</td>\n",
       "      <td>France</td>\n",
       "      <td>Female</td>\n",
       "      <td>42</td>\n",
       "      <td>2</td>\n",
       "      <td>0.00</td>\n",
       "      <td>1</td>\n",
       "      <td>1</td>\n",
       "      <td>1</td>\n",
       "      <td>101348.88</td>\n",
       "      <td>1</td>\n",
       "    </tr>\n",
       "    <tr>\n",
       "      <th>1</th>\n",
       "      <td>608</td>\n",
       "      <td>Spain</td>\n",
       "      <td>Female</td>\n",
       "      <td>41</td>\n",
       "      <td>1</td>\n",
       "      <td>83807.86</td>\n",
       "      <td>1</td>\n",
       "      <td>0</td>\n",
       "      <td>1</td>\n",
       "      <td>112542.58</td>\n",
       "      <td>0</td>\n",
       "    </tr>\n",
       "    <tr>\n",
       "      <th>2</th>\n",
       "      <td>502</td>\n",
       "      <td>France</td>\n",
       "      <td>Female</td>\n",
       "      <td>42</td>\n",
       "      <td>8</td>\n",
       "      <td>159660.80</td>\n",
       "      <td>3</td>\n",
       "      <td>1</td>\n",
       "      <td>0</td>\n",
       "      <td>113931.57</td>\n",
       "      <td>1</td>\n",
       "    </tr>\n",
       "    <tr>\n",
       "      <th>3</th>\n",
       "      <td>699</td>\n",
       "      <td>France</td>\n",
       "      <td>Female</td>\n",
       "      <td>39</td>\n",
       "      <td>1</td>\n",
       "      <td>0.00</td>\n",
       "      <td>2</td>\n",
       "      <td>0</td>\n",
       "      <td>0</td>\n",
       "      <td>93826.63</td>\n",
       "      <td>0</td>\n",
       "    </tr>\n",
       "    <tr>\n",
       "      <th>4</th>\n",
       "      <td>850</td>\n",
       "      <td>Spain</td>\n",
       "      <td>Female</td>\n",
       "      <td>43</td>\n",
       "      <td>2</td>\n",
       "      <td>125510.82</td>\n",
       "      <td>1</td>\n",
       "      <td>1</td>\n",
       "      <td>1</td>\n",
       "      <td>79084.10</td>\n",
       "      <td>0</td>\n",
       "    </tr>\n",
       "  </tbody>\n",
       "</table>\n",
       "</div>"
      ],
      "text/plain": [
       "   CreditScore Geography  Gender  Age  Tenure    Balance  NumOfProducts  \\\n",
       "0          619    France  Female   42       2       0.00              1   \n",
       "1          608     Spain  Female   41       1   83807.86              1   \n",
       "2          502    France  Female   42       8  159660.80              3   \n",
       "3          699    France  Female   39       1       0.00              2   \n",
       "4          850     Spain  Female   43       2  125510.82              1   \n",
       "\n",
       "   HasCrCard  IsActiveMember  EstimatedSalary  Exited  \n",
       "0          1               1        101348.88       1  \n",
       "1          0               1        112542.58       0  \n",
       "2          1               0        113931.57       1  \n",
       "3          0               0         93826.63       0  \n",
       "4          1               1         79084.10       0  "
      ]
     },
     "execution_count": 11,
     "metadata": {},
     "output_type": "execute_result"
    }
   ],
   "source": [
    "df.drop(columns = [\"RowNumber\", \"CustomerId\", \"Surname\"], inplace = True)\n",
    "df.head()"
   ]
  },
  {
   "cell_type": "code",
   "execution_count": 12,
   "id": "a35a64f3",
   "metadata": {},
   "outputs": [
    {
     "data": {
      "text/html": [
       "<div>\n",
       "<style scoped>\n",
       "    .dataframe tbody tr th:only-of-type {\n",
       "        vertical-align: middle;\n",
       "    }\n",
       "\n",
       "    .dataframe tbody tr th {\n",
       "        vertical-align: top;\n",
       "    }\n",
       "\n",
       "    .dataframe thead th {\n",
       "        text-align: right;\n",
       "    }\n",
       "</style>\n",
       "<table border=\"1\" class=\"dataframe\">\n",
       "  <thead>\n",
       "    <tr style=\"text-align: right;\">\n",
       "      <th></th>\n",
       "      <th>CreditScore</th>\n",
       "      <th>Age</th>\n",
       "      <th>Tenure</th>\n",
       "      <th>Balance</th>\n",
       "      <th>NumOfProducts</th>\n",
       "      <th>HasCrCard</th>\n",
       "      <th>IsActiveMember</th>\n",
       "      <th>EstimatedSalary</th>\n",
       "      <th>Exited</th>\n",
       "      <th>Geography_Germany</th>\n",
       "      <th>Geography_Spain</th>\n",
       "      <th>Gender_Male</th>\n",
       "    </tr>\n",
       "  </thead>\n",
       "  <tbody>\n",
       "    <tr>\n",
       "      <th>0</th>\n",
       "      <td>619</td>\n",
       "      <td>42</td>\n",
       "      <td>2</td>\n",
       "      <td>0.00</td>\n",
       "      <td>1</td>\n",
       "      <td>1</td>\n",
       "      <td>1</td>\n",
       "      <td>101348.88</td>\n",
       "      <td>1</td>\n",
       "      <td>0</td>\n",
       "      <td>0</td>\n",
       "      <td>0</td>\n",
       "    </tr>\n",
       "    <tr>\n",
       "      <th>1</th>\n",
       "      <td>608</td>\n",
       "      <td>41</td>\n",
       "      <td>1</td>\n",
       "      <td>83807.86</td>\n",
       "      <td>1</td>\n",
       "      <td>0</td>\n",
       "      <td>1</td>\n",
       "      <td>112542.58</td>\n",
       "      <td>0</td>\n",
       "      <td>0</td>\n",
       "      <td>1</td>\n",
       "      <td>0</td>\n",
       "    </tr>\n",
       "    <tr>\n",
       "      <th>2</th>\n",
       "      <td>502</td>\n",
       "      <td>42</td>\n",
       "      <td>8</td>\n",
       "      <td>159660.80</td>\n",
       "      <td>3</td>\n",
       "      <td>1</td>\n",
       "      <td>0</td>\n",
       "      <td>113931.57</td>\n",
       "      <td>1</td>\n",
       "      <td>0</td>\n",
       "      <td>0</td>\n",
       "      <td>0</td>\n",
       "    </tr>\n",
       "    <tr>\n",
       "      <th>3</th>\n",
       "      <td>699</td>\n",
       "      <td>39</td>\n",
       "      <td>1</td>\n",
       "      <td>0.00</td>\n",
       "      <td>2</td>\n",
       "      <td>0</td>\n",
       "      <td>0</td>\n",
       "      <td>93826.63</td>\n",
       "      <td>0</td>\n",
       "      <td>0</td>\n",
       "      <td>0</td>\n",
       "      <td>0</td>\n",
       "    </tr>\n",
       "    <tr>\n",
       "      <th>4</th>\n",
       "      <td>850</td>\n",
       "      <td>43</td>\n",
       "      <td>2</td>\n",
       "      <td>125510.82</td>\n",
       "      <td>1</td>\n",
       "      <td>1</td>\n",
       "      <td>1</td>\n",
       "      <td>79084.10</td>\n",
       "      <td>0</td>\n",
       "      <td>0</td>\n",
       "      <td>1</td>\n",
       "      <td>0</td>\n",
       "    </tr>\n",
       "  </tbody>\n",
       "</table>\n",
       "</div>"
      ],
      "text/plain": [
       "   CreditScore  Age  Tenure    Balance  NumOfProducts  HasCrCard  \\\n",
       "0          619   42       2       0.00              1          1   \n",
       "1          608   41       1   83807.86              1          0   \n",
       "2          502   42       8  159660.80              3          1   \n",
       "3          699   39       1       0.00              2          0   \n",
       "4          850   43       2  125510.82              1          1   \n",
       "\n",
       "   IsActiveMember  EstimatedSalary  Exited  Geography_Germany  \\\n",
       "0               1        101348.88       1                  0   \n",
       "1               1        112542.58       0                  0   \n",
       "2               0        113931.57       1                  0   \n",
       "3               0         93826.63       0                  0   \n",
       "4               1         79084.10       0                  0   \n",
       "\n",
       "   Geography_Spain  Gender_Male  \n",
       "0                0            0  \n",
       "1                1            0  \n",
       "2                0            0  \n",
       "3                0            0  \n",
       "4                1            0  "
      ]
     },
     "execution_count": 12,
     "metadata": {},
     "output_type": "execute_result"
    }
   ],
   "source": [
    "# One Hot Encoding the categorical variables\n",
    "df = pd.get_dummies(df, columns = [\"Geography\", \"Gender\"], drop_first = True)\n",
    "df.head()"
   ]
  },
  {
   "cell_type": "code",
   "execution_count": 14,
   "id": "0a6c4d81",
   "metadata": {},
   "outputs": [],
   "source": [
    "# split the dataset into training set and test set\n",
    "X = df.drop(columns = [\"Exited\"])\n",
    "y = df[\"Exited\"]\n",
    "\n",
    "X_train, X_test, y_train, y_test = train_test_split(X, y, test_size = 0.2, random_state = 1)"
   ]
  },
  {
   "cell_type": "code",
   "execution_count": 16,
   "id": "3d3a1d61",
   "metadata": {},
   "outputs": [],
   "source": [
    "# scale the numerical variables\n",
    "scaler = StandardScaler()\n",
    "\n",
    "X_train_scaled = scaler.fit_transform(X_train)\n",
    "X_test_scaled  = scaler.transform(X_test)"
   ]
  },
  {
   "cell_type": "code",
   "execution_count": 17,
   "id": "58a21dbd",
   "metadata": {},
   "outputs": [
    {
     "data": {
      "text/plain": [
       "array([[-0.23082038, -0.94449979, -0.70174202, ...,  1.71490137,\n",
       "        -0.57273139,  0.91509065],\n",
       "       [-0.25150912, -0.94449979, -0.35520275, ..., -0.58312392,\n",
       "        -0.57273139, -1.09278791],\n",
       "       [-0.3963303 ,  0.77498705,  0.33787579, ...,  1.71490137,\n",
       "        -0.57273139, -1.09278791],\n",
       "       ...,\n",
       "       [ 0.22433188,  0.58393295,  1.3774936 , ..., -0.58312392,\n",
       "        -0.57273139, -1.09278791],\n",
       "       [ 0.13123255,  0.01077067,  1.03095433, ..., -0.58312392,\n",
       "        -0.57273139, -1.09278791],\n",
       "       [ 1.1656695 ,  0.29735181,  0.33787579, ...,  1.71490137,\n",
       "        -0.57273139,  0.91509065]])"
      ]
     },
     "execution_count": 17,
     "metadata": {},
     "output_type": "execute_result"
    }
   ],
   "source": [
    "X_train_scaled"
   ]
  },
  {
   "cell_type": "code",
   "execution_count": 32,
   "id": "ea5e50bf",
   "metadata": {},
   "outputs": [],
   "source": [
    "model = tf.keras.Sequential([\n",
    "    tf.keras.layers.Dense(units=11, activation=\"relu\", input_dim = 11),\n",
    "    tf.keras.layers.Dense(units=11, activation=\"relu\"),\n",
    "    tf.keras.layers.Dense(units=1, activation=\"sigmoid\")\n",
    "])"
   ]
  },
  {
   "cell_type": "code",
   "execution_count": 33,
   "id": "fc11a77f",
   "metadata": {},
   "outputs": [
    {
     "name": "stdout",
     "output_type": "stream",
     "text": [
      "Model: \"sequential_2\"\n",
      "_________________________________________________________________\n",
      " Layer (type)                Output Shape              Param #   \n",
      "=================================================================\n",
      " dense_5 (Dense)             (None, 11)                132       \n",
      "                                                                 \n",
      " dense_6 (Dense)             (None, 11)                132       \n",
      "                                                                 \n",
      " dense_7 (Dense)             (None, 1)                 12        \n",
      "                                                                 \n",
      "=================================================================\n",
      "Total params: 276\n",
      "Trainable params: 276\n",
      "Non-trainable params: 0\n",
      "_________________________________________________________________\n"
     ]
    }
   ],
   "source": [
    "model.summary()"
   ]
  },
  {
   "cell_type": "code",
   "execution_count": 34,
   "id": "8a20939b",
   "metadata": {},
   "outputs": [
    {
     "name": "stdout",
     "output_type": "stream",
     "text": [
      "Epoch 1/100\n",
      "200/200 [==============================] - 3s 9ms/step - loss: 0.5794 - accuracy: 0.7255 - val_loss: 0.4953 - val_accuracy: 0.7981\n",
      "Epoch 2/100\n",
      "200/200 [==============================] - 1s 6ms/step - loss: 0.4598 - accuracy: 0.8011 - val_loss: 0.4468 - val_accuracy: 0.8062\n",
      "Epoch 3/100\n",
      "200/200 [==============================] - 1s 6ms/step - loss: 0.4250 - accuracy: 0.8211 - val_loss: 0.4234 - val_accuracy: 0.8156\n",
      "Epoch 4/100\n",
      "200/200 [==============================] - 1s 6ms/step - loss: 0.4086 - accuracy: 0.8313 - val_loss: 0.4111 - val_accuracy: 0.8206\n",
      "Epoch 5/100\n",
      "200/200 [==============================] - 1s 6ms/step - loss: 0.3968 - accuracy: 0.8359 - val_loss: 0.3995 - val_accuracy: 0.8256\n",
      "Epoch 6/100\n",
      "200/200 [==============================] - 1s 6ms/step - loss: 0.3864 - accuracy: 0.8384 - val_loss: 0.3898 - val_accuracy: 0.8288\n",
      "Epoch 7/100\n",
      "200/200 [==============================] - 1s 6ms/step - loss: 0.3770 - accuracy: 0.8427 - val_loss: 0.3805 - val_accuracy: 0.8319\n",
      "Epoch 8/100\n",
      "200/200 [==============================] - 1s 6ms/step - loss: 0.3698 - accuracy: 0.8453 - val_loss: 0.3730 - val_accuracy: 0.8319\n",
      "Epoch 9/100\n",
      "200/200 [==============================] - 1s 6ms/step - loss: 0.3630 - accuracy: 0.8487 - val_loss: 0.3672 - val_accuracy: 0.8394\n",
      "Epoch 10/100\n",
      "200/200 [==============================] - 1s 6ms/step - loss: 0.3585 - accuracy: 0.8508 - val_loss: 0.3643 - val_accuracy: 0.8388\n",
      "Epoch 11/100\n",
      "200/200 [==============================] - 1s 6ms/step - loss: 0.3542 - accuracy: 0.8528 - val_loss: 0.3595 - val_accuracy: 0.8406\n",
      "Epoch 12/100\n",
      "200/200 [==============================] - 1s 6ms/step - loss: 0.3512 - accuracy: 0.8555 - val_loss: 0.3583 - val_accuracy: 0.8394\n",
      "Epoch 13/100\n",
      "200/200 [==============================] - 1s 6ms/step - loss: 0.3484 - accuracy: 0.8552 - val_loss: 0.3548 - val_accuracy: 0.8400\n",
      "Epoch 14/100\n",
      "200/200 [==============================] - 1s 7ms/step - loss: 0.3459 - accuracy: 0.8581 - val_loss: 0.3547 - val_accuracy: 0.8419\n",
      "Epoch 15/100\n",
      "200/200 [==============================] - 1s 5ms/step - loss: 0.3439 - accuracy: 0.8580 - val_loss: 0.3522 - val_accuracy: 0.8425\n",
      "Epoch 16/100\n",
      "200/200 [==============================] - 1s 6ms/step - loss: 0.3419 - accuracy: 0.8591 - val_loss: 0.3511 - val_accuracy: 0.8450\n",
      "Epoch 17/100\n",
      "200/200 [==============================] - 1s 7ms/step - loss: 0.3408 - accuracy: 0.8616 - val_loss: 0.3516 - val_accuracy: 0.8444\n",
      "Epoch 18/100\n",
      "200/200 [==============================] - 1s 6ms/step - loss: 0.3390 - accuracy: 0.8630 - val_loss: 0.3492 - val_accuracy: 0.8456\n",
      "Epoch 19/100\n",
      "200/200 [==============================] - 1s 6ms/step - loss: 0.3379 - accuracy: 0.8628 - val_loss: 0.3486 - val_accuracy: 0.8419\n",
      "Epoch 20/100\n",
      "200/200 [==============================] - 1s 7ms/step - loss: 0.3357 - accuracy: 0.8655 - val_loss: 0.3479 - val_accuracy: 0.8512\n",
      "Epoch 21/100\n",
      "200/200 [==============================] - 1s 6ms/step - loss: 0.3353 - accuracy: 0.8620 - val_loss: 0.3469 - val_accuracy: 0.8475\n",
      "Epoch 22/100\n",
      "200/200 [==============================] - 1s 6ms/step - loss: 0.3347 - accuracy: 0.8623 - val_loss: 0.3463 - val_accuracy: 0.8475\n",
      "Epoch 23/100\n",
      "200/200 [==============================] - 1s 6ms/step - loss: 0.3333 - accuracy: 0.8644 - val_loss: 0.3459 - val_accuracy: 0.8475\n",
      "Epoch 24/100\n",
      "200/200 [==============================] - 1s 6ms/step - loss: 0.3334 - accuracy: 0.8656 - val_loss: 0.3453 - val_accuracy: 0.8500\n",
      "Epoch 25/100\n",
      "200/200 [==============================] - 1s 6ms/step - loss: 0.3320 - accuracy: 0.8652 - val_loss: 0.3457 - val_accuracy: 0.8481\n",
      "Epoch 26/100\n",
      "200/200 [==============================] - 1s 6ms/step - loss: 0.3314 - accuracy: 0.8645 - val_loss: 0.3449 - val_accuracy: 0.8481\n",
      "Epoch 27/100\n",
      "200/200 [==============================] - 1s 6ms/step - loss: 0.3309 - accuracy: 0.8687 - val_loss: 0.3447 - val_accuracy: 0.8519\n",
      "Epoch 28/100\n",
      "200/200 [==============================] - 1s 6ms/step - loss: 0.3299 - accuracy: 0.8642 - val_loss: 0.3432 - val_accuracy: 0.8519\n",
      "Epoch 29/100\n",
      "200/200 [==============================] - 1s 6ms/step - loss: 0.3299 - accuracy: 0.8641 - val_loss: 0.3441 - val_accuracy: 0.8494\n",
      "Epoch 30/100\n",
      "200/200 [==============================] - 1s 6ms/step - loss: 0.3288 - accuracy: 0.8641 - val_loss: 0.3462 - val_accuracy: 0.8494\n",
      "Epoch 31/100\n",
      "200/200 [==============================] - 1s 6ms/step - loss: 0.3295 - accuracy: 0.8644 - val_loss: 0.3433 - val_accuracy: 0.8519\n",
      "Epoch 32/100\n",
      "200/200 [==============================] - 1s 7ms/step - loss: 0.3288 - accuracy: 0.8647 - val_loss: 0.3422 - val_accuracy: 0.8537\n",
      "Epoch 33/100\n",
      "200/200 [==============================] - 1s 5ms/step - loss: 0.3285 - accuracy: 0.8655 - val_loss: 0.3435 - val_accuracy: 0.8556\n",
      "Epoch 34/100\n",
      "200/200 [==============================] - 1s 5ms/step - loss: 0.3283 - accuracy: 0.8662 - val_loss: 0.3431 - val_accuracy: 0.8506\n",
      "Epoch 35/100\n",
      "200/200 [==============================] - 1s 6ms/step - loss: 0.3281 - accuracy: 0.8648 - val_loss: 0.3460 - val_accuracy: 0.8481\n",
      "Epoch 36/100\n",
      "200/200 [==============================] - 1s 7ms/step - loss: 0.3275 - accuracy: 0.8653 - val_loss: 0.3445 - val_accuracy: 0.8531\n",
      "Epoch 37/100\n",
      "200/200 [==============================] - 1s 7ms/step - loss: 0.3276 - accuracy: 0.8662 - val_loss: 0.3431 - val_accuracy: 0.8550\n",
      "Epoch 38/100\n",
      "200/200 [==============================] - 1s 6ms/step - loss: 0.3269 - accuracy: 0.8648 - val_loss: 0.3433 - val_accuracy: 0.8556\n",
      "Epoch 39/100\n",
      "200/200 [==============================] - 1s 6ms/step - loss: 0.3263 - accuracy: 0.8655 - val_loss: 0.3435 - val_accuracy: 0.8550\n",
      "Epoch 40/100\n",
      "200/200 [==============================] - 1s 6ms/step - loss: 0.3260 - accuracy: 0.8678 - val_loss: 0.3442 - val_accuracy: 0.8525\n",
      "Epoch 41/100\n",
      "200/200 [==============================] - 1s 6ms/step - loss: 0.3257 - accuracy: 0.8667 - val_loss: 0.3434 - val_accuracy: 0.8537\n",
      "Epoch 42/100\n",
      "200/200 [==============================] - 1s 6ms/step - loss: 0.3258 - accuracy: 0.8662 - val_loss: 0.3438 - val_accuracy: 0.8556\n",
      "Epoch 43/100\n",
      "200/200 [==============================] - 1s 6ms/step - loss: 0.3254 - accuracy: 0.8652 - val_loss: 0.3449 - val_accuracy: 0.8500\n",
      "Epoch 44/100\n",
      "200/200 [==============================] - 1s 6ms/step - loss: 0.3254 - accuracy: 0.8661 - val_loss: 0.3471 - val_accuracy: 0.8494\n",
      "Epoch 45/100\n",
      "200/200 [==============================] - 1s 6ms/step - loss: 0.3249 - accuracy: 0.8680 - val_loss: 0.3455 - val_accuracy: 0.8500\n",
      "Epoch 46/100\n",
      "200/200 [==============================] - 1s 6ms/step - loss: 0.3249 - accuracy: 0.8652 - val_loss: 0.3458 - val_accuracy: 0.8519\n",
      "Epoch 47/100\n",
      "200/200 [==============================] - 1s 6ms/step - loss: 0.3251 - accuracy: 0.8658 - val_loss: 0.3447 - val_accuracy: 0.8550\n",
      "Epoch 48/100\n",
      "200/200 [==============================] - 1s 6ms/step - loss: 0.3245 - accuracy: 0.8658 - val_loss: 0.3443 - val_accuracy: 0.8562\n",
      "Epoch 49/100\n",
      "200/200 [==============================] - 1s 6ms/step - loss: 0.3240 - accuracy: 0.8687 - val_loss: 0.3454 - val_accuracy: 0.8537\n",
      "Epoch 50/100\n",
      "200/200 [==============================] - 1s 6ms/step - loss: 0.3239 - accuracy: 0.8669 - val_loss: 0.3461 - val_accuracy: 0.8531\n",
      "Epoch 51/100\n",
      "200/200 [==============================] - 1s 6ms/step - loss: 0.3236 - accuracy: 0.8684 - val_loss: 0.3458 - val_accuracy: 0.8562\n",
      "Epoch 52/100\n",
      "200/200 [==============================] - 1s 6ms/step - loss: 0.3238 - accuracy: 0.8681 - val_loss: 0.3465 - val_accuracy: 0.8544\n",
      "Epoch 53/100\n",
      "200/200 [==============================] - 1s 7ms/step - loss: 0.3235 - accuracy: 0.8667 - val_loss: 0.3440 - val_accuracy: 0.8525\n",
      "Epoch 54/100\n",
      "200/200 [==============================] - 1s 7ms/step - loss: 0.3234 - accuracy: 0.8670 - val_loss: 0.3464 - val_accuracy: 0.8575\n",
      "Epoch 55/100\n",
      "200/200 [==============================] - 1s 6ms/step - loss: 0.3232 - accuracy: 0.8666 - val_loss: 0.3462 - val_accuracy: 0.8531\n",
      "Epoch 56/100\n",
      "200/200 [==============================] - 1s 6ms/step - loss: 0.3233 - accuracy: 0.8659 - val_loss: 0.3459 - val_accuracy: 0.8556\n",
      "Epoch 57/100\n",
      "200/200 [==============================] - 1s 6ms/step - loss: 0.3228 - accuracy: 0.8662 - val_loss: 0.3473 - val_accuracy: 0.8544\n"
     ]
    },
    {
     "name": "stdout",
     "output_type": "stream",
     "text": [
      "Epoch 58/100\n",
      "200/200 [==============================] - 1s 6ms/step - loss: 0.3233 - accuracy: 0.8675 - val_loss: 0.3454 - val_accuracy: 0.8544\n",
      "Epoch 59/100\n",
      "200/200 [==============================] - 1s 6ms/step - loss: 0.3219 - accuracy: 0.8675 - val_loss: 0.3468 - val_accuracy: 0.8544\n",
      "Epoch 60/100\n",
      "200/200 [==============================] - 1s 6ms/step - loss: 0.3226 - accuracy: 0.8675 - val_loss: 0.3473 - val_accuracy: 0.8550\n",
      "Epoch 61/100\n",
      "200/200 [==============================] - 1s 6ms/step - loss: 0.3228 - accuracy: 0.8670 - val_loss: 0.3459 - val_accuracy: 0.8569\n",
      "Epoch 62/100\n",
      "200/200 [==============================] - 1s 6ms/step - loss: 0.3223 - accuracy: 0.8669 - val_loss: 0.3491 - val_accuracy: 0.8537\n",
      "Epoch 63/100\n",
      "200/200 [==============================] - 1s 6ms/step - loss: 0.3218 - accuracy: 0.8687 - val_loss: 0.3473 - val_accuracy: 0.8544\n",
      "Epoch 64/100\n",
      "200/200 [==============================] - 1s 6ms/step - loss: 0.3225 - accuracy: 0.8689 - val_loss: 0.3457 - val_accuracy: 0.8556\n",
      "Epoch 65/100\n",
      "200/200 [==============================] - 1s 6ms/step - loss: 0.3221 - accuracy: 0.8656 - val_loss: 0.3468 - val_accuracy: 0.8544\n",
      "Epoch 66/100\n",
      "200/200 [==============================] - 1s 6ms/step - loss: 0.3214 - accuracy: 0.8664 - val_loss: 0.3467 - val_accuracy: 0.8544\n",
      "Epoch 67/100\n",
      "200/200 [==============================] - 1s 6ms/step - loss: 0.3220 - accuracy: 0.8666 - val_loss: 0.3473 - val_accuracy: 0.8569\n",
      "Epoch 68/100\n",
      "200/200 [==============================] - 1s 6ms/step - loss: 0.3208 - accuracy: 0.8678 - val_loss: 0.3476 - val_accuracy: 0.8531\n",
      "Epoch 69/100\n",
      "200/200 [==============================] - 1s 7ms/step - loss: 0.3212 - accuracy: 0.8677 - val_loss: 0.3467 - val_accuracy: 0.8556\n",
      "Epoch 70/100\n",
      "200/200 [==============================] - 1s 6ms/step - loss: 0.3211 - accuracy: 0.8667 - val_loss: 0.3472 - val_accuracy: 0.8575\n",
      "Epoch 71/100\n",
      "200/200 [==============================] - 1s 6ms/step - loss: 0.3218 - accuracy: 0.8678 - val_loss: 0.3469 - val_accuracy: 0.8544\n",
      "Epoch 72/100\n",
      "200/200 [==============================] - 1s 6ms/step - loss: 0.3213 - accuracy: 0.8678 - val_loss: 0.3501 - val_accuracy: 0.8544\n",
      "Epoch 73/100\n",
      "200/200 [==============================] - 1s 6ms/step - loss: 0.3206 - accuracy: 0.8664 - val_loss: 0.3473 - val_accuracy: 0.8544\n",
      "Epoch 74/100\n",
      "200/200 [==============================] - 1s 6ms/step - loss: 0.3206 - accuracy: 0.8678 - val_loss: 0.3471 - val_accuracy: 0.8575\n",
      "Epoch 75/100\n",
      "200/200 [==============================] - 1s 6ms/step - loss: 0.3206 - accuracy: 0.8677 - val_loss: 0.3484 - val_accuracy: 0.8556\n",
      "Epoch 76/100\n",
      "200/200 [==============================] - 1s 6ms/step - loss: 0.3204 - accuracy: 0.8672 - val_loss: 0.3514 - val_accuracy: 0.8544\n",
      "Epoch 77/100\n",
      "200/200 [==============================] - 1s 6ms/step - loss: 0.3204 - accuracy: 0.8683 - val_loss: 0.3464 - val_accuracy: 0.8556\n",
      "Epoch 78/100\n",
      "200/200 [==============================] - 1s 6ms/step - loss: 0.3204 - accuracy: 0.8689 - val_loss: 0.3479 - val_accuracy: 0.8569\n",
      "Epoch 79/100\n",
      "200/200 [==============================] - 1s 6ms/step - loss: 0.3202 - accuracy: 0.8691 - val_loss: 0.3477 - val_accuracy: 0.8556\n",
      "Epoch 80/100\n",
      "200/200 [==============================] - 1s 6ms/step - loss: 0.3207 - accuracy: 0.8680 - val_loss: 0.3485 - val_accuracy: 0.8544\n",
      "Epoch 81/100\n",
      "200/200 [==============================] - 1s 6ms/step - loss: 0.3194 - accuracy: 0.8681 - val_loss: 0.3484 - val_accuracy: 0.8531\n",
      "Epoch 82/100\n",
      "200/200 [==============================] - 1s 6ms/step - loss: 0.3199 - accuracy: 0.8670 - val_loss: 0.3483 - val_accuracy: 0.8562\n",
      "Epoch 83/100\n",
      "200/200 [==============================] - 1s 6ms/step - loss: 0.3196 - accuracy: 0.8678 - val_loss: 0.3493 - val_accuracy: 0.8556\n",
      "Epoch 84/100\n",
      "200/200 [==============================] - 1s 6ms/step - loss: 0.3194 - accuracy: 0.8683 - val_loss: 0.3492 - val_accuracy: 0.8569\n",
      "Epoch 85/100\n",
      "200/200 [==============================] - 1s 6ms/step - loss: 0.3190 - accuracy: 0.8666 - val_loss: 0.3499 - val_accuracy: 0.8550\n",
      "Epoch 86/100\n",
      "200/200 [==============================] - 1s 6ms/step - loss: 0.3196 - accuracy: 0.8681 - val_loss: 0.3469 - val_accuracy: 0.8544\n",
      "Epoch 87/100\n",
      "200/200 [==============================] - 1s 6ms/step - loss: 0.3195 - accuracy: 0.8684 - val_loss: 0.3474 - val_accuracy: 0.8544\n",
      "Epoch 88/100\n",
      "200/200 [==============================] - 1s 6ms/step - loss: 0.3191 - accuracy: 0.8683 - val_loss: 0.3471 - val_accuracy: 0.8544\n",
      "Epoch 89/100\n",
      "200/200 [==============================] - 1s 6ms/step - loss: 0.3193 - accuracy: 0.8689 - val_loss: 0.3479 - val_accuracy: 0.8544\n",
      "Epoch 90/100\n",
      "200/200 [==============================] - 1s 6ms/step - loss: 0.3188 - accuracy: 0.8667 - val_loss: 0.3478 - val_accuracy: 0.8550\n",
      "Epoch 91/100\n",
      "200/200 [==============================] - 1s 6ms/step - loss: 0.3188 - accuracy: 0.8684 - val_loss: 0.3509 - val_accuracy: 0.8550\n",
      "Epoch 92/100\n",
      "200/200 [==============================] - 1s 6ms/step - loss: 0.3184 - accuracy: 0.8687 - val_loss: 0.3476 - val_accuracy: 0.8550\n",
      "Epoch 93/100\n",
      "200/200 [==============================] - 1s 6ms/step - loss: 0.3184 - accuracy: 0.8687 - val_loss: 0.3497 - val_accuracy: 0.8575\n",
      "Epoch 94/100\n",
      "200/200 [==============================] - 1s 6ms/step - loss: 0.3185 - accuracy: 0.8675 - val_loss: 0.3474 - val_accuracy: 0.8525\n",
      "Epoch 95/100\n",
      "200/200 [==============================] - 1s 6ms/step - loss: 0.3184 - accuracy: 0.8658 - val_loss: 0.3486 - val_accuracy: 0.8556\n",
      "Epoch 96/100\n",
      "200/200 [==============================] - 1s 6ms/step - loss: 0.3187 - accuracy: 0.8678 - val_loss: 0.3475 - val_accuracy: 0.8569\n",
      "Epoch 97/100\n",
      "200/200 [==============================] - 1s 6ms/step - loss: 0.3183 - accuracy: 0.8678 - val_loss: 0.3480 - val_accuracy: 0.8550\n",
      "Epoch 98/100\n",
      "200/200 [==============================] - 1s 6ms/step - loss: 0.3186 - accuracy: 0.8675 - val_loss: 0.3469 - val_accuracy: 0.8550\n",
      "Epoch 99/100\n",
      "200/200 [==============================] - 1s 6ms/step - loss: 0.3184 - accuracy: 0.8673 - val_loss: 0.3482 - val_accuracy: 0.8544\n",
      "Epoch 100/100\n",
      "200/200 [==============================] - 1s 6ms/step - loss: 0.3183 - accuracy: 0.8678 - val_loss: 0.3492 - val_accuracy: 0.8575\n"
     ]
    }
   ],
   "source": [
    "# compile the model\n",
    "model.compile(loss=\"binary_crossentropy\", optimizer=\"Adam\", metrics=[\"accuracy\"])\n",
    "\n",
    "# train the model\n",
    "history = model.fit(X_train_scaled, y_train, epochs = 100, validation_split = 0.2)"
   ]
  },
  {
   "cell_type": "code",
   "execution_count": 29,
   "id": "50acc9d6",
   "metadata": {},
   "outputs": [
    {
     "data": {
      "text/plain": [
       "[array([[-1.20282933e-01,  7.13405386e-02, -4.11472609e-03,\n",
       "         -6.58786893e-02, -1.09834492e-01,  6.91554621e-02,\n",
       "          9.02783871e-02,  6.54873997e-02,  1.74064785e-01,\n",
       "          3.75192538e-02,  8.03352967e-02],\n",
       "        [ 6.55389309e-01, -9.55413103e-01, -2.84941375e-01,\n",
       "         -1.09032035e-01,  5.70021093e-01,  6.70947373e-01,\n",
       "          5.58320165e-01, -5.30125380e-01,  2.71129489e-01,\n",
       "         -1.08242881e+00,  5.04569292e-01],\n",
       "        [-2.78051972e-01, -1.93474904e-01,  1.18727083e-04,\n",
       "         -3.19355041e-01, -6.00216500e-02,  2.91249454e-01,\n",
       "          6.56905621e-02, -2.68831342e-01, -2.46072978e-01,\n",
       "          2.89955080e-01, -1.62883122e-02],\n",
       "        [ 2.78028876e-01, -1.36825696e-01,  1.48710907e-01,\n",
       "         -3.24152559e-01, -4.25988078e-01,  3.39928120e-01,\n",
       "         -6.81475848e-02,  1.78250164e-01,  3.87815088e-01,\n",
       "          1.12102099e-01, -5.99461645e-02],\n",
       "        [ 4.88083422e-01,  3.45718682e-01,  1.26837218e+00,\n",
       "          8.82624164e-02, -8.27917084e-02,  4.39552367e-01,\n",
       "          4.38500941e-01,  2.80483931e-01,  1.04140890e+00,\n",
       "         -4.66201007e-02, -8.82817090e-01],\n",
       "        [-5.68948388e-02, -8.51048678e-02, -4.18592185e-01,\n",
       "          3.57336044e-01, -4.06997651e-01,  1.02962241e-01,\n",
       "          1.94933265e-01, -7.64765814e-02,  5.56884035e-02,\n",
       "         -1.21874595e-02, -2.34419167e-01],\n",
       "        [ 4.62069333e-01, -5.57948887e-01,  6.57318383e-02,\n",
       "         -7.37854689e-02,  4.88222271e-01,  4.26152766e-01,\n",
       "          3.71316046e-01, -4.96390074e-01, -7.40683913e-01,\n",
       "          2.47009639e-02, -7.71957338e-01],\n",
       "        [ 9.52845439e-02,  1.05000883e-02,  2.24266171e-01,\n",
       "         -8.22579190e-02,  4.54967022e-01, -9.04648677e-02,\n",
       "          1.08611725e-01, -1.89318478e-01,  3.34041868e-03,\n",
       "          1.48636013e-01,  1.22690223e-01],\n",
       "        [ 9.22647491e-02,  2.41594240e-01, -3.25099051e-01,\n",
       "          3.39973211e-01, -2.64453202e-01, -9.90427732e-01,\n",
       "          2.46698216e-01, -8.08181882e-01, -2.67293632e-01,\n",
       "         -4.96221483e-01,  2.41759270e-02],\n",
       "        [ 1.15562245e-01, -2.53708512e-01,  1.64691970e-01,\n",
       "          2.85562098e-01,  2.06580777e-02, -4.52956498e-01,\n",
       "          4.65229243e-01,  7.02355802e-02,  1.92969982e-02,\n",
       "          1.69693410e-01, -8.95506963e-02],\n",
       "        [-6.92916691e-01,  1.33706331e-01,  3.34518015e-01,\n",
       "          5.64754128e-01,  2.70774245e-01,  2.50838369e-01,\n",
       "          5.41959465e-01,  2.21177444e-01,  1.18181696e-02,\n",
       "         -3.30587715e-01, -1.96616158e-01]], dtype=float32),\n",
       " array([ 0.42373097,  0.8430667 , -0.35155147,  0.0499003 ,  0.53053474,\n",
       "         0.4529755 ,  0.4681103 ,  0.5458299 , -0.26104712,  0.8004548 ,\n",
       "         0.48009145], dtype=float32)]"
      ]
     },
     "execution_count": 29,
     "metadata": {},
     "output_type": "execute_result"
    }
   ],
   "source": [
    "model.layers[0].get_weights()"
   ]
  },
  {
   "cell_type": "code",
   "execution_count": 30,
   "id": "fe53500a",
   "metadata": {},
   "outputs": [
    {
     "data": {
      "text/plain": [
       "[array([[ 1.9843882e-01, -6.9086976e-02,  4.3467343e-01,  1.5194027e-01,\n",
       "          6.3445669e-01, -1.1755918e+00, -1.5688379e-01,  3.3020306e-01,\n",
       "          2.5789273e-01,  3.9833018e-01,  6.9973946e-01],\n",
       "        [-2.9567629e-01, -1.9785647e-01,  3.7150752e-02,  2.3651050e-01,\n",
       "         -8.4000088e-02,  3.3239514e-01,  6.6858494e-01,  5.0680995e-01,\n",
       "          4.1651818e-01, -1.2541372e+00,  4.4318348e-01],\n",
       "        [ 1.0847957e+00, -2.6499267e+00,  3.3391526e-01,  4.5706075e-02,\n",
       "          6.9360793e-01, -4.0466342e-02, -8.6404711e-02, -2.3523165e-01,\n",
       "         -2.2766277e-01,  8.5393578e-02, -2.8987221e-02],\n",
       "        [ 1.4660886e-01,  1.0021068e+00,  3.0506796e-01, -8.4083505e-02,\n",
       "         -4.0231535e-01, -1.0391461e-01, -1.5690435e-02, -3.4443539e-01,\n",
       "         -2.6286569e-01,  2.7688769e-01, -1.7365171e-02],\n",
       "        [-7.5568289e-01,  3.2015315e-01,  5.4523957e-01,  5.5794013e-03,\n",
       "         -3.9609653e-01, -1.2495918e-01, -8.4044233e-02, -1.0430530e+00,\n",
       "         -4.3794196e-03,  2.1939379e-01, -9.9688418e-02],\n",
       "        [ 3.7254712e-01,  1.0175188e-01,  1.1976942e-01,  7.3082060e-01,\n",
       "          1.1602284e-01, -3.3781430e-01, -5.0755933e-02, -1.8583058e+00,\n",
       "          5.4331177e-01,  9.6367873e-02, -5.6327522e-02],\n",
       "        [-2.5322748e-02, -2.8955710e-01,  4.9321651e-01,  5.9085214e-01,\n",
       "         -1.7129255e-03, -8.9887154e-01, -1.3678434e-01, -1.0060234e+00,\n",
       "          3.7580201e-01,  5.8822292e-01,  4.9303600e-01],\n",
       "        [-1.8703918e-01, -3.6650989e-02,  4.5298052e-01,  6.8364674e-01,\n",
       "          2.0175277e-01,  3.7713453e-02,  4.7515368e-01,  2.3502260e-01,\n",
       "         -4.6361685e-01, -4.8734117e-01,  2.5642224e-02],\n",
       "        [ 2.4153700e-01, -1.8886894e-01,  1.4534283e-01, -9.3528903e-01,\n",
       "         -3.1016508e-01, -1.5256044e+00, -2.3661681e-02, -6.6045928e-01,\n",
       "         -4.6602455e-01,  6.1534524e-01, -7.0079571e-01],\n",
       "        [ 1.3909818e-01,  2.8412724e-01, -6.6764671e-01,  2.9070976e-01,\n",
       "         -6.4214587e-02,  2.9379863e-01,  5.1755536e-01,  2.0071284e-01,\n",
       "          1.7876497e-01, -1.0596792e+00,  2.4500652e-01],\n",
       "        [-4.2145157e-01,  5.6137508e-01, -1.9054832e-01, -1.7871746e-01,\n",
       "         -6.1791390e-01, -1.5934439e-01, -2.1456335e-01, -3.1792185e-01,\n",
       "         -2.4243897e-01,  4.0725550e-01, -6.5976784e-02]], dtype=float32),\n",
       " array([-0.1780996 ,  0.4842391 ,  0.02246418,  0.11269496,  0.00073406,\n",
       "        -0.4266913 ,  0.7014098 , -0.2471609 ,  0.39388642,  0.40724814,\n",
       "         0.2043788 ], dtype=float32)]"
      ]
     },
     "execution_count": 30,
     "metadata": {},
     "output_type": "execute_result"
    }
   ],
   "source": [
    "model.layers[1].get_weights()"
   ]
  },
  {
   "cell_type": "code",
   "execution_count": 31,
   "id": "017ca0ae",
   "metadata": {},
   "outputs": [
    {
     "data": {
      "text/plain": [
       "0.8665"
      ]
     },
     "execution_count": 31,
     "metadata": {},
     "output_type": "execute_result"
    }
   ],
   "source": [
    "y_log  = model.predict(X_test_scaled)\n",
    "\n",
    "y_pred = np.where(y_log > 0.5, 1, 0)\n",
    "\n",
    "accuracy_score(y_test, y_pred)"
   ]
  },
  {
   "cell_type": "code",
   "execution_count": 37,
   "id": "8a5b6dc0",
   "metadata": {},
   "outputs": [
    {
     "data": {
      "image/png": "[encoded data removed]",
      "text/plain": [
       "<Figure size 432x288 with 1 Axes>"
      ]
     },
     "metadata": {
      "needs_background": "light"
     },
     "output_type": "display_data"
    }
   ],
   "source": [
    "plt.title(\"Training Loss\")\n",
    "plt.plot(history.history[\"loss\"], label=\"loss\")\n",
    "plt.plot(history.history[\"val_loss\"], label=\"val_loss\")\n",
    "plt.legend()\n",
    "plt.show()"
   ]
  },
  {
   "cell_type": "code",
   "execution_count": 38,
   "id": "807fa0f0",
   "metadata": {},
   "outputs": [
    {
     "data": {
      "image/png": "[encoded data removed]",
      "text/plain": [
       "<Figure size 432x288 with 1 Axes>"
      ]
     },
     "metadata": {
      "needs_background": "light"
     },
     "output_type": "display_data"
    }
   ],
   "source": [
    "plt.title(\"Accuracy\")\n",
    "plt.plot(history.history[\"accuracy\"], label=\"loss\")\n",
    "plt.plot(history.history[\"val_accuracy\"], label=\"val_loss\")\n",
    "plt.legend()\n",
    "plt.show()"
   ]
  },
  {
   "cell_type": "code",
   "execution_count": null,
   "id": "ec323b0c",
   "metadata": {},
   "outputs": [],
   "source": []
  }
 ],
 "metadata": {
  "kernelspec": {
   "display_name": "Python 3 (ipykernel)",
   "language": "python",
   "name": "python3"
  },
  "language_info": {
   "codemirror_mode": {
    "name": "ipython",
    "version": 3
   },
   "file_extension": ".py",
   "mimetype": "text/x-python",
   "name": "python",
   "nbconvert_exporter": "python",
   "pygments_lexer": "ipython3",
   "version": "3.9.10"
  }
 },
 "nbformat": 4,
 "nbformat_minor": 5
}
