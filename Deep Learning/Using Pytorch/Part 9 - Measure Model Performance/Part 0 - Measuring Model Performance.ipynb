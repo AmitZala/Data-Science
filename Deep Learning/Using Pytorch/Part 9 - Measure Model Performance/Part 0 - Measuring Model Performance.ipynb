{
 "cells": [
  {
   "cell_type": "markdown",
   "id": "c1401d76",
   "metadata": {},
   "source": [
    "# Measuring Model Performance\n",
    "\n",
    "## Accuracy, Precision, Recall, F1\n",
    "\n",
    "![Accuracy](./images/image-1.png)\n",
    "\n",
    "![Precision](./images/image-2.png)\n",
    "\n",
    "![Recall](./images/image-3.png)\n",
    "\n",
    "![F1 Score](./images/image-4.png)\n",
    "\n",
    "![Real Example](./images/image-5.png)\n",
    "\n",
    ">**Code:**\n",
    "- Part 1 - Accuracy Precision Recall & F1\n",
    "- Part 2 - APRF of Wine Quality"
   ]
  }
 ],
 "metadata": {
  "kernelspec": {
   "display_name": "Python 3 (ipykernel)",
   "language": "python",
   "name": "python3"
  },
  "language_info": {
   "codemirror_mode": {
    "name": "ipython",
    "version": 3
   },
   "file_extension": ".py",
   "mimetype": "text/x-python",
   "name": "python",
   "nbconvert_exporter": "python",
   "pygments_lexer": "ipython3",
   "version": "3.9.10"
  },
  "toc": {
   "base_numbering": 1,
   "nav_menu": {},
   "number_sections": true,
   "sideBar": true,
   "skip_h1_title": false,
   "title_cell": "Table of Contents",
   "title_sidebar": "Contents",
   "toc_cell": false,
   "toc_position": {},
   "toc_section_display": true,
   "toc_window_display": false
  }
 },
 "nbformat": 4,
 "nbformat_minor": 5
}
