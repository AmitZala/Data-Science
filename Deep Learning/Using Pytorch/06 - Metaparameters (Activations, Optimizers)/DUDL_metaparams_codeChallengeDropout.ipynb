{
 "cells": [
  {
   "cell_type": "markdown",
   "metadata": {
    "id": "bhWV8oes-wKR"
   },
   "source": [
    "# COURSE: A deep understanding of deep learning\n",
    "## SECTION: Metaparameters (activation, batch, optimizers)\n",
    "### LECTURE: Predicting wine quality\n",
    "#### TEACHER: Mike X Cohen, sincxpress.com\n",
    "##### COURSE URL: udemy.com/course/dudl/?couponCode=202201"
   ]
  },
  {
   "cell_type": "code",
   "execution_count": 1,
   "metadata": {
    "ExecuteTime": {
     "end_time": "2022-01-30T19:29:48.092902Z",
     "start_time": "2022-01-30T19:29:46.477373Z"
    },
    "id": "7U3TmybM4yMw"
   },
   "outputs": [],
   "source": [
    "### import libraries\n",
    "\n",
    "# for DL modeling\n",
    "import torch\n",
    "import torch.nn as nn\n",
    "import torch.nn.functional as F\n",
    "from torch.utils.data import DataLoader\n",
    "from sklearn.model_selection import train_test_split\n",
    "\n",
    "# for number-crunching\n",
    "import numpy as np\n",
    "import scipy.stats as stats\n",
    "\n",
    "# for dataset management\n",
    "import pandas as pd\n",
    "\n",
    "# for data visualization\n",
    "import matplotlib.pyplot as plt\n",
    "import seaborn as sns"
   ]
  },
  {
   "cell_type": "markdown",
   "metadata": {
    "id": "2anVFzBXGdwH"
   },
   "source": [
    "# Import and process the data"
   ]
  },
  {
   "cell_type": "code",
   "execution_count": 2,
   "metadata": {
    "ExecuteTime": {
     "end_time": "2022-01-30T19:29:51.558355Z",
     "start_time": "2022-01-30T19:29:48.092902Z"
    },
    "id": "0ohXIxzt4_U2"
   },
   "outputs": [
    {
     "name": "stderr",
     "output_type": "stream",
     "text": [
      "C:\\Users\\sayan\\AppData\\Local\\Temp\\ipykernel_4492\\4017454401.py:15: SettingWithCopyWarning: \n",
      "A value is trying to be set on a copy of a slice from a DataFrame\n",
      "\n",
      "See the caveats in the documentation: https://pandas.pydata.org/pandas-docs/stable/user_guide/indexing.html#returning-a-view-versus-a-copy\n",
      "  data['boolQuality'][data['quality']>5] = 1\n"
     ]
    }
   ],
   "source": [
    "# import the data\n",
    "url = \"https://archive.ics.uci.edu/ml/machine-learning-databases/wine-quality/winequality-red.csv\"\n",
    "data = pd.read_csv(url,sep=';')\n",
    "data = data[data['total sulfur dioxide']<200]\n",
    "\n",
    "# find the columns we want to normalize (all except quality)\n",
    "# z-score (written out for clarity)\n",
    "cols2zscore = data.keys()\n",
    "cols2zscore = cols2zscore.drop('quality')\n",
    "data[cols2zscore] = data[cols2zscore].apply(stats.zscore)\n",
    "\n",
    "# create a new column for binarized (boolean) quality\n",
    "data['boolQuality'] = 0\n",
    "# data['boolQuality'][data['quality']<6] = 0 # implicit in the code! just here for clarity\n",
    "data['boolQuality'][data['quality']>5] = 1"
   ]
  },
  {
   "cell_type": "code",
   "execution_count": null,
   "metadata": {
    "id": "qjvI_6Su5Gk-"
   },
   "outputs": [],
   "source": []
  },
  {
   "cell_type": "markdown",
   "metadata": {
    "id": "vGQd7xmM5Gns"
   },
   "source": [
    "# Re-organize the data: train/test in DataLoaders"
   ]
  },
  {
   "cell_type": "code",
   "execution_count": 3,
   "metadata": {
    "ExecuteTime": {
     "end_time": "2022-01-30T19:29:51.573363Z",
     "start_time": "2022-01-30T19:29:51.558355Z"
    },
    "id": "2kZ6YPe8Gav5"
   },
   "outputs": [],
   "source": [
    "# convert from pandas dataframe to tensor\n",
    "dataT  = torch.tensor( data[cols2zscore].values ).float()\n",
    "labels = torch.tensor( data['boolQuality'].values ).float()\n",
    "labels = labels[:,None] # transform to matrix"
   ]
  },
  {
   "cell_type": "code",
   "execution_count": 4,
   "metadata": {
    "ExecuteTime": {
     "end_time": "2022-01-30T19:29:51.588323Z",
     "start_time": "2022-01-30T19:29:51.574361Z"
    },
    "id": "bbf064xxGa_x"
   },
   "outputs": [],
   "source": [
    "# use scikitlearn to split the data\n",
    "train_data,test_data, train_labels,test_labels = train_test_split(dataT, labels, test_size=.1)\n",
    "\n",
    "# then convert them into PyTorch Datasets (note: already converted to tensors)\n",
    "train_data = torch.utils.data.TensorDataset(train_data,train_labels)\n",
    "test_data  = torch.utils.data.TensorDataset(test_data,test_labels)\n",
    "\n",
    "# finally, translate into dataloader objects\n",
    "batchsize    = int(train_data.tensors[0].shape[0]/5)\n",
    "train_loader = DataLoader(train_data,batch_size=batchsize,shuffle=True,drop_last=True)\n",
    "test_loader  = DataLoader(test_data,batch_size=test_data.tensors[0].shape[0])"
   ]
  },
  {
   "cell_type": "code",
   "execution_count": 5,
   "metadata": {
    "ExecuteTime": {
     "end_time": "2022-01-30T19:29:51.619242Z",
     "start_time": "2022-01-30T19:29:51.590318Z"
    },
    "id": "rflLNH9TGbap"
   },
   "outputs": [
    {
     "name": "stdout",
     "output_type": "stream",
     "text": [
      "torch.Size([287, 11]) torch.Size([287, 1])\n",
      "torch.Size([287, 11]) torch.Size([287, 1])\n",
      "torch.Size([287, 11]) torch.Size([287, 1])\n",
      "torch.Size([287, 11]) torch.Size([287, 1])\n",
      "torch.Size([287, 11]) torch.Size([287, 1])\n"
     ]
    }
   ],
   "source": [
    "# check sizes of data batches\n",
    "for X,y in train_loader:\n",
    "    print(X.shape,y.shape)\n",
    "\n",
    "# go back and set drop_last=True in training DataLoader"
   ]
  },
  {
   "cell_type": "markdown",
   "metadata": {
    "id": "I7g0mivk5GqP"
   },
   "source": [
    "# Now for the DL part"
   ]
  },
  {
   "cell_type": "code",
   "execution_count": 6,
   "metadata": {
    "ExecuteTime": {
     "end_time": "2022-01-30T19:29:51.635199Z",
     "start_time": "2022-01-30T19:29:51.620239Z"
    },
    "id": "N0vAnQi9DNRa"
   },
   "outputs": [],
   "source": [
    "# create a class for the model\n",
    "\n",
    "class ANNwine(nn.Module):\n",
    "    def __init__(self):\n",
    "        super().__init__()\n",
    "\n",
    "        ### input layer\n",
    "        self.input = nn.Linear(11,16)\n",
    "\n",
    "        ### hidden layers\n",
    "        self.fc1 = nn.Linear(16,32)\n",
    "        self.fc2 = nn.Linear(32,32)\n",
    "\n",
    "        ### output layer\n",
    "        self.output = nn.Linear(32,1)\n",
    "\n",
    "        # define dropout\n",
    "        self.dropout = nn.Dropout(.25)\n",
    "  \n",
    "\n",
    "    # forward pass\n",
    "    def forward(self,x):\n",
    "        x = F.relu( self.input(x) )\n",
    "        x = F.relu( self.fc1(x) )\n",
    "        x = self.dropout(x)\n",
    "        x = F.relu( self.fc2(x) )\n",
    "        x = self.dropout(x)\n",
    "        return self.output(x)"
   ]
  },
  {
   "cell_type": "code",
   "execution_count": 7,
   "metadata": {
    "ExecuteTime": {
     "end_time": "2022-01-30T19:29:51.650158Z",
     "start_time": "2022-01-30T19:29:51.636195Z"
    },
    "id": "dbvHMGgtDMUj"
   },
   "outputs": [
    {
     "data": {
      "text/plain": [
       "ANNwine(\n",
       "  (input): Linear(in_features=11, out_features=16, bias=True)\n",
       "  (fc1): Linear(in_features=16, out_features=32, bias=True)\n",
       "  (fc2): Linear(in_features=32, out_features=32, bias=True)\n",
       "  (output): Linear(in_features=32, out_features=1, bias=True)\n",
       "  (dropout): Dropout(p=0.25, inplace=False)\n",
       ")"
      ]
     },
     "execution_count": 7,
     "metadata": {},
     "output_type": "execute_result"
    }
   ],
   "source": [
    "# generate an instance of the model and inspect it\n",
    "net = ANNwine()\n",
    "net"
   ]
  },
  {
   "cell_type": "code",
   "execution_count": 8,
   "metadata": {
    "ExecuteTime": {
     "end_time": "2022-01-30T19:29:51.665118Z",
     "start_time": "2022-01-30T19:29:51.652153Z"
    },
    "id": "Hpa5Q5bADMW5"
   },
   "outputs": [
    {
     "name": "stdout",
     "output_type": "stream",
     "text": [
      "torch.Size([10, 1])\n",
      " \n",
      "tensor([[-0.0557],\n",
      "        [ 0.0377],\n",
      "        [-0.0585],\n",
      "        [-0.0290],\n",
      "        [-0.0440],\n",
      "        [ 0.1643],\n",
      "        [ 0.0207],\n",
      "        [ 0.0209],\n",
      "        [ 0.0243],\n",
      "        [-0.0330]], grad_fn=<AddmmBackward0>)\n"
     ]
    }
   ],
   "source": [
    "# A quick test of running some numbers through the model. \n",
    "# This simply ensures that the architecture is internally consistent.\n",
    "\n",
    "# 10 samples, 11 dimensions\n",
    "tmpx = torch.randn(10,11)\n",
    "\n",
    "# run it through the DL\n",
    "y = net(tmpx)\n",
    "\n",
    "# exam the shape of the output\n",
    "print( y.shape ), print(' ')\n",
    "\n",
    "# and the output itself\n",
    "print(y)"
   ]
  },
  {
   "cell_type": "code",
   "execution_count": 9,
   "metadata": {
    "ExecuteTime": {
     "end_time": "2022-01-30T19:29:51.695037Z",
     "start_time": "2022-01-30T19:29:51.666118Z"
    },
    "id": "OKhAEQZ1VPCx"
   },
   "outputs": [
    {
     "data": {
      "text/plain": [
       "tensor([[-0.0444],\n",
       "        [-0.0040],\n",
       "        [ 0.0181],\n",
       "        [-0.0266],\n",
       "        [ 0.0560],\n",
       "        [ 0.0277],\n",
       "        [-0.0190],\n",
       "        [ 0.0356],\n",
       "        [ 0.0131],\n",
       "        [-0.0451],\n",
       "        [ 0.0356],\n",
       "        [-0.0379],\n",
       "        [-0.0155],\n",
       "        [ 0.0972],\n",
       "        [-0.0413],\n",
       "        [-0.0175],\n",
       "        [-0.0055],\n",
       "        [ 0.0181],\n",
       "        [ 0.0356],\n",
       "        [ 0.0348],\n",
       "        [ 0.0593],\n",
       "        [-0.0109],\n",
       "        [ 0.0060],\n",
       "        [-0.0667],\n",
       "        [-0.0556],\n",
       "        [ 0.0366],\n",
       "        [ 0.0371],\n",
       "        [ 0.0162],\n",
       "        [ 0.0060],\n",
       "        [-0.0272],\n",
       "        [ 0.0895],\n",
       "        [ 0.0492],\n",
       "        [-0.0076],\n",
       "        [ 0.0157],\n",
       "        [ 0.0120],\n",
       "        [-0.0360],\n",
       "        [ 0.0487],\n",
       "        [-0.0007],\n",
       "        [ 0.0746],\n",
       "        [-0.0564],\n",
       "        [ 0.0365],\n",
       "        [ 0.0563],\n",
       "        [ 0.0220],\n",
       "        [-0.0165],\n",
       "        [ 0.0144],\n",
       "        [-0.0236],\n",
       "        [ 0.0057],\n",
       "        [ 0.0248],\n",
       "        [-0.0212],\n",
       "        [-0.0324],\n",
       "        [-0.0028],\n",
       "        [-0.0709],\n",
       "        [-0.0145],\n",
       "        [ 0.0335],\n",
       "        [-0.0500],\n",
       "        [-0.0065],\n",
       "        [ 0.0253],\n",
       "        [ 0.0536],\n",
       "        [-0.0541],\n",
       "        [-0.0091],\n",
       "        [-0.0604],\n",
       "        [-0.0297],\n",
       "        [-0.0037],\n",
       "        [-0.0761],\n",
       "        [-0.0742],\n",
       "        [-0.0190],\n",
       "        [-0.0275],\n",
       "        [ 0.0727],\n",
       "        [ 0.0228],\n",
       "        [ 0.1183],\n",
       "        [-0.0233],\n",
       "        [ 0.0138],\n",
       "        [-0.0115],\n",
       "        [ 0.0077],\n",
       "        [ 0.2506],\n",
       "        [ 0.0135],\n",
       "        [ 0.2004],\n",
       "        [ 0.0119],\n",
       "        [ 0.1073],\n",
       "        [ 0.0171],\n",
       "        [-0.0042],\n",
       "        [-0.0134],\n",
       "        [ 0.0033],\n",
       "        [-0.0748],\n",
       "        [-0.0061],\n",
       "        [ 0.0153],\n",
       "        [-0.0606],\n",
       "        [-0.0276],\n",
       "        [-0.0664],\n",
       "        [-0.0997],\n",
       "        [ 0.0519],\n",
       "        [-0.0361],\n",
       "        [-0.0283],\n",
       "        [-0.0336],\n",
       "        [-0.0088],\n",
       "        [-0.0103],\n",
       "        [ 0.0492],\n",
       "        [-0.0176],\n",
       "        [-0.0713],\n",
       "        [-0.0391],\n",
       "        [ 0.0180],\n",
       "        [-0.0604],\n",
       "        [ 0.0122],\n",
       "        [ 0.0521],\n",
       "        [-0.0240],\n",
       "        [-0.0486],\n",
       "        [ 0.0341],\n",
       "        [ 0.0450],\n",
       "        [-0.0440],\n",
       "        [-0.0116],\n",
       "        [ 0.0232],\n",
       "        [-0.0131],\n",
       "        [ 0.0589],\n",
       "        [-0.0202],\n",
       "        [-0.0091],\n",
       "        [ 0.0283],\n",
       "        [-0.0527],\n",
       "        [-0.0190],\n",
       "        [-0.0211],\n",
       "        [-0.0374],\n",
       "        [-0.0230],\n",
       "        [-0.0050],\n",
       "        [-0.0333],\n",
       "        [-0.0536],\n",
       "        [ 0.0486],\n",
       "        [-0.0230],\n",
       "        [ 0.0213],\n",
       "        [-0.0293],\n",
       "        [-0.0599],\n",
       "        [-0.0388],\n",
       "        [-0.0118],\n",
       "        [ 0.0169],\n",
       "        [-0.0208],\n",
       "        [-0.0576],\n",
       "        [ 0.0741],\n",
       "        [-0.0056],\n",
       "        [-0.0307],\n",
       "        [ 0.0319],\n",
       "        [-0.0617],\n",
       "        [ 0.0458],\n",
       "        [-0.0038],\n",
       "        [ 0.2562],\n",
       "        [-0.0437],\n",
       "        [-0.0373],\n",
       "        [-0.0357],\n",
       "        [-0.0342],\n",
       "        [-0.0268],\n",
       "        [-0.0128],\n",
       "        [ 0.0650],\n",
       "        [-0.0094],\n",
       "        [-0.0305],\n",
       "        [-0.0051],\n",
       "        [ 0.0424],\n",
       "        [-0.0173],\n",
       "        [ 0.0554],\n",
       "        [-0.0096],\n",
       "        [ 0.0218],\n",
       "        [ 0.0372],\n",
       "        [-0.0382],\n",
       "        [ 0.0305],\n",
       "        [-0.0349],\n",
       "        [ 0.0116],\n",
       "        [-0.0041],\n",
       "        [-0.0604],\n",
       "        [ 0.0009],\n",
       "        [-0.0156],\n",
       "        [ 0.0381],\n",
       "        [-0.0113],\n",
       "        [-0.0086],\n",
       "        [-0.0166],\n",
       "        [ 0.0240],\n",
       "        [ 0.0074],\n",
       "        [ 0.0326],\n",
       "        [-0.0290],\n",
       "        [ 0.0008],\n",
       "        [-0.0502],\n",
       "        [ 0.0113],\n",
       "        [ 0.0177],\n",
       "        [ 0.0385],\n",
       "        [-0.0282],\n",
       "        [-0.0064],\n",
       "        [-0.0433],\n",
       "        [-0.0372],\n",
       "        [ 0.0451],\n",
       "        [ 0.0081],\n",
       "        [ 0.0387],\n",
       "        [ 0.0310],\n",
       "        [ 0.0257],\n",
       "        [-0.0392],\n",
       "        [ 0.0181],\n",
       "        [-0.0113],\n",
       "        [ 0.0540],\n",
       "        [ 0.0790],\n",
       "        [-0.0142],\n",
       "        [-0.0205],\n",
       "        [-0.0106],\n",
       "        [-0.0194],\n",
       "        [-0.0866],\n",
       "        [ 0.0091],\n",
       "        [ 0.0242],\n",
       "        [-0.0095],\n",
       "        [-0.0453],\n",
       "        [ 0.0785],\n",
       "        [-0.0139],\n",
       "        [-0.0247],\n",
       "        [-0.0335],\n",
       "        [-0.0616],\n",
       "        [-0.0268],\n",
       "        [ 0.0232],\n",
       "        [ 0.0034],\n",
       "        [-0.0311],\n",
       "        [ 0.0815],\n",
       "        [-0.0529],\n",
       "        [-0.0585],\n",
       "        [ 0.0281],\n",
       "        [-0.0175],\n",
       "        [ 0.0361],\n",
       "        [ 0.0666],\n",
       "        [ 0.0305],\n",
       "        [-0.0497],\n",
       "        [-0.0531],\n",
       "        [ 0.0545],\n",
       "        [-0.0343],\n",
       "        [-0.0277],\n",
       "        [-0.0422],\n",
       "        [-0.0072],\n",
       "        [ 0.1321],\n",
       "        [ 0.0835],\n",
       "        [-0.0242],\n",
       "        [ 0.1043],\n",
       "        [-0.0167],\n",
       "        [-0.0452],\n",
       "        [-0.0385],\n",
       "        [ 0.0232],\n",
       "        [ 0.0456],\n",
       "        [-0.0159],\n",
       "        [ 0.1088],\n",
       "        [ 0.0118],\n",
       "        [ 0.0037],\n",
       "        [ 0.0867],\n",
       "        [-0.0111],\n",
       "        [-0.0026],\n",
       "        [-0.0677],\n",
       "        [-0.0015],\n",
       "        [-0.0564],\n",
       "        [ 0.0335],\n",
       "        [-0.0527],\n",
       "        [-0.0045],\n",
       "        [ 0.0707],\n",
       "        [ 0.1063],\n",
       "        [-0.0387],\n",
       "        [-0.0258],\n",
       "        [-0.0311],\n",
       "        [-0.0175],\n",
       "        [ 0.0781],\n",
       "        [ 0.1684],\n",
       "        [ 0.0337],\n",
       "        [ 0.0224],\n",
       "        [-0.0059],\n",
       "        [ 0.0629],\n",
       "        [-0.0204],\n",
       "        [-0.0274],\n",
       "        [ 0.0237],\n",
       "        [-0.0319],\n",
       "        [ 0.0058],\n",
       "        [-0.0015],\n",
       "        [-0.0198],\n",
       "        [ 0.0232],\n",
       "        [ 0.0402],\n",
       "        [-0.0814],\n",
       "        [-0.0053],\n",
       "        [-0.0068],\n",
       "        [ 0.0074],\n",
       "        [ 0.0130],\n",
       "        [ 0.0464],\n",
       "        [ 0.0331],\n",
       "        [-0.0397],\n",
       "        [ 0.0229],\n",
       "        [-0.0130],\n",
       "        [-0.0366],\n",
       "        [-0.0484],\n",
       "        [-0.0081],\n",
       "        [-0.0329],\n",
       "        [ 0.0608],\n",
       "        [-0.0445],\n",
       "        [-0.0440],\n",
       "        [-0.0163]], grad_fn=<AddmmBackward0>)"
      ]
     },
     "execution_count": 9,
     "metadata": {},
     "output_type": "execute_result"
    }
   ],
   "source": [
    "# another sanity-check: run a batch of data through\n",
    "\n",
    "littleData = next(iter(train_loader))\n",
    "y = net(littleData[0])\n",
    "y"
   ]
  },
  {
   "cell_type": "markdown",
   "metadata": {
    "id": "IuCixgNfDMZS"
   },
   "source": [
    "# Train the model"
   ]
  },
  {
   "cell_type": "code",
   "execution_count": 10,
   "metadata": {
    "ExecuteTime": {
     "end_time": "2022-01-30T19:29:51.709998Z",
     "start_time": "2022-01-30T19:29:51.697032Z"
    },
    "id": "0XRPe56rGp2k"
   },
   "outputs": [],
   "source": [
    "# a function that trains the model\n",
    "\n",
    "# global parameter\n",
    "numepochs = 3000\n",
    "\n",
    "def trainTheModel():\n",
    "\n",
    "    # loss function and optimizer\n",
    "    lossfun = nn.BCEWithLogitsLoss()\n",
    "    optimizer = torch.optim.Adam(winenet.parameters(),lr=.001)\n",
    "\n",
    "    # initialize losses\n",
    "    losses   = torch.zeros(numepochs)\n",
    "    trainAcc = []\n",
    "    testAcc  = []\n",
    "\n",
    "    # loop over epochs\n",
    "    for epochi in range(numepochs):\n",
    "\n",
    "        # switch on training mode\n",
    "        winenet.train()\n",
    "\n",
    "        # loop over training data batches\n",
    "        batchAcc  = []\n",
    "        batchLoss = []\n",
    "        for X,y in train_loader:\n",
    "\n",
    "            # forward pass and loss\n",
    "            yHat = winenet(X)\n",
    "            loss = lossfun(yHat,y)\n",
    "\n",
    "            # backprop\n",
    "            optimizer.zero_grad()\n",
    "            loss.backward()\n",
    "            optimizer.step()\n",
    "\n",
    "            # loss from this batch\n",
    "            batchLoss.append(loss.item())\n",
    "\n",
    "            # compute training accuracy for this batch\n",
    "            batchAcc.append( 100*torch.mean(((yHat>0) == y).float()).item() )\n",
    "        # end of batch loop...\n",
    "\n",
    "        # now that we've trained through the batches, get their average training accuracy\n",
    "        trainAcc.append( np.mean(batchAcc) )\n",
    "\n",
    "        # and get average losses across the batches\n",
    "        losses[epochi] = np.mean(batchLoss)\n",
    "\n",
    "        # test accuracy\n",
    "        winenet.eval()\n",
    "        X,y = next(iter(test_loader)) # extract X,y from test dataloader\n",
    "        with torch.no_grad(): # deactivates autograd\n",
    "            yHat = winenet(X)\n",
    "        testAcc.append( 100*torch.mean(((yHat>0) == y).float()).item() )\n",
    "  \n",
    "    # function output\n",
    "    return trainAcc,testAcc,losses"
   ]
  },
  {
   "cell_type": "code",
   "execution_count": 11,
   "metadata": {
    "ExecuteTime": {
     "end_time": "2022-01-30T19:30:35.031344Z",
     "start_time": "2022-01-30T19:29:51.710995Z"
    },
    "id": "oL7EqhYjGp51"
   },
   "outputs": [],
   "source": [
    "# create a new model instance\n",
    "winenet = ANNwine()\n",
    "\n",
    "# train the model\n",
    "trainAcc,testAcc,losses = trainTheModel()"
   ]
  },
  {
   "cell_type": "code",
   "execution_count": 12,
   "metadata": {
    "ExecuteTime": {
     "end_time": "2022-01-30T19:30:35.187958Z",
     "start_time": "2022-01-30T19:30:35.031344Z"
    },
    "id": "_7mAB4utDMeh"
   },
   "outputs": [
    {
     "data": {
      "image/png": "[encoded data removed]",
      "text/plain": [
       "<Figure size 1008x504 with 1 Axes>"
      ]
     },
     "metadata": {
      "needs_background": "light"
     },
     "output_type": "display_data"
    }
   ],
   "source": [
    "# plot some results\n",
    "fig = plt.figure(figsize=(14,7))\n",
    "\n",
    "plt.plot(trainAcc,'bs')\n",
    "plt.plot(testAcc,'r')\n",
    "plt.legend(['Train','Test'])\n",
    "plt.xlabel('Epoch')\n",
    "plt.ylabel('Accuracy (%)')\n",
    "plt.ylim([50,100])\n",
    "plt.grid()\n",
    "plt.show()"
   ]
  }
 ],
 "metadata": {
  "colab": {
   "authorship_tag": "ABX9TyM5ymxTQSP7Gl8NiBNUhnin",
   "collapsed_sections": [],
   "name": "DUDL_metaparams_codeChallengeDropout.ipynb",
   "provenance": [
    {
     "file_id": "1ZD_ADbh6qrlHE16V7Yc8VF9Vrn2c6bMQ",
     "timestamp": 1617047133469
    }
   ]
  },
  "kernelspec": {
   "display_name": "Python 3 (ipykernel)",
   "language": "python",
   "name": "python3"
  },
  "language_info": {
   "codemirror_mode": {
    "name": "ipython",
    "version": 3
   },
   "file_extension": ".py",
   "mimetype": "text/x-python",
   "name": "python",
   "nbconvert_exporter": "python",
   "pygments_lexer": "ipython3",
   "version": "3.9.10"
  },
  "toc": {
   "base_numbering": 1,
   "nav_menu": {},
   "number_sections": true,
   "sideBar": true,
   "skip_h1_title": false,
   "title_cell": "Table of Contents",
   "title_sidebar": "Contents",
   "toc_cell": false,
   "toc_position": {},
   "toc_section_display": true,
   "toc_window_display": false
  }
 },
 "nbformat": 4,
 "nbformat_minor": 1
}
