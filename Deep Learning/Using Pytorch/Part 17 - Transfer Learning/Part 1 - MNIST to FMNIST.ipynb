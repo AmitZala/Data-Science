{
 "cells": [
  {
   "cell_type": "code",
   "execution_count": 1,
   "metadata": {
    "ExecuteTime": {
     "end_time": "2022-02-02T15:36:33.687683Z",
     "start_time": "2022-02-02T15:36:30.266146Z"
    },
    "id": "YeuAheYyhdZw"
   },
   "outputs": [],
   "source": [
    "# import libraries\n",
    "import numpy as np\n",
    "\n",
    "import torch\n",
    "import torch.nn as nn\n",
    "import torch.nn.functional as F\n",
    "from torch.utils.data import DataLoader,TensorDataset\n",
    "import torchvision\n",
    "import torchvision.transforms as T\n",
    "\n",
    "from sklearn.model_selection import train_test_split\n",
    "\n",
    "import copy\n",
    "\n",
    "import matplotlib.pyplot as plt"
   ]
  },
  {
   "cell_type": "markdown",
   "metadata": {
    "id": "0HOkOefftqyg"
   },
   "source": [
    "# Import and process the data"
   ]
  },
  {
   "cell_type": "code",
   "execution_count": 2,
   "metadata": {
    "ExecuteTime": {
     "end_time": "2022-02-02T15:36:43.676567Z",
     "start_time": "2022-02-02T15:36:39.265880Z"
    },
    "id": "MU7rvmWuhjud"
   },
   "outputs": [],
   "source": [
    "### MNIST data\n",
    "\n",
    "# import dataset\n",
    "data = np.loadtxt(open('../../../Datasets/mnist_train_small.csv','rb'),delimiter=',')\n",
    "\n",
    "# extract labels, normalize, reshape\n",
    "labelsT   = torch.tensor( data[:,0] ).long()\n",
    "data      = data[:,1:]\n",
    "dataNorm  = data / np.max(data)\n",
    "dataNormT = torch.tensor( dataNorm.reshape(dataNorm.shape[0],1,28,28) ).float()\n",
    "\n",
    "# split the data\n",
    "train_data,test_data, train_labels,test_labels = train_test_split(dataNormT, labelsT, test_size=.1)\n",
    "\n",
    "# convert into PyTorch Datasets\n",
    "train_data = TensorDataset(train_data,train_labels)\n",
    "test_data  = TensorDataset(test_data,test_labels)\n",
    "\n",
    "# translate into dataloader objects\n",
    "batchsize    = 32\n",
    "numbers_train_loader = DataLoader(train_data,batch_size=batchsize,shuffle=True,drop_last=True)\n",
    "numbers_test_loader  = DataLoader(test_data,batch_size=test_data.tensors[0].shape[0])"
   ]
  },
  {
   "cell_type": "code",
   "execution_count": 3,
   "metadata": {
    "ExecuteTime": {
     "end_time": "2022-02-02T15:37:26.983952Z",
     "start_time": "2022-02-02T15:36:45.819047Z"
    },
    "id": "4rsf92yfrGoC"
   },
   "outputs": [
    {
     "name": "stdout",
     "output_type": "stream",
     "text": [
      "Downloading http://fashion-mnist.s3-website.eu-central-1.amazonaws.com/train-images-idx3-ubyte.gz\n",
      "Downloading http://fashion-mnist.s3-website.eu-central-1.amazonaws.com/train-images-idx3-ubyte.gz to ./data\\FashionMNIST\\raw\\train-images-idx3-ubyte.gz\n"
     ]
    },
    {
     "name": "stderr",
     "output_type": "stream",
     "text": [
      "100.0%\n"
     ]
    },
    {
     "name": "stdout",
     "output_type": "stream",
     "text": [
      "Extracting ./data\\FashionMNIST\\raw\\train-images-idx3-ubyte.gz to ./data\\FashionMNIST\\raw\n",
      "\n",
      "Downloading http://fashion-mnist.s3-website.eu-central-1.amazonaws.com/train-labels-idx1-ubyte.gz\n",
      "Downloading http://fashion-mnist.s3-website.eu-central-1.amazonaws.com/train-labels-idx1-ubyte.gz to ./data\\FashionMNIST\\raw\\train-labels-idx1-ubyte.gz\n"
     ]
    },
    {
     "name": "stderr",
     "output_type": "stream",
     "text": [
      "100.6%\n"
     ]
    },
    {
     "name": "stdout",
     "output_type": "stream",
     "text": [
      "Extracting ./data\\FashionMNIST\\raw\\train-labels-idx1-ubyte.gz to ./data\\FashionMNIST\\raw\n",
      "\n",
      "Downloading http://fashion-mnist.s3-website.eu-central-1.amazonaws.com/t10k-images-idx3-ubyte.gz\n",
      "Downloading http://fashion-mnist.s3-website.eu-central-1.amazonaws.com/t10k-images-idx3-ubyte.gz to ./data\\FashionMNIST\\raw\\t10k-images-idx3-ubyte.gz\n"
     ]
    },
    {
     "name": "stderr",
     "output_type": "stream",
     "text": [
      "119.3%"
     ]
    },
    {
     "name": "stdout",
     "output_type": "stream",
     "text": [
      "Extracting ./data\\FashionMNIST\\raw\\t10k-labels-idx1-ubyte.gz to ./data\\FashionMNIST\\raw\n",
      "\n"
     ]
    },
    {
     "name": "stderr",
     "output_type": "stream",
     "text": [
      "\n"
     ]
    }
   ],
   "source": [
    "### FMNIST data\n",
    "\n",
    "# transformations\n",
    "transform = T.Compose([ T.ToTensor(), T.Normalize(.5,.5) ])\n",
    "\n",
    "# import the data and simultaneously apply the transform\n",
    "trainset = torchvision.datasets.FashionMNIST(root='./data', train=True,  download=True, transform=transform)\n",
    "testset  = torchvision.datasets.FashionMNIST(root='./data', train=False, download=True, transform=transform)\n",
    "\n",
    "# transform to dataloaders\n",
    "batchsize    = 32\n",
    "fashion_train_loader = DataLoader(trainset,batch_size=batchsize,shuffle=True,drop_last=True)\n",
    "fashion_test_loader  = DataLoader(testset, batch_size=len(testset))"
   ]
  },
  {
   "cell_type": "markdown",
   "metadata": {
    "id": "OK8Opkhgp0bO"
   },
   "source": [
    "# Create the DL model"
   ]
  },
  {
   "cell_type": "code",
   "execution_count": 4,
   "metadata": {
    "ExecuteTime": {
     "end_time": "2022-02-02T15:37:37.135398Z",
     "start_time": "2022-02-02T15:37:37.121436Z"
    },
    "id": "JK3OO3tAtZkA"
   },
   "outputs": [],
   "source": [
    "# create a class for the model\n",
    "def createTheMNISTNet(printtoggle=False):\n",
    "\n",
    "    class mnistNet(nn.Module):\n",
    "        def __init__(self,printtoggle):\n",
    "            super().__init__()\n",
    "\n",
    "            ### convolution layers\n",
    "            self.conv1 = nn.Conv2d( 1,10,kernel_size=5,stride=1,padding=1)\n",
    "            # size: np.floor( (28+2*1-5)/1 )+1 = 26/2 = 13 (/2 b/c maxpool)\n",
    "\n",
    "            self.conv2 = nn.Conv2d(10,20,kernel_size=5,stride=1,padding=1)\n",
    "            # size: np.floor( (13+2*1-5)/1 )+1 = 11/2 = 5 (/2 b/c maxpool)\n",
    "\n",
    "            # compute the number of units in FClayer (number of outputs of conv2)\n",
    "            expectSize = np.floor( (5+2*0-1)/1 ) + 1 # fc1 layer has no padding or kernel, so set to 0/1\n",
    "            expectSize = 20*int(expectSize**2)\n",
    "\n",
    "            ### fully-connected layer\n",
    "            self.fc1 = nn.Linear(expectSize,50)\n",
    "\n",
    "            ### output layer\n",
    "            self.out = nn.Linear(50,10)\n",
    "\n",
    "            # toggle for printing out tensor sizes during forward prop\n",
    "            self.print = printtoggle\n",
    "\n",
    "        # forward pass\n",
    "        def forward(self,x):\n",
    "      \n",
    "            print(f'Input: {x.shape}') if self.print else None\n",
    "\n",
    "            # convolution -> maxpool -> relu\n",
    "            x = F.relu(F.max_pool2d(self.conv1(x),2))\n",
    "            print(f'Layer conv1: {x.shape}') if self.print else None\n",
    "\n",
    "            # and again: convolution -> maxpool -> relu\n",
    "            x = F.relu(F.max_pool2d(self.conv2(x),2))\n",
    "            print(f'Layer conv2: {x.shape}') if self.print else None\n",
    "\n",
    "            # reshape for linear layer\n",
    "            nUnits = x.shape.numel()/x.shape[0]\n",
    "            x = x.view(-1,int(nUnits))\n",
    "            if self.print: print(f'Vectorize: {x.shape}')\n",
    "\n",
    "            # linear layers\n",
    "            x = F.relu(self.fc1(x))\n",
    "            if self.print: print(f'Layer fc1: {x.shape}')\n",
    "            x = self.out(x)\n",
    "            if self.print: print(f'Layer out: {x.shape}')\n",
    "\n",
    "            return x\n",
    "  \n",
    "    # create the model instance\n",
    "    net = mnistNet(printtoggle)\n",
    "\n",
    "    # loss function\n",
    "    lossfun = nn.CrossEntropyLoss()\n",
    "\n",
    "    # optimizer (NOTE: Using SGD here to slow down learning!)\n",
    "    optimizer = torch.optim.SGD(net.parameters(), lr=.005)\n",
    "\n",
    "    return net,lossfun,optimizer"
   ]
  },
  {
   "cell_type": "markdown",
   "metadata": {
    "id": "dvfGQIRGp0ht"
   },
   "source": [
    "# Create a function that trains the model"
   ]
  },
  {
   "cell_type": "code",
   "execution_count": 5,
   "metadata": {
    "ExecuteTime": {
     "end_time": "2022-02-02T15:37:44.649757Z",
     "start_time": "2022-02-02T15:37:44.633688Z"
    },
    "id": "IblJo1NCp0kl"
   },
   "outputs": [],
   "source": [
    "# a function that trains the model\n",
    "\n",
    "# input the network and the number of epochs to train\n",
    "def function2trainTheModel(net,train_loader,test_loader,numepochs=10):\n",
    "\n",
    "    # initialize losses\n",
    "    losses    = torch.zeros(numepochs)\n",
    "    trainAcc  = []\n",
    "    testAcc   = []\n",
    "\n",
    "\n",
    "    # loop over epochs\n",
    "    for epochi in range(numepochs):\n",
    "\n",
    "        # loop over training data batches\n",
    "        net.train()\n",
    "        batchAcc  = []\n",
    "        batchLoss = []\n",
    "        for X,y in train_loader:\n",
    "\n",
    "            # forward pass and loss\n",
    "            yHat = net(X)\n",
    "            loss = lossfun(yHat,y)\n",
    "\n",
    "            # backprop\n",
    "            optimizer.zero_grad()\n",
    "            loss.backward()\n",
    "            optimizer.step()\n",
    "\n",
    "            # loss from this batch\n",
    "            batchLoss.append(loss.item())\n",
    "\n",
    "            # compute accuracy\n",
    "            matches = torch.argmax(yHat,axis=1) == y     # booleans (false/true)\n",
    "            matchesNumeric = matches.float()             # convert to numbers (0/1)\n",
    "            accuracyPct = 100*torch.mean(matchesNumeric) # average and x100\n",
    "            batchAcc.append( accuracyPct )               # add to list of accuracies\n",
    "        # end of batch loop...\n",
    "\n",
    "        # now that we've trained through the batches, get their average training accuracy\n",
    "        trainAcc.append( np.mean(batchAcc) )\n",
    "\n",
    "        # and get average losses across the batches\n",
    "        losses[epochi] = np.mean(batchLoss)\n",
    "\n",
    "        # test accuracy\n",
    "        net.eval()\n",
    "        X,y = next(iter(test_loader)) # extract X,y from test dataloader\n",
    "        with torch.no_grad(): # deactivates autograd\n",
    "            yHat = net(X)\n",
    "      \n",
    "        # compute test accuracy\n",
    "        testAcc.append( 100*torch.mean((torch.argmax(yHat,axis=1)==y).float()) )\n",
    "\n",
    "    # end epochs\n",
    "\n",
    "    # function output\n",
    "    return trainAcc,testAcc,losses,net\n"
   ]
  },
  {
   "cell_type": "markdown",
   "metadata": {
    "id": "XpGm9xdQ27Ob"
   },
   "source": [
    "# Train the source model on numbers and show the results"
   ]
  },
  {
   "cell_type": "code",
   "execution_count": 6,
   "metadata": {
    "ExecuteTime": {
     "end_time": "2022-02-02T15:38:10.624219Z",
     "start_time": "2022-02-02T15:37:57.360817Z"
    },
    "id": "l9pCC1R2p0nu"
   },
   "outputs": [],
   "source": [
    "# create a new model\n",
    "numberNet,lossfun,optimizer = createTheMNISTNet()\n",
    "\n",
    "# train it on numbers data\n",
    "trainAcc,testAcc,losses,numberNet = function2trainTheModel(numberNet,numbers_train_loader,numbers_test_loader,5)"
   ]
  },
  {
   "cell_type": "code",
   "execution_count": 7,
   "metadata": {
    "ExecuteTime": {
     "end_time": "2022-02-02T15:38:12.269609Z",
     "start_time": "2022-02-02T15:38:12.041736Z"
    },
    "id": "gHzKOZjnp0qn"
   },
   "outputs": [
    {
     "data": {
      "image/png": "[encoded data removed]",
      "text/plain": [
       "<Figure size 864x288 with 2 Axes>"
      ]
     },
     "metadata": {
      "needs_background": "light"
     },
     "output_type": "display_data"
    }
   ],
   "source": [
    "fig,ax = plt.subplots(1,2,figsize=(12, 4))\n",
    "\n",
    "ax[0].plot(losses,'s-')\n",
    "ax[0].set_xlabel('Epochs')\n",
    "ax[0].set_ylabel('Loss')\n",
    "ax[0].set_title('Model loss')\n",
    "\n",
    "ax[1].plot(trainAcc,'s-',label='Train')\n",
    "ax[1].plot(testAcc,'o-',label='Test')\n",
    "ax[1].set_xlabel('Epochs')\n",
    "ax[1].set_ylabel('Accuracy (%)')\n",
    "ax[1].set_title(f'Final model test accuracy: {testAcc[-1]:.2f}%')\n",
    "ax[1].legend()\n",
    "\n",
    "plt.show()"
   ]
  },
  {
   "cell_type": "markdown",
   "metadata": {
    "id": "9SnUUHPm7xQE"
   },
   "source": [
    "# Test the model on the fashion data"
   ]
  },
  {
   "cell_type": "code",
   "execution_count": 8,
   "metadata": {
    "ExecuteTime": {
     "end_time": "2022-02-02T15:38:50.362303Z",
     "start_time": "2022-02-02T15:38:48.825061Z"
    },
    "id": "KofCVFBIFTCv"
   },
   "outputs": [
    {
     "name": "stdout",
     "output_type": "stream",
     "text": [
      "NUMBERNET performance on FASHION data: 6.86%\n"
     ]
    }
   ],
   "source": [
    "# test the model with fashion data\n",
    "\n",
    "# extract X,y from FASHION test dataloader\n",
    "X,y = next(iter(fashion_test_loader))\n",
    "yHat = numberNet(X)\n",
    "\n",
    "# the test\n",
    "fashionAcc = 100*torch.mean((torch.argmax(yHat,axis=1)==y).float())\n",
    "\n",
    "print(f'NUMBERNET performance on FASHION data: {fashionAcc:.2f}%')"
   ]
  },
  {
   "cell_type": "markdown",
   "metadata": {
    "id": "uXo8ScjPA3XK"
   },
   "source": [
    "# Fine-tune the model using one batch"
   ]
  },
  {
   "cell_type": "code",
   "execution_count": 9,
   "metadata": {
    "ExecuteTime": {
     "end_time": "2022-02-02T15:41:57.900891Z",
     "start_time": "2022-02-02T15:41:57.849435Z"
    },
    "id": "ajhJrKjBLJW9"
   },
   "outputs": [
    {
     "name": "stdout",
     "output_type": "stream",
     "text": [
      "tensor([[[ 0.0863, -0.0298,  0.0809, -0.2882, -0.0998],\n",
      "         [-0.2128,  0.2372, -0.1176, -0.2642, -0.3698],\n",
      "         [ 0.0423, -0.1503,  0.1923,  0.0411, -0.1886],\n",
      "         [-0.1569, -0.0238, -0.0373, -0.0023, -0.1142],\n",
      "         [ 0.1682,  0.3737,  0.2078,  0.2239,  0.0197]]],\n",
      "       grad_fn=<SubBackward0>) \n",
      "\n",
      "tensor([[[0., 0., 0., 0., 0.],\n",
      "         [0., 0., 0., 0., 0.],\n",
      "         [0., 0., 0., 0., 0.],\n",
      "         [0., 0., 0., 0., 0.],\n",
      "         [0., 0., 0., 0., 0.]]], grad_fn=<SubBackward0>)\n"
     ]
    }
   ],
   "source": [
    "## NOTE about this cell: I've added print() statements in here to show that the copying works.\n",
    "## The first print function will show a non-zeros matrix because the weights of the two models\n",
    "## differ. The second print function shows the zeros matrix because the two models have identical\n",
    "## weights. See Q&A for this lecture.\n",
    "\n",
    "# create the target model\n",
    "fashionNet,lossfun,optimizer = createTheMNISTNet()\n",
    "print( fashionNet.conv1.weight[0] - numberNet.conv1.weight[0], \"\\n\" )\n",
    "\n",
    "# then replace all the weights in TARGET model from SOURCE model\n",
    "for target, source in zip(fashionNet.named_parameters(), numberNet.named_parameters()):\n",
    "    target[1].data = copy.deepcopy( source[1].data )\n",
    "\n",
    "print( fashionNet.conv1.weight[0] - numberNet.conv1.weight[0] )"
   ]
  },
  {
   "cell_type": "code",
   "execution_count": null,
   "metadata": {
    "id": "We1xWrL_XbFl"
   },
   "outputs": [],
   "source": [
    "# Note: you'd think that the following should work, but deepcopy() doesn't copy many features of classes.\n",
    "# Try it and see what happens!\n",
    "#DUDL_transfer_MNISTtoFMNIST = copy.deepcopy( numberNet )"
   ]
  },
  {
   "cell_type": "code",
   "execution_count": 10,
   "metadata": {
    "ExecuteTime": {
     "end_time": "2022-02-02T15:43:00.894719Z",
     "start_time": "2022-02-02T15:42:42.753497Z"
    },
    "id": "qLa6Ef80LJaM"
   },
   "outputs": [],
   "source": [
    "# now re-train the network on the numbers data\n",
    "\n",
    "trainAcc,testAcc,losses,fashionNet = function2trainTheModel(\n",
    "                                         fashionNet, fashion_train_loader, fashion_test_loader, 1)"
   ]
  },
  {
   "cell_type": "code",
   "execution_count": 11,
   "metadata": {
    "ExecuteTime": {
     "end_time": "2022-02-02T15:43:24.585897Z",
     "start_time": "2022-02-02T15:43:24.568942Z"
    },
    "id": "m4qbXw7uLJdE"
   },
   "outputs": [
    {
     "name": "stdout",
     "output_type": "stream",
     "text": [
      "numberNet TRAIN accuracy: 67.94%\n",
      "numberNet TEST accuracy: 73.96%\n"
     ]
    }
   ],
   "source": [
    "print(f'numberNet TRAIN accuracy: {trainAcc[-1]:.2f}%')\n",
    "print(f'numberNet TEST accuracy: {testAcc[-1]:.2f}%')"
   ]
  },
  {
   "cell_type": "code",
   "execution_count": null,
   "metadata": {
    "id": "K7B2vgIV1M8u"
   },
   "outputs": [],
   "source": []
  },
  {
   "cell_type": "markdown",
   "metadata": {
    "id": "-rza5eCyEBjq"
   },
   "source": [
    "# Additional explorations"
   ]
  },
  {
   "cell_type": "code",
   "execution_count": null,
   "metadata": {
    "id": "JQperfbNEDdC"
   },
   "outputs": [],
   "source": [
    "# 1) We ran 5 epochs of training, and saw a nice boost in transfer learning. However, it looks like the initial training\n",
    "#    on the numbers wasn't finished. Do you think the transfer learning boost will be higher if you train the initial\n",
    "#    model longer? Test it to find out!\n",
    "# \n",
    "# 2) Do transfer learning the other way around: Train the model on the fashion data, then apply it to the number data.\n",
    "#    Before running the model, think about the model architecture, the nature of the images, and make a prediction about\n",
    "#    whether you would expect number->fashion or fashion->number to transfer better (that is, which would have higher\n",
    "#    accuracy from one epoch of training). Is your prediction confirmed?"
   ]
  }
 ],
 "metadata": {
  "colab": {
   "authorship_tag": "ABX9TyPOGG8jiNY49HFWOVkR28+S",
   "collapsed_sections": [],
   "name": "DUDL_transfer_MNISTtoFMNIST.ipynb",
   "provenance": [
    {
     "file_id": "1DhCBG4G1mem5QXFrzZb_Cg66_dnFqvhN",
     "timestamp": 1620277120647
    },
    {
     "file_id": "1FcEBC0NAESIlHQkv6_85R-XDUKGE8XbM",
     "timestamp": 1619549043909
    },
    {
     "file_id": "1qKgZ8kVcqNgwtBzHbWq5yJH_HqI6DxWW",
     "timestamp": 1617803880910
    },
    {
     "file_id": "15cpyHkJ435B4MqbyGjAH1poN4nCy_DE4",
     "timestamp": 1617737766196
    },
    {
     "file_id": "1OLuWuaFu0hcFgkQ2hh5BqbRuqUZD7XcQ",
     "timestamp": 1617734878578
    },
    {
     "file_id": "1XvzVGJPTJifVh8OpZVB7ykLxyUqYwQ1j",
     "timestamp": 1617196833019
    },
    {
     "file_id": "1bv1_y32e3KEExFKKlPfC3rpw1JxmBr8H",
     "timestamp": 1617124341706
    },
    {
     "file_id": "1GMq8u7KyHB2AE7Teyls9gK1T01OduQSn",
     "timestamp": 1616697516760
    },
    {
     "file_id": "1Ui3kyHim-e0XLgDs2mkBxVlYg7TKYtcg",
     "timestamp": 1616615469755
    },
    {
     "file_id": "1YpHocGI4rApOxIBb1ZghCU5L-hFnv4CK",
     "timestamp": 1616608248670
    }
   ]
  },
  "kernelspec": {
   "display_name": "Python 3 (ipykernel)",
   "language": "python",
   "name": "python3"
  },
  "language_info": {
   "codemirror_mode": {
    "name": "ipython",
    "version": 3
   },
   "file_extension": ".py",
   "mimetype": "text/x-python",
   "name": "python",
   "nbconvert_exporter": "python",
   "pygments_lexer": "ipython3",
   "version": "3.9.13"
  }
 },
 "nbformat": 4,
 "nbformat_minor": 4
}
