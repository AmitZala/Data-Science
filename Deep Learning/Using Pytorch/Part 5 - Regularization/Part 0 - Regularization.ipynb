{
 "cells": [
  {
   "cell_type": "markdown",
   "id": "ebea6a21",
   "metadata": {},
   "source": [
    "# Regularization\n",
    "\n",
    "## Concept & Methods:\n",
    "\n",
    "**Why regularize?**\n",
    "- Penalizes \"memorization\" (over-learning examples).\n",
    "- Helps the model generalize to unseen examples.\n",
    "- Changes the representations of learning (either more sparse or more distributed depending on the regularizer)\n",
    "- Can increase or decrease training time.\n",
    "- Can descrease training accuracy but increase generalization.\n",
    "- Works better for large models with multiple hidden layers.\n",
    "- Generally works better with sufficient data.\n",
    "\n",
    "<b>Three families of regularizers in Deep Learning</b>\n",
    "- **Family 1:** Modify the model (dropout)\n",
    "- **Family 2:** Add a cost to the loss function (L1/L2)\n",
    "- **Family 3:** Modify or add data (batch training, data augmentation)\n",
    "\n",
    "<p style=\"display:flex\">\n",
    "    <img src=\"./images/image-1.png\" width=450 style=\"border-radius:10px\"/>\n",
    "    <img src=\"./images/image-2.png\" width=500 style=\"border-radius:10px\"/>\n",
    "</p>\n",
    "\n",
    "<p style=\"display:flex\">\n",
    "    <img src=\"./images/image-3.png\" width=450 style=\"border-radius:10px\"/>\n",
    "    <img src=\"./images/image-4.png\" width=450 style=\"border-radius:10px\"/>\n",
    "</p>\n",
    "\n",
    "**How to think about regularization:**\n",
    "- Adds a cost to the complexity of the solution\n",
    "- Forces the solution to be smooth\n",
    "- Prevents the model from learning item-specific details.\n",
    "\n",
    "**Which regularization method to use?**\n",
    "<p>\n",
    "    <img src=\"./images/image-5.png\" width=500 style=\"border-radius:10px\"/>\n",
    "</p>"
   ]
  },
  {
   "cell_type": "code",
   "execution_count": null,
   "id": "d483482a",
   "metadata": {},
   "outputs": [],
   "source": []
  }
 ],
 "metadata": {
  "kernelspec": {
   "display_name": "Python 3 (ipykernel)",
   "language": "python",
   "name": "python3"
  },
  "language_info": {
   "codemirror_mode": {
    "name": "ipython",
    "version": 3
   },
   "file_extension": ".py",
   "mimetype": "text/x-python",
   "name": "python",
   "nbconvert_exporter": "python",
   "pygments_lexer": "ipython3",
   "version": "3.9.10"
  },
  "toc": {
   "base_numbering": 1,
   "nav_menu": {},
   "number_sections": true,
   "sideBar": true,
   "skip_h1_title": false,
   "title_cell": "Table of Contents",
   "title_sidebar": "Contents",
   "toc_cell": false,
   "toc_position": {
    "height": "calc(100% - 180px)",
    "left": "10px",
    "top": "150px",
    "width": "207.2px"
   },
   "toc_section_display": true,
   "toc_window_display": false
  }
 },
 "nbformat": 4,
 "nbformat_minor": 5
}
