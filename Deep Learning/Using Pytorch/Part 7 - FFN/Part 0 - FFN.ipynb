{
 "cells": [
  {
   "cell_type": "markdown",
   "id": "8c5267cc",
   "metadata": {},
   "source": [
    "# Feed Forward Network (FFN):\n",
    "**Terminology:** Feedforward means that the activation propates from input to output. But all learning networks also have backprop...\n",
    "\n",
    "## MNIST Dataset\n",
    "\n",
    ">**Code:**\n",
    "- Part 1 - About MNIST\n",
    "\n",
    "## FFN to Classify Digits\n",
    "![Model Architecure](./images/image-1.png)\n",
    "\n",
    "![Softmax vs log-softmax](./images/image-2.png)\n",
    "\n",
    ">**Code:**\n",
    "- Part 2 - FFN to Classify Digits\n",
    "- Part 3 - CodeChallenge Binarized MNIST Images\n",
    "- Part 4 - CodeChallenge Data Normalization\n",
    "- Part 5 - Distributions of Weights Pre- & Post-Learning"
   ]
  },
  {
   "cell_type": "markdown",
   "id": "5f1bda3b",
   "metadata": {},
   "source": []
  }
 ],
 "metadata": {
  "kernelspec": {
   "display_name": "Python 3 (ipykernel)",
   "language": "python",
   "name": "python3"
  },
  "language_info": {
   "codemirror_mode": {
    "name": "ipython",
    "version": 3
   },
   "file_extension": ".py",
   "mimetype": "text/x-python",
   "name": "python",
   "nbconvert_exporter": "python",
   "pygments_lexer": "ipython3",
   "version": "3.9.10"
  },
  "toc": {
   "base_numbering": 1,
   "nav_menu": {},
   "number_sections": true,
   "sideBar": true,
   "skip_h1_title": false,
   "title_cell": "Table of Contents",
   "title_sidebar": "Contents",
   "toc_cell": false,
   "toc_position": {},
   "toc_section_display": true,
   "toc_window_display": false
  }
 },
 "nbformat": 4,
 "nbformat_minor": 5
}
