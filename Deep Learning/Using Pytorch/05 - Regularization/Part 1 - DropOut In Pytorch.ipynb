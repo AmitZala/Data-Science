{
 "cells": [
  {
   "cell_type": "code",
   "execution_count": 1,
   "metadata": {
    "ExecuteTime": {
     "end_time": "2022-01-28T14:15:34.668018Z",
     "start_time": "2022-01-28T14:15:29.676280Z"
    },
    "id": "YeuAheYyhdZw"
   },
   "outputs": [],
   "source": [
    "# import libraries\n",
    "import torch\n",
    "import torch.nn as nn\n",
    "import torch.nn.functional as F"
   ]
  },
  {
   "cell_type": "markdown",
   "metadata": {
    "id": "OAw7w-Is8quO"
   },
   "source": [
    "# Using dropout"
   ]
  },
  {
   "cell_type": "code",
   "execution_count": 7,
   "metadata": {
    "ExecuteTime": {
     "end_time": "2022-01-28T14:17:55.047158Z",
     "start_time": "2022-01-28T14:17:55.036188Z"
    },
    "id": "PakwZXu08s6B"
   },
   "outputs": [
    {
     "name": "stdout",
     "output_type": "stream",
     "text": [
      "tensor([1., 1., 1., 1., 1., 1., 1., 1., 1., 1.]) \n",
      "\n",
      "tensor([0., 0., 0., 2., 0., 0., 2., 2., 2., 0.]) \n",
      "\n",
      "tensor([0., 0., 0., 1., 0., 0., 1., 1., 1., 0.]) \n",
      "\n",
      "tensor(0.8000)\n"
     ]
    }
   ],
   "source": [
    "# define a dropout instance and make some data\n",
    "prob = .5\n",
    "\n",
    "dropout = nn.Dropout(p=prob)\n",
    "x = torch.ones(10)\n",
    "\n",
    "# let's see what dropout returns\n",
    "y = dropout(x)\n",
    "print(x, \"\\n\")\n",
    "print(y, \"\\n\") # PyTorch uses the scale up method. That's why some data scaled up to 2 from 1\n",
    "print(y*(1-prob), \"\\n\") # the equation is for scaling down. For scaling up, \"Wq\" equ is used \n",
    "print(torch.mean(y))"
   ]
  },
  {
   "cell_type": "code",
   "execution_count": 3,
   "metadata": {
    "ExecuteTime": {
     "end_time": "2022-01-28T14:19:26.869256Z",
     "start_time": "2022-01-28T14:19:26.861311Z"
    },
    "id": "hnsHnDFjVQ6i"
   },
   "outputs": [
    {
     "name": "stdout",
     "output_type": "stream",
     "text": [
      "tensor([1., 1., 1., 1., 1., 1., 1., 1., 1., 1.]) \n",
      "\n",
      "tensor(1.)\n"
     ]
    }
   ],
   "source": [
    "# dropout is turned off when evaluating the model\n",
    "dropout.eval() # switing the model to evaluation mode\n",
    "y = dropout(x)\n",
    "print(y, \"\\n\") # though dropout is applied, because of evaluation mode, dropout layer is ignored!\n",
    "print(torch.mean(y))"
   ]
  },
  {
   "cell_type": "code",
   "execution_count": 9,
   "metadata": {
    "ExecuteTime": {
     "end_time": "2022-01-28T14:20:19.629856Z",
     "start_time": "2022-01-28T14:20:19.611923Z"
    },
    "id": "5bY95mSjVYvA"
   },
   "outputs": [
    {
     "name": "stdout",
     "output_type": "stream",
     "text": [
      "tensor([0., 0., 0., 0., 2., 0., 0., 2., 0., 0.])\n",
      "tensor(0.4000)\n"
     ]
    }
   ],
   "source": [
    "# annoyingly, F.dropout() is not deactivated in eval mode:\n",
    "\n",
    "dropout.eval()\n",
    "y = F.dropout(x)\n",
    "print(y) # NOTICE: though evaluation mode is activated, dropout is applied\n",
    "print(torch.mean(y))"
   ]
  },
  {
   "cell_type": "code",
   "execution_count": 5,
   "metadata": {
    "ExecuteTime": {
     "end_time": "2022-01-28T14:21:16.619642Z",
     "start_time": "2022-01-28T14:21:16.604712Z"
    },
    "id": "Aa-GvWSLXcH8"
   },
   "outputs": [
    {
     "name": "stdout",
     "output_type": "stream",
     "text": [
      "tensor([1., 1., 1., 1., 1., 1., 1., 1., 1., 1.])\n",
      "tensor(1.)\n"
     ]
    }
   ],
   "source": [
    "# but you can manually switch it off\n",
    "# dropout.eval()\n",
    "y = F.dropout(x, training = False)\n",
    "\n",
    "print(y) # NOTICE: See the difference between this cell and above cell\n",
    "print(torch.mean(y))"
   ]
  },
  {
   "cell_type": "code",
   "execution_count": 11,
   "metadata": {
    "ExecuteTime": {
     "end_time": "2022-01-28T14:22:32.315044Z",
     "start_time": "2022-01-28T14:22:32.308035Z"
    },
    "id": "J_BFJYeTU_ak"
   },
   "outputs": [
    {
     "name": "stdout",
     "output_type": "stream",
     "text": [
      "tensor([0., 2., 2., 0., 2., 2., 0., 2., 2., 2.]) \n",
      "\n",
      "tensor([1., 1., 1., 1., 1., 1., 1., 1., 1., 1.]) \n",
      "\n",
      "tensor([1., 1., 1., 1., 1., 1., 1., 1., 1., 1.])\n"
     ]
    }
   ],
   "source": [
    "# the model needs to be reset after toggling into eval mode\n",
    "\n",
    "dropout.train() # switch to the training mode\n",
    "y = dropout(x)\n",
    "print(y, \"\\n\") # with dropout\n",
    "\n",
    "\n",
    "dropout.eval() # switch to the evaluation mode\n",
    "y = dropout(x)\n",
    "print(y, \"\\n\") # without dropout\n",
    "\n",
    "\n",
    "# dropout.train()\n",
    "y = dropout(x) # because the above line commented out, evaluation mode is still activcated\n",
    "print(y) # still w/o dropout ;)"
   ]
  }
 ],
 "metadata": {
  "colab": {
   "authorship_tag": "ABX9TyOLdTgViM3bQDslDQDqBhQV",
   "collapsed_sections": [],
   "name": "DUDL_regular_dropoutInPytorch.ipynb",
   "provenance": [
    {
     "file_id": "17KCLWj5_rIPAJqSQ1dJFAkSrJ7ctDwne",
     "timestamp": 1616945891013
    },
    {
     "file_id": "1bv1_y32e3KEExFKKlPfC3rpw1JxmBr8H",
     "timestamp": 1616941708388
    },
    {
     "file_id": "1GMq8u7KyHB2AE7Teyls9gK1T01OduQSn",
     "timestamp": 1616697516760
    },
    {
     "file_id": "1Ui3kyHim-e0XLgDs2mkBxVlYg7TKYtcg",
     "timestamp": 1616615469755
    },
    {
     "file_id": "1YpHocGI4rApOxIBb1ZghCU5L-hFnv4CK",
     "timestamp": 1616608248670
    }
   ]
  },
  "kernelspec": {
   "display_name": "Python 3 (ipykernel)",
   "language": "python",
   "name": "python3"
  },
  "language_info": {
   "codemirror_mode": {
    "name": "ipython",
    "version": 3
   },
   "file_extension": ".py",
   "mimetype": "text/x-python",
   "name": "python",
   "nbconvert_exporter": "python",
   "pygments_lexer": "ipython3",
   "version": "3.9.13"
  },
  "toc": {
   "base_numbering": 1,
   "nav_menu": {},
   "number_sections": true,
   "sideBar": true,
   "skip_h1_title": false,
   "title_cell": "Table of Contents",
   "title_sidebar": "Contents",
   "toc_cell": false,
   "toc_position": {},
   "toc_section_display": true,
   "toc_window_display": false
  }
 },
 "nbformat": 4,
 "nbformat_minor": 4
}
