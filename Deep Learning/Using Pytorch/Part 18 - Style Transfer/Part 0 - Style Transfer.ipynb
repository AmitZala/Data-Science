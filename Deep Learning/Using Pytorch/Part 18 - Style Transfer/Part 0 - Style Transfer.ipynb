{
 "cells": [
  {
   "cell_type": "markdown",
   "id": "bd2bce28",
   "metadata": {},
   "source": [
    "# Style transfer\n",
    "\n",
    "![Example of style transfer](https://production-media.paperswithcode.com/tasks/Webp.net-resizeimage_3_a1PwFIg.png)\n",
    "\n",
    ">**ALgorithm**\n",
    "![Style transfer Algorithm](https://info.algorithmia.com/hs-fs/hubfs/Imported_Blog_Media/model_architecture-4.png?width=1792&height=1230&name=model_architecture-4.png)"
   ]
  },
  {
   "cell_type": "markdown",
   "id": "3a595785",
   "metadata": {},
   "source": [
    "## The Gram matrix (feature activation covariance)\n",
    "\n",
    "![Correlation matrix](./images/image-1.png)"
   ]
  },
  {
   "cell_type": "markdown",
   "id": "bad41359",
   "metadata": {},
   "source": [
    "![Covariance matrix](./images/image-2.png)"
   ]
  },
  {
   "cell_type": "markdown",
   "id": "4ca36e3d",
   "metadata": {},
   "source": [
    "$$covariance(c) = \\frac{1}{n-1}\\sum_{i=1}^{n}(x_i - \\bar{x})(y_i - \\bar{y})$$\n",
    "\n",
    "$$correlation(r) = \\frac{\\sum_{i=1}^{n}(x_i - \\bar{x})(y_i - \\bar{y})}{\\sqrt{\\sum_{i=1}^{n}(x_i - \\bar{x})^2\\sum_{i=1}^{n}(y_i - \\bar{y})^2}}$$"
   ]
  },
  {
   "cell_type": "markdown",
   "id": "89f15a98",
   "metadata": {},
   "source": [
    "$$C = \\frac{1}{n-1}X^TX$$"
   ]
  },
  {
   "cell_type": "markdown",
   "id": "a42c2a79",
   "metadata": {},
   "source": [
    ">**Interpreting a covariance matrix**\n",
    "- A covariance matrix contains all pairwise interactions between the features.\n",
    "- It reflects patterns (interactions) that are distributed across the features.\n",
    "- Covariance matrix is the basis for PCA, factor analysis, linear discriminant analysis, NNMF, and other dimension-reduction methods.\n",
    "- In style transfer, the features covariance matrix encodes a higher-level feature-interaction space; a combination of many features."
   ]
  },
  {
   "cell_type": "markdown",
   "id": "4e2e0069",
   "metadata": {},
   "source": [
    "$$\\text{Gram Matrix } G = X^TX$$\n",
    "\n",
    "![Gram Matrix](./images/image-3.png)"
   ]
  },
  {
   "cell_type": "markdown",
   "id": "e63a6d15",
   "metadata": {},
   "source": [
    ">**Interpreting a Gram matrix:**\n",
    "- *Main point*: A Gram matrix is basically the same thing as a covariance matrix (key difference is mean-centering)\n",
    "- So, you interpret a Gram matrix the same way you interpret a covariance matrix: A representation of all linear interactions across all pairs of features.\n",
    "- Specifically for CNNs: The gram matrix represents the \"texture\" or style of the image, not the individual pixels.\n",
    "\n",
    "![Flattening a 3D feature cube to a 2D map](./images/image-4.png)"
   ]
  },
  {
   "cell_type": "markdown",
   "id": "b7b1e789",
   "metadata": {},
   "source": [
    "![Gram matrix of a 3D feature cube](./images/image-5.png)\n",
    "![Gram matrix of a 3D feature cube](./images/image-6.png)"
   ]
  },
  {
   "cell_type": "markdown",
   "id": "b4f2be05",
   "metadata": {},
   "source": [
    "## Style Transfer Algorithm\n",
    "\n",
    "![Terminology](./images/image-7.png)"
   ]
  },
  {
   "cell_type": "markdown",
   "id": "b5ce12d1",
   "metadata": {},
   "source": [
    "![Step 1](./images/image-8.png)\n",
    "![Step 2](./images/image-9.png)"
   ]
  },
  {
   "cell_type": "markdown",
   "id": "9566852b",
   "metadata": {},
   "source": [
    "![Step 3](./images/image-10.png)"
   ]
  },
  {
   "cell_type": "markdown",
   "id": "e6d81d4e",
   "metadata": {},
   "source": [
    "![Step 4](./images/image-11.png)"
   ]
  },
  {
   "cell_type": "markdown",
   "id": "7b8c3a4b",
   "metadata": {},
   "source": [
    "![Overview of style transfer algorithm](./images/image-12.png)"
   ]
  },
  {
   "cell_type": "markdown",
   "id": "fc66d4d5",
   "metadata": {},
   "source": [
    "![Metaparameters](./images/image-13.png)"
   ]
  },
  {
   "cell_type": "markdown",
   "id": "3558ece6",
   "metadata": {},
   "source": [
    ">**Code:**\n",
    "- Part 1 - Transferring the screaming bathtub\n",
    "- Part 2 - CodeChallenge Style transfer with AlexNet"
   ]
  }
 ],
 "metadata": {
  "kernelspec": {
   "display_name": "Python 3 (ipykernel)",
   "language": "python",
   "name": "python3"
  },
  "language_info": {
   "codemirror_mode": {
    "name": "ipython",
    "version": 3
   },
   "file_extension": ".py",
   "mimetype": "text/x-python",
   "name": "python",
   "nbconvert_exporter": "python",
   "pygments_lexer": "ipython3",
   "version": "3.9.10"
  }
 },
 "nbformat": 4,
 "nbformat_minor": 5
}
