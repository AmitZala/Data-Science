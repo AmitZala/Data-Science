{
 "cells": [
  {
   "cell_type": "code",
   "execution_count": 1,
   "metadata": {
    "ExecuteTime": {
     "end_time": "2022-02-02T13:52:43.307031Z",
     "start_time": "2022-02-02T13:52:41.519821Z"
    },
    "id": "YeuAheYyhdZw"
   },
   "outputs": [],
   "source": [
    "# import libraries\n",
    "import numpy as np\n",
    "\n",
    "import torch\n",
    "import torch.nn as nn\n",
    "import torch.nn.functional as F\n",
    "import copy\n",
    "from sklearn.model_selection import train_test_split\n",
    "\n",
    "# for importing data\n",
    "import torchvision\n",
    "import torchvision.transforms as T\n",
    "from torch.utils.data import TensorDataset,DataLoader\n",
    "\n",
    "import matplotlib.pyplot as plt"
   ]
  },
  {
   "cell_type": "code",
   "execution_count": 2,
   "metadata": {
    "ExecuteTime": {
     "end_time": "2022-02-02T13:52:43.337943Z",
     "start_time": "2022-02-02T13:52:43.309027Z"
    },
    "id": "IBSQO5HB6Kje"
   },
   "outputs": [],
   "source": [
    "# use GPU if available\n",
    "device = torch.device('cuda:0' if torch.cuda.is_available() else 'cpu')"
   ]
  },
  {
   "cell_type": "markdown",
   "metadata": {
    "id": "0HOkOefftqyg"
   },
   "source": [
    "# Import and inspect the data"
   ]
  },
  {
   "cell_type": "code",
   "execution_count": 3,
   "metadata": {
    "ExecuteTime": {
     "end_time": "2022-02-02T13:52:43.399778Z",
     "start_time": "2022-02-02T13:52:43.338940Z"
    },
    "id": "MU7rvmWuhjud"
   },
   "outputs": [],
   "source": [
    "# download the dataset\n",
    "cdata = torchvision.datasets.EMNIST(root='emnist',split='letters',download=True)\n",
    "\n",
    "# more info: https://www.nist.gov/itl/products-and-services/emnist-dataset"
   ]
  },
  {
   "cell_type": "code",
   "execution_count": 4,
   "metadata": {
    "ExecuteTime": {
     "end_time": "2022-02-02T13:52:43.463607Z",
     "start_time": "2022-02-02T13:52:43.401772Z"
    },
    "id": "fPJJu-5edsyi"
   },
   "outputs": [
    {
     "name": "stdout",
     "output_type": "stream",
     "text": [
      "['N/A', 'a', 'b', 'c', 'd', 'e', 'f', 'g', 'h', 'i', 'j', 'k', 'l', 'm', 'n', 'o', 'p', 'q', 'r', 's', 't', 'u', 'v', 'w', 'x', 'y', 'z']\n",
      "27 classes\n",
      "\n",
      "Data size:\n",
      "torch.Size([124800, 28, 28])\n",
      "\n",
      "Tensor data:\n",
      "torch.Size([124800, 1, 28, 28])\n"
     ]
    }
   ],
   "source": [
    "# inspect the data\n",
    "\n",
    "# the categories (but how many letters??)\n",
    "print(cdata.classes)\n",
    "print(str(len(cdata.classes)) + ' classes')\n",
    "\n",
    "print('\\nData size:')\n",
    "print(cdata.data.shape)\n",
    "\n",
    "# transform to 4D tensor for conv layers (and transform from int8 to float)\n",
    "images = cdata.data.view([124800,1,28,28]).float()\n",
    "print('\\nTensor data:')\n",
    "print(images.shape)"
   ]
  },
  {
   "cell_type": "code",
   "execution_count": 5,
   "metadata": {
    "ExecuteTime": {
     "end_time": "2022-02-02T13:52:43.479564Z",
     "start_time": "2022-02-02T13:52:43.464604Z"
    },
    "id": "PD4UCg6umqOW"
   },
   "outputs": [
    {
     "name": "stdout",
     "output_type": "stream",
     "text": [
      "tensor(0)\n"
     ]
    },
    {
     "data": {
      "text/plain": [
       "tensor([ 1,  2,  3,  4,  5,  6,  7,  8,  9, 10, 11, 12, 13, 14, 15, 16, 17, 18,\n",
       "        19, 20, 21, 22, 23, 24, 25, 26])"
      ]
     },
     "execution_count": 5,
     "metadata": {},
     "output_type": "execute_result"
    }
   ],
   "source": [
    "# brief aside: class 'N/A' doesn't exist in the data.\n",
    "print( torch.sum(cdata.targets==0) )\n",
    "\n",
    "# However, it causes problems in one-hot encoding...\n",
    "torch.unique(cdata.targets)"
   ]
  },
  {
   "cell_type": "code",
   "execution_count": 6,
   "metadata": {
    "ExecuteTime": {
     "end_time": "2022-02-02T13:52:43.494523Z",
     "start_time": "2022-02-02T13:52:43.480561Z"
    },
    "id": "xzIigVGS5aqf"
   },
   "outputs": [
    {
     "data": {
      "text/plain": [
       "{'N/A': 0,\n",
       " 'a': 1,\n",
       " 'b': 2,\n",
       " 'c': 3,\n",
       " 'd': 4,\n",
       " 'e': 5,\n",
       " 'f': 6,\n",
       " 'g': 7,\n",
       " 'h': 8,\n",
       " 'i': 9,\n",
       " 'j': 10,\n",
       " 'k': 11,\n",
       " 'l': 12,\n",
       " 'm': 13,\n",
       " 'n': 14,\n",
       " 'o': 15,\n",
       " 'p': 16,\n",
       " 'q': 17,\n",
       " 'r': 18,\n",
       " 's': 19,\n",
       " 't': 20,\n",
       " 'u': 21,\n",
       " 'v': 22,\n",
       " 'w': 23,\n",
       " 'x': 24,\n",
       " 'y': 25,\n",
       " 'z': 26}"
      ]
     },
     "execution_count": 6,
     "metadata": {},
     "output_type": "execute_result"
    }
   ],
   "source": [
    "cdata.class_to_idx"
   ]
  },
  {
   "cell_type": "code",
   "execution_count": 7,
   "metadata": {
    "ExecuteTime": {
     "end_time": "2022-02-02T13:52:43.510480Z",
     "start_time": "2022-02-02T13:52:43.495521Z"
    },
    "id": "6KttY-pHt8e3"
   },
   "outputs": [
    {
     "name": "stdout",
     "output_type": "stream",
     "text": [
      "torch.Size([124800])\n",
      "tensor(4800)\n"
     ]
    },
    {
     "data": {
      "text/plain": [
       "tensor([ 0,  1,  2,  3,  4,  5,  6,  7,  8,  9, 10, 11, 12, 13, 14, 15, 16, 17,\n",
       "        18, 19, 20, 21, 22, 23, 24, 25])"
      ]
     },
     "execution_count": 7,
     "metadata": {},
     "output_type": "execute_result"
    }
   ],
   "source": [
    "# so therefore we'll eliminate it and subtract 1 from the original\n",
    "\n",
    "# remove the first class category\n",
    "letterCategories = cdata.classes[1:]\n",
    "\n",
    "# relabel labels to start at 0\n",
    "labels = copy.deepcopy(cdata.targets)-1\n",
    "print(labels.shape)\n",
    "\n",
    "### \n",
    "print( torch.sum(labels==0) )\n",
    "torch.unique(labels)"
   ]
  },
  {
   "cell_type": "code",
   "execution_count": 8,
   "metadata": {
    "ExecuteTime": {
     "end_time": "2022-02-02T13:52:44.064526Z",
     "start_time": "2022-02-02T13:52:43.511478Z"
    },
    "id": "aNXaNwHlrF8G"
   },
   "outputs": [
    {
     "data": {
      "image/png": "[encoded data removed]",
      "text/plain": [
       "<Figure size 432x288 with 1 Axes>"
      ]
     },
     "metadata": {
      "needs_background": "light"
     },
     "output_type": "display_data"
    },
    {
     "data": {
      "image/png": "[encoded data removed]",
      "text/plain": [
       "<Figure size 432x288 with 1 Axes>"
      ]
     },
     "metadata": {
      "needs_background": "light"
     },
     "output_type": "display_data"
    }
   ],
   "source": [
    "# next issue: do we need to normalize the images?\n",
    "plt.hist(images[:10,:,:,:].view(1,-1).detach(),40);\n",
    "plt.title('Raw values')\n",
    "plt.show()\n",
    "\n",
    "# yarp.\n",
    "images /= torch.max(images)\n",
    "\n",
    "plt.hist(images[:10,:,:,:].view(1,-1).detach(),40);\n",
    "plt.title('After normalization')\n",
    "plt.show()"
   ]
  },
  {
   "cell_type": "code",
   "execution_count": 9,
   "metadata": {
    "ExecuteTime": {
     "end_time": "2022-02-02T13:52:44.593117Z",
     "start_time": "2022-02-02T13:52:44.065524Z"
    },
    "id": "4rsf92yfrGoC"
   },
   "outputs": [
    {
     "data": {
      "image/png": "[encoded data removed]",
      "text/plain": [
       "<Figure size 936x432 with 21 Axes>"
      ]
     },
     "metadata": {},
     "output_type": "display_data"
    }
   ],
   "source": [
    "# visualize some images\n",
    "fig,axs = plt.subplots(3,7,figsize=(13,6))\n",
    "\n",
    "for i,ax in enumerate(axs.flatten()):\n",
    "\n",
    "    # pick a random pic\n",
    "    whichpic = np.random.randint(images.shape[0])\n",
    "\n",
    "    # extract the image and its target letter\n",
    "    I = np.squeeze( images[whichpic,:,:] )\n",
    "    letter = letterCategories[labels[whichpic]]\n",
    "\n",
    "    # visualize\n",
    "    ax.imshow(I.T,cmap='gray')\n",
    "    ax.set_title('The letter \"%s\"'%letter)\n",
    "    ax.set_xticks([])\n",
    "    ax.set_yticks([])\n",
    "\n",
    "plt.show()"
   ]
  },
  {
   "cell_type": "markdown",
   "metadata": {
    "id": "OhLQ2YSvpiGj"
   },
   "source": [
    "# Create train/test groups using DataLoader"
   ]
  },
  {
   "cell_type": "code",
   "execution_count": 10,
   "metadata": {
    "ExecuteTime": {
     "end_time": "2022-02-02T13:52:44.671916Z",
     "start_time": "2022-02-02T13:52:44.595111Z"
    },
    "id": "Y_tZ1ymVp0Sf"
   },
   "outputs": [],
   "source": [
    "# Step 2: use scikitlearn to split the data\n",
    "train_data,test_data, train_labels,test_labels = train_test_split(images, labels, test_size=.05)\n",
    "\n",
    "# Step 3: convert into PyTorch Datasets\n",
    "train_data = TensorDataset(train_data,train_labels)\n",
    "test_data  = TensorDataset(test_data,test_labels)\n",
    "\n",
    "# Step 4: translate into dataloader objects\n",
    "batchsize    = 32\n",
    "train_loader = DataLoader(train_data,batch_size=batchsize,shuffle=True,drop_last=True)\n",
    "test_loader  = DataLoader(test_data,batch_size=test_data.tensors[0].shape[0])"
   ]
  },
  {
   "cell_type": "code",
   "execution_count": 11,
   "metadata": {
    "ExecuteTime": {
     "end_time": "2022-02-02T13:52:44.687874Z",
     "start_time": "2022-02-02T13:52:44.672914Z"
    },
    "id": "Zhsr13r2rk8I"
   },
   "outputs": [
    {
     "name": "stdout",
     "output_type": "stream",
     "text": [
      "torch.Size([118560, 1, 28, 28])\n",
      "torch.Size([6240])\n"
     ]
    }
   ],
   "source": [
    "# check size (should be images X channels X width X height\n",
    "print( train_loader.dataset.tensors[0].shape )\n",
    "print( test_loader.dataset.tensors[1].shape )"
   ]
  },
  {
   "cell_type": "markdown",
   "metadata": {
    "id": "OK8Opkhgp0bO"
   },
   "source": [
    "# Create the DL model"
   ]
  },
  {
   "cell_type": "code",
   "execution_count": 12,
   "metadata": {
    "ExecuteTime": {
     "end_time": "2022-02-02T13:52:44.703830Z",
     "start_time": "2022-02-02T13:52:44.688870Z"
    },
    "id": "JK3OO3tAtZkA"
   },
   "outputs": [],
   "source": [
    "# create a class for the model\n",
    "def makeTheNet(printtoggle=False):\n",
    "\n",
    "    class emnistnet(nn.Module):\n",
    "        def __init__(self,printtoggle):\n",
    "            super().__init__()\n",
    "\n",
    "            # print toggle\n",
    "            self.print = printtoggle\n",
    "\n",
    "            ### -------------- feature map layers -------------- ###\n",
    "            # first convolution layer\n",
    "            self.conv1  = nn.Conv2d(1,64,3,padding=1)\n",
    "            self.bnorm1 = nn.BatchNorm2d(64) # input the number of channels in this layer\n",
    "            # output size: (28+2*1-3)/1 + 1 = 28/2 = 14 (/2 b/c maxpool)\n",
    "\n",
    "            # second convolution layer\n",
    "            self.conv2  = nn.Conv2d(64,128,3)\n",
    "            self.bnorm2 = nn.BatchNorm2d(128) # input the number of channels in this layer\n",
    "            # output size: (14+2*0-3)/1 + 1 = 12/2 = 6 (/2 b/c maxpool)\n",
    "\n",
    "            # third convolution layer\n",
    "            self.conv3  = nn.Conv2d(128,256,3)\n",
    "            self.bnorm3 = nn.BatchNorm2d(256) # input the number of channels in this layer\n",
    "            # output size: (6+2*0-3)/1 + 1 = 4/2 = 2 (/2 b/c maxpool)\n",
    "\n",
    "            ### -------------- linear decision layers -------------- ###\n",
    "            self.fc1 = nn.Linear(2*2*256,256)\n",
    "            self.fc2 = nn.Linear(256,64)\n",
    "            self.fc3 = nn.Linear(64,26)\n",
    "\n",
    "        def forward(self,x):\n",
    "      \n",
    "            if self.print: print(f'Input: {list(x.shape)}')\n",
    "\n",
    "            # first block: convolution -> maxpool -> batchnorm -> relu\n",
    "            x = F.max_pool2d(self.conv1(x),2)\n",
    "            x = F.leaky_relu(self.bnorm1(x))\n",
    "            x = F.dropout(x,p=.25,training=self.training)\n",
    "            if self.print: print(f'First CPR block: {list(x.shape)}')\n",
    "\n",
    "            # second block: convolution -> maxpool -> batchnorm -> relu\n",
    "            x = F.max_pool2d(self.conv2(x),2)\n",
    "            x = F.leaky_relu(self.bnorm2(x))\n",
    "            x = F.dropout(x,p=.25,training=self.training)\n",
    "            if self.print: print(f'Second CPR block: {list(x.shape)}')\n",
    "\n",
    "            # third block: convolution -> maxpool -> batchnorm -> relu\n",
    "            x = F.max_pool2d(self.conv3(x),2)\n",
    "            x = F.leaky_relu(self.bnorm3(x))\n",
    "            x = F.dropout(x,p=.25,training=self.training)\n",
    "            if self.print: print(f'Third CPR block: {list(x.shape)}')\n",
    "\n",
    "            # reshape for linear layer\n",
    "            nUnits = x.shape.numel()/x.shape[0]\n",
    "            x = x.view(-1,int(nUnits))\n",
    "            if self.print: print(f'Vectorized: {list(x.shape)}')\n",
    "\n",
    "            # linear layers\n",
    "            x = F.leaky_relu(self.fc1(x))\n",
    "            x = F.dropout(x,p=.5,training=self.training)\n",
    "            x = F.leaky_relu(self.fc2(x))\n",
    "            x = F.dropout(x,p=.5,training=self.training)\n",
    "            x = self.fc3(x)\n",
    "            if self.print: print(f'Final output: {list(x.shape)}')\n",
    "\n",
    "            return x\n",
    "\n",
    "    # create the model instance\n",
    "    net = emnistnet(printtoggle)\n",
    "\n",
    "    # loss function\n",
    "    lossfun = nn.CrossEntropyLoss()\n",
    "\n",
    "    # optimizer\n",
    "    optimizer = torch.optim.Adam(net.parameters(),lr=.001)\n",
    "\n",
    "    return net,lossfun,optimizer"
   ]
  },
  {
   "cell_type": "code",
   "execution_count": 13,
   "metadata": {
    "ExecuteTime": {
     "end_time": "2022-02-02T13:52:44.751702Z",
     "start_time": "2022-02-02T13:52:44.704828Z"
    },
    "id": "y6icEJcXp0el"
   },
   "outputs": [
    {
     "name": "stdout",
     "output_type": "stream",
     "text": [
      "Input: [32, 1, 28, 28]\n",
      "First CPR block: [32, 64, 14, 14]\n",
      "Second CPR block: [32, 128, 6, 6]\n",
      "Third CPR block: [32, 256, 2, 2]\n",
      "Vectorized: [32, 1024]\n",
      "Final output: [32, 26]\n",
      "\n",
      "Output size:\n",
      "torch.Size([32, 26])\n",
      " \n",
      "Loss:\n",
      "tensor(3.2755, grad_fn=<NllLossBackward0>)\n"
     ]
    }
   ],
   "source": [
    "# test the model with one batch\n",
    "net,lossfun,optimizer = makeTheNet(True)\n",
    "\n",
    "X,y = iter(train_loader).next()\n",
    "yHat = net(X)\n",
    "\n",
    "# check size of output\n",
    "print('\\nOutput size:')\n",
    "print(yHat.shape)\n",
    "\n",
    "# # now let's compute the loss\n",
    "loss = lossfun(yHat,torch.squeeze(y))\n",
    "print(' ')\n",
    "print('Loss:')\n",
    "print(loss)"
   ]
  },
  {
   "cell_type": "code",
   "execution_count": null,
   "metadata": {
    "id": "Dhd1iUO9xjbv"
   },
   "outputs": [],
   "source": []
  },
  {
   "cell_type": "markdown",
   "metadata": {
    "id": "dvfGQIRGp0ht"
   },
   "source": [
    "# Create a function that trains the model"
   ]
  },
  {
   "cell_type": "code",
   "execution_count": 14,
   "metadata": {
    "ExecuteTime": {
     "end_time": "2022-02-02T13:52:44.767659Z",
     "start_time": "2022-02-02T13:52:44.752700Z"
    },
    "id": "IblJo1NCp0kl"
   },
   "outputs": [],
   "source": [
    "# a function that trains the model\n",
    "\n",
    "def function2trainTheModel():\n",
    "\n",
    "    # number of epochs\n",
    "    numepochs = 10\n",
    "\n",
    "    # create a new model\n",
    "    net,lossfun,optimizer = makeTheNet()\n",
    "\n",
    "    # send the model to the GPU\n",
    "    net.to(device)\n",
    "\n",
    "    # initialize losses\n",
    "    trainLoss = torch.zeros(numepochs)\n",
    "    testLoss  = torch.zeros(numepochs)\n",
    "    trainErr  = torch.zeros(numepochs)\n",
    "    testErr   = torch.zeros(numepochs)\n",
    "\n",
    "\n",
    "    # loop over epochs\n",
    "    for epochi in range(numepochs):\n",
    "\n",
    "        # loop over training data batches\n",
    "        net.train()\n",
    "        batchLoss = []\n",
    "        batchErr  = []\n",
    "        for X,y in train_loader:\n",
    "\n",
    "            # push data to GPU\n",
    "            X = X.to(device)\n",
    "            y = y.to(device)\n",
    "\n",
    "            # forward pass and loss\n",
    "            yHat = net(X)\n",
    "            loss = lossfun(yHat,y)\n",
    "\n",
    "            # backprop\n",
    "            optimizer.zero_grad()\n",
    "            loss.backward()\n",
    "            optimizer.step()\n",
    "\n",
    "            # loss and error from this batch\n",
    "            batchLoss.append(loss.item())\n",
    "            batchErr.append( torch.mean((torch.argmax(yHat,axis=1) != y).float()).item() )\n",
    "        # end of batch loop...\n",
    "\n",
    "        # and get average losses and error rates across the batches\n",
    "        trainLoss[epochi] = np.mean(batchLoss)\n",
    "        trainErr[epochi]  = 100*np.mean(batchErr)\n",
    "\n",
    "        # test performance\n",
    "        X,y = next(iter(test_loader)) # extract X,y from test dataloader\n",
    "\n",
    "        # push data to GPU\n",
    "        X = X.to(device)\n",
    "        y = y.to(device)\n",
    "\n",
    "        net.eval()\n",
    "        with torch.no_grad(): # deactivates autograd\n",
    "            yHat = net(X)\n",
    "            loss = lossfun(yHat,y)\n",
    "      \n",
    "        # get loss and error rate from the test batch\n",
    "        testLoss[epochi] = loss.item()\n",
    "        testErr[epochi]  = 100*torch.mean((torch.argmax(yHat,axis=1) != y).float()).item()\n",
    "\n",
    "    # end epochs\n",
    "\n",
    "    # function output\n",
    "    return trainLoss,testLoss,trainErr,testErr,net"
   ]
  },
  {
   "cell_type": "markdown",
   "metadata": {
    "id": "XpGm9xdQ27Ob"
   },
   "source": [
    "# Run the model and show the results!"
   ]
  },
  {
   "cell_type": "code",
   "execution_count": 15,
   "metadata": {
    "ExecuteTime": {
     "end_time": "2022-02-02T13:57:16.367968Z",
     "start_time": "2022-02-02T13:52:44.768657Z"
    },
    "id": "l9pCC1R2p0nu"
   },
   "outputs": [],
   "source": [
    "# ~4 minutes with 10 epochs on GPU\n",
    "trainLoss,testLoss,trainErr,testErr,net = function2trainTheModel()"
   ]
  },
  {
   "cell_type": "code",
   "execution_count": 16,
   "metadata": {
    "ExecuteTime": {
     "end_time": "2022-02-02T13:57:16.566995Z",
     "start_time": "2022-02-02T13:57:16.367968Z"
    },
    "id": "gHzKOZjnp0qn"
   },
   "outputs": [
    {
     "data": {
      "image/png": "[encoded data removed]",
      "text/plain": [
       "<Figure size 360x432 with 2 Axes>"
      ]
     },
     "metadata": {
      "needs_background": "light"
     },
     "output_type": "display_data"
    }
   ],
   "source": [
    "fig,ax = plt.subplots(2,1,figsize=(5,6))\n",
    "\n",
    "ax[0].plot(trainLoss,'s-',label='Train')\n",
    "ax[0].plot(testLoss,'o-',label='Test')\n",
    "ax[0].set_xlabel('Epochs')\n",
    "ax[0].set_ylabel('Loss (MSE)')\n",
    "ax[0].set_title('Model loss')\n",
    "\n",
    "ax[1].plot(trainErr,'s-',label='Train')\n",
    "ax[1].plot(testErr,'o-',label='Test')\n",
    "ax[1].set_xlabel('Epochs')\n",
    "ax[1].set_ylabel('Error rates (%)')\n",
    "ax[1].set_title(f'Final model test error rate: {testErr[-1]:.2f}%')\n",
    "ax[1].legend()\n",
    "\n",
    "plt.tight_layout()\n",
    "plt.show()"
   ]
  },
  {
   "cell_type": "code",
   "execution_count": null,
   "metadata": {},
   "outputs": [],
   "source": []
  }
 ],
 "metadata": {
  "accelerator": "GPU",
  "colab": {
   "authorship_tag": "ABX9TyNwJlDu81YRg/TsDBZbfYVJ",
   "collapsed_sections": [],
   "name": "DUDL_CNN_codeChallengeBeatThis.ipynb",
   "provenance": [
    {
     "file_id": "1Gl6z-zdcb8bnpA9yaVQlQkXvEzoeneUJ",
     "timestamp": 1619894273224
    },
    {
     "file_id": "1eA6J6ztxuctVWX6V1s9jV-6kepO7VfC1",
     "timestamp": 1619797471899
    },
    {
     "file_id": "1FcEBC0NAESIlHQkv6_85R-XDUKGE8XbM",
     "timestamp": 1619549043909
    },
    {
     "file_id": "1qKgZ8kVcqNgwtBzHbWq5yJH_HqI6DxWW",
     "timestamp": 1617803880910
    },
    {
     "file_id": "15cpyHkJ435B4MqbyGjAH1poN4nCy_DE4",
     "timestamp": 1617737766196
    },
    {
     "file_id": "1OLuWuaFu0hcFgkQ2hh5BqbRuqUZD7XcQ",
     "timestamp": 1617734878578
    },
    {
     "file_id": "1XvzVGJPTJifVh8OpZVB7ykLxyUqYwQ1j",
     "timestamp": 1617196833019
    },
    {
     "file_id": "1bv1_y32e3KEExFKKlPfC3rpw1JxmBr8H",
     "timestamp": 1617124341706
    },
    {
     "file_id": "1GMq8u7KyHB2AE7Teyls9gK1T01OduQSn",
     "timestamp": 1616697516760
    },
    {
     "file_id": "1Ui3kyHim-e0XLgDs2mkBxVlYg7TKYtcg",
     "timestamp": 1616615469755
    },
    {
     "file_id": "1YpHocGI4rApOxIBb1ZghCU5L-hFnv4CK",
     "timestamp": 1616608248670
    }
   ]
  },
  "kernelspec": {
   "display_name": "Python 3 (ipykernel)",
   "language": "python",
   "name": "python3"
  },
  "language_info": {
   "codemirror_mode": {
    "name": "ipython",
    "version": 3
   },
   "file_extension": ".py",
   "mimetype": "text/x-python",
   "name": "python",
   "nbconvert_exporter": "python",
   "pygments_lexer": "ipython3",
   "version": "3.9.13"
  }
 },
 "nbformat": 4,
 "nbformat_minor": 4
}
