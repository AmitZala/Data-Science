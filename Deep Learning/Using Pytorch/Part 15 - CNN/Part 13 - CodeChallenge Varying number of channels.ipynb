{
 "cells": [
  {
   "cell_type": "code",
   "execution_count": 1,
   "metadata": {
    "ExecuteTime": {
     "end_time": "2022-02-02T14:01:33.387245Z",
     "start_time": "2022-02-02T14:01:31.670116Z"
    },
    "id": "YeuAheYyhdZw"
   },
   "outputs": [],
   "source": [
    "# import libraries\n",
    "import numpy as np\n",
    "\n",
    "import torch\n",
    "import torch.nn as nn\n",
    "import torch.nn.functional as F\n",
    "from torch.utils.data import DataLoader,TensorDataset\n",
    "import copy\n",
    "from sklearn.model_selection import train_test_split\n",
    "\n",
    "\n",
    "# NEW! for importing data\n",
    "import torchvision\n",
    "\n",
    "import matplotlib.pyplot as plt"
   ]
  },
  {
   "cell_type": "code",
   "execution_count": 2,
   "metadata": {
    "ExecuteTime": {
     "end_time": "2022-02-02T14:01:39.241521Z",
     "start_time": "2022-02-02T14:01:39.211601Z"
    },
    "id": "0AH1Vmih6NjV"
   },
   "outputs": [],
   "source": [
    "# use GPU if available\n",
    "device = torch.device('cuda:0' if torch.cuda.is_available() else 'cpu')"
   ]
  },
  {
   "cell_type": "markdown",
   "metadata": {
    "id": "0HOkOefftqyg"
   },
   "source": [
    "# Import and inspect the data"
   ]
  },
  {
   "cell_type": "code",
   "execution_count": 3,
   "metadata": {
    "ExecuteTime": {
     "end_time": "2022-02-02T14:01:47.063669Z",
     "start_time": "2022-02-02T14:01:46.995165Z"
    },
    "id": "MU7rvmWuhjud"
   },
   "outputs": [],
   "source": [
    "# download the dataset\n",
    "cdata = torchvision.datasets.EMNIST(root='emnist',split='letters',download=True)\n",
    "\n",
    "# more info: https://www.nist.gov/itl/products-and-services/emnist-dataset"
   ]
  },
  {
   "cell_type": "code",
   "execution_count": 4,
   "metadata": {
    "ExecuteTime": {
     "end_time": "2022-02-02T14:01:49.462234Z",
     "start_time": "2022-02-02T14:01:49.156607Z"
    },
    "id": "fPJJu-5edsyi"
   },
   "outputs": [
    {
     "name": "stdout",
     "output_type": "stream",
     "text": [
      "['N/A', 'a', 'b', 'c', 'd', 'e', 'f', 'g', 'h', 'i', 'j', 'k', 'l', 'm', 'n', 'o', 'p', 'q', 'r', 's', 't', 'u', 'v', 'w', 'x', 'y', 'z']\n",
      "27 classes\n",
      "\n",
      "Data size:\n",
      "torch.Size([124800, 28, 28])\n",
      "\n",
      "Tensor data:\n",
      "torch.Size([124800, 1, 28, 28])\n"
     ]
    }
   ],
   "source": [
    "# inspect the data\n",
    "\n",
    "# the categories (but how many letters??)\n",
    "print(cdata.classes)\n",
    "print(str(len(cdata.classes)) + ' classes')\n",
    "\n",
    "print('\\nData size:')\n",
    "print(cdata.data.shape)\n",
    "\n",
    "# transform to 4D tensor for conv layers (and transform from int8 to float)\n",
    "images = cdata.data.view([124800,1,28,28]).float()\n",
    "\n",
    "# normalize the images\n",
    "images /= torch.max(images)\n",
    "\n",
    "print('\\nTensor data:')\n",
    "print(images.shape)"
   ]
  },
  {
   "cell_type": "code",
   "execution_count": 5,
   "metadata": {
    "ExecuteTime": {
     "end_time": "2022-02-02T14:01:52.102867Z",
     "start_time": "2022-02-02T14:01:52.083918Z"
    },
    "id": "6KttY-pHt8e3"
   },
   "outputs": [],
   "source": [
    "# eliminate missing category and subtract 1 from the original\n",
    "\n",
    "# remove the first class category\n",
    "letterCategories = cdata.classes[1:]\n",
    "\n",
    "# relabel labels to start at 0\n",
    "labels = copy.deepcopy(cdata.targets)-1"
   ]
  },
  {
   "cell_type": "markdown",
   "metadata": {
    "id": "OhLQ2YSvpiGj"
   },
   "source": [
    "# Create train/test groups using DataLoader"
   ]
  },
  {
   "cell_type": "code",
   "execution_count": 6,
   "metadata": {
    "ExecuteTime": {
     "end_time": "2022-02-02T14:01:54.423835Z",
     "start_time": "2022-02-02T14:01:54.332406Z"
    },
    "id": "Y_tZ1ymVp0Sf"
   },
   "outputs": [],
   "source": [
    "# Step 2: use scikitlearn to split the data\n",
    "train_data,test_data, train_labels,test_labels = train_test_split(images, labels, test_size=.1)\n",
    "\n",
    "# Step 3: convert into PyTorch Datasets\n",
    "train_data = TensorDataset(train_data,train_labels)\n",
    "test_data  = TensorDataset(test_data,test_labels)\n",
    "\n",
    "# Step 4: translate into dataloader objects\n",
    "batchsize    = 32\n",
    "train_loader = DataLoader(train_data,batch_size=batchsize,shuffle=True,drop_last=True)\n",
    "test_loader  = DataLoader(test_data,batch_size=test_data.tensors[0].shape[0])"
   ]
  },
  {
   "cell_type": "markdown",
   "metadata": {
    "id": "OK8Opkhgp0bO"
   },
   "source": [
    "# Create the DL model"
   ]
  },
  {
   "cell_type": "code",
   "execution_count": 7,
   "metadata": {
    "ExecuteTime": {
     "end_time": "2022-02-02T14:01:56.475704Z",
     "start_time": "2022-02-02T14:01:56.467725Z"
    },
    "id": "JK3OO3tAtZkA"
   },
   "outputs": [],
   "source": [
    "# create a class for the model\n",
    "def makeTheNet(numchans=(6,6)):\n",
    "\n",
    "    class emnistnet(nn.Module):\n",
    "        def __init__(self,numchans):\n",
    "            super().__init__()\n",
    "\n",
    "            ### -------------- feature map layers -------------- ###\n",
    "            # first convolution layer\n",
    "            self.conv1  = nn.Conv2d(1,numchans[0],3,padding=1)\n",
    "            self.bnorm1 = nn.BatchNorm2d(numchans[0])\n",
    "\n",
    "            # second convolution layer\n",
    "            self.conv2  = nn.Conv2d(numchans[0],numchans[1],3,padding=1)\n",
    "            self.bnorm2 = nn.BatchNorm2d(numchans[1])\n",
    "\n",
    "\n",
    "            ### -------------- linear decision layers -------------- ###\n",
    "            self.fc1 = nn.Linear(7*7*numchans[1],50)\n",
    "            self.fc2 = nn.Linear(50,26)\n",
    "\n",
    "        def forward(self,x):\n",
    "      \n",
    "            # first block: convolution -> maxpool -> batchnorm -> relu\n",
    "            x = F.max_pool2d(self.conv1(x),2)\n",
    "            x = F.leaky_relu(self.bnorm1(x))\n",
    "\n",
    "            # second block: convolution -> maxpool -> batchnorm -> relu\n",
    "            x = F.max_pool2d(self.conv2(x),2)\n",
    "            x = F.leaky_relu(self.bnorm2(x))\n",
    "\n",
    "            # reshape for linear layer\n",
    "            nUnits = x.shape.numel()/x.shape[0]\n",
    "            x = x.view(-1,int(nUnits))\n",
    "\n",
    "            # linear layers\n",
    "            x = F.leaky_relu(self.fc1(x))\n",
    "            x = self.fc2(x)\n",
    "\n",
    "            return x\n",
    "\n",
    "    # create the model instance\n",
    "    net = emnistnet(numchans)\n",
    "\n",
    "    # loss function\n",
    "    lossfun = nn.CrossEntropyLoss()\n",
    "\n",
    "    # optimizer\n",
    "    optimizer = torch.optim.Adam(net.parameters(),lr=.001)\n",
    "\n",
    "    return net,lossfun,optimizer"
   ]
  },
  {
   "cell_type": "code",
   "execution_count": 8,
   "metadata": {
    "ExecuteTime": {
     "end_time": "2022-02-02T14:01:59.331267Z",
     "start_time": "2022-02-02T14:01:59.308328Z"
    },
    "id": "y6icEJcXp0el"
   },
   "outputs": [
    {
     "name": "stdout",
     "output_type": "stream",
     "text": [
      "\n",
      "Output size:\n",
      "torch.Size([32, 26])\n",
      " \n",
      "Loss:\n",
      "tensor(3.3751, grad_fn=<NllLossBackward0>)\n"
     ]
    }
   ],
   "source": [
    "# test the model with one batch\n",
    "net,lossfun,optimizer = makeTheNet((6,12))\n",
    "\n",
    "X,y = iter(train_loader).next()\n",
    "yHat = net(X)\n",
    "\n",
    "# check size of output\n",
    "print('\\nOutput size:')\n",
    "print(yHat.shape)\n",
    "\n",
    "# # now let's compute the loss\n",
    "loss = lossfun(yHat,torch.squeeze(y))\n",
    "print(' ')\n",
    "print('Loss:')\n",
    "print(loss)"
   ]
  },
  {
   "cell_type": "code",
   "execution_count": null,
   "metadata": {
    "id": "Dhd1iUO9xjbv"
   },
   "outputs": [],
   "source": []
  },
  {
   "cell_type": "markdown",
   "metadata": {
    "id": "dvfGQIRGp0ht"
   },
   "source": [
    "# Create a function that trains the model"
   ]
  },
  {
   "cell_type": "code",
   "execution_count": 9,
   "metadata": {
    "ExecuteTime": {
     "end_time": "2022-02-02T14:02:02.611525Z",
     "start_time": "2022-02-02T14:02:02.595503Z"
    },
    "id": "IblJo1NCp0kl"
   },
   "outputs": [],
   "source": [
    "# a function that trains the model\n",
    "\n",
    "def function2trainTheModel(numchans):\n",
    "\n",
    "    # number of epochs\n",
    "    numepochs = 5\n",
    "\n",
    "    # create a new model\n",
    "    net,lossfun,optimizer = makeTheNet(numchans)\n",
    "\n",
    "    # send the model to the GPU\n",
    "    net.to(device)\n",
    "\n",
    "    # initialize losses\n",
    "    trainLoss = torch.zeros(numepochs)\n",
    "    testLoss  = torch.zeros(numepochs)\n",
    "    trainErr  = torch.zeros(numepochs)\n",
    "    testErr   = torch.zeros(numepochs)\n",
    "\n",
    "\n",
    "    # loop over epochs\n",
    "    for epochi in range(numepochs):\n",
    "\n",
    "        # loop over training data batches\n",
    "        net.train()\n",
    "        batchLoss = []\n",
    "        batchErr  = []\n",
    "        for X,y in train_loader:\n",
    "      \n",
    "            # push data to GPU\n",
    "            X = X.to(device)\n",
    "            y = y.to(device)\n",
    "\n",
    "            # forward pass and loss\n",
    "            yHat = net(X)\n",
    "            loss = lossfun(yHat,y)\n",
    "\n",
    "            # backprop\n",
    "            optimizer.zero_grad()\n",
    "            loss.backward()\n",
    "            optimizer.step()\n",
    "\n",
    "            # loss and error rate from this batch\n",
    "            batchLoss.append(loss.item())\n",
    "            batchErr.append( torch.mean((torch.argmax(yHat,axis=1) != y).float()).item() )\n",
    "        # end of batch loop...\n",
    "\n",
    "        # and get average losses across the batches\n",
    "        trainLoss[epochi] = np.mean(batchLoss)\n",
    "        trainErr[epochi]  = 100*np.mean(batchErr)\n",
    "\n",
    "        # test performance\n",
    "        net.eval()\n",
    "        X,y = next(iter(test_loader)) # extract X,y from test dataloader\n",
    "\n",
    "        # push data to GPU\n",
    "        X = X.to(device)\n",
    "        y = y.to(device)\n",
    "\n",
    "        with torch.no_grad(): # deactivates autograd\n",
    "            yHat = net(X)\n",
    "            loss = lossfun(yHat,y)\n",
    "      \n",
    "        # extract loss and error rates for test batch\n",
    "        testLoss[epochi] = loss.item()\n",
    "        testErr[epochi]  = 100*torch.mean((torch.argmax(yHat,axis=1) != y).float()).item()\n",
    "\n",
    "    # end epochs\n",
    "\n",
    "    # function output\n",
    "    return trainLoss,testLoss,trainErr,testErr,net"
   ]
  },
  {
   "cell_type": "markdown",
   "metadata": {
    "id": "XpGm9xdQ27Ob"
   },
   "source": [
    "# Run the model and show the results!"
   ]
  },
  {
   "cell_type": "code",
   "execution_count": 10,
   "metadata": {
    "ExecuteTime": {
     "end_time": "2022-02-02T14:03:35.282291Z",
     "start_time": "2022-02-02T14:02:07.411787Z"
    },
    "id": "l9pCC1R2p0nu"
   },
   "outputs": [],
   "source": [
    "trainLoss,testLoss,trainErr,testErr,net = function2trainTheModel((3,7))"
   ]
  },
  {
   "cell_type": "code",
   "execution_count": 11,
   "metadata": {
    "ExecuteTime": {
     "end_time": "2022-02-02T14:03:41.187469Z",
     "start_time": "2022-02-02T14:03:40.995636Z"
    },
    "id": "gHzKOZjnp0qn"
   },
   "outputs": [
    {
     "data": {
      "image/png": "[encoded data removed]",
      "text/plain": [
       "<Figure size 1152x360 with 2 Axes>"
      ]
     },
     "metadata": {
      "needs_background": "light"
     },
     "output_type": "display_data"
    }
   ],
   "source": [
    "fig,ax = plt.subplots(1,2,figsize=(16,5))\n",
    "\n",
    "ax[0].plot(trainLoss,'s-',label='Train')\n",
    "ax[0].plot(testLoss,'o-',label='Test')\n",
    "ax[0].set_xlabel('Epochs')\n",
    "ax[0].set_ylabel('Loss (MSE)')\n",
    "ax[0].set_title('Model loss')\n",
    "\n",
    "ax[1].plot(trainErr,'s-',label='Train')\n",
    "ax[1].plot(testErr,'o-',label='Test')\n",
    "ax[1].set_xlabel('Epochs')\n",
    "ax[1].set_ylabel('Error rates (%)')\n",
    "ax[1].set_title(f'Final model test error rate: {testErr[-1]:.2f}%')\n",
    "ax[1].legend()\n",
    "\n",
    "plt.show()"
   ]
  },
  {
   "cell_type": "markdown",
   "metadata": {
    "id": "J7uXeOfuWvTA"
   },
   "source": [
    "# Now for the experiment"
   ]
  },
  {
   "cell_type": "code",
   "execution_count": 12,
   "metadata": {
    "ExecuteTime": {
     "end_time": "2022-02-02T14:16:28.045144Z",
     "start_time": "2022-02-02T14:03:49.748215Z"
    },
    "id": "9SnUUHPm7xQE"
   },
   "outputs": [
    {
     "name": "stdout",
     "output_type": "stream",
     "text": [
      "0 0\n",
      "0 1\n",
      "0 2\n",
      "1 0\n",
      "1 1\n",
      "1 2\n",
      "2 0\n",
      "2 1\n",
      "2 2\n"
     ]
    }
   ],
   "source": [
    "# this experiment takes ~8 mins on a GPU\n",
    "convChans = [2,5,8]\n",
    "\n",
    "# initialize results matrix\n",
    "results    = np.zeros((len(convChans),len(convChans),2))\n",
    "convParams = np.zeros((len(convChans),len(convChans)))\n",
    "\n",
    "for i,Nchani in enumerate(convChans):\n",
    "    for j,Nchanj in enumerate(convChans):\n",
    "    \n",
    "        # run the model\n",
    "        trainLoss,testLoss,trainErr,testErr,net = function2trainTheModel((Nchani,Nchanj))\n",
    "\n",
    "        # get results\n",
    "        results[i,j,:]  = trainErr[-1],testErr[-1]\n",
    "        convParams[i,j] = Nchani+Nchanj # total number of convolution layer channels\n",
    "\n",
    "        print(i,j)"
   ]
  },
  {
   "cell_type": "code",
   "execution_count": 13,
   "metadata": {
    "ExecuteTime": {
     "end_time": "2022-02-02T14:16:28.218869Z",
     "start_time": "2022-02-02T14:16:28.046212Z"
    },
    "id": "qOfUnmus8kps"
   },
   "outputs": [
    {
     "data": {
      "image/png": "[encoded data removed]",
      "text/plain": [
       "<Figure size 720x288 with 3 Axes>"
      ]
     },
     "metadata": {
      "needs_background": "light"
     },
     "output_type": "display_data"
    }
   ],
   "source": [
    "# Show the results matrix\n",
    "\n",
    "fig,ax = plt.subplots(1,2,figsize=(10,4))\n",
    "\n",
    "for i in range(2):\n",
    "    h = ax[i].imshow(results[:,:,i],vmin=np.min(results),vmax=np.max(results))\n",
    "    ax[i].set_xlabel('Channels in conv1')\n",
    "    ax[i].set_ylabel('Channels in conv2')\n",
    "    ax[i].set_xticks(range(j+1)) # j defined in previous cell\n",
    "    ax[i].set_yticks(range(j+1))\n",
    "    ax[i].set_xticklabels(convChans)\n",
    "    ax[i].set_yticklabels(convChans)\n",
    "    title = 'Train' if i==0 else 'Test'\n",
    "    ax[i].set_title('Error rates %s'%title,fontweight='bold')\n",
    "\n",
    "\n",
    "# add a colorbar right of the plot (use common colorscaling for both plots)\n",
    "axpos = ax[1].get_position()\n",
    "cax = fig.add_axes([axpos.x1+.01,axpos.y0,.01,.75])\n",
    "hh = fig.colorbar(h,cax=cax)\n",
    "hh.set_label('Error rate (%)',rotation=270,labelpad=10)\n",
    "\n",
    "plt.show()"
   ]
  },
  {
   "cell_type": "code",
   "execution_count": 14,
   "metadata": {
    "ExecuteTime": {
     "end_time": "2022-02-02T14:16:28.368866Z",
     "start_time": "2022-02-02T14:16:28.219993Z"
    },
    "id": "q9eLv6nF9LML"
   },
   "outputs": [
    {
     "data": {
      "image/png": "[encoded data removed]",
      "text/plain": [
       "<Figure size 432x288 with 1 Axes>"
      ]
     },
     "metadata": {
      "needs_background": "light"
     },
     "output_type": "display_data"
    }
   ],
   "source": [
    "# error rate as a function of the total number of conv channels\n",
    "\n",
    "corrTrain = np.corrcoef(convParams.flatten(),results[:,:,0].flatten())\n",
    "corrTest  = np.corrcoef(convParams.flatten(),results[:,:,1].flatten())\n",
    "\n",
    "# plots\n",
    "plt.plot(convParams.flatten(),results[:,:,0].flatten(),'o',\n",
    "         label=f'Train (r={corrTrain[0,1]:.2f})')\n",
    "plt.plot(convParams.flatten(),results[:,:,1].flatten(),'s',\n",
    "         label=f'Test (r={corrTest[0,1]:.2f})')\n",
    "\n",
    "# other stuff etc\n",
    "plt.legend()\n",
    "plt.xlabel('Total number of convolution channels')\n",
    "plt.ylabel('Error rate (%)')\n",
    "plt.show()"
   ]
  },
  {
   "cell_type": "code",
   "execution_count": null,
   "metadata": {
    "id": "bzekgt5YsI0b"
   },
   "outputs": [],
   "source": []
  },
  {
   "cell_type": "markdown",
   "metadata": {
    "id": "Uh28k_l29urR"
   },
   "source": [
    "# Additional explorations"
   ]
  },
  {
   "cell_type": "code",
   "execution_count": 15,
   "metadata": {
    "id": "ib3uQtfv9wE2"
   },
   "outputs": [],
   "source": [
    "# 1) The correlation between error rate and convolution channels looks pretty compelling. How far do you dare go?!?! Try\n",
    "#    adding more channels. Does the error rate simply keep going down until it reaches zero? Or do you find a point of\n",
    "#    \"diminishing returns\", meaning that adding more channels no longer improves performance.\n",
    "# \n",
    "# 2) It seems intuitive that models with more layers take longer to train. But if there's one thing you've learned about\n",
    "#    deep learning, it's that intuition doesn't always get us very far. Thus: modify the code to track the training time\n",
    "#    for each model. Store the results in a separate matrix, and make an image of those results. Do they look like what\n",
    "#    you had expected?\n",
    "# \n",
    "# 3) Are net.train() and net.eval() necessary here? Why or why not?"
   ]
  }
 ],
 "metadata": {
  "accelerator": "GPU",
  "colab": {
   "authorship_tag": "ABX9TyNDMfGTGgD6UtRtIBcf6EKt",
   "collapsed_sections": [],
   "name": "DUDL_CNN_codeChallengeNumChans.ipynb",
   "provenance": [
    {
     "file_id": "1Gl6z-zdcb8bnpA9yaVQlQkXvEzoeneUJ",
     "timestamp": 1619810327778
    },
    {
     "file_id": "1eA6J6ztxuctVWX6V1s9jV-6kepO7VfC1",
     "timestamp": 1619797471899
    },
    {
     "file_id": "1FcEBC0NAESIlHQkv6_85R-XDUKGE8XbM",
     "timestamp": 1619549043909
    },
    {
     "file_id": "1qKgZ8kVcqNgwtBzHbWq5yJH_HqI6DxWW",
     "timestamp": 1617803880910
    },
    {
     "file_id": "15cpyHkJ435B4MqbyGjAH1poN4nCy_DE4",
     "timestamp": 1617737766196
    },
    {
     "file_id": "1OLuWuaFu0hcFgkQ2hh5BqbRuqUZD7XcQ",
     "timestamp": 1617734878578
    },
    {
     "file_id": "1XvzVGJPTJifVh8OpZVB7ykLxyUqYwQ1j",
     "timestamp": 1617196833019
    },
    {
     "file_id": "1bv1_y32e3KEExFKKlPfC3rpw1JxmBr8H",
     "timestamp": 1617124341706
    },
    {
     "file_id": "1GMq8u7KyHB2AE7Teyls9gK1T01OduQSn",
     "timestamp": 1616697516760
    },
    {
     "file_id": "1Ui3kyHim-e0XLgDs2mkBxVlYg7TKYtcg",
     "timestamp": 1616615469755
    },
    {
     "file_id": "1YpHocGI4rApOxIBb1ZghCU5L-hFnv4CK",
     "timestamp": 1616608248670
    }
   ]
  },
  "kernelspec": {
   "display_name": "Python 3 (ipykernel)",
   "language": "python",
   "name": "python3"
  },
  "language_info": {
   "codemirror_mode": {
    "name": "ipython",
    "version": 3
   },
   "file_extension": ".py",
   "mimetype": "text/x-python",
   "name": "python",
   "nbconvert_exporter": "python",
   "pygments_lexer": "ipython3",
   "version": "3.9.13"
  }
 },
 "nbformat": 4,
 "nbformat_minor": 4
}
