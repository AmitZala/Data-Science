{
 "cells": [
  {
   "cell_type": "code",
   "execution_count": 1,
   "metadata": {
    "ExecuteTime": {
     "end_time": "2022-02-01T15:03:36.556535Z",
     "start_time": "2022-02-01T15:03:34.833607Z"
    },
    "id": "YeuAheYyhdZw"
   },
   "outputs": [],
   "source": [
    "# import libraries\n",
    "import numpy as np\n",
    "\n",
    "import torch\n",
    "import torch.nn as nn\n",
    "import torch.nn.functional as F\n",
    "from torch.utils.data import DataLoader\n",
    "from sklearn.model_selection import train_test_split\n",
    "\n",
    "import matplotlib.pyplot as plt"
   ]
  },
  {
   "cell_type": "code",
   "execution_count": 2,
   "metadata": {
    "ExecuteTime": {
     "end_time": "2022-02-01T15:03:41.972648Z",
     "start_time": "2022-02-01T15:03:38.023775Z"
    },
    "id": "MU7rvmWuhjud"
   },
   "outputs": [],
   "source": [
    "# import dataset (comes with colab!)\n",
    "data = np.loadtxt(open('../../../Datasets/mnist_train_small.csv','rb'),delimiter=',')\n",
    "\n",
    "# extract labels (number IDs) and remove from data\n",
    "labels = data[:,0]\n",
    "data   = data[:,1:]\n",
    "\n",
    "# normalize the data to a range of [0 1]\n",
    "dataNorm = data / np.max(data)\n",
    "\n",
    "# NEW: reshape to 2D!\n",
    "dataNorm = dataNorm.reshape(dataNorm.shape[0], 1, 28, 28)"
   ]
  },
  {
   "cell_type": "markdown",
   "metadata": {
    "id": "OhLQ2YSvpiGj"
   },
   "source": [
    "# Create train/test groups using DataLoader"
   ]
  },
  {
   "cell_type": "code",
   "execution_count": 3,
   "metadata": {
    "ExecuteTime": {
     "end_time": "2022-02-01T15:03:44.727901Z",
     "start_time": "2022-02-01T15:03:44.672083Z"
    },
    "id": "Y_tZ1ymVp0Sf"
   },
   "outputs": [],
   "source": [
    "# Step 1: convert to tensor\n",
    "dataT   = torch.tensor( dataNorm ).float()\n",
    "labelsT = torch.tensor( labels ).long()\n",
    "\n",
    "# Step 2: use scikitlearn to split the data\n",
    "train_data,test_data, train_labels,test_labels = train_test_split(dataT, labelsT, test_size=.1)\n",
    "\n",
    "# Step 3: convert into PyTorch Datasets\n",
    "train_data = torch.utils.data.TensorDataset(train_data,train_labels)\n",
    "test_data  = torch.utils.data.TensorDataset(test_data,test_labels)\n",
    "\n",
    "# Step 4: translate into dataloader objects\n",
    "batchsize    = 32\n",
    "train_loader = DataLoader(train_data,batch_size=batchsize,shuffle=True,drop_last=True)\n",
    "test_loader  = DataLoader(test_data,batch_size=test_data.tensors[0].shape[0])"
   ]
  },
  {
   "cell_type": "markdown",
   "metadata": {
    "id": "MVYVMb0i-TPo"
   },
   "source": [
    "# Shift the test images by a few pixels"
   ]
  },
  {
   "cell_type": "code",
   "execution_count": 4,
   "metadata": {
    "ExecuteTime": {
     "end_time": "2022-02-01T15:03:56.554428Z",
     "start_time": "2022-02-01T15:03:56.377903Z"
    },
    "id": "jkv-gHBY-WWy"
   },
   "outputs": [
    {
     "data": {
      "image/png": "[encoded data removed]",
      "text/plain": [
       "<Figure size 720x432 with 2 Axes>"
      ]
     },
     "metadata": {
      "needs_background": "light"
     },
     "output_type": "display_data"
    }
   ],
   "source": [
    "# first let's see how to shift a vectorized image\n",
    "\n",
    "# grab one image data\n",
    "tmp = test_loader.dataset.tensors[0][0,:]\n",
    "# tmp = tmp.reshape(28,28) # reshape to 2D image\n",
    "\n",
    "# shift the image (pytorch calls it \"rolling\")\n",
    "tmpS = torch.roll(tmp,8,dims=1)\n",
    "\n",
    "\n",
    "# now show them both\n",
    "fig,ax = plt.subplots(1,2,figsize=(10,6))\n",
    "ax[0].imshow(torch.squeeze(tmp), cmap='gray')\n",
    "ax[0].set_title('Original')\n",
    "\n",
    "ax[1].imshow(torch.squeeze(tmpS), cmap='gray')\n",
    "ax[1].set_title('Shifted (rolled)')\n",
    "\n",
    "plt.show()"
   ]
  },
  {
   "cell_type": "code",
   "execution_count": 5,
   "metadata": {
    "ExecuteTime": {
     "end_time": "2022-02-01T15:04:04.169969Z",
     "start_time": "2022-02-01T15:04:03.784732Z"
    },
    "id": "wvdv5oLtBcV4"
   },
   "outputs": [],
   "source": [
    "# now repeat for all images in the training set\n",
    "\n",
    "for i in range(train_loader.dataset.tensors[0].shape[0]):\n",
    "  \n",
    "    # get the image\n",
    "    img = train_loader.dataset.tensors[0][i,:,:]\n",
    "  \n",
    "    # reshape and roll by 10 pixels\n",
    "    randroll = np.random.randint(-10,11)\n",
    "    img = torch.roll( img ,randroll,dims=1 )\n",
    "\n",
    "    # re-vectorize and put back into the matrix\n",
    "    train_loader.dataset.tensors[0][i,:,:] = img\n",
    "\n",
    "\n",
    "# Note: now run the previous cell again to confirm the shifting"
   ]
  },
  {
   "cell_type": "code",
   "execution_count": 6,
   "metadata": {
    "ExecuteTime": {
     "end_time": "2022-02-01T15:04:10.418536Z",
     "start_time": "2022-02-01T15:04:10.351685Z"
    },
    "id": "CJjWCoPp-WaL"
   },
   "outputs": [],
   "source": [
    "# now repeat for all images in the test set\n",
    "\n",
    "for i in range(test_loader.dataset.tensors[0].shape[0]):\n",
    "  \n",
    "    # get the image\n",
    "    img = test_loader.dataset.tensors[0][i,:,:]\n",
    "  \n",
    "    # reshape and roll by 10 pixels\n",
    "    randroll = np.random.randint(-10,11)\n",
    "    img = torch.roll( img ,randroll,dims=1 )\n",
    "\n",
    "    # re-vectorize and put back into the matrix\n",
    "    test_loader.dataset.tensors[0][i,:,:] = img\n",
    "\n",
    "\n",
    "# Note: now run the previous cell again to confirm the shifting"
   ]
  },
  {
   "cell_type": "markdown",
   "metadata": {
    "id": "OK8Opkhgp0bO"
   },
   "source": [
    "# Create the DL model"
   ]
  },
  {
   "cell_type": "code",
   "execution_count": 7,
   "metadata": {
    "id": "JK3OO3tAtZkA"
   },
   "outputs": [],
   "source": [
    "# # create a class for the model\n",
    "# def createTheMNISTNet():\n",
    "\n",
    "#   class mnistNet(nn.Module):\n",
    "#     def __init__(self):\n",
    "#       super().__init__()\n",
    "\n",
    "#       ### input layer\n",
    "#       self.input = nn.Linear(784,64)\n",
    "      \n",
    "#       ### hidden layer\n",
    "#       self.fc1 = nn.Linear(64,32)\n",
    "#       self.fc2 = nn.Linear(32,32)\n",
    "\n",
    "#       ### output layer\n",
    "#       self.output = nn.Linear(32,10)\n",
    "\n",
    "#     # forward pass\n",
    "#     def forward(self,x):\n",
    "#       x = F.relu( self.input(x) )\n",
    "#       x = F.relu( self.fc1(x) )\n",
    "#       x = F.relu( self.fc2(x) )\n",
    "#       return self.output(x)\n",
    "  \n",
    "#   # create the model instance\n",
    "#   net = mnistNet()\n",
    "  \n",
    "#   # loss function\n",
    "#   lossfun = nn.CrossEntropyLoss()\n",
    "\n",
    "#   # optimizer\n",
    "#   optimizer = torch.optim.SGD(net.parameters(),lr=.01)\n",
    "\n",
    "#   return net,lossfun,optimizer"
   ]
  },
  {
   "cell_type": "code",
   "execution_count": 8,
   "metadata": {
    "ExecuteTime": {
     "end_time": "2022-02-01T15:04:24.362025Z",
     "start_time": "2022-02-01T15:04:24.305970Z"
    },
    "id": "uWMUb5Sp-kW2"
   },
   "outputs": [],
   "source": [
    "# create a class for the model\n",
    "def createTheMNISTNet(printtoggle=False):\n",
    "\n",
    "    class mnistNet(nn.Module):\n",
    "        def __init__(self,printtoggle):\n",
    "            super().__init__()\n",
    "\n",
    "            ### convolution layers\n",
    "            self.conv1 = nn.Conv2d( 1,10,kernel_size=5,stride=1,padding=1)\n",
    "            # size: np.floor( (28+2*1-5)/1 )+1 = 26/2 = 13 (/2 b/c maxpool)\n",
    "\n",
    "            self.conv2 = nn.Conv2d(10,20,kernel_size=5,stride=1,padding=1)\n",
    "            # size: np.floor( (13+2*1-5)/1 )+1 = 11/2 = 5 (/2 b/c maxpool)\n",
    "\n",
    "            # compute the number of units in FClayer (number of outputs of conv2)\n",
    "            expectSize = np.floor( (5+2*0-1)/1 ) + 1 # fc1 layer has no padding or kernel, so set to 0/1\n",
    "            expectSize = 20*int(expectSize**2)\n",
    "\n",
    "            ### fully-connected layer\n",
    "            self.fc1 = nn.Linear(expectSize,50)\n",
    "\n",
    "            ### output layer\n",
    "            self.out = nn.Linear(50,10)\n",
    "\n",
    "            # toggle for printing out tensor sizes during forward prop\n",
    "            self.print = printtoggle\n",
    "\n",
    "        # forward pass\n",
    "        def forward(self,x):\n",
    "      \n",
    "            print(f'Input: {x.shape}') if self.print else None\n",
    "\n",
    "            # convolution -> maxpool -> relu\n",
    "            x = F.relu(F.max_pool2d(self.conv1(x),2))\n",
    "            print(f'Layer conv1: {x.shape}') if self.print else None\n",
    "\n",
    "            # and again: convolution -> maxpool -> relu\n",
    "            x = F.relu(F.max_pool2d(self.conv2(x),2))\n",
    "            print(f'Layer conv2: {x.shape}') if self.print else None\n",
    "\n",
    "            # reshape for linear layer\n",
    "            nUnits = x.shape.numel()/x.shape[0]\n",
    "            x = x.view(-1,int(nUnits))\n",
    "            print(f'Vectorize: {x.shape}') if self.print else None\n",
    "\n",
    "            # linear layers\n",
    "            x = F.relu(self.fc1(x))\n",
    "            print(f'Layer fc1: {x.shape}') if self.print else None\n",
    "            x = self.out(x)\n",
    "            print(f'Layer out: {x.shape}') if self.print else None\n",
    "\n",
    "            return x\n",
    "  \n",
    "    # create the model instance\n",
    "    net = mnistNet(printtoggle)\n",
    "\n",
    "    # loss function\n",
    "    lossfun = nn.CrossEntropyLoss()\n",
    "\n",
    "    # optimizer\n",
    "    optimizer = torch.optim.Adam(net.parameters(),lr=.001)\n",
    "\n",
    "    return net,lossfun,optimizer"
   ]
  },
  {
   "cell_type": "markdown",
   "metadata": {
    "id": "dvfGQIRGp0ht"
   },
   "source": [
    "# Create a function that trains the model"
   ]
  },
  {
   "cell_type": "code",
   "execution_count": 9,
   "metadata": {
    "ExecuteTime": {
     "end_time": "2022-02-01T15:04:39.367086Z",
     "start_time": "2022-02-01T15:04:39.351714Z"
    },
    "id": "IblJo1NCp0kl"
   },
   "outputs": [],
   "source": [
    "# a function that trains the model\n",
    "\n",
    "def function2trainTheModel():\n",
    "\n",
    "    # number of epochs\n",
    "    numepochs = 30\n",
    "\n",
    "    # create a new model\n",
    "    net,lossfun,optimizer = createTheMNISTNet()\n",
    "\n",
    "    # initialize losses\n",
    "    losses    = torch.zeros(numepochs)\n",
    "    trainAcc  = []\n",
    "    testAcc   = []\n",
    "\n",
    "\n",
    "    # loop over epochs\n",
    "    for epochi in range(numepochs):\n",
    "\n",
    "        # loop over training data batches\n",
    "        batchAcc  = []\n",
    "        batchLoss = []\n",
    "        for X,y in train_loader:\n",
    "\n",
    "            # forward pass and loss\n",
    "            yHat = net(X)\n",
    "            loss = lossfun(yHat,y)\n",
    "\n",
    "            # backprop\n",
    "            optimizer.zero_grad()\n",
    "            loss.backward()\n",
    "            optimizer.step()\n",
    "\n",
    "            # loss from this batch\n",
    "            batchLoss.append(loss.item())\n",
    "\n",
    "            # compute accuracy\n",
    "            matches = torch.argmax(yHat,axis=1) == y     # booleans (false/true)\n",
    "            matchesNumeric = matches.float()             # convert to numbers (0/1)\n",
    "            accuracyPct = 100*torch.mean(matchesNumeric) # average and x100\n",
    "            batchAcc.append( accuracyPct )               # add to list of accuracies\n",
    "        # end of batch loop...\n",
    "\n",
    "        # now that we've trained through the batches, get their average training accuracy\n",
    "        trainAcc.append( np.mean(batchAcc) )\n",
    "\n",
    "        # and get average losses across the batches\n",
    "        losses[epochi] = np.mean(batchLoss)\n",
    "\n",
    "        # test accuracy\n",
    "        X,y = next(iter(test_loader))\n",
    "        with torch.no_grad(): # deactivates autograd\n",
    "            yHat = net(X)\n",
    "      \n",
    "        # compare the following really long line of code to the training accuracy lines\n",
    "        testAcc.append( 100*torch.mean((torch.argmax(yHat,axis=1)==y).float()) )\n",
    "\n",
    "    # end epochs\n",
    "\n",
    "    # function output\n",
    "    return trainAcc,testAcc,losses,net\n"
   ]
  },
  {
   "cell_type": "markdown",
   "metadata": {
    "id": "XpGm9xdQ27Ob"
   },
   "source": [
    "# Run the model and show the results!"
   ]
  },
  {
   "cell_type": "code",
   "execution_count": 10,
   "metadata": {
    "ExecuteTime": {
     "end_time": "2022-02-01T15:06:08.276785Z",
     "start_time": "2022-02-01T15:04:48.209137Z"
    },
    "id": "l9pCC1R2p0nu"
   },
   "outputs": [],
   "source": [
    "trainAcc,testAcc,losses,net = function2trainTheModel()"
   ]
  },
  {
   "cell_type": "code",
   "execution_count": 11,
   "metadata": {
    "ExecuteTime": {
     "end_time": "2022-02-01T15:06:22.816034Z",
     "start_time": "2022-02-01T15:06:22.651250Z"
    },
    "id": "gHzKOZjnp0qn"
   },
   "outputs": [
    {
     "data": {
      "image/png": "[encoded data removed]",
      "text/plain": [
       "<Figure size 864x288 with 2 Axes>"
      ]
     },
     "metadata": {
      "needs_background": "light"
     },
     "output_type": "display_data"
    }
   ],
   "source": [
    "fig,ax = plt.subplots(1,2,figsize=(12,4))\n",
    "\n",
    "ax[0].plot(losses)\n",
    "ax[0].set_xlabel('Epochs')\n",
    "ax[0].set_ylabel('Loss')\n",
    "ax[0].set_ylim([0,3])\n",
    "ax[0].set_title('Model loss')\n",
    "\n",
    "ax[1].plot(trainAcc,label='Train')\n",
    "ax[1].plot(testAcc,label='Test')\n",
    "ax[1].set_xlabel('Epochs')\n",
    "ax[1].set_ylabel('Accuracy (%)')\n",
    "ax[1].set_ylim([10,100])\n",
    "ax[1].set_title(f'Final model test accuracy: {testAcc[-1]:.2f}%')\n",
    "ax[1].legend()\n",
    "\n",
    "plt.show()"
   ]
  },
  {
   "cell_type": "code",
   "execution_count": null,
   "metadata": {
    "id": "9SnUUHPm7xQE"
   },
   "outputs": [],
   "source": []
  },
  {
   "cell_type": "markdown",
   "metadata": {
    "id": "Uh28k_l29urR"
   },
   "source": [
    "# Optional explorations"
   ]
  },
  {
   "cell_type": "code",
   "execution_count": 12,
   "metadata": {
    "id": "ib3uQtfv9wE2"
   },
   "outputs": [],
   "source": [
    "# 1) Don't translate the train images; only the test images. How does the model do now? What does this tell you about \n",
    "#    what the model learned during training? (Tip: compare the test performance here to a similar performance in the ANN\n",
    "#    model.)"
   ]
  }
 ],
 "metadata": {
  "colab": {
   "authorship_tag": "ABX9TyPMk6ylpTvQH3BbFnyy1vos",
   "collapsed_sections": [],
   "name": "DUDL_CNN_shiftedMNIST.ipynb",
   "provenance": [
    {
     "file_id": "1Tuqj6yzPlT0RCaisSZM6f-0bXlukRIGL",
     "timestamp": 1619621659800
    },
    {
     "file_id": "1qKgZ8kVcqNgwtBzHbWq5yJH_HqI6DxWW",
     "timestamp": 1617803880910
    },
    {
     "file_id": "15cpyHkJ435B4MqbyGjAH1poN4nCy_DE4",
     "timestamp": 1617737766196
    },
    {
     "file_id": "1OLuWuaFu0hcFgkQ2hh5BqbRuqUZD7XcQ",
     "timestamp": 1617734878578
    },
    {
     "file_id": "1XvzVGJPTJifVh8OpZVB7ykLxyUqYwQ1j",
     "timestamp": 1617196833019
    },
    {
     "file_id": "1bv1_y32e3KEExFKKlPfC3rpw1JxmBr8H",
     "timestamp": 1617124341706
    },
    {
     "file_id": "1GMq8u7KyHB2AE7Teyls9gK1T01OduQSn",
     "timestamp": 1616697516760
    },
    {
     "file_id": "1Ui3kyHim-e0XLgDs2mkBxVlYg7TKYtcg",
     "timestamp": 1616615469755
    },
    {
     "file_id": "1YpHocGI4rApOxIBb1ZghCU5L-hFnv4CK",
     "timestamp": 1616608248670
    }
   ]
  },
  "kernelspec": {
   "display_name": "Python 3 (ipykernel)",
   "language": "python",
   "name": "python3"
  },
  "language_info": {
   "codemirror_mode": {
    "name": "ipython",
    "version": 3
   },
   "file_extension": ".py",
   "mimetype": "text/x-python",
   "name": "python",
   "nbconvert_exporter": "python",
   "pygments_lexer": "ipython3",
   "version": "3.9.13"
  }
 },
 "nbformat": 4,
 "nbformat_minor": 4
}
