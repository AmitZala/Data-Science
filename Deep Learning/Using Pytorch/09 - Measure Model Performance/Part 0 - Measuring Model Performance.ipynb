{
 "cells": [
  {
   "cell_type": "markdown",
   "id": "c1401d76",
   "metadata": {},
   "source": [
    "# Measuring Model Performance\n",
    "\n",
    "## Accuracy, Precision, Recall, F1\n",
    "\n",
    "![Accuracy](https://github.com/Sayan-Roy-729/images/blob/main/deep_learning/9_measure_model_performance/images/image-1.png?raw=true)\n",
    "\n",
    "![Precision](https://github.com/Sayan-Roy-729/images/blob/main/deep_learning/9_measure_model_performance/images/image-2.png?raw=true)\n",
    "\n",
    "![Recall](https://github.com/Sayan-Roy-729/images/blob/main/deep_learning/9_measure_model_performance/images/image-3.png?raw=true)\n",
    "\n",
    "![F1 Score](https://github.com/Sayan-Roy-729/images/blob/main/deep_learning/9_measure_model_performance/images/image-4.png?raw=true)\n",
    "\n",
    "![Real Example](https://github.com/Sayan-Roy-729/images/blob/main/deep_learning/9_measure_model_performance/images/image-5.png?raw=true)\n",
    "\n",
    ">**Code:**\n",
    "- [Part 1 - Accuracy Precision Recall & F1](\"https://github.com/Sayan-Roy-729/Data-Science/blob/main/Deep%20Learning/Using%20Pytorch/Part%209%20-%20Measure%20Model%20Performance/Part%201%20-%20Accuracy%20Precision%20Recall%20%26%20F1.ipynb\")\n",
    "- [Part 2 - APRF of Wine Quality](\"https://github.com/Sayan-Roy-729/Data-Science/blob/main/Deep%20Learning/Using%20Pytorch/Part%209%20-%20Measure%20Model%20Performance/Part%202%20-%20APRF%20of%20Wine%20Quality.ipynb\")"
   ]
  },
  {
   "cell_type": "code",
   "execution_count": null,
   "id": "63f1d66d-5e87-4e65-8a96-efa33920ebaf",
   "metadata": {},
   "outputs": [],
   "source": []
  }
 ],
 "metadata": {
  "kernelspec": {
   "display_name": "Python 3 (ipykernel)",
   "language": "python",
   "name": "python3"
  },
  "language_info": {
   "codemirror_mode": {
    "name": "ipython",
    "version": 3
   },
   "file_extension": ".py",
   "mimetype": "text/x-python",
   "name": "python",
   "nbconvert_exporter": "python",
   "pygments_lexer": "ipython3",
   "version": "3.8.8"
  },
  "toc": {
   "base_numbering": 1,
   "nav_menu": {},
   "number_sections": true,
   "sideBar": true,
   "skip_h1_title": false,
   "title_cell": "Table of Contents",
   "title_sidebar": "Contents",
   "toc_cell": false,
   "toc_position": {},
   "toc_section_display": true,
   "toc_window_display": false
  }
 },
 "nbformat": 4,
 "nbformat_minor": 5
}
