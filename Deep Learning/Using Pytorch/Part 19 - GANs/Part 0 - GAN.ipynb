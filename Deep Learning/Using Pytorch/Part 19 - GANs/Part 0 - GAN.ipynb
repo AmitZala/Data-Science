{
 "cells": [
  {
   "cell_type": "markdown",
   "id": "4dd960e7",
   "metadata": {},
   "source": [
    "# GAN\n",
    "\n",
    "## What, why and how\n",
    "\n",
    "![About ML & DL Models](./images/image-1.png)"
   ]
  },
  {
   "cell_type": "markdown",
   "id": "f459012c",
   "metadata": {},
   "source": [
    "![Generative Adversarial Network](./images/image-2.png)\n",
    "![GAN](./images/image-3.png)"
   ]
  },
  {
   "cell_type": "markdown",
   "id": "9e8828ba",
   "metadata": {},
   "source": [
    "![Step 1](./images/image-4.png)"
   ]
  },
  {
   "cell_type": "markdown",
   "id": "28170c61",
   "metadata": {},
   "source": [
    "![Step 2](./images/image-5.png)\n",
    "\n",
    "![Some more details](./images/image-6.png)"
   ]
  },
  {
   "cell_type": "markdown",
   "id": "cf5640b2",
   "metadata": {},
   "source": [
    ">**GAN applications**\n",
    "- Combine two categories to increase training set.\n",
    "- Super-resolution upscaling\n",
    "- Personalized medical devices\n",
    "- Evil (e.g., deep fakes).\n",
    "- Learning from private data without privacy concerns (learn from data, then delete original data).\n",
    "\n",
    ">**Current issues with GANs**\n",
    "- Sensitive to model architecture and features\n",
    "- Evaluating GANs is mostly qualitative\n",
    "- Difficulties with translation from lab to real-world applications.\n",
    "- Evil (deep fakes)\n",
    "- Ignore everything above! (except for ethical issues...)"
   ]
  },
  {
   "cell_type": "markdown",
   "id": "c2050f5a",
   "metadata": {},
   "source": [
    ">**Code:**\n",
    "- Part 1 - Linear GAN with MNIST"
   ]
  },
  {
   "cell_type": "markdown",
   "id": "7dbf013d",
   "metadata": {},
   "source": [
    "## CNN GAN with Gaussians\n",
    "\n",
    "![Generator & Discriminator Architecture](./images/image-8.png)"
   ]
  },
  {
   "cell_type": "markdown",
   "id": "7f0a5f96",
   "metadata": {},
   "source": [
    ">**Code:**\n",
    "- Part 3 - CNN GAN with Gaussians\n",
    "- Part 4 - CodeChallenge Gaussians with fewer layers\n",
    "- Part 5 - CNN GAN with FMNIST\n",
    "- Part 6 - CodeChallenge CNN GAN with CIFAR"
   ]
  }
 ],
 "metadata": {
  "kernelspec": {
   "display_name": "Python 3 (ipykernel)",
   "language": "python",
   "name": "python3"
  },
  "language_info": {
   "codemirror_mode": {
    "name": "ipython",
    "version": 3
   },
   "file_extension": ".py",
   "mimetype": "text/x-python",
   "name": "python",
   "nbconvert_exporter": "python",
   "pygments_lexer": "ipython3",
   "version": "3.9.13"
  }
 },
 "nbformat": 4,
 "nbformat_minor": 5
}
