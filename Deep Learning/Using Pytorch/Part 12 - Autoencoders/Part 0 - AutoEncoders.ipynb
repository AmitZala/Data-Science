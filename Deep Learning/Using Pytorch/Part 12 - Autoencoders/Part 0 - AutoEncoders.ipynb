{
 "cells": [
  {
   "cell_type": "markdown",
   "id": "467fc8ab",
   "metadata": {},
   "source": [
    "# AutoEncoders:\n",
    "\n",
    "**Autoencoder Architecture:**\n",
    "- Auto = self\n",
    "- Encoder = convert into a different form (typically simple or reduced-dimensional)\n",
    "- Autoencoder = a system that teaches itself how to encode information.\n",
    "\n",
    "![Autoencoder Architrcture](./images/image-1.png)\n",
    "\n",
    "![Autoencoder Architrcture](./images/image-2.png)\n",
    "\n",
    ">**Loss function and optimization**\n",
    "- MSE is used.\n",
    "- Can also use cross-entropy of the data values are probabilities or scaled [0 1].\n",
    "\n",
    ">**What are autoencoders for?**\n",
    "- Data compression or dimension-reduction.\n",
    "- Data cleaning (denoising, despeckling, occlusion).\n",
    "- Feature extraction.\n",
    "- Anomaly/fraud detection.\n",
    "- Pretraining deep or complex models.\n",
    "\n",
    ">**Code:**\n",
    "- [Part 1 - Denoising MNIST](https://github.com/Sayan-Roy-729/Data-Science/blob/main/Deep%20Learning/Using%20Pytorch/Part%2012%20-%20Autoencoders/Part%201%20-%20Denoising%20MNIST.ipynb)\n",
    "- [Part 2 - CodeChallenge how many units?](https://github.com/Sayan-Roy-729/Data-Science/blob/main/Deep%20Learning/Using%20Pytorch/Part%2012%20-%20Autoencoders/Part%202%20-%20CodeChallenge%20how%20many%20units.ipynb)"
   ]
  },
  {
   "cell_type": "markdown",
   "id": "f15fa01f",
   "metadata": {},
   "source": [
    "## Autoencoders for occlusion\n",
    "\n",
    "![What is occlusion](./images/image-3.png)\n",
    "\n",
    ">**Code:**\n",
    "- Part 3 - Autoencoders for Occlusion\n",
    "\n",
    "## The Latent Code of MNIST\n",
    "\n",
    "![Latent Code of MNIST](./images/image-4.png)\n",
    "\n",
    ">**Code:**\n",
    "- [Part 4 - The latent code of MNIST](https://drive.google.com/file/d/1vXmVP0rBInyVIVd8a3L4KS4dp9z6Rxwj/view?usp=sharing)"
   ]
  },
  {
   "cell_type": "markdown",
   "id": "9fbc1e50",
   "metadata": {},
   "source": [
    "## Autoencoder with tied weights\n",
    "\n",
    "![Autoencoder with tied weights theory](./images/image-5.png)\n",
    "\n",
    ">**The Good & The Bad:**\n",
    "- *Advantages:* Fewer model parameters to train. Lower risk of overfitting. Generally comparable performance to non-tied weights.\n",
    "- *Disadvantages:* Performance might be lower. No theorical guarantee that decoding is best done by missoring encoding. Trickier to code.\n",
    "\n",
    ">**Code:**\n",
    "- Part 5 - Autoencoder with tied weights"
   ]
  }
 ],
 "metadata": {
  "kernelspec": {
   "display_name": "Python 3 (ipykernel)",
   "language": "python",
   "name": "python3"
  },
  "language_info": {
   "codemirror_mode": {
    "name": "ipython",
    "version": 3
   },
   "file_extension": ".py",
   "mimetype": "text/x-python",
   "name": "python",
   "nbconvert_exporter": "python",
   "pygments_lexer": "ipython3",
   "version": "3.9.13"
  }
 },
 "nbformat": 4,
 "nbformat_minor": 5
}
