{
 "cells": [
  {
   "cell_type": "markdown",
   "id": "467fc8ab",
   "metadata": {},
   "source": [
    "# AutoEncoders:\n",
    "\n",
    "**Autoencoder Architecture:**\n",
    "- Auto = self\n",
    "- Encoder = convert into a different form (typically simple or reduced-dimensional)\n",
    "- Autoencoder = a system that teaches itself how to encode information.\n",
    "\n",
    "![Autoencoder Architrcture](./images/image-1.png)\n",
    "\n",
    "![Autoencoder Architrcture](./images/image-2.png)\n",
    "\n",
    ">**Loss function and optimization**\n",
    "- MSE is used.\n",
    "- Can also use cross-entropy of the data values are probabilities or scaled [0 1].\n",
    "\n",
    ">**What are autoencoders for?**\n",
    "- Data compression or dimension-reduction.\n",
    "- Data cleaning (denoising, despeckling, occlusion).\n",
    "- Feature extraction.\n",
    "- Anomaly/fraud detection.\n",
    "- Pretraining deep or complex models.\n",
    "\n",
    ">**Code:**\n",
    "- [Part 1 - Denoising MNIST](https://drive.google.com/file/d/16qYLa1zrHb0zDxX0JN3TJ1eH-LXE6Prc/view?usp=sharing)\n",
    "- [Part 2 - CodeChallenge how many units?](https://drive.google.com/file/d/1F69KQN0GQZwFmiwNY0MCVA_4BzgTXXWM/view?usp=sharing)"
   ]
  },
  {
   "cell_type": "markdown",
   "id": "f15fa01f",
   "metadata": {},
   "source": [
    "## Autoencoders for occlusion\n",
    "\n",
    "![What is occlusion](./images/image-3.png)\n",
    "\n",
    ">**Code:**\n",
    "- [Part 3 - Autoencoders for Occlusion](https://drive.google.com/file/d/1PhQyE4r-zGtADyt0SmwTfsteZQuhOCim/view?usp=sharing)\n",
    "\n",
    "## The Latent Code of MNIST\n",
    "\n",
    "![Latent Code of MNIST](./images/image-4.png)\n",
    "\n",
    ">**Code:**\n",
    "- [Part 4 - The latent code of MNIST](https://drive.google.com/file/d/1YKqRc-ZvpmFYhJbOKdUCKGcWciMXDb6i/view?usp=sharing)"
   ]
  },
  {
   "cell_type": "markdown",
   "id": "9fbc1e50",
   "metadata": {},
   "source": [
    "## Autoencoder with tied weights\n",
    "\n",
    "![Autoencoder with tied weights theory](./images/image-5.png)\n",
    "\n",
    ">**The Good & The Bad:**\n",
    "- *Advantages:* Fewer model parameters to train. Lower risk of overfitting. Generally comparable performance to non-tied weights.\n",
    "- *Disadvantages:* Performance might be lower. No theorical guarantee that decoding is best done by missoring encoding. Trickier to code.\n",
    "\n",
    ">**Code:**\n",
    "- [Part 5 - Autoencoder with tied weights](https://drive.google.com/file/d/134SGQYGn7EIP_YqCBLJcwiab2VY3HRG4/view?usp=sharing)"
   ]
  },
  {
   "cell_type": "code",
   "execution_count": null,
   "id": "075cd175-05d8-405c-9f2f-dcb9c13ccd14",
   "metadata": {},
   "outputs": [],
   "source": []
  }
 ],
 "metadata": {
  "kernelspec": {
   "display_name": "Python 3 (ipykernel)",
   "language": "python",
   "name": "python3"
  },
  "language_info": {
   "codemirror_mode": {
    "name": "ipython",
    "version": 3
   },
   "file_extension": ".py",
   "mimetype": "text/x-python",
   "name": "python",
   "nbconvert_exporter": "python",
   "pygments_lexer": "ipython3",
   "version": "3.9.13"
  }
 },
 "nbformat": 4,
 "nbformat_minor": 5
}
