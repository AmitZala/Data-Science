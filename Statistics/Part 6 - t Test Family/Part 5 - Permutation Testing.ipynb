{
 "cells": [
  {
   "cell_type": "code",
   "execution_count": 1,
   "metadata": {},
   "outputs": [],
   "source": [
    "# import libraries\n",
    "import matplotlib.pyplot as plt\n",
    "import numpy as np\n",
    "import scipy.stats as stats"
   ]
  },
  {
   "cell_type": "code",
   "execution_count": 2,
   "metadata": {},
   "outputs": [
    {
     "data": {
      "image/png": "[encoded data removed]",
      "text/plain": [
       "<Figure size 432x288 with 1 Axes>"
      ]
     },
     "metadata": {
      "needs_background": "light"
     },
     "output_type": "display_data"
    }
   ],
   "source": [
    "## simulate two distributions\n",
    "\n",
    "# number of trials\n",
    "N = 100\n",
    "\n",
    "# dataset \"A\"\n",
    "r = np.random.randn(N)\n",
    "r[r>0] = np.log(1+r[r>0])\n",
    "dataA = 26-r*10\n",
    "\n",
    "# get histogram values for later comparison\n",
    "yA,xA = np.histogram(dataA,20)\n",
    "xA = (xA[:-1]+xA[1:])/2\n",
    "\n",
    "# dataset \"B\"\n",
    "r = np.random.randn(N)\n",
    "r[r>0] = np.log(1+r[r>0])\n",
    "dataB = 30-r*10\n",
    "\n",
    "#get histogram values for later comparison\n",
    "yB,xB = np.histogram(dataB,20)\n",
    "xB = (xB[:-1]+xB[1:])/2\n",
    "\n",
    "\n",
    "plt.stem(xA,yA,'b',markerfmt='bo',basefmt=' ',label='Data\"A\"')\n",
    "plt.stem(xB,yB,'r',markerfmt='ro',basefmt=' ',label='Data\"B\"')\n",
    "plt.legend()\n",
    "plt.show()"
   ]
  },
  {
   "cell_type": "code",
   "execution_count": 3,
   "metadata": {},
   "outputs": [
    {
     "name": "stdout",
     "output_type": "stream",
     "text": [
      "[32.17416593 23.50578094 36.37659006 35.88722405 26.48548256 21.9941507\n",
      " 39.36693108 39.83825182 34.81611544 27.8441017  24.55691716 48.95417774\n",
      " 34.13190131 23.81262654 25.99113342 28.70115603 17.05300648 47.69334689\n",
      " 31.81500503 29.88714794 21.21206482 37.77203844 20.5982684  26.14145896\n",
      " 26.02717981 36.74700189 15.74602189 21.41456927 20.13065131 26.26768499\n",
      " 24.35192832 35.99189863 24.94328228 19.77207478 37.18417627 20.8422013\n",
      " 14.20559782 41.66144468 15.23983178 29.61198942 19.66542151 15.90245415\n",
      " 22.65889705 25.24003234 33.32315937 19.85275254 20.93397189 19.43584067\n",
      " 19.84595084 36.61333659 36.97622447 31.51134576 17.16344761 29.41612695\n",
      " 25.84037756 17.17579552 15.310496   20.55103886 30.87517649 21.19122964\n",
      " 19.91249542 25.51511976 62.49922879 51.34468104 22.2357142  20.80799552\n",
      " 35.76671592 29.44936695 19.3148491  30.86915916 46.44994933 25.15874691\n",
      " 16.1464524  21.67499011 39.53457345 37.3345005  28.12878222 51.36941771\n",
      " 17.8038411  35.77465298 16.26485236 20.5796331  14.21336654 49.6362623\n",
      " 32.36872517 28.49487151 29.39390024 33.90796415 29.15245623 31.13516688\n",
      " 18.69504879 17.93215432 30.53588256 26.94819048 20.57476008 33.18342082\n",
      " 32.1497306  19.85101977 17.38286185 33.50867037 43.80759454 47.38417645\n",
      " 27.71144847 42.45571861 28.17675154 41.53526551 39.58200375 34.85625067\n",
      " 26.85466568 21.28634741 50.32663793 28.69531022 37.27674169 30.4506814\n",
      " 54.67089119 18.74465553 35.26003275 45.37682049 35.18711914 24.6398361\n",
      " 44.93228044 30.0695959  23.62774249 33.38946584 22.67635226 43.80487599\n",
      " 32.89876974 20.11458867 28.57300376 22.52143108 23.04847707 31.24959259\n",
      " 29.17271935 30.18600089 30.50976459 46.71495474 26.78305089 21.50494656\n",
      " 32.64573309 25.04832271 40.8274227  22.40920002 39.23470516 29.70828862\n",
      " 39.60954003 24.93518758 29.99332083 29.064078   34.95589659 36.22141131\n",
      " 28.07227232 23.10501834 34.25755154 23.48372535 38.63332661 22.55396366\n",
      " 21.23703795 27.0801732  44.50986414 20.01152152 32.16991258 40.57550441\n",
      " 34.84214823 22.79681484 28.45389231 37.6280927  27.79057847 24.20822755\n",
      " 18.83647849 27.91797541 56.88855826 39.67052322 21.81626706 32.7768008\n",
      " 26.1154828  37.01781196 33.61872666 41.54362815 28.41682462 30.37299993\n",
      " 28.71617337 23.300521   20.91352621 33.00860166 21.51162407 35.66877325\n",
      " 30.49211349 23.53674894 23.80739943 24.75117056 25.21194281 29.15188012\n",
      " 39.3454128  39.25655726 43.33748428 21.24493387 39.87826128 35.99659016\n",
      " 38.79596158 24.47294094]\n",
      "[1. 1. 1. 1. 1. 1. 1. 1. 1. 1. 1. 1. 1. 1. 1. 1. 1. 1. 1. 1. 1. 1. 1. 1.\n",
      " 1. 1. 1. 1. 1. 1. 1. 1. 1. 1. 1. 1. 1. 1. 1. 1. 1. 1. 1. 1. 1. 1. 1. 1.\n",
      " 1. 1. 1. 1. 1. 1. 1. 1. 1. 1. 1. 1. 1. 1. 1. 1. 1. 1. 1. 1. 1. 1. 1. 1.\n",
      " 1. 1. 1. 1. 1. 1. 1. 1. 1. 1. 1. 1. 1. 1. 1. 1. 1. 1. 1. 1. 1. 1. 1. 1.\n",
      " 1. 1. 1. 1. 2. 2. 2. 2. 2. 2. 2. 2. 2. 2. 2. 2. 2. 2. 2. 2. 2. 2. 2. 2.\n",
      " 2. 2. 2. 2. 2. 2. 2. 2. 2. 2. 2. 2. 2. 2. 2. 2. 2. 2. 2. 2. 2. 2. 2. 2.\n",
      " 2. 2. 2. 2. 2. 2. 2. 2. 2. 2. 2. 2. 2. 2. 2. 2. 2. 2. 2. 2. 2. 2. 2. 2.\n",
      " 2. 2. 2. 2. 2. 2. 2. 2. 2. 2. 2. 2. 2. 2. 2. 2. 2. 2. 2. 2. 2. 2. 2. 2.\n",
      " 2. 2. 2. 2. 2. 2. 2. 2.]\n"
     ]
    }
   ],
   "source": [
    "## mix trials together\n",
    "\n",
    "# concatenate trials\n",
    "alldata = np.hstack((dataA,dataB))\n",
    "\n",
    "# condition labels\n",
    "conds = np.hstack((np.ones(N),2*np.ones(N)))\n",
    "\n",
    "print(alldata)\n",
    "print(conds)"
   ]
  },
  {
   "cell_type": "code",
   "execution_count": null,
   "metadata": {},
   "outputs": [],
   "source": []
  },
  {
   "cell_type": "code",
   "execution_count": 4,
   "metadata": {},
   "outputs": [
    {
     "name": "stdout",
     "output_type": "stream",
     "text": [
      "[1 2 2 1 1 2 2 1 2 2 1 1 1 2 2 2 1 1 2 1 1 2 2 1 1 1 2 2 1 1 1 2 2 2 1 1 2\n",
      " 1 1 2 2 2 1 1 2 2 1 1 2 2 1 2 1 2 1 1 2 2 1 1 1 1 1 2 1 2 2 2 1 2 2 1 2 1\n",
      " 2 1 2 1 1 1 1 2 1 2 2 1 1 1 1 2 1 2 1 2 1 1 2 1 1 1 2 1 2 1 1 2 1 1 2 2 1\n",
      " 2 2 2 2 2 2 2 1 1 1 2 1 1 1 1 2 2 2 2 1 1 1 2 2 1 1 1 1 2 2 1 2 1 2 2 2 2\n",
      " 2 1 2 1 1 1 1 1 2 2 2 2 1 2 1 2 1 2 2 1 1 2 1 2 1 2 1 2 1 2 2 1 2 2 1 1 2\n",
      " 1 2 2 2 1 1 2 2 1 1 2 2 2 2 2]\n",
      "------------------------------------------------------------------------------\n",
      "[27.99229824363488, 31.69509988718387]\n",
      "[29.75712791949513, 29.930270211323624]\n"
     ]
    }
   ],
   "source": [
    "## generate one null hypothesis scenario\n",
    "\n",
    "# random permutation\n",
    "fakeconds = np.random.permutation(N*2)\n",
    "\n",
    "# shuffled condition labels\n",
    "fakeconds[fakeconds<N] = 1\n",
    "fakeconds[fakeconds>1] = 2\n",
    "\n",
    "print(fakeconds)\n",
    "print(\"------------------------------------------------------------------------------\")\n",
    "\n",
    "\n",
    "# these two means should be different.\n",
    "print([np.mean(alldata[conds==1]), np.mean(alldata[conds==2])])\n",
    "\n",
    "# should these two be different?\n",
    "print([np.mean(alldata[fakeconds==1]), np.mean(alldata[fakeconds==2])])\n"
   ]
  },
  {
   "cell_type": "code",
   "execution_count": 5,
   "metadata": {},
   "outputs": [
    {
     "data": {
      "image/png": "[encoded data removed]",
      "text/plain": [
       "<Figure size 432x288 with 1 Axes>"
      ]
     },
     "metadata": {
      "needs_background": "light"
     },
     "output_type": "display_data"
    }
   ],
   "source": [
    "## and now a distribution of null hypothesis values\n",
    "\n",
    "nPerms = 1000\n",
    "permdiffs = np.zeros(nPerms)\n",
    "\n",
    "for permi in range(nPerms):\n",
    "    fconds = np.random.permutation(N*2)\n",
    "    fconds[fconds<N] = 1\n",
    "    fconds[fconds>1] = 2\n",
    "    permdiffs[permi] = np.mean(alldata[fconds==2]) - np.mean(alldata[fconds==1])\n",
    "\n",
    "\n",
    "# plot the distribution of H0 values\n",
    "plt.hist(permdiffs,50)\n",
    "\n",
    "# and plot the observed value on top\n",
    "obsval = np.mean(alldata[conds==2]) - np.mean(alldata[conds==1])\n",
    "plt.plot([obsval, obsval],[0, 50],'m',linewidth=10)\n",
    "plt.xlabel('Value')\n",
    "plt.ylabel('Count')\n",
    "plt.show()"
   ]
  },
  {
   "cell_type": "code",
   "execution_count": 6,
   "metadata": {},
   "outputs": [
    {
     "name": "stdout",
     "output_type": "stream",
     "text": [
      "0.0016418054359337297 0.002\n"
     ]
    }
   ],
   "source": [
    "## two methods of evaluating statistical significance\n",
    "\n",
    "# Z-value\n",
    "zVal = ( obsval - np.mean(permdiffs) ) / np.std(permdiffs, ddof=1)\n",
    "p = 1 - stats.norm.cdf(abs(zVal))\n",
    "\n",
    "# p-value count\n",
    "pCount = sum(permdiffs > obsval)/nPerms\n",
    "\n",
    "print(p, pCount)"
   ]
  }
 ],
 "metadata": {
  "kernelspec": {
   "display_name": "Python 3 (ipykernel)",
   "language": "python",
   "name": "python3"
  },
  "language_info": {
   "codemirror_mode": {
    "name": "ipython",
    "version": 3
   },
   "file_extension": ".py",
   "mimetype": "text/x-python",
   "name": "python",
   "nbconvert_exporter": "python",
   "pygments_lexer": "ipython3",
   "version": "3.9.7"
  },
  "toc": {
   "base_numbering": 1,
   "nav_menu": {},
   "number_sections": true,
   "sideBar": true,
   "skip_h1_title": false,
   "title_cell": "Table of Contents",
   "title_sidebar": "Contents",
   "toc_cell": false,
   "toc_position": {},
   "toc_section_display": true,
   "toc_window_display": false
  }
 },
 "nbformat": 4,
 "nbformat_minor": 2
}
