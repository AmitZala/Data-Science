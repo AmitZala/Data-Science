{
 "cells": [
  {
   "cell_type": "code",
   "execution_count": 1,
   "metadata": {},
   "outputs": [],
   "source": [
    "# import libraries\n",
    "import matplotlib.pyplot as plt\n",
    "import numpy as np\n",
    "import scipy.stats as stats"
   ]
  },
  {
   "cell_type": "code",
   "execution_count": 2,
   "metadata": {},
   "outputs": [
    {
     "data": {
      "image/png": "[encoded data removed]",
      "text/plain": [
       "<Figure size 432x288 with 1 Axes>"
      ]
     },
     "metadata": {
      "needs_background": "light"
     },
     "output_type": "display_data"
    }
   ],
   "source": [
    "## generate the data\n",
    "\n",
    "# the data (note the different sample sizes)\n",
    "N1 = 30\n",
    "N2 = 35\n",
    "\n",
    "data1 = np.random.poisson(2,N1)\n",
    "data2 = np.random.poisson(1,N2)\n",
    "\n",
    "plt.plot(1+np.random.randn(N1)/10, data1, 'ks', markerfacecolor='w')\n",
    "plt.plot(2+np.random.randn(N2)/10, data2, 'ro', markerfacecolor='w')\n",
    "\n",
    "plt.xlim([0,3])\n",
    "plt.xticks([1,2],labels=('data1','data2'))\n",
    "plt.xlabel('Data group')\n",
    "plt.ylabel('Data value')\n",
    "plt.show()"
   ]
  },
  {
   "cell_type": "code",
   "execution_count": 3,
   "metadata": {},
   "outputs": [
    {
     "name": "stdout",
     "output_type": "stream",
     "text": [
      "937.0 2.6511379225640273e-08\n"
     ]
    }
   ],
   "source": [
    "## now for the test\n",
    "\n",
    "U,p = stats.mannwhitneyu(data1,data2)\n",
    "\n",
    "print(U,p)"
   ]
  }
 ],
 "metadata": {
  "kernelspec": {
   "display_name": "Python 3 (ipykernel)",
   "language": "python",
   "name": "python3"
  },
  "language_info": {
   "codemirror_mode": {
    "name": "ipython",
    "version": 3
   },
   "file_extension": ".py",
   "mimetype": "text/x-python",
   "name": "python",
   "nbconvert_exporter": "python",
   "pygments_lexer": "ipython3",
   "version": "3.9.7"
  },
  "toc": {
   "base_numbering": 1,
   "nav_menu": {},
   "number_sections": true,
   "sideBar": true,
   "skip_h1_title": false,
   "title_cell": "Table of Contents",
   "title_sidebar": "Contents",
   "toc_cell": false,
   "toc_position": {},
   "toc_section_display": true,
   "toc_window_display": false
  }
 },
 "nbformat": 4,
 "nbformat_minor": 2
}
