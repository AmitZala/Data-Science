{
 "cells": [
  {
   "cell_type": "code",
   "execution_count": 1,
   "id": "2c29526e",
   "metadata": {
    "ExecuteTime": {
     "end_time": "2022-02-24T12:01:36.302698Z",
     "start_time": "2022-02-24T12:01:33.672946Z"
    }
   },
   "outputs": [],
   "source": [
    "import numpy as np\n",
    "import pandas as pd\n",
    "import matplotlib.pyplot as plt"
   ]
  },
  {
   "cell_type": "code",
   "execution_count": 2,
   "id": "e42c3a36",
   "metadata": {
    "ExecuteTime": {
     "end_time": "2022-02-24T12:02:48.018685Z",
     "start_time": "2022-02-24T12:02:47.999554Z"
    }
   },
   "outputs": [
    {
     "name": "stdout",
     "output_type": "stream",
     "text": [
      "[[3 4]\n",
      " [2 8]\n",
      " [6 9]]\n"
     ]
    }
   ],
   "source": [
    "# defining a simple data\n",
    "Marks = np.array([[3, 4], [2, 8], [6, 9]])\n",
    "print(Marks)"
   ]
  },
  {
   "cell_type": "code",
   "execution_count": 3,
   "id": "028e2c4e",
   "metadata": {
    "ExecuteTime": {
     "end_time": "2022-02-24T12:03:26.017085Z",
     "start_time": "2022-02-24T12:03:25.998136Z"
    }
   },
   "outputs": [
    {
     "data": {
      "text/html": [
       "<div>\n",
       "<style scoped>\n",
       "    .dataframe tbody tr th:only-of-type {\n",
       "        vertical-align: middle;\n",
       "    }\n",
       "\n",
       "    .dataframe tbody tr th {\n",
       "        vertical-align: top;\n",
       "    }\n",
       "\n",
       "    .dataframe thead th {\n",
       "        text-align: right;\n",
       "    }\n",
       "</style>\n",
       "<table border=\"1\" class=\"dataframe\">\n",
       "  <thead>\n",
       "    <tr style=\"text-align: right;\">\n",
       "      <th></th>\n",
       "      <th>Physics</th>\n",
       "      <th>Maths</th>\n",
       "    </tr>\n",
       "  </thead>\n",
       "  <tbody>\n",
       "    <tr>\n",
       "      <th>0</th>\n",
       "      <td>3</td>\n",
       "      <td>4</td>\n",
       "    </tr>\n",
       "    <tr>\n",
       "      <th>1</th>\n",
       "      <td>2</td>\n",
       "      <td>8</td>\n",
       "    </tr>\n",
       "    <tr>\n",
       "      <th>2</th>\n",
       "      <td>6</td>\n",
       "      <td>9</td>\n",
       "    </tr>\n",
       "  </tbody>\n",
       "</table>\n",
       "</div>"
      ],
      "text/plain": [
       "   Physics  Maths\n",
       "0        3      4\n",
       "1        2      8\n",
       "2        6      9"
      ]
     },
     "execution_count": 3,
     "metadata": {},
     "output_type": "execute_result"
    }
   ],
   "source": [
    "Marks_df = pd.DataFrame(Marks, columns=[\"Physics\", \"Maths\"])\n",
    "Marks_df"
   ]
  },
  {
   "cell_type": "code",
   "execution_count": 4,
   "id": "7971e6eb",
   "metadata": {
    "ExecuteTime": {
     "end_time": "2022-02-24T12:04:20.257725Z",
     "start_time": "2022-02-24T12:04:20.141056Z"
    }
   },
   "outputs": [
    {
     "data": {
      "image/png": "[encoded data removed]",
      "text/plain": [
       "<Figure size 432x288 with 1 Axes>"
      ]
     },
     "metadata": {
      "needs_background": "light"
     },
     "output_type": "display_data"
    }
   ],
   "source": [
    "plt.scatter(Marks_df[\"Physics\"], Marks_df[\"Maths\"]);"
   ]
  },
  {
   "cell_type": "code",
   "execution_count": 5,
   "id": "ab01ba42",
   "metadata": {
    "ExecuteTime": {
     "end_time": "2022-02-24T12:05:40.526474Z",
     "start_time": "2022-02-24T12:05:40.514532Z"
    }
   },
   "outputs": [
    {
     "name": "stdout",
     "output_type": "stream",
     "text": [
      "[3.66666667 7.        ]\n"
     ]
    }
   ],
   "source": [
    "# making data mean centric\n",
    "Meanbycolumn = np.mean(Marks.T, axis=1)\n",
    "print(Meanbycolumn)\n",
    "\n",
    "Scaled_Data = Marks - Meanbycolumn"
   ]
  },
  {
   "cell_type": "code",
   "execution_count": 6,
   "id": "432709ab",
   "metadata": {
    "ExecuteTime": {
     "end_time": "2022-02-24T12:06:05.409218Z",
     "start_time": "2022-02-24T12:06:05.399084Z"
    }
   },
   "outputs": [
    {
     "data": {
      "text/plain": [
       "array([[-0.66666667, -3.        ],\n",
       "       [-1.66666667,  1.        ],\n",
       "       [ 2.33333333,  2.        ]])"
      ]
     },
     "execution_count": 6,
     "metadata": {},
     "output_type": "execute_result"
    }
   ],
   "source": [
    "Scaled_Data"
   ]
  },
  {
   "cell_type": "code",
   "execution_count": 7,
   "id": "7bfd8c04",
   "metadata": {
    "ExecuteTime": {
     "end_time": "2022-02-24T12:09:14.062641Z",
     "start_time": "2022-02-24T12:09:14.057618Z"
    }
   },
   "outputs": [
    {
     "data": {
      "text/plain": [
       "array([[4.33333333, 2.5       ],\n",
       "       [2.5       , 7.        ]])"
      ]
     },
     "execution_count": 7,
     "metadata": {},
     "output_type": "execute_result"
    }
   ],
   "source": [
    "# find covariance matrix of above scaled data\n",
    "Cov_mat = np.cov(Scaled_Data.T)\n",
    "Cov_mat"
   ]
  },
  {
   "cell_type": "code",
   "execution_count": 8,
   "id": "ae3eebf8",
   "metadata": {
    "ExecuteTime": {
     "end_time": "2022-02-24T12:10:45.548858Z",
     "start_time": "2022-02-24T12:10:45.532873Z"
    }
   },
   "outputs": [
    {
     "name": "stdout",
     "output_type": "stream",
     "text": [
      "[2.83333333 8.5       ]\n",
      "[[-0.85749293 -0.51449576]\n",
      " [ 0.51449576 -0.85749293]]\n"
     ]
    }
   ],
   "source": [
    "# find corresponding eigen value and eigen vector of above covariance matrix\n",
    "Eval, Evec = np.linalg.eig(Cov_mat)\n",
    "print(Eval)\n",
    "print(Evec)"
   ]
  },
  {
   "cell_type": "code",
   "execution_count": 13,
   "id": "c37b7170",
   "metadata": {
    "ExecuteTime": {
     "end_time": "2022-02-24T12:18:36.824555Z",
     "start_time": "2022-02-24T12:18:36.810604Z"
    }
   },
   "outputs": [
    {
     "name": "stdout",
     "output_type": "stream",
     "text": [
      "[[-9.71825316e-01  2.91547595e+00]\n",
      " [ 1.94365063e+00  1.11022302e-16]\n",
      " [-9.71825316e-01 -2.91547595e+00]]\n"
     ]
    }
   ],
   "source": [
    "# get original data projected to principal components as new axis\n",
    "Projected_data = Evec.T.dot(Scaled_Data.T)\n",
    "print(Projected_data.T)"
   ]
  },
  {
   "cell_type": "code",
   "execution_count": 14,
   "id": "372b1a68",
   "metadata": {
    "ExecuteTime": {
     "end_time": "2022-02-24T12:19:12.232532Z",
     "start_time": "2022-02-24T12:19:12.220556Z"
    }
   },
   "outputs": [
    {
     "data": {
      "text/plain": [
       "array([[ 2.91547595e+00, -9.71825316e-01],\n",
       "       [-7.37588530e-16,  1.94365063e+00],\n",
       "       [-2.91547595e+00, -9.71825316e-01]])"
      ]
     },
     "execution_count": 14,
     "metadata": {},
     "output_type": "execute_result"
    }
   ],
   "source": [
    "from sklearn.decomposition import PCA\n",
    "pca = PCA(n_components=2)\n",
    "pca.fit_transform(Marks)"
   ]
  },
  {
   "cell_type": "code",
   "execution_count": 15,
   "id": "37a919a3",
   "metadata": {
    "ExecuteTime": {
     "end_time": "2022-02-24T12:19:14.737230Z",
     "start_time": "2022-02-24T12:19:14.720337Z"
    }
   },
   "outputs": [
    {
     "data": {
      "text/plain": [
       "array([0.75, 0.25])"
      ]
     },
     "execution_count": 15,
     "metadata": {},
     "output_type": "execute_result"
    }
   ],
   "source": [
    "pca.explained_variance_ratio_  # variance explanation ratio by each PC"
   ]
  },
  {
   "cell_type": "code",
   "execution_count": 16,
   "id": "01de0ad1",
   "metadata": {
    "ExecuteTime": {
     "end_time": "2022-02-24T12:20:45.850826Z",
     "start_time": "2022-02-24T12:20:45.841912Z"
    }
   },
   "outputs": [
    {
     "data": {
      "text/html": [
       "<div>\n",
       "<style scoped>\n",
       "    .dataframe tbody tr th:only-of-type {\n",
       "        vertical-align: middle;\n",
       "    }\n",
       "\n",
       "    .dataframe tbody tr th {\n",
       "        vertical-align: top;\n",
       "    }\n",
       "\n",
       "    .dataframe thead th {\n",
       "        text-align: right;\n",
       "    }\n",
       "</style>\n",
       "<table border=\"1\" class=\"dataframe\">\n",
       "  <thead>\n",
       "    <tr style=\"text-align: right;\">\n",
       "      <th></th>\n",
       "      <th>PC1</th>\n",
       "      <th>PC2</th>\n",
       "    </tr>\n",
       "  </thead>\n",
       "  <tbody>\n",
       "    <tr>\n",
       "      <th>0</th>\n",
       "      <td>2.915476e+00</td>\n",
       "      <td>-0.971825</td>\n",
       "    </tr>\n",
       "    <tr>\n",
       "      <th>1</th>\n",
       "      <td>-7.375885e-16</td>\n",
       "      <td>1.943651</td>\n",
       "    </tr>\n",
       "    <tr>\n",
       "      <th>2</th>\n",
       "      <td>-2.915476e+00</td>\n",
       "      <td>-0.971825</td>\n",
       "    </tr>\n",
       "  </tbody>\n",
       "</table>\n",
       "</div>"
      ],
      "text/plain": [
       "            PC1       PC2\n",
       "0  2.915476e+00 -0.971825\n",
       "1 -7.375885e-16  1.943651\n",
       "2 -2.915476e+00 -0.971825"
      ]
     },
     "execution_count": 16,
     "metadata": {},
     "output_type": "execute_result"
    }
   ],
   "source": [
    "# dataframe for PC\n",
    "PCDF = pd.DataFrame(data=pca.fit_transform(Marks), columns=[\"PC1\", \"PC2\"])\n",
    "PCDF"
   ]
  },
  {
   "cell_type": "code",
   "execution_count": 17,
   "id": "d59e2423",
   "metadata": {
    "ExecuteTime": {
     "end_time": "2022-02-24T12:21:16.875118Z",
     "start_time": "2022-02-24T12:21:16.781456Z"
    }
   },
   "outputs": [
    {
     "data": {
      "image/png": "[encoded data removed]",
      "text/plain": [
       "<Figure size 432x288 with 1 Axes>"
      ]
     },
     "metadata": {
      "needs_background": "light"
     },
     "output_type": "display_data"
    }
   ],
   "source": [
    "plt.scatter(PCDF[\"PC1\"], PCDF[\"PC2\"]);"
   ]
  },
  {
   "cell_type": "code",
   "execution_count": 18,
   "id": "692fdfd1",
   "metadata": {
    "ExecuteTime": {
     "end_time": "2022-02-24T12:22:08.308466Z",
     "start_time": "2022-02-24T12:22:08.296467Z"
    }
   },
   "outputs": [
    {
     "data": {
      "text/plain": [
       "array([[3., 4.],\n",
       "       [2., 8.],\n",
       "       [6., 9.]])"
      ]
     },
     "execution_count": 18,
     "metadata": {},
     "output_type": "execute_result"
    }
   ],
   "source": [
    "# inverse transform\n",
    "pca.inverse_transform(pca.fit_transform(Marks))"
   ]
  },
  {
   "cell_type": "code",
   "execution_count": 19,
   "id": "83811472",
   "metadata": {
    "ExecuteTime": {
     "end_time": "2022-02-24T12:23:13.172108Z",
     "start_time": "2022-02-24T12:23:13.158873Z"
    }
   },
   "outputs": [
    {
     "data": {
      "text/html": [
       "<div>\n",
       "<style scoped>\n",
       "    .dataframe tbody tr th:only-of-type {\n",
       "        vertical-align: middle;\n",
       "    }\n",
       "\n",
       "    .dataframe tbody tr th {\n",
       "        vertical-align: top;\n",
       "    }\n",
       "\n",
       "    .dataframe thead th {\n",
       "        text-align: right;\n",
       "    }\n",
       "</style>\n",
       "<table border=\"1\" class=\"dataframe\">\n",
       "  <thead>\n",
       "    <tr style=\"text-align: right;\">\n",
       "      <th></th>\n",
       "      <th>PC1</th>\n",
       "      <th>PC2</th>\n",
       "    </tr>\n",
       "  </thead>\n",
       "  <tbody>\n",
       "    <tr>\n",
       "      <th>Physics</th>\n",
       "      <td>-0.514496</td>\n",
       "      <td>-0.857493</td>\n",
       "    </tr>\n",
       "    <tr>\n",
       "      <th>Maths</th>\n",
       "      <td>-0.857493</td>\n",
       "      <td>0.514496</td>\n",
       "    </tr>\n",
       "  </tbody>\n",
       "</table>\n",
       "</div>"
      ],
      "text/plain": [
       "              PC1       PC2\n",
       "Physics -0.514496 -0.857493\n",
       "Maths   -0.857493  0.514496"
      ]
     },
     "execution_count": 19,
     "metadata": {},
     "output_type": "execute_result"
    }
   ],
   "source": [
    "# how much weight each variable has in principal components\n",
    "loadings = pd.DataFrame(pca.components_.T, columns=[\"PC1\", \"PC2\"], index=[\"Physics\", \"Maths\"])\n",
    "loadings"
   ]
  },
  {
   "cell_type": "code",
   "execution_count": null,
   "id": "bc6d22a2",
   "metadata": {},
   "outputs": [],
   "source": []
  }
 ],
 "metadata": {
  "kernelspec": {
   "display_name": "Python 3 (ipykernel)",
   "language": "python",
   "name": "python3"
  },
  "language_info": {
   "codemirror_mode": {
    "name": "ipython",
    "version": 3
   },
   "file_extension": ".py",
   "mimetype": "text/x-python",
   "name": "python",
   "nbconvert_exporter": "python",
   "pygments_lexer": "ipython3",
   "version": "3.9.10"
  },
  "toc": {
   "base_numbering": 1,
   "nav_menu": {},
   "number_sections": true,
   "sideBar": true,
   "skip_h1_title": false,
   "title_cell": "Table of Contents",
   "title_sidebar": "Contents",
   "toc_cell": false,
   "toc_position": {},
   "toc_section_display": true,
   "toc_window_display": false
  }
 },
 "nbformat": 4,
 "nbformat_minor": 5
}
