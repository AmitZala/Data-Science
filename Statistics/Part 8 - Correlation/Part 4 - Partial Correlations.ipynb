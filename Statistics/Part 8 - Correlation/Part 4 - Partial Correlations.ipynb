{
 "cells": [
  {
   "cell_type": "code",
   "execution_count": 1,
   "metadata": {},
   "outputs": [],
   "source": [
    "# import libraries\n",
    "import matplotlib.pyplot as plt\n",
    "import numpy as np\n",
    "import pandas as pd\n",
    "import scipy.stats as stats"
   ]
  },
  {
   "cell_type": "code",
   "execution_count": 2,
   "metadata": {},
   "outputs": [],
   "source": [
    "# I'm using pingouin for partial correlations.\n",
    "# You might need to install it, e.g., using the line below.\n",
    "# This needs to be run only once per install.\n",
    "# !conda install -c conda-forge pingouin\n",
    "import pingouin as pg"
   ]
  },
  {
   "cell_type": "code",
   "execution_count": 3,
   "metadata": {},
   "outputs": [
    {
     "name": "stdout",
     "output_type": "stream",
     "text": [
      "-0.07647191129018778\n",
      "0.5461186812727504\n"
     ]
    }
   ],
   "source": [
    "## the example from the video\n",
    "\n",
    "# raw correlations\n",
    "rmg = .7\n",
    "rsg = .8\n",
    "rms = .9\n",
    "\n",
    "# partial correlations\n",
    "rho_mg_s = (rmg - rsg*rms) / ( np.sqrt(1-rsg**2)*np.sqrt(1-rms**2) )\n",
    "rho_sg_m = (rsg - rmg*rms) / ( np.sqrt(1-rmg**2)*np.sqrt(1-rms**2) )\n",
    "\n",
    "print(rho_mg_s)\n",
    "print(rho_sg_m)"
   ]
  },
  {
   "cell_type": "code",
   "execution_count": 4,
   "metadata": {},
   "outputs": [
    {
     "name": "stdout",
     "output_type": "stream",
     "text": [
      "          x1        x2        x3\n",
      "x1  1.000000  0.940058  0.958367\n",
      "x2  0.940058  1.000000  0.895486\n",
      "x3  0.958367  0.895486  1.000000\n",
      " \n",
      "0.9400581139386137\n",
      " \n",
      "          n         r          CI95%     p-val\n",
      "pearson  76 -0.055806  [-0.28, 0.17]  0.634399\n"
     ]
    }
   ],
   "source": [
    "## now for datasets\n",
    "\n",
    "N = 76\n",
    "\n",
    "# correlated datasets\n",
    "x1 = np.linspace(1,10,N) + np.random.randn(N)\n",
    "x2 = x1 + np.random.randn(N)\n",
    "x3 = x1 + np.random.randn(N)\n",
    "\n",
    "# let's convert these data to a pandas frame\n",
    "df = pd.DataFrame()\n",
    "df['x1'] = x1\n",
    "df['x2'] = x2\n",
    "df['x3'] = x3\n",
    "\n",
    "# compute the \"raw\" correlation matrix\n",
    "cormatR = df.corr()\n",
    "print(cormatR)\n",
    "\n",
    "# print out one value\n",
    "print(' ')\n",
    "print(cormatR.values[1,0])\n",
    "\n",
    "# partial correlation\n",
    "pc = pg.partial_corr(df,x='x3',y='x2',covar='x1')\n",
    "print(' ')\n",
    "print(pc)"
   ]
  },
  {
   "cell_type": "code",
   "execution_count": 5,
   "metadata": {},
   "outputs": [
    {
     "data": {
      "image/png": "[encoded data removed]",
      "text/plain": [
       "<Figure size 432x216 with 2 Axes>"
      ]
     },
     "metadata": {
      "needs_background": "light"
     },
     "output_type": "display_data"
    }
   ],
   "source": [
    "## visualize the matrices\n",
    "\n",
    "fig,ax = plt.subplots(1,2,figsize=(6,3))\n",
    "\n",
    "# raw correlations\n",
    "ax[0].imshow(cormatR.values,vmin=-1,vmax=1)\n",
    "ax[0].set_xticks(range(3))\n",
    "ax[0].set_yticks(range(3))\n",
    "\n",
    "# add text \n",
    "for i in range(3):\n",
    "    for j in range(3):\n",
    "        ax[0].text(i,j,np.round(cormatR.values[i,j],2), horizontalalignment='center')\n",
    "\n",
    "        \n",
    "        \n",
    "# partial correlations\n",
    "partialCorMat = df.pcorr()\n",
    "ax[1].imshow(partialCorMat.values,vmin=-1,vmax=1)\n",
    "ax[1].set_xticks(range(3))\n",
    "ax[1].set_yticks(range(3))\n",
    "\n",
    "for i in range(3):\n",
    "    for j in range(3):\n",
    "        ax[1].text(i,j,np.round(partialCorMat.values[i,j],2), horizontalalignment='center')\n",
    "\n",
    "\n",
    "plt.show()"
   ]
  }
 ],
 "metadata": {
  "kernelspec": {
   "display_name": "Python 3 (ipykernel)",
   "language": "python",
   "name": "python3"
  },
  "language_info": {
   "codemirror_mode": {
    "name": "ipython",
    "version": 3
   },
   "file_extension": ".py",
   "mimetype": "text/x-python",
   "name": "python",
   "nbconvert_exporter": "python",
   "pygments_lexer": "ipython3",
   "version": "3.9.7"
  },
  "toc": {
   "base_numbering": 1,
   "nav_menu": {},
   "number_sections": true,
   "sideBar": true,
   "skip_h1_title": false,
   "title_cell": "Table of Contents",
   "title_sidebar": "Contents",
   "toc_cell": false,
   "toc_position": {},
   "toc_section_display": true,
   "toc_window_display": false
  }
 },
 "nbformat": 4,
 "nbformat_minor": 2
}
