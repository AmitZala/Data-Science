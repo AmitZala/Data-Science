{
 "cells": [
  {
   "cell_type": "code",
   "execution_count": 1,
   "metadata": {},
   "outputs": [],
   "source": [
    "# import libraries\n",
    "import matplotlib.pyplot as plt\n",
    "import numpy as np\n",
    "from scipy import spatial"
   ]
  },
  {
   "cell_type": "code",
   "execution_count": 2,
   "metadata": {},
   "outputs": [],
   "source": [
    "# range of requested correlation coefficients\n",
    "rs = np.linspace(-1,1,100)\n",
    "\n",
    "# sample size\n",
    "N = 500\n",
    "\n",
    "\n",
    "# initialize output matrix\n",
    "corrs = np.zeros((len(rs),2))\n",
    "\n",
    "\n",
    "# loop over a range of r values\n",
    "for ri in range(len(rs)):\n",
    "    \n",
    "    # generate data\n",
    "    x = np.random.randn(N)\n",
    "    y = x*rs[ri] + np.random.randn(N)*np.sqrt(1-rs[ri]**2)\n",
    "    \n",
    "    # optional mean-off-centering\n",
    "    #x = x+10\n",
    "    #y = y+10\n",
    "    \n",
    "    \n",
    "    # compute correlation\n",
    "    corrs[ri,0] = np.corrcoef(x,y)[0,1]\n",
    "    \n",
    "    # compute cosine similarity\n",
    "    cs_num = sum(x*y)\n",
    "    cs_den = np.sqrt(sum(x*x)) * np.sqrt(sum(y*y))\n",
    "    corrs[ri,1] = cs_num / cs_den\n",
    "    \n",
    "    # using built-in distance function\n",
    "    #corrs[ri,1] = 1-spatial.distance.cosine(x,y)"
   ]
  },
  {
   "cell_type": "code",
   "execution_count": 3,
   "metadata": {
    "scrolled": false
   },
   "outputs": [
    {
     "data": {
      "image/png": "[encoded data removed]",
      "text/plain": [
       "<Figure size 432x288 with 1 Axes>"
      ]
     },
     "metadata": {
      "needs_background": "light"
     },
     "output_type": "display_data"
    },
    {
     "data": {
      "image/png": "[encoded data removed]",
      "text/plain": [
       "<Figure size 432x288 with 1 Axes>"
      ]
     },
     "metadata": {
      "needs_background": "light"
     },
     "output_type": "display_data"
    }
   ],
   "source": [
    "## visualize the results\n",
    "\n",
    "plt.plot(rs,corrs[:,0],'s-',label='Correlation')\n",
    "plt.plot(rs,corrs[:,1],'s-',label='Cosine sim.')\n",
    "plt.legend()\n",
    "plt.xlabel('Requested correlation')\n",
    "plt.ylabel('Empirical correlation')\n",
    "plt.axis('square')\n",
    "plt.show()\n",
    "\n",
    "\n",
    "plt.plot(corrs[:,0],corrs[:,1],'ks')\n",
    "plt.axis('square')\n",
    "plt.xlabel('Correlation')\n",
    "plt.ylabel('Cosine similarity')\n",
    "plt.show()"
   ]
  },
  {
   "cell_type": "code",
   "execution_count": 4,
   "metadata": {},
   "outputs": [
    {
     "data": {
      "text/plain": [
       "array([[1.        , 0.99999633],\n",
       "       [0.99999633, 1.        ]])"
      ]
     },
     "execution_count": 4,
     "metadata": {},
     "output_type": "execute_result"
    }
   ],
   "source": [
    "# their empirical correlation\n",
    "np.corrcoef(corrs.T)"
   ]
  }
 ],
 "metadata": {
  "kernelspec": {
   "display_name": "Python 3 (ipykernel)",
   "language": "python",
   "name": "python3"
  },
  "language_info": {
   "codemirror_mode": {
    "name": "ipython",
    "version": 3
   },
   "file_extension": ".py",
   "mimetype": "text/x-python",
   "name": "python",
   "nbconvert_exporter": "python",
   "pygments_lexer": "ipython3",
   "version": "3.9.7"
  },
  "toc": {
   "base_numbering": 1,
   "nav_menu": {},
   "number_sections": true,
   "sideBar": true,
   "skip_h1_title": false,
   "title_cell": "Table of Contents",
   "title_sidebar": "Contents",
   "toc_cell": false,
   "toc_position": {},
   "toc_section_display": true,
   "toc_window_display": false
  }
 },
 "nbformat": 4,
 "nbformat_minor": 2
}
