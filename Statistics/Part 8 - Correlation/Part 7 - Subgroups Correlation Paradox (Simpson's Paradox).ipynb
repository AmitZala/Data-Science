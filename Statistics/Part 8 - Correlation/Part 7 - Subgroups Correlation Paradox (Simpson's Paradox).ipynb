{
 "cells": [
  {
   "cell_type": "code",
   "execution_count": 1,
   "metadata": {},
   "outputs": [],
   "source": [
    "# import libraries\n",
    "import matplotlib.pyplot as plt\n",
    "import numpy as np\n",
    "from scipy.stats import pearsonr"
   ]
  },
  {
   "cell_type": "code",
   "execution_count": 2,
   "metadata": {},
   "outputs": [
    {
     "data": {
      "image/png": "[encoded data removed]",
      "text/plain": [
       "<Figure size 432x288 with 1 Axes>"
      ]
     },
     "metadata": {
      "needs_background": "light"
     },
     "output_type": "display_data"
    }
   ],
   "source": [
    "# initializations\n",
    "n = 20 # sample points per group\n",
    "offsets = [2, 3.5, 5] # mean offsets\n",
    "\n",
    "allx = np.array([])\n",
    "ally = np.array([])\n",
    "\n",
    "c = 'rbk' # dot colors\n",
    "\n",
    "# generate and plot data\n",
    "for datai in range(3):\n",
    "    \n",
    "    # generate data\n",
    "    x = np.linspace(offsets[datai]-1,offsets[datai]+1,n)\n",
    "    y = np.mean(x) + np.random.randn(n)/2\n",
    "    \n",
    "    # subgroup correlation\n",
    "    r,p = pearsonr(x,y)\n",
    "    \n",
    "    # plot\n",
    "    plt.plot(x,y,'o',color=c[datai],label=f'r={r:.3f}, p={p:.3f}')\n",
    "    \n",
    "    # gather the data into one array\n",
    "    allx = np.append(allx,x)\n",
    "    ally = np.append(ally,y)\n",
    "    \n",
    "\n",
    "\n",
    "# % now correlate the groups\n",
    "[r,p] = pearsonr(allx,ally)\n",
    "plt.title(f'r={r:.4f}, p={p:.4f}')\n",
    "\n",
    "plt.xlabel('X')\n",
    "plt.ylabel('Y')\n",
    "plt.legend()\n",
    "plt.show()"
   ]
  }
 ],
 "metadata": {
  "kernelspec": {
   "display_name": "Python 3 (ipykernel)",
   "language": "python",
   "name": "python3"
  },
  "language_info": {
   "codemirror_mode": {
    "name": "ipython",
    "version": 3
   },
   "file_extension": ".py",
   "mimetype": "text/x-python",
   "name": "python",
   "nbconvert_exporter": "python",
   "pygments_lexer": "ipython3",
   "version": "3.9.7"
  },
  "toc": {
   "base_numbering": 1,
   "nav_menu": {},
   "number_sections": true,
   "sideBar": true,
   "skip_h1_title": false,
   "title_cell": "Table of Contents",
   "title_sidebar": "Contents",
   "toc_cell": false,
   "toc_position": {},
   "toc_section_display": true,
   "toc_window_display": false
  }
 },
 "nbformat": 4,
 "nbformat_minor": 2
}
