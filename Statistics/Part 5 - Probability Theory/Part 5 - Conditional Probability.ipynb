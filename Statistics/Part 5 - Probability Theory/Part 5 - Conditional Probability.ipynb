{
 "cells": [
  {
   "cell_type": "code",
   "execution_count": 1,
   "metadata": {},
   "outputs": [],
   "source": [
    "# import libraries\n",
    "import matplotlib.pyplot as plt\n",
    "import numpy as np"
   ]
  },
  {
   "cell_type": "code",
   "execution_count": 2,
   "metadata": {},
   "outputs": [],
   "source": [
    "## generate two long-spike time series\n",
    "\n",
    "N = 10000\n",
    "spikeDur  = 10  # a.u. but must be an even number\n",
    "spikeNumA = .01 # in proportion of total number of points\n",
    "spikeNumB = .05 # in proportion of total number of points\n",
    "\n",
    "# initialize to zeros\n",
    "spike_tsA = np.zeros(N)\n",
    "spike_tsB = np.zeros(N)\n",
    "\n",
    "\n",
    "### populate time series A\n",
    "spiketimesA = np.random.randint(0,N,int(N*spikeNumA))\n",
    "\n",
    "# flesh out spikes (loop per spike)\n",
    "for spikei in range(len(spiketimesA)):\n",
    "    \n",
    "    # find boundaries\n",
    "    bnd_pre = int( max(0,spiketimesA[spikei]-spikeDur/2) )\n",
    "    bnd_pst = int( min(N,spiketimesA[spikei]+spikeDur/2) )\n",
    "    \n",
    "    # fill in with ones\n",
    "    spike_tsA[bnd_pre:bnd_pst] = 1\n",
    "\n",
    "\n",
    "# ### repeat for time series 2\n",
    "spiketimesB = np.random.randint(0,N,int(N*spikeNumB))\n",
    "# spiketimesB[:len(spiketimesA)] = spiketimesA # induce strong conditional probability\n",
    "\n",
    "# flesh out spikes (loop per spike)\n",
    "for spikei in range(len(spiketimesB)):\n",
    "    \n",
    "    # find boundaries\n",
    "    bnd_pre = int( max(0,spiketimesB[spikei]-spikeDur/2) )\n",
    "    bnd_pst = int( min(N,spiketimesB[spikei]+spikeDur/2) )\n",
    "    \n",
    "    # fill in with ones\n",
    "    spike_tsB[bnd_pre:bnd_pst] = 1"
   ]
  },
  {
   "cell_type": "code",
   "execution_count": 3,
   "metadata": {},
   "outputs": [
    {
     "data": {
      "image/png": "[encoded data removed]",
      "text/plain": [
       "<Figure size 432x288 with 1 Axes>"
      ]
     },
     "metadata": {
      "needs_background": "light"
     },
     "output_type": "display_data"
    }
   ],
   "source": [
    "## let's see what they look like\n",
    "\n",
    "plt.plot(range(N),spike_tsA, range(N),spike_tsB)\n",
    "plt.ylim([0,1.2])\n",
    "# plt.xlim([2000,2500])\n",
    "plt.show()"
   ]
  },
  {
   "cell_type": "code",
   "execution_count": 4,
   "metadata": {},
   "outputs": [
    {
     "name": "stdout",
     "output_type": "stream",
     "text": [
      "0.0957 0.3882 0.0335\n"
     ]
    }
   ],
   "source": [
    "## compute their probabilities and intersection\n",
    "\n",
    "# probabilities\n",
    "probA = sum(spike_tsA==1) / N\n",
    "probB = np.mean(spike_tsB)\n",
    "\n",
    "# joint probability\n",
    "probAB = np.mean(spike_tsA+spike_tsB==2)\n",
    "\n",
    "print(probA,probB,probAB)"
   ]
  },
  {
   "cell_type": "code",
   "execution_count": 5,
   "metadata": {},
   "outputs": [
    {
     "name": "stdout",
     "output_type": "stream",
     "text": [
      "P(A)   = 0.0957\n",
      "P(A|B) = 0.0862957\n",
      "P(B)   = 0.3882\n",
      "P(B|A) = 0.350052\n"
     ]
    }
   ],
   "source": [
    "## compute the conditional probabilities\n",
    "\n",
    "# p(A|B)\n",
    "pAgivenB = probAB/probB\n",
    "\n",
    "# p(B|A)\n",
    "pBgivenA = probAB/probA\n",
    "\n",
    "# print a little report\n",
    "print('P(A)   = %g'%probA)\n",
    "print('P(A|B) = %g'%pAgivenB)\n",
    "print('P(B)   = %g'%probB)\n",
    "print('P(B|A) = %g'%pBgivenA)"
   ]
  }
 ],
 "metadata": {
  "kernelspec": {
   "display_name": "Python 3 (ipykernel)",
   "language": "python",
   "name": "python3"
  },
  "language_info": {
   "codemirror_mode": {
    "name": "ipython",
    "version": 3
   },
   "file_extension": ".py",
   "mimetype": "text/x-python",
   "name": "python",
   "nbconvert_exporter": "python",
   "pygments_lexer": "ipython3",
   "version": "3.9.7"
  },
  "toc": {
   "base_numbering": 1,
   "nav_menu": {},
   "number_sections": true,
   "sideBar": true,
   "skip_h1_title": false,
   "title_cell": "Table of Contents",
   "title_sidebar": "Contents",
   "toc_cell": false,
   "toc_position": {},
   "toc_section_display": true,
   "toc_window_display": false
  }
 },
 "nbformat": 4,
 "nbformat_minor": 2
}
