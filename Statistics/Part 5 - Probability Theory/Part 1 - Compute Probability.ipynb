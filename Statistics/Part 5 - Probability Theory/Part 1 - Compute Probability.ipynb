{
 "cells": [
  {
   "cell_type": "code",
   "execution_count": 1,
   "metadata": {},
   "outputs": [],
   "source": [
    "# import libraries\n",
    "import matplotlib.pyplot as plt\n",
    "import numpy as np"
   ]
  },
  {
   "cell_type": "code",
   "execution_count": 2,
   "metadata": {},
   "outputs": [
    {
     "name": "stdout",
     "output_type": "stream",
     "text": [
      "[10. 20. 40. 30.]\n"
     ]
    }
   ],
   "source": [
    "## the basic formula\n",
    "\n",
    "# counts of the different events\n",
    "c = np.array([ 1, 2, 4, 3 ])\n",
    "\n",
    "# convert to probability (%)\n",
    "prob = 100*c / np.sum(c)\n",
    "print(prob)"
   ]
  },
  {
   "cell_type": "code",
   "execution_count": 3,
   "metadata": {},
   "outputs": [
    {
     "data": {
      "image/png": "[encoded data removed]",
      "text/plain": [
       "<Figure size 432x288 with 1 Axes>"
      ]
     },
     "metadata": {
      "needs_background": "light"
     },
     "output_type": "display_data"
    }
   ],
   "source": [
    "## the example of drawing marbles from a jar\n",
    "\n",
    "# colored marble counts\n",
    "blue   = 40\n",
    "yellow = 30\n",
    "orange = 20\n",
    "totalMarbs = blue + yellow + orange\n",
    "\n",
    "# put them all in a jar\n",
    "jar = np.hstack((1*np.ones(blue),2*np.ones(yellow),3*np.ones(orange)))\n",
    "\n",
    "# now we draw 500 marbles (with replacement)\n",
    "numDraws = 500\n",
    "drawColors = np.zeros(numDraws)\n",
    "\n",
    "for drawi in range(numDraws):\n",
    "    \n",
    "    # generate a random integer to draw\n",
    "    randmarble = int(np.random.rand()*len(jar))\n",
    "    \n",
    "    # store the color of that marble\n",
    "    drawColors[drawi] = jar[randmarble]\n",
    "\n",
    "# now we need to know the proportion of colors drawn\n",
    "propBlue = sum(drawColors==1) / numDraws\n",
    "propYell = sum(drawColors==2) / numDraws\n",
    "propOran = sum(drawColors==3) / numDraws\n",
    "\n",
    "\n",
    "# plot those against the theoretical probability\n",
    "plt.bar([1,2,3],[ propBlue, propYell, propOran ],label='Proportion')\n",
    "plt.plot([0.5, 1.5],[blue/totalMarbs, blue/totalMarbs],'b',linewidth=3,label='Probability')\n",
    "plt.plot([1.5, 2.5],[yellow/totalMarbs,yellow/totalMarbs],'b',linewidth=3)\n",
    "plt.plot([2.5, 3.5],[orange/totalMarbs,orange/totalMarbs],'b',linewidth=3)\n",
    "\n",
    "plt.xticks([1,2,3],labels=('Blue','Yellow','Orange'))\n",
    "plt.xlabel('Marble color')\n",
    "plt.ylabel('Proportion/probability')\n",
    "plt.legend()\n",
    "plt.show()"
   ]
  }
 ],
 "metadata": {
  "kernelspec": {
   "display_name": "Python 3 (ipykernel)",
   "language": "python",
   "name": "python3"
  },
  "language_info": {
   "codemirror_mode": {
    "name": "ipython",
    "version": 3
   },
   "file_extension": ".py",
   "mimetype": "text/x-python",
   "name": "python",
   "nbconvert_exporter": "python",
   "pygments_lexer": "ipython3",
   "version": "3.9.7"
  },
  "toc": {
   "base_numbering": 1,
   "nav_menu": {},
   "number_sections": true,
   "sideBar": true,
   "skip_h1_title": false,
   "title_cell": "Table of Contents",
   "title_sidebar": "Contents",
   "toc_cell": false,
   "toc_position": {},
   "toc_section_display": true,
   "toc_window_display": false
  }
 },
 "nbformat": 4,
 "nbformat_minor": 2
}
