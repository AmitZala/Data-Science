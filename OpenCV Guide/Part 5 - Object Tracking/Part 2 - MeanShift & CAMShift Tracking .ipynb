{
 "cells": [
  {
   "cell_type": "markdown",
   "id": "3678b7da",
   "metadata": {},
   "source": [
    "# Part 2 - [MeanShift](http://www.chioka.in/meanshift-algorithm-for-the-rest-of-us-python) & [Camshift](https://medium.com/@claudio.vindimian/understanding-and-implementing-the-camshift-object-tracking-algorithm-python-81587c24eda8) Tracking\n",
    "\n",
    "- First read the article about [MeanShift Algorithm](http://www.chioka.in/meanshift-algorithm-for-the-rest-of-us-python).\n",
    "- MeanShift won't always detect what may be more \"resonable\".\n",
    "- It may have been more reasonable to detect 4 clusters in the previous situation.\n",
    "- MeanShift can be given a target to track, calculate the color histogram of the target area, and then keep sliding the tracking window to the closest match (the cluster center).\n",
    "- Just using MeanShift won't change the window size if the target moves away or towards the camera.\n",
    "- We can use [CAMShift](https://medium.com/@claudio.vindimian/understanding-and-implementing-the-camshift-object-tracking-algorithm-python-81587c24eda8) to update the size of the window."
   ]
  },
  {
   "cell_type": "code",
   "execution_count": 1,
   "id": "9458713a",
   "metadata": {},
   "outputs": [],
   "source": [
    "import numpy as np\n",
    "import matplotlib.pyplot as plt\n",
    "\n",
    "import cv2"
   ]
  },
  {
   "cell_type": "code",
   "execution_count": 2,
   "id": "8c959db2",
   "metadata": {},
   "outputs": [],
   "source": [
    "cap = cv2.VideoCapture(0)\n",
    "\n",
    "ret, frame = cap.read()\n",
    "\n",
    "face_cascade = cv2.CascadeClassifier(\"../DATA/haarcascades/haarcascade_frontalface_default.xml\")\n",
    "face_rects   = face_cascade.detectMultiScale(frame)\n",
    "\n",
    "(face_x, face_y, w, h) = tuple(face_rects[0])\n",
    "track_window = (face_x, face_y, w, h)\n",
    "\n",
    "roi = frame[face_y : face_y+h, face_x : face_x+w]\n",
    "\n",
    "hsv_roi = cv2.cvtColor(roi, cv2.COLOR_BGR2HSV)\n",
    "\n",
    "roi_hist = cv2.calcHist([hsv_roi], channels=[0], mask=None, histSize=[180], ranges=[0, 180])\n",
    "\n",
    "cv2.normalize(roi_hist, dst=roi_hist, alpha=0, beta=255, norm_type=cv2.NORM_MINMAX)\n",
    "\n",
    "term_crit = (cv2.TERM_CRITERIA_EPS | cv2.TERM_CRITERIA_COUNT, 10, 1)\n",
    "\n",
    "while True:\n",
    "    \n",
    "    ret, frame = cap.read()\n",
    "    \n",
    "    if ret:\n",
    "        hsv = cv2.cvtColor(frame, cv2.COLOR_BGR2HSV)\n",
    "        \n",
    "        dst = cv2.calcBackProject(images=[hsv], channels=[0], hist=roi_hist, ranges=[0, 180], scale=1)\n",
    "        \n",
    "        ####################################################################\n",
    "        ### MeanShift ###\n",
    "        # ret, track_window = cv2.meanShift(probImage=dst, window=track_window, criteria=term_crit)\n",
    "        \n",
    "        # x, y, w, h = track_window\n",
    "        # img2 = cv2.rectangle(frame, pt1=(x, y), pt2=(x+w, y+h), color=(0, 0, 255), thickness=3)\n",
    "        \n",
    "        ### CAMShift ###\n",
    "        ret, track_window = cv2.CamShift(probImage=dst, window=track_window, criteria=term_crit)\n",
    "        \n",
    "        pts = cv2.boxPoints(ret)\n",
    "        pts = np.int0(pts)\n",
    "        img2 = cv2.polylines(frame, pts=[pts], isClosed=True, color=(0, 0, 255), thickness=3)\n",
    "        \n",
    "        ####################################################################\n",
    "        \n",
    "        cv2.imshow(\"img\", img2)\n",
    "        \n",
    "        if cv2.waitKey(1) & 0xFF == ord(\"q\"):\n",
    "            break\n",
    "    else:\n",
    "        break\n",
    "        \n",
    "cap.release()\n",
    "cv2.destroyAllWindows()"
   ]
  },
  {
   "cell_type": "code",
   "execution_count": null,
   "id": "c5a95a14",
   "metadata": {},
   "outputs": [],
   "source": []
  }
 ],
 "metadata": {
  "kernelspec": {
   "display_name": "Python 3 (ipykernel)",
   "language": "python",
   "name": "python3"
  },
  "language_info": {
   "codemirror_mode": {
    "name": "ipython",
    "version": 3
   },
   "file_extension": ".py",
   "mimetype": "text/x-python",
   "name": "python",
   "nbconvert_exporter": "python",
   "pygments_lexer": "ipython3",
   "version": "3.8.8"
  }
 },
 "nbformat": 4,
 "nbformat_minor": 5
}
