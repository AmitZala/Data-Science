{
 "cells": [
  {
   "cell_type": "markdown",
   "id": "9f99eb7a",
   "metadata": {},
   "source": [
    "# Part 3 - Tracking API Methods\n",
    "\n",
    "- There are many Object Tracking methods.\n",
    "- Fortunately, many have been designed as simple API calls with OpenCV.\n",
    "- Let's explore a few of these easy to use Object Tracking APIs.\n",
    "\n",
    "- `BOOSTING TRACKER`\n",
    "    - Based off AdaBoost algorithm (the same underlying algorithm that the HAAR Cascade based Face Detector used).\n",
    "    - Evaluation occurs across multiple frames.\n",
    "    - **Pros:**\n",
    "        - Very well known and studied algorithm.\n",
    "    - **Cons:**\n",
    "        - Doesn't know when tracking has failed.\n",
    "        - Much better techniques available!\n",
    "- `MIL TRACKER`\n",
    "    - Multiple Instance Learning\n",
    "    - Similar to Boosting, but considers a neigfhborhood of points around the current location to create multiple instances.\n",
    "    - Check project page for more details.\n",
    "    - **Pros:**\n",
    "        - Good performance and doesn't drift as much as Boosting.\n",
    "    - **Cons:**\n",
    "        - failure to track an object may not be reported back.\n",
    "        - Can't recover from full obstraction.\n",
    "- `KCF TRACKER`\n",
    "    - Kernelized Correlation Filters\n",
    "    - Exploits some properties of the MIL Tracker and the fact that many data points will overlap, leading to more accurate and faster tracking.\n",
    "    - **Pros:**\n",
    "        - Better than MIL and Boosting\n",
    "        - Great first choice!\n",
    "    - **Cons:**\n",
    "        - Can not recover from full obstruction of object.\n",
    "- `TLD TRACKER`\n",
    "    - Tracking, Learning and Detecting\n",
    "    - The tracker follows the object from frame to flame.\n",
    "    - The detector localizes all appearances that have been observed so far and corrects the tracker if necessary.\n",
    "    - **Pros:**\n",
    "        - Good at tracking even with obstruction in frames.\n",
    "        - Tracks well under large changes in scale.\n",
    "    - **Cons:**\n",
    "        - Can provide many false positives.\n",
    "- `MedianFlow Tracker`\n",
    "    - Internally, this tracker tracks the object in both forward and backward directions in time and measures the discrepancies between two trajectories.\n",
    "    - **Pros:**\n",
    "        - Very good at reporting failed tracking.\n",
    "        - Works well with predictable motion.\n",
    "    - **Cons:**\n",
    "        - Fails under large motion (fast moving objects)."
   ]
  },
  {
   "cell_type": "code",
   "execution_count": 1,
   "id": "8c6c02ed",
   "metadata": {},
   "outputs": [],
   "source": [
    "import numpy as np\n",
    "\n",
    "import cv2"
   ]
  },
  {
   "cell_type": "code",
   "execution_count": 4,
   "id": "8cce2bbf",
   "metadata": {},
   "outputs": [],
   "source": [
    "def ask_for_tracker():\n",
    "    print(\"Welcome! What Tracker API would you like to use?\")\n",
    "    print(\"Enter 0 for BOOSTING: \")\n",
    "    print(\"Enter 1 for MIL: \")\n",
    "    print(\"Enter 2 for KCF: \")\n",
    "    print(\"Enter 3 for TLD: \")\n",
    "    print(\"Enter 4 for MEDIANFLOW: \")\n",
    "    choice = input(\"Please select your tracker: \")\n",
    "    \n",
    "    if choice == '0':\n",
    "        tracker = cv2.legacy.TrackerBoosting_create()\n",
    "    if choice == '1':\n",
    "        tracker = cv2.legacy.TrackerMIL_create()\n",
    "    if choice == '2':\n",
    "        tracker = cv2.legacy.TrackerKCF_create()\n",
    "    if choice == '3':\n",
    "        tracker = cv2.legacy.TrackerTLD_create()\n",
    "    if choice == '4':\n",
    "        tracker = cv2.legacy.TrackerMedianFlow_create()\n",
    "\n",
    "\n",
    "    return tracker"
   ]
  },
  {
   "cell_type": "code",
   "execution_count": 9,
   "id": "638d8cd4",
   "metadata": {},
   "outputs": [
    {
     "name": "stdout",
     "output_type": "stream",
     "text": [
      "Welcome! What Tracker API would you like to use?\n",
      "Enter 0 for BOOSTING: \n",
      "Enter 1 for MIL: \n",
      "Enter 2 for KCF: \n",
      "Enter 3 for TLD: \n",
      "Enter 4 for MEDIANFLOW: \n",
      "Please select your tracker: 4\n"
     ]
    },
    {
     "data": {
      "text/plain": [
       "< cv2.legacy.TrackerMedianFlow 0000022FE543F330>"
      ]
     },
     "execution_count": 9,
     "metadata": {},
     "output_type": "execute_result"
    }
   ],
   "source": [
    "tracker = ask_for_tracker()\n",
    "\n",
    "tracker"
   ]
  },
  {
   "cell_type": "code",
   "execution_count": 13,
   "id": "6176df13",
   "metadata": {},
   "outputs": [
    {
     "data": {
      "text/plain": [
       "'TrackerMedianFlow'"
      ]
     },
     "execution_count": 13,
     "metadata": {},
     "output_type": "execute_result"
    }
   ],
   "source": [
    "str(tracker).split()[1].split(\".\")[2]"
   ]
  },
  {
   "cell_type": "code",
   "execution_count": 17,
   "id": "2dd4abd8",
   "metadata": {},
   "outputs": [
    {
     "name": "stdout",
     "output_type": "stream",
     "text": [
      "Welcome! What Tracker API would you like to use?\n",
      "Enter 0 for BOOSTING: \n",
      "Enter 1 for MIL: \n",
      "Enter 2 for KCF: \n",
      "Enter 3 for TLD: \n",
      "Enter 4 for MEDIANFLOW: \n",
      "Please select your tracker: 0\n"
     ]
    }
   ],
   "source": [
    "tracker = ask_for_tracker()\n",
    "tracker_name = str(tracker).split()[1].split(\".\")[2]\n",
    "\n",
    "# Read video\n",
    "cap = cv2.VideoCapture(0)\n",
    "\n",
    "# Read first frame.\n",
    "ret, frame = cap.read()\n",
    "\n",
    "\n",
    "# Special function allows us to draw on the very first frame our desired ROI\n",
    "roi = cv2.selectROI(frame, False)\n",
    "\n",
    "# Initialize tracker with first frame and bounding box\n",
    "ret = tracker.init(frame, roi)\n",
    "\n",
    "while True:\n",
    "    # Read a new frame\n",
    "    ret, frame = cap.read()\n",
    "    \n",
    "    \n",
    "    # Update tracker\n",
    "    success, roi = tracker.update(frame)\n",
    "    \n",
    "    # roi variable is a tuple of 4 floats\n",
    "    # We need each value and we need them as integers\n",
    "    (x,y,w,h) = tuple(map(int,roi))\n",
    "    \n",
    "    # Draw Rectangle as Tracker moves\n",
    "    if success:\n",
    "        # Tracking success\n",
    "        p1 = (x, y)\n",
    "        p2 = (x+w, y+h)\n",
    "        cv2.rectangle(frame, p1, p2, (0,255,0), 3)\n",
    "    else :\n",
    "        # Tracking failure\n",
    "        cv2.putText(frame, \"Failure to Detect Tracking!!\", (100,200), cv2.FONT_HERSHEY_SIMPLEX, 1,(0,0,255),3)\n",
    "\n",
    "    # Display tracker type on frame\n",
    "    cv2.putText(frame, tracker_name, (20,400), cv2.FONT_HERSHEY_SIMPLEX, 1, (0,255,0),3);\n",
    "\n",
    "    # Display result\n",
    "    cv2.imshow(tracker_name, frame)\n",
    "\n",
    "    # Exit if ESC pressed\n",
    "    k = cv2.waitKey(1) & 0xff\n",
    "    if k == 27 : \n",
    "        break\n",
    "        \n",
    "cap.release()\n",
    "cv2.destroyAllWindows()"
   ]
  }
 ],
 "metadata": {
  "kernelspec": {
   "display_name": "Python 3 (ipykernel)",
   "language": "python",
   "name": "python3"
  },
  "language_info": {
   "codemirror_mode": {
    "name": "ipython",
    "version": 3
   },
   "file_extension": ".py",
   "mimetype": "text/x-python",
   "name": "python",
   "nbconvert_exporter": "python",
   "pygments_lexer": "ipython3",
   "version": "3.8.8"
  }
 },
 "nbformat": 4,
 "nbformat_minor": 5
}
