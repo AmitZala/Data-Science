{
 "cells": [
  {
   "cell_type": "code",
   "execution_count": 2,
   "id": "a044d74b-4b5f-441d-9ac5-8749f6b11585",
   "metadata": {},
   "outputs": [],
   "source": [
    "import numpy as np\n",
    "import cv2\n",
    "\n",
    "# VARIABLES\n",
    "drawing = False  # True while mouse button down, False while mouse button up\n",
    "ix, iy = -1, -1\n",
    "\n",
    "\n",
    "##############\n",
    "## FUNCTION ##\n",
    "##############\n",
    "\n",
    "def draw_circle_rectangle(event, x, y, flags, param):\n",
    "    global ix, iy, drawing\n",
    "    # first 3 if-else are to draw rectangle\n",
    "    if event == cv2.EVENT_LBUTTONDOWN:\n",
    "        drawing = True\n",
    "        ix, iy = x, y\n",
    "    \n",
    "    elif event == cv2.EVENT_MOUSEMOVE:\n",
    "        if drawing == True:\n",
    "            cv2.rectangle(img, pt1=(ix, iy), pt2=(x, y), color=(0, 255, 0), thickness=-1)\n",
    "            \n",
    "    elif event == cv2.EVENT_LBUTTONUP:\n",
    "        drawing = False\n",
    "        cv2.rectangle(img, pt1=(ix, iy), pt2=(x, y), color=(0, 255, 0), thickness=-1)\n",
    "    \n",
    "    elif event == cv2.EVENT_RBUTTONDOWN:\n",
    "        cv2.circle(img, center = (x, y), radius=50, color=(255, 0, 0), thickness=-1)\n",
    "\n",
    "cv2.namedWindow(winname=\"my_drawing\")\n",
    "cv2.setMouseCallback(\"my_drawing\", draw_circle_rectangle)\n",
    "\n",
    "###############################\n",
    "## SHOWING IMAGE WITH OPENCV ##\n",
    "###############################\n",
    "\n",
    "img = np.zeros((512, 512, 3), dtype=np.uint8)\n",
    "\n",
    "while True:\n",
    "    cv2.imshow(\"my_drawing\", img)\n",
    "    \n",
    "    # break the loop while pressing the Esc key on keyboard\n",
    "    if cv2.waitKey(20) & 0xFF == 27:\n",
    "        break\n",
    "        \n",
    "cv2.destroyAllWindows()"
   ]
  },
  {
   "cell_type": "code",
   "execution_count": null,
   "id": "98734f42-67f5-48c8-88a6-18e8ad7522af",
   "metadata": {},
   "outputs": [],
   "source": []
  }
 ],
 "metadata": {
  "kernelspec": {
   "display_name": "Python 3 (ipykernel)",
   "language": "python",
   "name": "python3"
  },
  "language_info": {
   "codemirror_mode": {
    "name": "ipython",
    "version": 3
   },
   "file_extension": ".py",
   "mimetype": "text/x-python",
   "name": "python",
   "nbconvert_exporter": "python",
   "pygments_lexer": "ipython3",
   "version": "3.8.8"
  }
 },
 "nbformat": 4,
 "nbformat_minor": 5
}
