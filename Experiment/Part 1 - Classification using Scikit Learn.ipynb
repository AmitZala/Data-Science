{
 "cells": [
  {
   "cell_type": "code",
   "execution_count": 16,
   "id": "8122e4c0",
   "metadata": {
    "ExecuteTime": {
     "end_time": "2022-02-08T14:31:52.780648Z",
     "start_time": "2022-02-08T14:31:52.763230Z"
    }
   },
   "outputs": [],
   "source": [
    "from typing import Union\n",
    "\n",
    "import numpy as np\n",
    "import matplotlib.pyplot as plt\n",
    "\n",
    "from sklearn.datasets import fetch_openml\n",
    "from sklearn.linear_model import SGDClassifier\n",
    "from sklearn.model_selection import StratifiedKFold\n",
    "from sklearn.model_selection import cross_val_score, cross_val_predict\n",
    "from sklearn.metrics import precision_recall_curve\n",
    "from sklearn.base import clone, BaseEstimator"
   ]
  },
  {
   "cell_type": "code",
   "execution_count": 2,
   "id": "84b53977",
   "metadata": {
    "ExecuteTime": {
     "end_time": "2022-02-08T14:26:48.673809Z",
     "start_time": "2022-02-08T14:25:41.891892Z"
    }
   },
   "outputs": [
    {
     "data": {
      "text/plain": [
       "dict_keys(['data', 'target', 'frame', 'categories', 'feature_names', 'target_names', 'DESCR', 'details', 'url'])"
      ]
     },
     "execution_count": 2,
     "metadata": {},
     "output_type": "execute_result"
    }
   ],
   "source": [
    "# load the mnist dataset\n",
    "mnist = fetch_openml(\"mnist_784\", version=1)\n",
    "mnist.keys()"
   ]
  },
  {
   "cell_type": "code",
   "execution_count": 3,
   "id": "8a8e1ded",
   "metadata": {
    "ExecuteTime": {
     "end_time": "2022-02-08T14:26:48.688771Z",
     "start_time": "2022-02-08T14:26:48.676801Z"
    }
   },
   "outputs": [
    {
     "name": "stdout",
     "output_type": "stream",
     "text": [
      "Shape of independent variable: (70000, 784)\n",
      "Shape of dependent variable:   (70000,)\n"
     ]
    }
   ],
   "source": [
    "X, y = mnist[\"data\"].to_numpy(), mnist[\"target\"].to_numpy().astype(np.uint8)\n",
    "\n",
    "print(f\"Shape of independent variable: {X.shape}\")\n",
    "print(f\"Shape of dependent variable:   {y.shape}\")"
   ]
  },
  {
   "cell_type": "code",
   "execution_count": 4,
   "id": "97dfef7f",
   "metadata": {
    "ExecuteTime": {
     "end_time": "2022-02-08T14:26:48.767559Z",
     "start_time": "2022-02-08T14:26:48.690765Z"
    }
   },
   "outputs": [
    {
     "data": {
      "image/png": "[encoded data removed]",
      "text/plain": [
       "<Figure size 432x288 with 1 Axes>"
      ]
     },
     "metadata": {
      "needs_background": "light"
     },
     "output_type": "display_data"
    }
   ],
   "source": [
    "some_digit       = X[0]\n",
    "some_digit_image = some_digit.reshape(28, 28)\n",
    "\n",
    "plt.imshow(some_digit_image, cmap=\"binary\")\n",
    "plt.axis(\"off\")\n",
    "plt.title(f\"Label: {y[0]}\")\n",
    "plt.show()"
   ]
  },
  {
   "cell_type": "code",
   "execution_count": 5,
   "id": "e6d8385d",
   "metadata": {
    "ExecuteTime": {
     "end_time": "2022-02-08T14:26:48.782519Z",
     "start_time": "2022-02-08T14:26:48.768557Z"
    }
   },
   "outputs": [],
   "source": [
    "X_train, X_test, y_train, y_test = X[:60000], X[60000:], y[:60000], y[60000:]\n",
    "\n",
    "# True for all 5s, False for all other digits\n",
    "y_train_5 = (y_train == 5)\n",
    "y_test_5  = (y_test  == 5)"
   ]
  },
  {
   "cell_type": "code",
   "execution_count": 6,
   "id": "4645500c",
   "metadata": {
    "ExecuteTime": {
     "end_time": "2022-02-08T14:27:04.507996Z",
     "start_time": "2022-02-08T14:26:48.783516Z"
    }
   },
   "outputs": [
    {
     "data": {
      "text/plain": [
       "array([ True])"
      ]
     },
     "execution_count": 6,
     "metadata": {},
     "output_type": "execute_result"
    }
   ],
   "source": [
    "# create a sgd classifier model and train it\n",
    "sgd_clf = SGDClassifier(random_state=42)\n",
    "sgd_clf.fit(X_train, y_train_5, )\n",
    "\n",
    "# now prediction time\n",
    "sgd_clf.predict([some_digit])"
   ]
  },
  {
   "cell_type": "code",
   "execution_count": 7,
   "id": "15102d36",
   "metadata": {
    "ExecuteTime": {
     "end_time": "2022-02-08T14:27:25.139033Z",
     "start_time": "2022-02-08T14:27:04.508994Z"
    }
   },
   "outputs": [
    {
     "name": "stdout",
     "output_type": "stream",
     "text": [
      "0.96215\n",
      "0.94995\n",
      "0.9673\n"
     ]
    }
   ],
   "source": [
    "# cross validation\n",
    "skfolds = StratifiedKFold(n_splits=3)\n",
    "    \n",
    "for train_index, test_index in skfolds.split(X_train, y_train):\n",
    "    clone_clf = clone(sgd_clf)\n",
    "    \n",
    "    X_train_folds = X_train[train_index]\n",
    "    y_train_folds = y_train_5[train_index]\n",
    "    X_test_fold   = X_train[test_index]\n",
    "    y_test_fold   = y_train_5[test_index]\n",
    "    \n",
    "    clone_clf.fit(X_train_folds, y_train_folds)\n",
    "    y_pred    = clone_clf.predict(X_test_fold)\n",
    "    n_correct = sum(y_pred == y_test_fold)\n",
    "    print(n_correct / len(y_pred))"
   ]
  },
  {
   "cell_type": "code",
   "execution_count": 8,
   "id": "635c6f92",
   "metadata": {
    "ExecuteTime": {
     "end_time": "2022-02-08T14:27:45.068686Z",
     "start_time": "2022-02-08T14:27:25.140031Z"
    }
   },
   "outputs": [
    {
     "data": {
      "text/plain": [
       "array([0.95035, 0.96035, 0.9604 ])"
      ]
     },
     "execution_count": 8,
     "metadata": {},
     "output_type": "execute_result"
    }
   ],
   "source": [
    "cross_val_score(sgd_clf, X_train, y_train_5, cv=3, scoring=\"accuracy\")"
   ]
  },
  {
   "cell_type": "code",
   "execution_count": 9,
   "id": "6726e9de",
   "metadata": {
    "ExecuteTime": {
     "end_time": "2022-02-08T14:27:45.083880Z",
     "start_time": "2022-02-08T14:27:45.069702Z"
    }
   },
   "outputs": [],
   "source": [
    "class Never5Classifier(BaseEstimator):\n",
    "    def fit(self, X, y=None):\n",
    "        pass\n",
    "    def predict(self, X):\n",
    "        return np.zeros((len(X), 1), dtype=bool)"
   ]
  },
  {
   "cell_type": "code",
   "execution_count": null,
   "id": "30b07195",
   "metadata": {
    "ExecuteTime": {
     "end_time": "2022-02-08T14:27:45.533663Z",
     "start_time": "2022-02-08T14:27:45.085876Z"
    }
   },
   "outputs": [],
   "source": [
    "never_5_clf = Never5Classifier()\n",
    "cross_val_score(never_5_clf, X_train, y_train_5, cv=3, scoring=\"accuracy\")"
   ]
  },
  {
   "cell_type": "markdown",
   "id": "bdad1eb9",
   "metadata": {},
   "source": [
    "## Parametric Experiment"
   ]
  },
  {
   "cell_type": "code",
   "execution_count": 12,
   "id": "7502884c",
   "metadata": {
    "ExecuteTime": {
     "end_time": "2022-02-08T14:29:54.630973Z",
     "start_time": "2022-02-08T14:29:35.098879Z"
    }
   },
   "outputs": [
    {
     "data": {
      "text/plain": [
       "array([  1200.93051237, -26883.79202424, -33072.03475406, ...,\n",
       "        13272.12718981,  -7258.47203373, -16877.50840447])"
      ]
     },
     "execution_count": 12,
     "metadata": {},
     "output_type": "execute_result"
    }
   ],
   "source": [
    "sgd_clf = SGDClassifier(random_state=42)\n",
    "\n",
    "y_scores = cross_val_predict(sgd_clf, X_train, y_train_5, cv=3, method=\"decision_function\")\n",
    "y_scores"
   ]
  },
  {
   "cell_type": "code",
   "execution_count": 14,
   "id": "b411d338",
   "metadata": {
    "ExecuteTime": {
     "end_time": "2022-02-08T14:30:55.464922Z",
     "start_time": "2022-02-08T14:30:55.458906Z"
    }
   },
   "outputs": [
    {
     "name": "stdout",
     "output_type": "stream",
     "text": [
      "(60000,)\n",
      "(60000, 784)\n"
     ]
    },
    {
     "data": {
      "text/plain": [
       "(60000,)"
      ]
     },
     "execution_count": 14,
     "metadata": {},
     "output_type": "execute_result"
    }
   ],
   "source": [
    "print(y_train_5.shape)\n",
    "print(X_train.shape)\n",
    "y_scores.shape"
   ]
  },
  {
   "cell_type": "code",
   "execution_count": 17,
   "id": "4b8085d4",
   "metadata": {
    "ExecuteTime": {
     "end_time": "2022-02-08T14:32:32.013270Z",
     "start_time": "2022-02-08T14:32:31.988024Z"
    }
   },
   "outputs": [],
   "source": [
    "precisions, recalls, thresholds = precision_recall_curve(y_train_5, y_scores)"
   ]
  },
  {
   "cell_type": "code",
   "execution_count": 85,
   "id": "ef959a5c",
   "metadata": {
    "ExecuteTime": {
     "end_time": "2022-02-08T15:42:41.902463Z",
     "start_time": "2022-02-08T15:42:41.651087Z"
    }
   },
   "outputs": [
    {
     "data": {
      "image/png": "[encoded data removed]",
      "text/plain": [
       "<Figure size 1152x648 with 1 Axes>"
      ]
     },
     "metadata": {
      "needs_background": "light"
     },
     "output_type": "display_data"
    }
   ],
   "source": [
    "from matplotlib import style\n",
    "\n",
    "\n",
    "def plot_precision_recall_vs_threshold(precisions, recalls, thresholds):\n",
    "    with plt.style.context('dark_background'):\n",
    "        plt.plot(thresholds, precisions[:-1], \"y--\", linewidth=3, label=\"Precision\")\n",
    "        plt.plot(thresholds, recalls[:-1], \"c-\", linewidth=3, label=\"Recall\")\n",
    "\n",
    "        threshold_index = np.argwhere(thresholds >= 8000)[0][0]\n",
    "        x_value = thresholds[threshold_index]\n",
    "        precision_value = precisions[threshold_index]\n",
    "        recall_value = recalls[threshold_index]\n",
    "\n",
    "        plt.plot([x_value, x_value], [0, precision_value], \"r-o\", markersize=10)\n",
    "        plt.plot([thresholds.min(), x_value], [precision_value, precision_value], \"r-o\", markersize=10)\n",
    "        plt.plot([thresholds.min(), x_value], [recall_value, recall_value], \"r-o\", markersize=10)\n",
    "\n",
    "        plt.xlabel(\"Threshold\", fontsize=16, color=\"black\")\n",
    "        plt.xticks(color=\"black\", fontsize=16)\n",
    "        plt.yticks(color=\"black\", fontsize=16)\n",
    "        plt.xlim(thresholds.min(), thresholds.max())\n",
    "        plt.title(\"Precision-Recall vs Threshold Parametric Experiment\", fontsize=16, color=\"black\")\n",
    "        plt.grid()\n",
    "        plt.legend(fontsize=14)\n",
    "\n",
    "plt.figure(figsize=(16, 9))\n",
    "plot_precision_recall_vs_threshold(precisions, recalls, thresholds)\n",
    "plt.show()"
   ]
  }
 ],
 "metadata": {
  "kernelspec": {
   "display_name": "Python 3 (ipykernel)",
   "language": "python",
   "name": "python3"
  },
  "language_info": {
   "codemirror_mode": {
    "name": "ipython",
    "version": 3
   },
   "file_extension": ".py",
   "mimetype": "text/x-python",
   "name": "python",
   "nbconvert_exporter": "python",
   "pygments_lexer": "ipython3",
   "version": "3.9.10"
  },
  "toc": {
   "base_numbering": 1,
   "nav_menu": {},
   "number_sections": true,
   "sideBar": true,
   "skip_h1_title": false,
   "title_cell": "Table of Contents",
   "title_sidebar": "Contents",
   "toc_cell": false,
   "toc_position": {},
   "toc_section_display": true,
   "toc_window_display": false
  }
 },
 "nbformat": 4,
 "nbformat_minor": 5
}
