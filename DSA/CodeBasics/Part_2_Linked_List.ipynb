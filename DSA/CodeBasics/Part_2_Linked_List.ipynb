{
 "cells": [
  {
   "cell_type": "markdown",
   "id": "a9177321",
   "metadata": {},
   "source": [
    "# Linked List\n",
    "\n",
    "![Image-11](./images/image-11.png)"
   ]
  },
  {
   "cell_type": "markdown",
   "id": "eec91242",
   "metadata": {},
   "source": [
    "![Image-12](./images/image-12.png)"
   ]
  },
  {
   "cell_type": "markdown",
   "id": "7370e8b0",
   "metadata": {},
   "source": [
    "![Image-13](./images/image-13.png)"
   ]
  },
  {
   "cell_type": "markdown",
   "id": "af24e756",
   "metadata": {},
   "source": [
    "**Linked list has two main benefits over an array,**\n",
    "- You don't need to preallocate space\n",
    "- Insertion is easier\n",
    "\n",
    "- **Linked List Traversal = O(n)**\n",
    "- **Accessing Element by valye = O(n)**\n",
    "\n",
    "![Image-14](./images/image-14.png)"
   ]
  },
  {
   "cell_type": "markdown",
   "id": "9348394b",
   "metadata": {},
   "source": [
    "![Image-15](./images/image-15.png)"
   ]
  },
  {
   "cell_type": "code",
   "execution_count": 4,
   "id": "dab0f016",
   "metadata": {
    "ExecuteTime": {
     "end_time": "2022-02-17T06:41:45.709480Z",
     "start_time": "2022-02-17T06:41:45.700504Z"
    }
   },
   "outputs": [
    {
     "name": "stdout",
     "output_type": "stream",
     "text": [
      "89-->5-->79-->\n",
      "\n",
      "\n",
      "banana-->apple-->mango-->orange-->\n",
      "\n",
      "\n",
      "length: 4\n"
     ]
    }
   ],
   "source": [
    "class Node:\n",
    "    def __init__(self, data=None, next=None):\n",
    "        self.data = data\n",
    "        self.next = next\n",
    "\n",
    "class LinkedList:\n",
    "    def __init__(self):\n",
    "        self.head = None\n",
    "        \n",
    "    def insert_at_beginining(self, data):\n",
    "        node = Node(data, self.head)\n",
    "        self.head = node\n",
    "    \n",
    "    def print(self):\n",
    "        if self.head is None:\n",
    "            print(\"Linked list is empty\")\n",
    "            return\n",
    "        \n",
    "        itr = self.head\n",
    "        llstr = \"\"\n",
    "        while itr:\n",
    "            llstr += str(itr.data) + \"-->\"\n",
    "            itr = itr.next\n",
    "        print(llstr)\n",
    "    \n",
    "    def insert_at_end(self, data):\n",
    "        if self.head is None:\n",
    "            self.head = Node(data, None)\n",
    "            return\n",
    "        \n",
    "        itr = self.head\n",
    "        while itr.next:\n",
    "            itr = itr.next\n",
    "            \n",
    "        itr.next = Node(data, None)\n",
    "        \n",
    "    def insert_values(self, data_list):\n",
    "        self.head = None\n",
    "        \n",
    "        for data in data_list:\n",
    "            self.insert_at_end(data)\n",
    "            \n",
    "    def get_length(self):\n",
    "        count = 0\n",
    "        itr   = self.head\n",
    "        while itr:\n",
    "            count += 1\n",
    "            itr = itr.next\n",
    "        return count\n",
    "    \n",
    "    def remove_at(self, index):\n",
    "        if index < 0 or index >= self.get_length():\n",
    "            raise Exception(\"Invalid index\")\n",
    "        \n",
    "        if index == 0:\n",
    "            self.head = self.head.next\n",
    "            return\n",
    "        \n",
    "        count = 0\n",
    "        itr = self.head\n",
    "        while itr:\n",
    "            if count == index - 1:\n",
    "                itr.next = itr.next.next\n",
    "                break\n",
    "                \n",
    "            itr = itr.next\n",
    "            count += 1\n",
    "            \n",
    "    def insert_at(self, index, data):\n",
    "        if index < 0 or index > self.get_length():\n",
    "            raise Exception(\"Invalid Index\")\n",
    "            \n",
    "        if index == 0:\n",
    "            self.insert_at_beginining(data)\n",
    "            return\n",
    "        \n",
    "        count = 0\n",
    "        itr = self.head\n",
    "        while itr:\n",
    "            \n",
    "            if count == index - 1:\n",
    "                node = Node(data, itr.next)\n",
    "                itr.next = node\n",
    "                break\n",
    "                \n",
    "            itr = itr.next\n",
    "            count += 1\n",
    "            \n",
    "ll = LinkedList()\n",
    "ll.insert_at_beginining(5)\n",
    "ll.insert_at_beginining(89)\n",
    "ll.insert_at_end(79)\n",
    "ll.print()\n",
    "\n",
    "print(\"\\n\")\n",
    "\n",
    "ll = LinkedList()\n",
    "ll.insert_values([\"banana\", \"apple\", \"mango\", \"orange\"])\n",
    "ll.print()\n",
    "\n",
    "print(\"\\n\")\n",
    "\n",
    "print(\"length:\", ll.get_length())"
   ]
  }
 ],
 "metadata": {
  "kernelspec": {
   "display_name": "Python 3 (ipykernel)",
   "language": "python",
   "name": "python3"
  },
  "language_info": {
   "codemirror_mode": {
    "name": "ipython",
    "version": 3
   },
   "file_extension": ".py",
   "mimetype": "text/x-python",
   "name": "python",
   "nbconvert_exporter": "python",
   "pygments_lexer": "ipython3",
   "version": "3.9.10"
  },
  "toc": {
   "base_numbering": 1,
   "nav_menu": {},
   "number_sections": true,
   "sideBar": true,
   "skip_h1_title": false,
   "title_cell": "Table of Contents",
   "title_sidebar": "Contents",
   "toc_cell": false,
   "toc_position": {},
   "toc_section_display": true,
   "toc_window_display": false
  }
 },
 "nbformat": 4,
 "nbformat_minor": 5
}
