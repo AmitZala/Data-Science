{
 "cells": [
  {
   "cell_type": "markdown",
   "id": "0b4e3abe",
   "metadata": {},
   "source": [
    "# Array\n",
    "\n",
    "![Image-1](./images/image-1.png)\n",
    "\n",
    "![Image-2](./images/image-2.png)\n",
    "\n",
    "![Image-3](./images/image-3.png)"
   ]
  },
  {
   "cell_type": "markdown",
   "id": "0217e68a",
   "metadata": {},
   "source": [
    "![Image-4](./images/image-4.png)"
   ]
  },
  {
   "cell_type": "markdown",
   "id": "1994f0ac",
   "metadata": {},
   "source": [
    "![image-5](./images/image-5.png)\n",
    "\n",
    "![Image6](./images/image-6.png)\n",
    "\n",
    "![Image7](./images/image-7.png)"
   ]
  },
  {
   "cell_type": "markdown",
   "id": "602a9de8",
   "metadata": {},
   "source": [
    "In Python, `list` is implemented as **dynamic array**. In other language like Java, C++ we have **static** and **dynamic arrays** both."
   ]
  },
  {
   "cell_type": "markdown",
   "id": "988c0b44",
   "metadata": {},
   "source": [
    "![IMAGE-8](./images/image-8.png)"
   ]
  },
  {
   "cell_type": "markdown",
   "id": "0ded32ee",
   "metadata": {},
   "source": [
    "![Image-9](./images/image-9.png)"
   ]
  },
  {
   "cell_type": "markdown",
   "id": "23eb82b0",
   "metadata": {},
   "source": [
    "![Image-10](./images/image-10.png)"
   ]
  },
  {
   "cell_type": "markdown",
   "id": "bd97d800",
   "metadata": {},
   "source": [
    "**Exercise:**\n",
    "1. Let us say your expense for every month are listed below,\n",
    "    1. January - 2200\n",
    "    2. February - 2350\n",
    "    3. March - 2600\n",
    "    4. April - 2130\n",
    "    5. May - 2190\n",
    "    \n",
    "Create a list to store these monthly expenses and using that find out,\n",
    "\n",
    "```bash\n",
    "1. In Feb, how many dollars you spent extra compare to January?\n",
    "2. Find out your total expense in first quarter (first 3 months) of the year.\n",
    "3. Find out if you spent exactly 2000 dollars in any month.\n",
    "4. June month just finished and your expense is 1980 dollar. Add this item to our monthly expense list.\n",
    "5. You returned an item that you bought in a month of April and got a refund of 200 dollar. Make a correction to your monthly expense list based on this.\n",
    "```"
   ]
  }
 ],
 "metadata": {
  "kernelspec": {
   "display_name": "Python 3 (ipykernel)",
   "language": "python",
   "name": "python3"
  },
  "language_info": {
   "codemirror_mode": {
    "name": "ipython",
    "version": 3
   },
   "file_extension": ".py",
   "mimetype": "text/x-python",
   "name": "python",
   "nbconvert_exporter": "python",
   "pygments_lexer": "ipython3",
   "version": "3.9.10"
  },
  "toc": {
   "base_numbering": 1,
   "nav_menu": {},
   "number_sections": true,
   "sideBar": true,
   "skip_h1_title": false,
   "title_cell": "Table of Contents",
   "title_sidebar": "Contents",
   "toc_cell": false,
   "toc_position": {},
   "toc_section_display": true,
   "toc_window_display": false
  }
 },
 "nbformat": 4,
 "nbformat_minor": 5
}
