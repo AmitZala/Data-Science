{
 "cells": [
  {
   "cell_type": "markdown",
   "metadata": {
    "id": "rwjZxLHa_xXn"
   },
   "source": [
    "# Text Preprocessing\n",
    "\n",
    "## Part 0 - Common Terms\n",
    "Some common terms and the meanings of that term (imagine there is a data set for sentiment analysis having two columns *review* and *sentiment*.):\n",
    "- **Corpus (C):** All the words (repeated also included) available into your *review* column.\n",
    "- **Vocabulary (V):** All the unique words together available into your *review* column\n",
    "- **Document:** The individual record of the dataset is called document.\n",
    "- **Word:** And every word is called words 😅"
   ]
  },
  {
   "cell_type": "markdown",
   "metadata": {
    "id": "UKD9qi2JZ9AK"
   },
   "source": [
    "## Part 1 - Load the Dataset from Kaggle"
   ]
  },
  {
   "cell_type": "code",
   "execution_count": null,
   "metadata": {
    "colab": {
     "base_uri": "https://localhost:8080/"
    },
    "executionInfo": {
     "elapsed": 8246,
     "status": "ok",
     "timestamp": 1640350805573,
     "user": {
      "displayName": "Sayan Roy",
      "photoUrl": "https://lh3.googleusercontent.com/a-/AOh14Gg9_4Bj9z5jbOIlr34_02S1AeU4ECg-PZ_98FMy9b4=s64",
      "userId": "09901032199008150116"
     },
     "user_tz": -330
    },
    "id": "I9rY-sqK-WFP",
    "outputId": "3ab6badc-07bf-4cbe-d858-fefed11668f6"
   },
   "outputs": [
    {
     "name": "stdout",
     "output_type": "stream",
     "text": [
      "Requirement already satisfied: kaggle in /usr/local/lib/python3.7/dist-packages (1.5.12)\n",
      "Requirement already satisfied: python-slugify in /usr/local/lib/python3.7/dist-packages (from kaggle) (5.0.2)\n",
      "Requirement already satisfied: urllib3 in /usr/local/lib/python3.7/dist-packages (from kaggle) (1.24.3)\n",
      "Requirement already satisfied: requests in /usr/local/lib/python3.7/dist-packages (from kaggle) (2.23.0)\n",
      "Requirement already satisfied: certifi in /usr/local/lib/python3.7/dist-packages (from kaggle) (2021.10.8)\n",
      "Requirement already satisfied: tqdm in /usr/local/lib/python3.7/dist-packages (from kaggle) (4.62.3)\n",
      "Requirement already satisfied: six>=1.10 in /usr/local/lib/python3.7/dist-packages (from kaggle) (1.15.0)\n",
      "Requirement already satisfied: python-dateutil in /usr/local/lib/python3.7/dist-packages (from kaggle) (2.8.2)\n",
      "Requirement already satisfied: text-unidecode>=1.3 in /usr/local/lib/python3.7/dist-packages (from python-slugify->kaggle) (1.3)\n",
      "Requirement already satisfied: idna<3,>=2.5 in /usr/local/lib/python3.7/dist-packages (from requests->kaggle) (2.10)\n",
      "Requirement already satisfied: chardet<4,>=3.0.2 in /usr/local/lib/python3.7/dist-packages (from requests->kaggle) (3.0.4)\n",
      "mkdir: cannot create directory ‘/root/.kaggle’: File exists\n",
      "Downloading imdb-dataset-of-50k-movie-reviews.zip to /content\n",
      " 89% 23.0M/25.7M [00:00<00:00, 115MB/s]\n",
      "100% 25.7M/25.7M [00:00<00:00, 115MB/s]\n",
      "Archive:  imdb-dataset-of-50k-movie-reviews.zip\n",
      "  inflating: IMDB Dataset.csv        \n"
     ]
    }
   ],
   "source": [
    "# Upload \"kaggle.json\" file and install kaggle library\n",
    "! pip install kaggle\n",
    "# Create a \"kaggle\" named folder\n",
    "! mkdir ~/.kaggle\n",
    "# Copy the “kaggle.json” into this new directory\n",
    "! cp kaggle.json ~/.kaggle/\n",
    "# Allocate the required permission for this file.\n",
    "! chmod 600 ~/.kaggle/kaggle.json\n",
    "# Download the dataset\n",
    "! kaggle datasets download lakshmi25npathi/imdb-dataset-of-50k-movie-reviews\n",
    "# Unzip the dataset\n",
    "! unzip imdb-dataset-of-50k-movie-reviews.zip"
   ]
  },
  {
   "cell_type": "code",
   "execution_count": null,
   "metadata": {
    "id": "1xjcDRcc3Gfx"
   },
   "outputs": [],
   "source": [
    "import numpy as np\n",
    "import pandas as pd"
   ]
  },
  {
   "cell_type": "code",
   "execution_count": null,
   "metadata": {
    "colab": {
     "base_uri": "https://localhost:8080/",
     "height": 206
    },
    "executionInfo": {
     "elapsed": 1643,
     "status": "ok",
     "timestamp": 1640350820024,
     "user": {
      "displayName": "Sayan Roy",
      "photoUrl": "https://lh3.googleusercontent.com/a-/AOh14Gg9_4Bj9z5jbOIlr34_02S1AeU4ECg-PZ_98FMy9b4=s64",
      "userId": "09901032199008150116"
     },
     "user_tz": -330
    },
    "id": "6482PQcQAE9T",
    "outputId": "3d2d8323-7767-4173-bc57-40d6703c147c"
   },
   "outputs": [
    {
     "data": {
      "text/html": [
       "\n",
       "  <div id=\"df-afdbeb9d-88d8-428a-84ad-77aa780f3b4f\">\n",
       "    <div class=\"colab-df-container\">\n",
       "      <div>\n",
       "<style scoped>\n",
       "    .dataframe tbody tr th:only-of-type {\n",
       "        vertical-align: middle;\n",
       "    }\n",
       "\n",
       "    .dataframe tbody tr th {\n",
       "        vertical-align: top;\n",
       "    }\n",
       "\n",
       "    .dataframe thead th {\n",
       "        text-align: right;\n",
       "    }\n",
       "</style>\n",
       "<table border=\"1\" class=\"dataframe\">\n",
       "  <thead>\n",
       "    <tr style=\"text-align: right;\">\n",
       "      <th></th>\n",
       "      <th>review</th>\n",
       "      <th>sentiment</th>\n",
       "    </tr>\n",
       "  </thead>\n",
       "  <tbody>\n",
       "    <tr>\n",
       "      <th>0</th>\n",
       "      <td>One of the other reviewers has mentioned that ...</td>\n",
       "      <td>positive</td>\n",
       "    </tr>\n",
       "    <tr>\n",
       "      <th>1</th>\n",
       "      <td>A wonderful little production. &lt;br /&gt;&lt;br /&gt;The...</td>\n",
       "      <td>positive</td>\n",
       "    </tr>\n",
       "    <tr>\n",
       "      <th>2</th>\n",
       "      <td>I thought this was a wonderful way to spend ti...</td>\n",
       "      <td>positive</td>\n",
       "    </tr>\n",
       "    <tr>\n",
       "      <th>3</th>\n",
       "      <td>Basically there's a family where a little boy ...</td>\n",
       "      <td>negative</td>\n",
       "    </tr>\n",
       "    <tr>\n",
       "      <th>4</th>\n",
       "      <td>Petter Mattei's \"Love in the Time of Money\" is...</td>\n",
       "      <td>positive</td>\n",
       "    </tr>\n",
       "  </tbody>\n",
       "</table>\n",
       "</div>\n",
       "      <button class=\"colab-df-convert\" onclick=\"convertToInteractive('df-afdbeb9d-88d8-428a-84ad-77aa780f3b4f')\"\n",
       "              title=\"Convert this dataframe to an interactive table.\"\n",
       "              style=\"display:none;\">\n",
       "        \n",
       "  <svg xmlns=\"http://www.w3.org/2000/svg\" height=\"24px\"viewBox=\"0 0 24 24\"\n",
       "       width=\"24px\">\n",
       "    <path d=\"M0 0h24v24H0V0z\" fill=\"none\"/>\n",
       "    <path d=\"M18.56 5.44l.94 2.06.94-2.06 2.06-.94-2.06-.94-.94-2.06-.94 2.06-2.06.94zm-11 1L8.5 8.5l.94-2.06 2.06-.94-2.06-.94L8.5 2.5l-.94 2.06-2.06.94zm10 10l.94 2.06.94-2.06 2.06-.94-2.06-.94-.94-2.06-.94 2.06-2.06.94z\"/><path d=\"M17.41 7.96l-1.37-1.37c-.4-.4-.92-.59-1.43-.59-.52 0-1.04.2-1.43.59L10.3 9.45l-7.72 7.72c-.78.78-.78 2.05 0 2.83L4 21.41c.39.39.9.59 1.41.59.51 0 1.02-.2 1.41-.59l7.78-7.78 2.81-2.81c.8-.78.8-2.07 0-2.86zM5.41 20L4 18.59l7.72-7.72 1.47 1.35L5.41 20z\"/>\n",
       "  </svg>\n",
       "      </button>\n",
       "      \n",
       "  <style>\n",
       "    .colab-df-container {\n",
       "      display:flex;\n",
       "      flex-wrap:wrap;\n",
       "      gap: 12px;\n",
       "    }\n",
       "\n",
       "    .colab-df-convert {\n",
       "      background-color: #E8F0FE;\n",
       "      border: none;\n",
       "      border-radius: 50%;\n",
       "      cursor: pointer;\n",
       "      display: none;\n",
       "      fill: #1967D2;\n",
       "      height: 32px;\n",
       "      padding: 0 0 0 0;\n",
       "      width: 32px;\n",
       "    }\n",
       "\n",
       "    .colab-df-convert:hover {\n",
       "      background-color: #E2EBFA;\n",
       "      box-shadow: 0px 1px 2px rgba(60, 64, 67, 0.3), 0px 1px 3px 1px rgba(60, 64, 67, 0.15);\n",
       "      fill: #174EA6;\n",
       "    }\n",
       "\n",
       "    [theme=dark] .colab-df-convert {\n",
       "      background-color: #3B4455;\n",
       "      fill: #D2E3FC;\n",
       "    }\n",
       "\n",
       "    [theme=dark] .colab-df-convert:hover {\n",
       "      background-color: #434B5C;\n",
       "      box-shadow: 0px 1px 3px 1px rgba(0, 0, 0, 0.15);\n",
       "      filter: drop-shadow(0px 1px 2px rgba(0, 0, 0, 0.3));\n",
       "      fill: #FFFFFF;\n",
       "    }\n",
       "  </style>\n",
       "\n",
       "      <script>\n",
       "        const buttonEl =\n",
       "          document.querySelector('#df-afdbeb9d-88d8-428a-84ad-77aa780f3b4f button.colab-df-convert');\n",
       "        buttonEl.style.display =\n",
       "          google.colab.kernel.accessAllowed ? 'block' : 'none';\n",
       "\n",
       "        async function convertToInteractive(key) {\n",
       "          const element = document.querySelector('#df-afdbeb9d-88d8-428a-84ad-77aa780f3b4f');\n",
       "          const dataTable =\n",
       "            await google.colab.kernel.invokeFunction('convertToInteractive',\n",
       "                                                     [key], {});\n",
       "          if (!dataTable) return;\n",
       "\n",
       "          const docLinkHtml = 'Like what you see? Visit the ' +\n",
       "            '<a target=\"_blank\" href=https://colab.research.google.com/notebooks/data_table.ipynb>data table notebook</a>'\n",
       "            + ' to learn more about interactive tables.';\n",
       "          element.innerHTML = '';\n",
       "          dataTable['output_type'] = 'display_data';\n",
       "          await google.colab.output.renderOutput(dataTable, element);\n",
       "          const docLink = document.createElement('div');\n",
       "          docLink.innerHTML = docLinkHtml;\n",
       "          element.appendChild(docLink);\n",
       "        }\n",
       "      </script>\n",
       "    </div>\n",
       "  </div>\n",
       "  "
      ],
      "text/plain": [
       "                                              review sentiment\n",
       "0  One of the other reviewers has mentioned that ...  positive\n",
       "1  A wonderful little production. <br /><br />The...  positive\n",
       "2  I thought this was a wonderful way to spend ti...  positive\n",
       "3  Basically there's a family where a little boy ...  negative\n",
       "4  Petter Mattei's \"Love in the Time of Money\" is...  positive"
      ]
     },
     "execution_count": 3,
     "metadata": {},
     "output_type": "execute_result"
    }
   ],
   "source": [
    "df = pd.read_csv(\"IMDB Dataset.csv\")\n",
    "df.head()"
   ]
  },
  {
   "cell_type": "code",
   "execution_count": null,
   "metadata": {
    "colab": {
     "base_uri": "https://localhost:8080/"
    },
    "executionInfo": {
     "elapsed": 398,
     "status": "ok",
     "timestamp": 1640350823677,
     "user": {
      "displayName": "Sayan Roy",
      "photoUrl": "https://lh3.googleusercontent.com/a-/AOh14Gg9_4Bj9z5jbOIlr34_02S1AeU4ECg-PZ_98FMy9b4=s64",
      "userId": "09901032199008150116"
     },
     "user_tz": -330
    },
    "id": "VbGnmpwoAtvA",
    "outputId": "58df4036-6cdf-4242-ca82-d2c1b19039b2"
   },
   "outputs": [
    {
     "data": {
      "text/plain": [
       "(50000, 2)"
      ]
     },
     "execution_count": 4,
     "metadata": {},
     "output_type": "execute_result"
    }
   ],
   "source": [
    "df.shape"
   ]
  },
  {
   "cell_type": "code",
   "execution_count": null,
   "metadata": {
    "colab": {
     "base_uri": "https://localhost:8080/",
     "height": 105
    },
    "executionInfo": {
     "elapsed": 3,
     "status": "ok",
     "timestamp": 1640350824334,
     "user": {
      "displayName": "Sayan Roy",
      "photoUrl": "https://lh3.googleusercontent.com/a-/AOh14Gg9_4Bj9z5jbOIlr34_02S1AeU4ECg-PZ_98FMy9b4=s64",
      "userId": "09901032199008150116"
     },
     "user_tz": -330
    },
    "id": "q4KVZXVnANFl",
    "outputId": "aaecd264-e46d-4f54-978a-c1fe56c86e79"
   },
   "outputs": [
    {
     "data": {
      "application/vnd.google.colaboratory.intrinsic+json": {
       "type": "string"
      },
      "text/plain": [
       "\"Basically there's a family where a little boy (Jake) thinks there's a zombie in his closet & his parents are fighting all the time.<br /><br />This movie is slower than a soap opera... and suddenly, Jake decides to become Rambo and kill the zombie.<br /><br />OK, first of all when you're going to make a film you must Decide if its a thriller or a drama! As a drama the movie is watchable. Parents are divorcing & arguing like in real life. And then we have Jake with his closet which totally ruins all the film! I expected to see a BOOGEYMAN similar movie, and instead i watched a drama with some meaningless thriller spots.<br /><br />3 out of 10 just for the well playing parents & descent dialogs. As for the shots with Jake: just ignore them.\""
      ]
     },
     "execution_count": 5,
     "metadata": {},
     "output_type": "execute_result"
    }
   ],
   "source": [
    "review = df[\"review\"][3]\n",
    "review"
   ]
  },
  {
   "cell_type": "markdown",
   "metadata": {
    "id": "rBYMGiDtC8CL"
   },
   "source": [
    "## Part 2 - Convert to Lower Case"
   ]
  },
  {
   "cell_type": "code",
   "execution_count": null,
   "metadata": {
    "colab": {
     "base_uri": "https://localhost:8080/",
     "height": 105
    },
    "executionInfo": {
     "elapsed": 485,
     "status": "ok",
     "timestamp": 1640350826869,
     "user": {
      "displayName": "Sayan Roy",
      "photoUrl": "https://lh3.googleusercontent.com/a-/AOh14Gg9_4Bj9z5jbOIlr34_02S1AeU4ECg-PZ_98FMy9b4=s64",
      "userId": "09901032199008150116"
     },
     "user_tz": -330
    },
    "id": "PILRCiSbAZZW",
    "outputId": "270b2832-7872-4b46-9674-7f21e60a0a09"
   },
   "outputs": [
    {
     "data": {
      "application/vnd.google.colaboratory.intrinsic+json": {
       "type": "string"
      },
      "text/plain": [
       "\"basically there's a family where a little boy (jake) thinks there's a zombie in his closet & his parents are fighting all the time.<br /><br />this movie is slower than a soap opera... and suddenly, jake decides to become rambo and kill the zombie.<br /><br />ok, first of all when you're going to make a film you must decide if its a thriller or a drama! as a drama the movie is watchable. parents are divorcing & arguing like in real life. and then we have jake with his closet which totally ruins all the film! i expected to see a boogeyman similar movie, and instead i watched a drama with some meaningless thriller spots.<br /><br />3 out of 10 just for the well playing parents & descent dialogs. as for the shots with jake: just ignore them.\""
      ]
     },
     "execution_count": 6,
     "metadata": {},
     "output_type": "execute_result"
    }
   ],
   "source": [
    "# Convert to lower case\n",
    "review.lower()"
   ]
  },
  {
   "cell_type": "code",
   "execution_count": null,
   "metadata": {
    "colab": {
     "base_uri": "https://localhost:8080/",
     "height": 206
    },
    "executionInfo": {
     "elapsed": 2,
     "status": "ok",
     "timestamp": 1640350827489,
     "user": {
      "displayName": "Sayan Roy",
      "photoUrl": "https://lh3.googleusercontent.com/a-/AOh14Gg9_4Bj9z5jbOIlr34_02S1AeU4ECg-PZ_98FMy9b4=s64",
      "userId": "09901032199008150116"
     },
     "user_tz": -330
    },
    "id": "ruh-UKwVAnsf",
    "outputId": "31eeceff-c2fc-4b1a-d2f9-2b8a32580089"
   },
   "outputs": [
    {
     "data": {
      "text/html": [
       "\n",
       "  <div id=\"df-5dfdcc59-86a1-47dc-8a72-50fb3f26d9e3\">\n",
       "    <div class=\"colab-df-container\">\n",
       "      <div>\n",
       "<style scoped>\n",
       "    .dataframe tbody tr th:only-of-type {\n",
       "        vertical-align: middle;\n",
       "    }\n",
       "\n",
       "    .dataframe tbody tr th {\n",
       "        vertical-align: top;\n",
       "    }\n",
       "\n",
       "    .dataframe thead th {\n",
       "        text-align: right;\n",
       "    }\n",
       "</style>\n",
       "<table border=\"1\" class=\"dataframe\">\n",
       "  <thead>\n",
       "    <tr style=\"text-align: right;\">\n",
       "      <th></th>\n",
       "      <th>review</th>\n",
       "      <th>sentiment</th>\n",
       "    </tr>\n",
       "  </thead>\n",
       "  <tbody>\n",
       "    <tr>\n",
       "      <th>0</th>\n",
       "      <td>one of the other reviewers has mentioned that ...</td>\n",
       "      <td>positive</td>\n",
       "    </tr>\n",
       "    <tr>\n",
       "      <th>1</th>\n",
       "      <td>a wonderful little production. &lt;br /&gt;&lt;br /&gt;the...</td>\n",
       "      <td>positive</td>\n",
       "    </tr>\n",
       "    <tr>\n",
       "      <th>2</th>\n",
       "      <td>i thought this was a wonderful way to spend ti...</td>\n",
       "      <td>positive</td>\n",
       "    </tr>\n",
       "    <tr>\n",
       "      <th>3</th>\n",
       "      <td>basically there's a family where a little boy ...</td>\n",
       "      <td>negative</td>\n",
       "    </tr>\n",
       "    <tr>\n",
       "      <th>4</th>\n",
       "      <td>petter mattei's \"love in the time of money\" is...</td>\n",
       "      <td>positive</td>\n",
       "    </tr>\n",
       "  </tbody>\n",
       "</table>\n",
       "</div>\n",
       "      <button class=\"colab-df-convert\" onclick=\"convertToInteractive('df-5dfdcc59-86a1-47dc-8a72-50fb3f26d9e3')\"\n",
       "              title=\"Convert this dataframe to an interactive table.\"\n",
       "              style=\"display:none;\">\n",
       "        \n",
       "  <svg xmlns=\"http://www.w3.org/2000/svg\" height=\"24px\"viewBox=\"0 0 24 24\"\n",
       "       width=\"24px\">\n",
       "    <path d=\"M0 0h24v24H0V0z\" fill=\"none\"/>\n",
       "    <path d=\"M18.56 5.44l.94 2.06.94-2.06 2.06-.94-2.06-.94-.94-2.06-.94 2.06-2.06.94zm-11 1L8.5 8.5l.94-2.06 2.06-.94-2.06-.94L8.5 2.5l-.94 2.06-2.06.94zm10 10l.94 2.06.94-2.06 2.06-.94-2.06-.94-.94-2.06-.94 2.06-2.06.94z\"/><path d=\"M17.41 7.96l-1.37-1.37c-.4-.4-.92-.59-1.43-.59-.52 0-1.04.2-1.43.59L10.3 9.45l-7.72 7.72c-.78.78-.78 2.05 0 2.83L4 21.41c.39.39.9.59 1.41.59.51 0 1.02-.2 1.41-.59l7.78-7.78 2.81-2.81c.8-.78.8-2.07 0-2.86zM5.41 20L4 18.59l7.72-7.72 1.47 1.35L5.41 20z\"/>\n",
       "  </svg>\n",
       "      </button>\n",
       "      \n",
       "  <style>\n",
       "    .colab-df-container {\n",
       "      display:flex;\n",
       "      flex-wrap:wrap;\n",
       "      gap: 12px;\n",
       "    }\n",
       "\n",
       "    .colab-df-convert {\n",
       "      background-color: #E8F0FE;\n",
       "      border: none;\n",
       "      border-radius: 50%;\n",
       "      cursor: pointer;\n",
       "      display: none;\n",
       "      fill: #1967D2;\n",
       "      height: 32px;\n",
       "      padding: 0 0 0 0;\n",
       "      width: 32px;\n",
       "    }\n",
       "\n",
       "    .colab-df-convert:hover {\n",
       "      background-color: #E2EBFA;\n",
       "      box-shadow: 0px 1px 2px rgba(60, 64, 67, 0.3), 0px 1px 3px 1px rgba(60, 64, 67, 0.15);\n",
       "      fill: #174EA6;\n",
       "    }\n",
       "\n",
       "    [theme=dark] .colab-df-convert {\n",
       "      background-color: #3B4455;\n",
       "      fill: #D2E3FC;\n",
       "    }\n",
       "\n",
       "    [theme=dark] .colab-df-convert:hover {\n",
       "      background-color: #434B5C;\n",
       "      box-shadow: 0px 1px 3px 1px rgba(0, 0, 0, 0.15);\n",
       "      filter: drop-shadow(0px 1px 2px rgba(0, 0, 0, 0.3));\n",
       "      fill: #FFFFFF;\n",
       "    }\n",
       "  </style>\n",
       "\n",
       "      <script>\n",
       "        const buttonEl =\n",
       "          document.querySelector('#df-5dfdcc59-86a1-47dc-8a72-50fb3f26d9e3 button.colab-df-convert');\n",
       "        buttonEl.style.display =\n",
       "          google.colab.kernel.accessAllowed ? 'block' : 'none';\n",
       "\n",
       "        async function convertToInteractive(key) {\n",
       "          const element = document.querySelector('#df-5dfdcc59-86a1-47dc-8a72-50fb3f26d9e3');\n",
       "          const dataTable =\n",
       "            await google.colab.kernel.invokeFunction('convertToInteractive',\n",
       "                                                     [key], {});\n",
       "          if (!dataTable) return;\n",
       "\n",
       "          const docLinkHtml = 'Like what you see? Visit the ' +\n",
       "            '<a target=\"_blank\" href=https://colab.research.google.com/notebooks/data_table.ipynb>data table notebook</a>'\n",
       "            + ' to learn more about interactive tables.';\n",
       "          element.innerHTML = '';\n",
       "          dataTable['output_type'] = 'display_data';\n",
       "          await google.colab.output.renderOutput(dataTable, element);\n",
       "          const docLink = document.createElement('div');\n",
       "          docLink.innerHTML = docLinkHtml;\n",
       "          element.appendChild(docLink);\n",
       "        }\n",
       "      </script>\n",
       "    </div>\n",
       "  </div>\n",
       "  "
      ],
      "text/plain": [
       "                                              review sentiment\n",
       "0  one of the other reviewers has mentioned that ...  positive\n",
       "1  a wonderful little production. <br /><br />the...  positive\n",
       "2  i thought this was a wonderful way to spend ti...  positive\n",
       "3  basically there's a family where a little boy ...  negative\n",
       "4  petter mattei's \"love in the time of money\" is...  positive"
      ]
     },
     "execution_count": 7,
     "metadata": {},
     "output_type": "execute_result"
    }
   ],
   "source": [
    "# Convert all records of \"review\" column to lower case\n",
    "df[\"review\"] = df[\"review\"].str.lower()\n",
    "df.head()"
   ]
  },
  {
   "cell_type": "markdown",
   "metadata": {
    "id": "uQpGNWQ2C4f7"
   },
   "source": [
    "## Part 3 - Remove HTML Tags"
   ]
  },
  {
   "cell_type": "code",
   "execution_count": null,
   "metadata": {
    "colab": {
     "base_uri": "https://localhost:8080/",
     "height": 105
    },
    "executionInfo": {
     "elapsed": 3,
     "status": "ok",
     "timestamp": 1640350829740,
     "user": {
      "displayName": "Sayan Roy",
      "photoUrl": "https://lh3.googleusercontent.com/a-/AOh14Gg9_4Bj9z5jbOIlr34_02S1AeU4ECg-PZ_98FMy9b4=s64",
      "userId": "09901032199008150116"
     },
     "user_tz": -330
    },
    "id": "x8i-Wq8MA4De",
    "outputId": "bb0b70bb-2709-4991-8eb5-f2487bcf3fef"
   },
   "outputs": [
    {
     "data": {
      "application/vnd.google.colaboratory.intrinsic+json": {
       "type": "string"
      },
      "text/plain": [
       "\"basically there's a family where a little boy (jake) thinks there's a zombie in his closet & his parents are fighting all the time.this movie is slower than a soap opera... and suddenly, jake decides to become rambo and kill the zombie.ok, first of all when you're going to make a film you must decide if its a thriller or a drama! as a drama the movie is watchable. parents are divorcing & arguing like in real life. and then we have jake with his closet which totally ruins all the film! i expected to see a boogeyman similar movie, and instead i watched a drama with some meaningless thriller spots.3 out of 10 just for the well playing parents & descent dialogs. as for the shots with jake: just ignore them.\""
      ]
     },
     "execution_count": 8,
     "metadata": {},
     "output_type": "execute_result"
    }
   ],
   "source": [
    "# Remove HTML tags\n",
    "import re\n",
    "\n",
    "def remove_html_tags(text):\n",
    "    pattern = re.compile(\"<.*?>\")\n",
    "    return pattern.sub(r\"\", text)\n",
    "\n",
    "remove_html_tags(df[\"review\"][3])"
   ]
  },
  {
   "cell_type": "code",
   "execution_count": null,
   "metadata": {
    "colab": {
     "base_uri": "https://localhost:8080/",
     "height": 206
    },
    "executionInfo": {
     "elapsed": 1241,
     "status": "ok",
     "timestamp": 1640350833711,
     "user": {
      "displayName": "Sayan Roy",
      "photoUrl": "https://lh3.googleusercontent.com/a-/AOh14Gg9_4Bj9z5jbOIlr34_02S1AeU4ECg-PZ_98FMy9b4=s64",
      "userId": "09901032199008150116"
     },
     "user_tz": -330
    },
    "id": "3hil94IOCQz3",
    "outputId": "5d97d552-c12e-4aab-e808-57a56aa2c8cb"
   },
   "outputs": [
    {
     "data": {
      "text/html": [
       "\n",
       "  <div id=\"df-b639fb6d-95ec-4f55-985e-f81e0200d054\">\n",
       "    <div class=\"colab-df-container\">\n",
       "      <div>\n",
       "<style scoped>\n",
       "    .dataframe tbody tr th:only-of-type {\n",
       "        vertical-align: middle;\n",
       "    }\n",
       "\n",
       "    .dataframe tbody tr th {\n",
       "        vertical-align: top;\n",
       "    }\n",
       "\n",
       "    .dataframe thead th {\n",
       "        text-align: right;\n",
       "    }\n",
       "</style>\n",
       "<table border=\"1\" class=\"dataframe\">\n",
       "  <thead>\n",
       "    <tr style=\"text-align: right;\">\n",
       "      <th></th>\n",
       "      <th>review</th>\n",
       "      <th>sentiment</th>\n",
       "    </tr>\n",
       "  </thead>\n",
       "  <tbody>\n",
       "    <tr>\n",
       "      <th>0</th>\n",
       "      <td>one of the other reviewers has mentioned that ...</td>\n",
       "      <td>positive</td>\n",
       "    </tr>\n",
       "    <tr>\n",
       "      <th>1</th>\n",
       "      <td>a wonderful little production. the filming tec...</td>\n",
       "      <td>positive</td>\n",
       "    </tr>\n",
       "    <tr>\n",
       "      <th>2</th>\n",
       "      <td>i thought this was a wonderful way to spend ti...</td>\n",
       "      <td>positive</td>\n",
       "    </tr>\n",
       "    <tr>\n",
       "      <th>3</th>\n",
       "      <td>basically there's a family where a little boy ...</td>\n",
       "      <td>negative</td>\n",
       "    </tr>\n",
       "    <tr>\n",
       "      <th>4</th>\n",
       "      <td>petter mattei's \"love in the time of money\" is...</td>\n",
       "      <td>positive</td>\n",
       "    </tr>\n",
       "  </tbody>\n",
       "</table>\n",
       "</div>\n",
       "      <button class=\"colab-df-convert\" onclick=\"convertToInteractive('df-b639fb6d-95ec-4f55-985e-f81e0200d054')\"\n",
       "              title=\"Convert this dataframe to an interactive table.\"\n",
       "              style=\"display:none;\">\n",
       "        \n",
       "  <svg xmlns=\"http://www.w3.org/2000/svg\" height=\"24px\"viewBox=\"0 0 24 24\"\n",
       "       width=\"24px\">\n",
       "    <path d=\"M0 0h24v24H0V0z\" fill=\"none\"/>\n",
       "    <path d=\"M18.56 5.44l.94 2.06.94-2.06 2.06-.94-2.06-.94-.94-2.06-.94 2.06-2.06.94zm-11 1L8.5 8.5l.94-2.06 2.06-.94-2.06-.94L8.5 2.5l-.94 2.06-2.06.94zm10 10l.94 2.06.94-2.06 2.06-.94-2.06-.94-.94-2.06-.94 2.06-2.06.94z\"/><path d=\"M17.41 7.96l-1.37-1.37c-.4-.4-.92-.59-1.43-.59-.52 0-1.04.2-1.43.59L10.3 9.45l-7.72 7.72c-.78.78-.78 2.05 0 2.83L4 21.41c.39.39.9.59 1.41.59.51 0 1.02-.2 1.41-.59l7.78-7.78 2.81-2.81c.8-.78.8-2.07 0-2.86zM5.41 20L4 18.59l7.72-7.72 1.47 1.35L5.41 20z\"/>\n",
       "  </svg>\n",
       "      </button>\n",
       "      \n",
       "  <style>\n",
       "    .colab-df-container {\n",
       "      display:flex;\n",
       "      flex-wrap:wrap;\n",
       "      gap: 12px;\n",
       "    }\n",
       "\n",
       "    .colab-df-convert {\n",
       "      background-color: #E8F0FE;\n",
       "      border: none;\n",
       "      border-radius: 50%;\n",
       "      cursor: pointer;\n",
       "      display: none;\n",
       "      fill: #1967D2;\n",
       "      height: 32px;\n",
       "      padding: 0 0 0 0;\n",
       "      width: 32px;\n",
       "    }\n",
       "\n",
       "    .colab-df-convert:hover {\n",
       "      background-color: #E2EBFA;\n",
       "      box-shadow: 0px 1px 2px rgba(60, 64, 67, 0.3), 0px 1px 3px 1px rgba(60, 64, 67, 0.15);\n",
       "      fill: #174EA6;\n",
       "    }\n",
       "\n",
       "    [theme=dark] .colab-df-convert {\n",
       "      background-color: #3B4455;\n",
       "      fill: #D2E3FC;\n",
       "    }\n",
       "\n",
       "    [theme=dark] .colab-df-convert:hover {\n",
       "      background-color: #434B5C;\n",
       "      box-shadow: 0px 1px 3px 1px rgba(0, 0, 0, 0.15);\n",
       "      filter: drop-shadow(0px 1px 2px rgba(0, 0, 0, 0.3));\n",
       "      fill: #FFFFFF;\n",
       "    }\n",
       "  </style>\n",
       "\n",
       "      <script>\n",
       "        const buttonEl =\n",
       "          document.querySelector('#df-b639fb6d-95ec-4f55-985e-f81e0200d054 button.colab-df-convert');\n",
       "        buttonEl.style.display =\n",
       "          google.colab.kernel.accessAllowed ? 'block' : 'none';\n",
       "\n",
       "        async function convertToInteractive(key) {\n",
       "          const element = document.querySelector('#df-b639fb6d-95ec-4f55-985e-f81e0200d054');\n",
       "          const dataTable =\n",
       "            await google.colab.kernel.invokeFunction('convertToInteractive',\n",
       "                                                     [key], {});\n",
       "          if (!dataTable) return;\n",
       "\n",
       "          const docLinkHtml = 'Like what you see? Visit the ' +\n",
       "            '<a target=\"_blank\" href=https://colab.research.google.com/notebooks/data_table.ipynb>data table notebook</a>'\n",
       "            + ' to learn more about interactive tables.';\n",
       "          element.innerHTML = '';\n",
       "          dataTable['output_type'] = 'display_data';\n",
       "          await google.colab.output.renderOutput(dataTable, element);\n",
       "          const docLink = document.createElement('div');\n",
       "          docLink.innerHTML = docLinkHtml;\n",
       "          element.appendChild(docLink);\n",
       "        }\n",
       "      </script>\n",
       "    </div>\n",
       "  </div>\n",
       "  "
      ],
      "text/plain": [
       "                                              review sentiment\n",
       "0  one of the other reviewers has mentioned that ...  positive\n",
       "1  a wonderful little production. the filming tec...  positive\n",
       "2  i thought this was a wonderful way to spend ti...  positive\n",
       "3  basically there's a family where a little boy ...  negative\n",
       "4  petter mattei's \"love in the time of money\" is...  positive"
      ]
     },
     "execution_count": 9,
     "metadata": {},
     "output_type": "execute_result"
    }
   ],
   "source": [
    "# Remove all the tags from the \"review\" column\n",
    "df[\"review\"] = df[\"review\"].apply(remove_html_tags)\n",
    "df.head()"
   ]
  },
  {
   "cell_type": "markdown",
   "metadata": {
    "id": "iqJp770lCxm0"
   },
   "source": [
    "## Part 4 - Remove URLs"
   ]
  },
  {
   "cell_type": "code",
   "execution_count": null,
   "metadata": {
    "colab": {
     "base_uri": "https://localhost:8080/"
    },
    "executionInfo": {
     "elapsed": 537,
     "status": "ok",
     "timestamp": 1640350836161,
     "user": {
      "displayName": "Sayan Roy",
      "photoUrl": "https://lh3.googleusercontent.com/a-/AOh14Gg9_4Bj9z5jbOIlr34_02S1AeU4ECg-PZ_98FMy9b4=s64",
      "userId": "09901032199008150116"
     },
     "user_tz": -330
    },
    "id": "NPpMA7k4Cp_X",
    "outputId": "638de7bc-1ce0-43d5-c310-2f2b09ce56a5"
   },
   "outputs": [
    {
     "name": "stdout",
     "output_type": "stream",
     "text": [
      "Check out my notebook \n",
      "Check out my notebook \n",
      "Google search here \n",
      "For notebook click  to search check \n"
     ]
    }
   ],
   "source": [
    "# Remove URLs\n",
    "text1 = 'Check out my notebook https://www.kaggle.com/campusx/notebook8223fc1abb'\n",
    "text2 = 'Check out my notebook http://www.kaggle.com/campusx/notebook8223fc1abb'\n",
    "text3 = 'Google search here www.google.com'\n",
    "text4 = 'For notebook click https://www.kaggle.com/campusx/notebook8223fc1abb to search check www.google.com'\n",
    "\n",
    "def remove_url(text):\n",
    "    pattern = re.compile(r'https?://\\S+|www\\.\\S+')\n",
    "    return pattern.sub(r'', text)\n",
    "\n",
    "print(remove_url(text1))\n",
    "print(remove_url(text2))\n",
    "print(remove_url(text3))\n",
    "print(remove_url(text4))"
   ]
  },
  {
   "cell_type": "markdown",
   "metadata": {
    "id": "5diFWBPmD-5M"
   },
   "source": [
    "## Part 5 - Remove Punctuations"
   ]
  },
  {
   "cell_type": "code",
   "execution_count": null,
   "metadata": {
    "colab": {
     "base_uri": "https://localhost:8080/",
     "height": 35
    },
    "executionInfo": {
     "elapsed": 385,
     "status": "ok",
     "timestamp": 1640350841282,
     "user": {
      "displayName": "Sayan Roy",
      "photoUrl": "https://lh3.googleusercontent.com/a-/AOh14Gg9_4Bj9z5jbOIlr34_02S1AeU4ECg-PZ_98FMy9b4=s64",
      "userId": "09901032199008150116"
     },
     "user_tz": -330
    },
    "id": "n6wX9bHuD22o",
    "outputId": "16c499a2-7228-49ad-b8a4-ce3dee795e1f"
   },
   "outputs": [
    {
     "data": {
      "application/vnd.google.colaboratory.intrinsic+json": {
       "type": "string"
      },
      "text/plain": [
       "'!\"#$%&\\'()*+,-./:;<=>?@[\\\\]^_`{|}~'"
      ]
     },
     "execution_count": 11,
     "metadata": {},
     "output_type": "execute_result"
    }
   ],
   "source": [
    "import string\n",
    "import time\n",
    "\n",
    "# Show all punctuations in English\n",
    "exclude = string.punctuation\n",
    "exclude"
   ]
  },
  {
   "cell_type": "code",
   "execution_count": null,
   "metadata": {
    "id": "nYxjqAvRE5hj"
   },
   "outputs": [],
   "source": [
    "def remove_punctuation(text):\n",
    "    exclude = string.punctuation\n",
    "\n",
    "    for char in exclude:\n",
    "        text = text.replace(char, \"\")\n",
    "    return text"
   ]
  },
  {
   "cell_type": "code",
   "execution_count": null,
   "metadata": {
    "colab": {
     "base_uri": "https://localhost:8080/"
    },
    "executionInfo": {
     "elapsed": 529,
     "status": "ok",
     "timestamp": 1640350845677,
     "user": {
      "displayName": "Sayan Roy",
      "photoUrl": "https://lh3.googleusercontent.com/a-/AOh14Gg9_4Bj9z5jbOIlr34_02S1AeU4ECg-PZ_98FMy9b4=s64",
      "userId": "09901032199008150116"
     },
     "user_tz": -330
    },
    "id": "Xklypdx-Gmb_",
    "outputId": "33683c3d-fba9-45cb-9a42-f6aeae2f1f95"
   },
   "outputs": [
    {
     "name": "stdout",
     "output_type": "stream",
     "text": [
      "string With Punctuation\n",
      "Time taken: 0.0010445117950439453\n"
     ]
    }
   ],
   "source": [
    "text = \"string. With. Punctuation?\"\n",
    "start = time.time()\n",
    "print(remove_punctuation(text))\n",
    "time1 = time.time() - start\n",
    "print(f\"Time taken: {time1}\")"
   ]
  },
  {
   "cell_type": "code",
   "execution_count": null,
   "metadata": {
    "colab": {
     "base_uri": "https://localhost:8080/"
    },
    "executionInfo": {
     "elapsed": 393,
     "status": "ok",
     "timestamp": 1640350860381,
     "user": {
      "displayName": "Sayan Roy",
      "photoUrl": "https://lh3.googleusercontent.com/a-/AOh14Gg9_4Bj9z5jbOIlr34_02S1AeU4ECg-PZ_98FMy9b4=s64",
      "userId": "09901032199008150116"
     },
     "user_tz": -330
    },
    "id": "txNYss1HFYsP",
    "outputId": "00c9ed04-ea86-4aad-dfef-97ed5105196d"
   },
   "outputs": [
    {
     "data": {
      "text/plain": [
       "52.225589752197266"
      ]
     },
     "execution_count": 14,
     "metadata": {},
     "output_type": "execute_result"
    }
   ],
   "source": [
    "0.0010445117950439453 * 50000"
   ]
  },
  {
   "cell_type": "code",
   "execution_count": null,
   "metadata": {
    "id": "lO7xgOPUF5-3"
   },
   "outputs": [],
   "source": [
    "def remove_punctuation_fast(text):\n",
    "    return text.translate(str.maketrans(\"\", \"\", exclude))"
   ]
  },
  {
   "cell_type": "code",
   "execution_count": null,
   "metadata": {
    "colab": {
     "base_uri": "https://localhost:8080/"
    },
    "executionInfo": {
     "elapsed": 391,
     "status": "ok",
     "timestamp": 1640350866672,
     "user": {
      "displayName": "Sayan Roy",
      "photoUrl": "https://lh3.googleusercontent.com/a-/AOh14Gg9_4Bj9z5jbOIlr34_02S1AeU4ECg-PZ_98FMy9b4=s64",
      "userId": "09901032199008150116"
     },
     "user_tz": -330
    },
    "id": "j_6HdUslGMwe",
    "outputId": "589b426d-f117-4bd1-9a15-66e5789d4539"
   },
   "outputs": [
    {
     "name": "stdout",
     "output_type": "stream",
     "text": [
      "string With Punctuation\n",
      "Time taken: 0.0009534358978271484\n"
     ]
    }
   ],
   "source": [
    "text = \"string. With. Punctuation?\"\n",
    "start = time.time()\n",
    "print(remove_punctuation_fast(text))\n",
    "time1 = time.time() - start\n",
    "print(f\"Time taken: {time1}\")"
   ]
  },
  {
   "cell_type": "code",
   "execution_count": null,
   "metadata": {
    "colab": {
     "base_uri": "https://localhost:8080/"
    },
    "executionInfo": {
     "elapsed": 381,
     "status": "ok",
     "timestamp": 1640350876580,
     "user": {
      "displayName": "Sayan Roy",
      "photoUrl": "https://lh3.googleusercontent.com/a-/AOh14Gg9_4Bj9z5jbOIlr34_02S1AeU4ECg-PZ_98FMy9b4=s64",
      "userId": "09901032199008150116"
     },
     "user_tz": -330
    },
    "id": "C_V8zSZsGS1O",
    "outputId": "60c267c7-cbb9-4478-99e1-cb8d10f3926e"
   },
   "outputs": [
    {
     "data": {
      "text/plain": [
       "47.67179489135742"
      ]
     },
     "execution_count": 17,
     "metadata": {},
     "output_type": "execute_result"
    }
   ],
   "source": [
    "0.0009534358978271484 * 50000"
   ]
  },
  {
   "cell_type": "code",
   "execution_count": null,
   "metadata": {
    "colab": {
     "base_uri": "https://localhost:8080/"
    },
    "executionInfo": {
     "elapsed": 1424,
     "status": "ok",
     "timestamp": 1640350880979,
     "user": {
      "displayName": "Sayan Roy",
      "photoUrl": "https://lh3.googleusercontent.com/a-/AOh14Gg9_4Bj9z5jbOIlr34_02S1AeU4ECg-PZ_98FMy9b4=s64",
      "userId": "09901032199008150116"
     },
     "user_tz": -330
    },
    "id": "eCl-IHkqGXQ-",
    "outputId": "f10e2a10-a565-4116-df69-70cd189b21c6"
   },
   "outputs": [
    {
     "name": "stdout",
     "output_type": "stream",
     "text": [
      "Downloading twitter-sentiment-analysis-hatred-speech.zip to /content\n",
      "  0% 0.00/1.89M [00:00<?, ?B/s]\n",
      "100% 1.89M/1.89M [00:00<00:00, 63.4MB/s]\n",
      "Archive:  twitter-sentiment-analysis-hatred-speech.zip\n",
      "  inflating: test.csv                \n",
      "  inflating: train.csv               \n"
     ]
    }
   ],
   "source": [
    "! kaggle datasets download arkhoshghalb/twitter-sentiment-analysis-hatred-speech\n",
    "! unzip twitter-sentiment-analysis-hatred-speech.zip"
   ]
  },
  {
   "cell_type": "code",
   "execution_count": null,
   "metadata": {
    "colab": {
     "base_uri": "https://localhost:8080/",
     "height": 206
    },
    "executionInfo": {
     "elapsed": 400,
     "status": "ok",
     "timestamp": 1640350884609,
     "user": {
      "displayName": "Sayan Roy",
      "photoUrl": "https://lh3.googleusercontent.com/a-/AOh14Gg9_4Bj9z5jbOIlr34_02S1AeU4ECg-PZ_98FMy9b4=s64",
      "userId": "09901032199008150116"
     },
     "user_tz": -330
    },
    "id": "ailq9RoOI5kM",
    "outputId": "441c74ba-6791-47d7-bc06-d4bce246c5b0"
   },
   "outputs": [
    {
     "data": {
      "text/html": [
       "\n",
       "  <div id=\"df-5b83fe0c-25f5-4736-b221-0b175cd1cc68\">\n",
       "    <div class=\"colab-df-container\">\n",
       "      <div>\n",
       "<style scoped>\n",
       "    .dataframe tbody tr th:only-of-type {\n",
       "        vertical-align: middle;\n",
       "    }\n",
       "\n",
       "    .dataframe tbody tr th {\n",
       "        vertical-align: top;\n",
       "    }\n",
       "\n",
       "    .dataframe thead th {\n",
       "        text-align: right;\n",
       "    }\n",
       "</style>\n",
       "<table border=\"1\" class=\"dataframe\">\n",
       "  <thead>\n",
       "    <tr style=\"text-align: right;\">\n",
       "      <th></th>\n",
       "      <th>id</th>\n",
       "      <th>label</th>\n",
       "      <th>tweet</th>\n",
       "    </tr>\n",
       "  </thead>\n",
       "  <tbody>\n",
       "    <tr>\n",
       "      <th>0</th>\n",
       "      <td>1</td>\n",
       "      <td>0</td>\n",
       "      <td>@user when a father is dysfunctional and is s...</td>\n",
       "    </tr>\n",
       "    <tr>\n",
       "      <th>1</th>\n",
       "      <td>2</td>\n",
       "      <td>0</td>\n",
       "      <td>@user @user thanks for #lyft credit i can't us...</td>\n",
       "    </tr>\n",
       "    <tr>\n",
       "      <th>2</th>\n",
       "      <td>3</td>\n",
       "      <td>0</td>\n",
       "      <td>bihday your majesty</td>\n",
       "    </tr>\n",
       "    <tr>\n",
       "      <th>3</th>\n",
       "      <td>4</td>\n",
       "      <td>0</td>\n",
       "      <td>#model   i love u take with u all the time in ...</td>\n",
       "    </tr>\n",
       "    <tr>\n",
       "      <th>4</th>\n",
       "      <td>5</td>\n",
       "      <td>0</td>\n",
       "      <td>factsguide: society now    #motivation</td>\n",
       "    </tr>\n",
       "  </tbody>\n",
       "</table>\n",
       "</div>\n",
       "      <button class=\"colab-df-convert\" onclick=\"convertToInteractive('df-5b83fe0c-25f5-4736-b221-0b175cd1cc68')\"\n",
       "              title=\"Convert this dataframe to an interactive table.\"\n",
       "              style=\"display:none;\">\n",
       "        \n",
       "  <svg xmlns=\"http://www.w3.org/2000/svg\" height=\"24px\"viewBox=\"0 0 24 24\"\n",
       "       width=\"24px\">\n",
       "    <path d=\"M0 0h24v24H0V0z\" fill=\"none\"/>\n",
       "    <path d=\"M18.56 5.44l.94 2.06.94-2.06 2.06-.94-2.06-.94-.94-2.06-.94 2.06-2.06.94zm-11 1L8.5 8.5l.94-2.06 2.06-.94-2.06-.94L8.5 2.5l-.94 2.06-2.06.94zm10 10l.94 2.06.94-2.06 2.06-.94-2.06-.94-.94-2.06-.94 2.06-2.06.94z\"/><path d=\"M17.41 7.96l-1.37-1.37c-.4-.4-.92-.59-1.43-.59-.52 0-1.04.2-1.43.59L10.3 9.45l-7.72 7.72c-.78.78-.78 2.05 0 2.83L4 21.41c.39.39.9.59 1.41.59.51 0 1.02-.2 1.41-.59l7.78-7.78 2.81-2.81c.8-.78.8-2.07 0-2.86zM5.41 20L4 18.59l7.72-7.72 1.47 1.35L5.41 20z\"/>\n",
       "  </svg>\n",
       "      </button>\n",
       "      \n",
       "  <style>\n",
       "    .colab-df-container {\n",
       "      display:flex;\n",
       "      flex-wrap:wrap;\n",
       "      gap: 12px;\n",
       "    }\n",
       "\n",
       "    .colab-df-convert {\n",
       "      background-color: #E8F0FE;\n",
       "      border: none;\n",
       "      border-radius: 50%;\n",
       "      cursor: pointer;\n",
       "      display: none;\n",
       "      fill: #1967D2;\n",
       "      height: 32px;\n",
       "      padding: 0 0 0 0;\n",
       "      width: 32px;\n",
       "    }\n",
       "\n",
       "    .colab-df-convert:hover {\n",
       "      background-color: #E2EBFA;\n",
       "      box-shadow: 0px 1px 2px rgba(60, 64, 67, 0.3), 0px 1px 3px 1px rgba(60, 64, 67, 0.15);\n",
       "      fill: #174EA6;\n",
       "    }\n",
       "\n",
       "    [theme=dark] .colab-df-convert {\n",
       "      background-color: #3B4455;\n",
       "      fill: #D2E3FC;\n",
       "    }\n",
       "\n",
       "    [theme=dark] .colab-df-convert:hover {\n",
       "      background-color: #434B5C;\n",
       "      box-shadow: 0px 1px 3px 1px rgba(0, 0, 0, 0.15);\n",
       "      filter: drop-shadow(0px 1px 2px rgba(0, 0, 0, 0.3));\n",
       "      fill: #FFFFFF;\n",
       "    }\n",
       "  </style>\n",
       "\n",
       "      <script>\n",
       "        const buttonEl =\n",
       "          document.querySelector('#df-5b83fe0c-25f5-4736-b221-0b175cd1cc68 button.colab-df-convert');\n",
       "        buttonEl.style.display =\n",
       "          google.colab.kernel.accessAllowed ? 'block' : 'none';\n",
       "\n",
       "        async function convertToInteractive(key) {\n",
       "          const element = document.querySelector('#df-5b83fe0c-25f5-4736-b221-0b175cd1cc68');\n",
       "          const dataTable =\n",
       "            await google.colab.kernel.invokeFunction('convertToInteractive',\n",
       "                                                     [key], {});\n",
       "          if (!dataTable) return;\n",
       "\n",
       "          const docLinkHtml = 'Like what you see? Visit the ' +\n",
       "            '<a target=\"_blank\" href=https://colab.research.google.com/notebooks/data_table.ipynb>data table notebook</a>'\n",
       "            + ' to learn more about interactive tables.';\n",
       "          element.innerHTML = '';\n",
       "          dataTable['output_type'] = 'display_data';\n",
       "          await google.colab.output.renderOutput(dataTable, element);\n",
       "          const docLink = document.createElement('div');\n",
       "          docLink.innerHTML = docLinkHtml;\n",
       "          element.appendChild(docLink);\n",
       "        }\n",
       "      </script>\n",
       "    </div>\n",
       "  </div>\n",
       "  "
      ],
      "text/plain": [
       "   id  label                                              tweet\n",
       "0   1      0   @user when a father is dysfunctional and is s...\n",
       "1   2      0  @user @user thanks for #lyft credit i can't us...\n",
       "2   3      0                                bihday your majesty\n",
       "3   4      0  #model   i love u take with u all the time in ...\n",
       "4   5      0             factsguide: society now    #motivation"
      ]
     },
     "execution_count": 19,
     "metadata": {},
     "output_type": "execute_result"
    }
   ],
   "source": [
    "twitter_df = pd.read_csv(\"train.csv\")\n",
    "twitter_df.head()"
   ]
  },
  {
   "cell_type": "code",
   "execution_count": null,
   "metadata": {
    "id": "HI40lizwI9ym"
   },
   "outputs": [],
   "source": [
    "start3 = time.time()\n",
    "twitter_df[\"tweet\"] = twitter_df[\"tweet\"].apply(remove_punctuation_fast)\n",
    "time3 = time.time() - start3"
   ]
  },
  {
   "cell_type": "code",
   "execution_count": null,
   "metadata": {
    "colab": {
     "base_uri": "https://localhost:8080/"
    },
    "executionInfo": {
     "elapsed": 4,
     "status": "ok",
     "timestamp": 1640350889650,
     "user": {
      "displayName": "Sayan Roy",
      "photoUrl": "https://lh3.googleusercontent.com/a-/AOh14Gg9_4Bj9z5jbOIlr34_02S1AeU4ECg-PZ_98FMy9b4=s64",
      "userId": "09901032199008150116"
     },
     "user_tz": -330
    },
    "id": "rRsM_lvTJdh2",
    "outputId": "2894ad13-e1ae-4a8c-c2eb-ada604ffcb34"
   },
   "outputs": [
    {
     "data": {
      "text/plain": [
       "0.20287704467773438"
      ]
     },
     "execution_count": 21,
     "metadata": {},
     "output_type": "execute_result"
    }
   ],
   "source": [
    "time3"
   ]
  },
  {
   "cell_type": "markdown",
   "metadata": {
    "id": "EXKDZ5kQJ5xH"
   },
   "source": [
    "## Part 6 - Chat Word Treatment"
   ]
  },
  {
   "cell_type": "code",
   "execution_count": null,
   "metadata": {
    "colab": {
     "base_uri": "https://localhost:8080/"
    },
    "executionInfo": {
     "elapsed": 8766,
     "status": "ok",
     "timestamp": 1640350902775,
     "user": {
      "displayName": "Sayan Roy",
      "photoUrl": "https://lh3.googleusercontent.com/a-/AOh14Gg9_4Bj9z5jbOIlr34_02S1AeU4ECg-PZ_98FMy9b4=s64",
      "userId": "09901032199008150116"
     },
     "user_tz": -330
    },
    "id": "MYsXxf4uJwnu",
    "outputId": "90f9245a-fecb-4aa9-d954-500e44771153"
   },
   "outputs": [
    {
     "data": {
      "text/plain": [
       "{'?': 'I don’t understand what you mean',\n",
       " '?4U': 'I have a question for you',\n",
       " ';S': 'Gentle warning, like “Hmm? What did you say?”',\n",
       " '^^': 'Meaning “read line” or “read message” above',\n",
       " '<3': 'Meaning “sideways heart” (love, friendship)',\n",
       " '</3': 'Meaning “broken heart”',\n",
       " '<3333': 'Meaning “heart or love” (more 3s is a bigger heart)',\n",
       " '@TEOTD': 'At the end of the day',\n",
       " '.02': 'My (or your) two cents worth',\n",
       " '1TG, 2TG': 'Meaning number of items needed for win (online gaming)',\n",
       " '1UP': 'Meaning extra life (online gaming)',\n",
       " '121': 'One-to-one (private chat initiation)',\n",
       " '1337': 'Leet, meaning ‘elite’',\n",
       " '143': 'I love you',\n",
       " '1432': 'I love you too',\n",
       " '14AA41': 'One for all, and all for one',\n",
       " '182': 'I hate you',\n",
       " '19': 'Zero hand (online gaming)',\n",
       " '10M': 'Ten man (online gaming)',\n",
       " '10X': 'Thanks',\n",
       " '10Q': 'Thank you',\n",
       " '1CE': 'Once',\n",
       " '1DR': 'I wonder',\n",
       " '1NAM': 'One in a million',\n",
       " '2': 'Meaning “to” in SMS',\n",
       " '20': 'Meaning “location”',\n",
       " '2B': 'To be',\n",
       " '2EZ': 'Too easy',\n",
       " '2G2BT': 'Too good to be true',\n",
       " '2M2H': 'Too much to handle',\n",
       " '2MI': 'Too much information',\n",
       " '2MOR': 'Tomorrow',\n",
       " '2MORO': 'Tomorrow',\n",
       " '2N8': 'Tonight',\n",
       " '2NTE': 'Tonight',\n",
       " '4': 'Short for “for” in SMS',\n",
       " '411': 'Meaning ‘information’',\n",
       " '404': 'I don’t know',\n",
       " '420': 'Meaning “Marijuana”',\n",
       " '459': 'Means I love you (ILY is 459 using keypad numbers)',\n",
       " '4AO': 'For adults only',\n",
       " '4COL': 'For crying out loud',\n",
       " '4EAE': 'Forever and ever',\n",
       " '4EVA': 'Forever',\n",
       " '4NR': 'Foreigner',\n",
       " '4SALE': 'For sale',\n",
       " '^5': 'High-five',\n",
       " '511': 'Too much information (more than 411)',\n",
       " '555': 'Sobbing, crying. (Mandarin Chinese txt msgs)',\n",
       " '55555': 'Meaning Laughing (In Thai language the number 5 is pronounced ‘ha’.)',\n",
       " '6Y': 'Sexy',\n",
       " '7K': 'Sick',\n",
       " '81': 'Meaning Hells Angels (H=8th letter of alphabet, A=1st letter of alphabet)',\n",
       " '831': 'I love you (8 letters, 3 words, 1 meaning)',\n",
       " '86': 'Over',\n",
       " '88': 'Hugs and kisses',\n",
       " '9': 'Parent is watching',\n",
       " '*s*': 'Meaning “smile”',\n",
       " '*w*': 'Meaning “wink”',\n",
       " 'A3': 'Anytime, anywhere, anyplace',\n",
       " 'AA': 'Ask about',\n",
       " 'AAF': 'As a friend',\n",
       " 'AAK': 'Alive and kicking',\n",
       " 'AAMOF': 'As a matter of fact',\n",
       " 'AAMOI': 'As a matter of interest',\n",
       " 'AAP': 'Always a pleasure',\n",
       " 'AAR': 'At any rate',\n",
       " 'AAS': 'Alive and smiling',\n",
       " 'AASHTA': 'As always, Sheldon has the answer (Bike mechanic Sheldon Brown)',\n",
       " 'AATK': 'Always at the keyboard',\n",
       " 'AAYF': 'As always, your friend',\n",
       " 'ABBR': 'Meaning abbreviation',\n",
       " 'ABC': 'Already been chewed',\n",
       " 'ABD': 'Already been done',\n",
       " 'ABT': 'About',\n",
       " 'ABT2': 'Meaning ‘About to’',\n",
       " 'ABTA': 'Meaning Good-bye (signoff)',\n",
       " 'ABU': 'All bugged up',\n",
       " 'AC': 'Acceptable content',\n",
       " 'ACC': 'Anyone can come',\n",
       " 'ACD': 'ALT / CONTROL / DELETE',\n",
       " 'ACDNT': 'Accident (e-mail, Government)',\n",
       " 'ACE': 'Meaning marijuana cigarette',\n",
       " 'ACK': 'Acknowledge',\n",
       " 'ACPT': 'Accept (e-mail, Government)',\n",
       " 'ACQSTN': 'Acquisition (e-mail, Government)',\n",
       " 'ADAD': 'Another day, another dollar',\n",
       " 'ADBB': 'All done, bye-bye',\n",
       " 'ADD': 'Address',\n",
       " 'ADDY': 'Address',\n",
       " 'ADIH': 'Another day in hell',\n",
       " 'ADIP': 'Another day in paradise',\n",
       " 'ADMIN': 'Administrator',\n",
       " 'ADMINR': 'Administrator (Government)',\n",
       " 'ADN': 'Any day now',\n",
       " 'ADR': 'Address',\n",
       " 'AE': 'Area effect (online gaming)',\n",
       " 'AEAP': 'As early as possible',\n",
       " 'AF': 'Aggression factor (online gaming)',\n",
       " 'AFC': 'Away from computer',\n",
       " 'AFAIAA': 'As far as I am aware',\n",
       " 'AFAIC': 'As far as I am concerned',\n",
       " 'AFAIK': 'As far as I know',\n",
       " 'AFAIUI': 'As far as I understand it',\n",
       " 'AFAP': 'As far as possible',\n",
       " 'AFFA': 'Angels Forever, Forever Angels',\n",
       " 'AFJ': 'April Fool’s joke',\n",
       " 'AFK': 'Away from keyboard',\n",
       " 'AFZ': 'Acronym Free Zone',\n",
       " 'AFPOE': 'A fresh pair of eyes',\n",
       " 'AGI': 'Meaning “agility” (online gaming)',\n",
       " 'AH': 'At home',\n",
       " 'AIAMU': 'And I am a money’s uncle',\n",
       " 'AIGHT': 'Alright',\n",
       " 'AIR': 'As I remember',\n",
       " 'AISB': 'As I said before',\n",
       " 'AISI': 'As I see it',\n",
       " 'AITR': 'Adult in the room',\n",
       " 'AKA': 'Also known as',\n",
       " 'ALCON': 'All concerned',\n",
       " 'ALOL': 'Actually laughing out loud',\n",
       " 'AMA': 'Ask me anything (Reddit)',\n",
       " 'AMAP': 'As much as possible',\n",
       " 'AMBW': 'All my best wishes',\n",
       " 'AML': 'All my love',\n",
       " 'AMOF': 'As a matter of fact',\n",
       " 'A/N': 'Author’s note',\n",
       " 'AO': 'Anarchy Online (online gaming)',\n",
       " 'AOC': 'Available on cell',\n",
       " 'AOE': 'Area of effect (online game)',\n",
       " 'AOM': 'Age of Mythology (online gaming)',\n",
       " 'AOTA': 'All of the above',\n",
       " 'AOYP': 'Angel on your pillow',\n",
       " 'APAC': 'All praise and credit',\n",
       " 'APP': 'Appreciate',\n",
       " 'AQAP': 'As quick (or quiet) as possible',\n",
       " 'ARC': 'Archive (compressed files)',\n",
       " 'ARE': 'Acronym rich environment',\n",
       " 'ARG': 'Argument',\n",
       " 'ASIG': 'And so it goes',\n",
       " 'ASAP': 'As soon as possible',\n",
       " 'A/S/L': 'Age/sex/location',\n",
       " 'ASL': 'Age/sex/location',\n",
       " 'ASLA': 'Age/sex/location/availability',\n",
       " 'AT': 'At your terminal',\n",
       " 'ATB': 'All the best',\n",
       " 'ATEOTD': 'At the end of the day',\n",
       " 'ATM': 'At the moment',\n",
       " 'ATSITS': 'All the stars in the sky',\n",
       " 'ATSL': 'Along the same line (or lines)',\n",
       " 'AWC': 'After awhile crocodile',\n",
       " 'AWESO': 'Awesome',\n",
       " 'AWOL': 'Absent without leave',\n",
       " 'AYDY': 'Are you done yet?',\n",
       " 'AYBABTU': 'All your base are belong to us (online gaming)',\n",
       " 'AYEC': 'At your earliest convenience',\n",
       " 'AYOR': 'At your own risk',\n",
       " 'AYSOS': 'Are you stupid or something?',\n",
       " 'AYS': 'Are you serious?',\n",
       " 'AYT': 'Are you there?',\n",
       " 'AYTMTB': 'And you’re telling me this because',\n",
       " 'AYV': 'Are you vertical?',\n",
       " 'AYW': 'As you want / As you wish',\n",
       " 'AZN': 'Asian',\n",
       " 'B': 'Be',\n",
       " 'B&': 'Banned',\n",
       " 'B2B': 'Business-to-business',\n",
       " 'B2C': 'Business-to-consumer',\n",
       " 'B2W': 'Back to work',\n",
       " 'B8': 'Bait (person teased or joked with, or under-aged person/teen)',\n",
       " 'B9': 'Boss is watching',\n",
       " 'B/F': 'Boyfriend',\n",
       " 'B/G': 'Background (personal information request)',\n",
       " 'B4': 'Before',\n",
       " 'B4N': 'Bye for now',\n",
       " 'BAG': 'Busting a gut',\n",
       " 'BA': 'Bad *a*',\n",
       " 'BAE': 'Meaning Babe or baby',\n",
       " 'BAFO': 'Best and final offer',\n",
       " 'BAK': 'Back at keyboard',\n",
       " 'BAM': 'Below average mentality',\n",
       " 'BAMF': 'Bad *a* mother *f*',\n",
       " 'BAO': 'Be aware of',\n",
       " 'BAS': 'Big ‘butt’ smile',\n",
       " 'BASIC': 'Meaning anything mainstream',\n",
       " 'BASOR': 'Breathing a sigh of relief',\n",
       " 'BAU': 'Business as usual',\n",
       " 'BAY': 'Back at ya',\n",
       " 'BB': 'Bebi / Baby (Spanish SMS)',\n",
       " 'BBC': 'Big bad challenge',\n",
       " 'BBIAB': 'Be back in a bit',\n",
       " 'BBIAF': 'Be back in a few',\n",
       " 'BBIAM': 'Be back in a minute',\n",
       " 'BBIAS': 'Be back in a sec',\n",
       " 'BBL': 'Be back later',\n",
       " 'BBN': 'Bye, bye now',\n",
       " 'BBQ': 'Barbeque, “Ownage”, shooting score/frag (online gaming)',\n",
       " 'BBS': 'Be back soon',\n",
       " 'BBT': 'Be back tomorrow',\n",
       " 'BC': 'Be cool',\n",
       " 'B/C': 'Because',\n",
       " 'BCNU': 'Be seeing you',\n",
       " 'BCOS': 'Because',\n",
       " 'BCO': 'Big crush on',\n",
       " 'BCOY': 'Big crush on you',\n",
       " 'BD': 'Big deal',\n",
       " 'BDAY': 'Birthday',\n",
       " 'B-DAY': 'Birthday',\n",
       " 'BDN': 'Big darn number',\n",
       " 'BEG': 'Big evil grin',\n",
       " 'BELF': 'Meaning “Blood Elf” (online gaming)',\n",
       " 'BF': 'Best friend',\n",
       " 'BFAW': 'Best friend at work',\n",
       " 'BF2': 'Battlefield 2 (online gaming)',\n",
       " 'BFF': 'Best friends forever',\n",
       " 'BFFL': 'Best friends for life',\n",
       " 'BFFLNMW': 'Best friends for life, no matter what',\n",
       " 'BFD': 'Big freaking deal',\n",
       " 'BFG': 'Big freaking grin',\n",
       " 'BFFN': 'Best friend for now',\n",
       " 'BFN': 'Bye for now',\n",
       " 'BG': 'Big grin',\n",
       " 'BGWM': 'Be gentle with me',\n",
       " 'BHL8': 'Be home late',\n",
       " 'BIB': 'Boss is back',\n",
       " 'BIBO': 'Beer in, beer out',\n",
       " 'BIC': 'Butt in chair',\n",
       " 'BIF': 'Before I forget',\n",
       " 'BIH': 'Burn in hell',\n",
       " 'BIL': 'Brother in law',\n",
       " 'BIO': 'Meaning “I’m going to the bathroom” (or) “Bathroom break”',\n",
       " 'BION': 'Believe it or not',\n",
       " 'BIOYA': 'Blow it out your *a*',\n",
       " 'BIOYN': 'Blow it out your nose',\n",
       " 'BIS': 'Best in slot (online gaming)',\n",
       " 'BISFLATM': 'Boy, I sure feel like a turquoise monkey! (unverified)',\n",
       " 'BITMT': 'But in the meantime',\n",
       " 'BL': 'Belly laugh',\n",
       " 'BLNT': 'Better luck next time',\n",
       " 'Bloke': 'Meaning Man (Discord)',\n",
       " 'BM': 'Bite me',\n",
       " 'BME': 'Based on my experience',\n",
       " 'BM&Y': 'Between me and you',\n",
       " 'BOB': 'Back off *buddy*',\n",
       " 'BN': 'Bad news',\n",
       " 'BOE': 'Meaning “bind on equip” (online gaming)',\n",
       " 'BOHICA': 'Bend over here it comes again',\n",
       " 'BOL': 'Best of luck',\n",
       " 'BOM': '*b* of mine',\n",
       " 'BOLO': 'Be on the look out',\n",
       " 'BOOMS': 'Bored out of my skull',\n",
       " 'BOP': 'Meaning “bind on pickup” (online gaming)',\n",
       " 'BOSMKL': 'Bending over smacking my knee laughing',\n",
       " 'BOT': 'Be on that',\n",
       " 'BMS': 'Broke my scale, used when rating someone',\n",
       " 'BOYF': 'Boyfriend',\n",
       " 'BPLM': 'Big person little mind',\n",
       " 'BRB': 'Be right back',\n",
       " 'BR': 'Best regards',\n",
       " 'BRBB': 'Be right back *b*',\n",
       " 'BRNC': 'Be right back, nature calls',\n",
       " 'BRD': 'Bored',\n",
       " 'BRH': 'Be right here',\n",
       " 'BRT': 'Be right there',\n",
       " 'BSF': 'But seriously folks',\n",
       " 'BSOD': 'Blue screen of death',\n",
       " 'BSTS': 'Better safe than sorry',\n",
       " 'BT': 'Between technologies',\n",
       " 'BTA': 'But then again',\n",
       " 'BTDT': 'Been there, done that',\n",
       " 'BTW': 'By the way',\n",
       " 'BTYCL': 'Meaning ‘Bootycall’',\n",
       " 'BUBU': 'Slang term for the most beautiful of women',\n",
       " 'BURN': 'Used to reference an insult',\n",
       " 'Buff': 'Meaning “changed and is now stronger” (online gaming)',\n",
       " 'BWL': 'Bursting with laughter',\n",
       " 'BYOB': 'Bring your own beer',\n",
       " 'BYOC': 'Bring your own computer',\n",
       " 'BYOD': 'Bring your own device',\n",
       " 'BYOH': 'Bat you on (the) head',\n",
       " 'BYOP': 'Bring your own paint (paintball)',\n",
       " 'BYTM': 'Better you than me',\n",
       " 'C&G': 'Chuckle & grin',\n",
       " 'C4N': 'Ciao for now',\n",
       " 'CAD': 'Short for Canada/Canadian',\n",
       " 'Cakeday': 'Meaning Birthday (Reddit)',\n",
       " 'CAM': 'Camera (SMS)',\n",
       " 'CB': 'Crazy *b*',\n",
       " 'CD9': 'Code 9, Meaning “parents are around”',\n",
       " 'CFS': 'Care for secret?',\n",
       " 'CFY': 'Calling for you',\n",
       " 'CHK': 'Check',\n",
       " 'CIAO': 'Good-bye (Italian word)',\n",
       " 'CICO': 'Coffee in, coffee out',\n",
       " 'CID': 'Consider it done',\n",
       " 'CLAB': 'Crying like a baby',\n",
       " 'CLD': 'Could',\n",
       " 'CLK': 'Click',\n",
       " 'CM': 'Call me',\n",
       " 'CMAP': 'Cover my *a* partner (online gaming)',\n",
       " 'CMB': 'Call me back',\n",
       " 'CMGR': 'Meaning “Community manager”',\n",
       " 'CMIIW': 'Correct me if I’m wrong',\n",
       " 'CMON': 'Come on',\n",
       " 'CNP': 'Continued (in) next post',\n",
       " 'COB': 'Close of business',\n",
       " 'COH': 'City of Heroes (online gaming)',\n",
       " 'COS': 'Because',\n",
       " 'C/P': 'Cross post',\n",
       " 'CP': 'Chat post (or continue in IM)',\n",
       " 'CR8': 'Create',\n",
       " 'Cray': 'Meaning crazy',\n",
       " 'CRE8': 'Create',\n",
       " 'CRA CRA': 'Slang term meaning “crazy”',\n",
       " 'CRAFT': 'Can’t remember a *freaking* thing',\n",
       " 'CRB': 'Come right back',\n",
       " 'CRBT': 'Crying really big tears',\n",
       " 'CRIT': 'Meaning “critical hit” (online gaming)',\n",
       " 'CRZ': 'Crazy',\n",
       " 'CRS': 'Can’t remember *stuff*',\n",
       " 'CSG': 'Chuckle, snicker, grin',\n",
       " 'CSL': 'Can’t stop laughing',\n",
       " 'CSS': 'Counter-Strike Source (online gaming)',\n",
       " 'CT': 'Can’t talk',\n",
       " 'CTC': 'Care to chat?',\n",
       " 'CTHU': 'Cracking the *heck* up',\n",
       " 'CTN': 'Can’t talk now',\n",
       " 'CTO': 'Check this out',\n",
       " 'CU': 'See you',\n",
       " 'CU2': 'See you',\n",
       " 'CUA': 'See you around',\n",
       " 'CUL': 'See you later',\n",
       " 'CULA': 'See you later alligator',\n",
       " 'CUL8R': 'See you later',\n",
       " 'CUMID': 'See you in my dreams',\n",
       " 'CURLO': 'See you around like a donut',\n",
       " 'CWD': 'Comment when done',\n",
       " 'CWOT': 'Complete waste of time',\n",
       " 'CWYL': 'Chat with you later',\n",
       " 'CX': 'Meaning “Correction”',\n",
       " 'CYA': 'See you',\n",
       " 'CYAL8R': 'See you later',\n",
       " 'CYE': 'Check your e-mail',\n",
       " 'CYEP': 'Close your eyes partner (online gaming)',\n",
       " 'CYO': 'See you online',\n",
       " 'D2': 'Dedos / fingers (Spanish SMS)',\n",
       " 'D46?': 'Down for sex?',\n",
       " 'DA': 'Meaning “The”',\n",
       " 'DAE': 'Does anyone else?',\n",
       " 'DAFUQ': '(What) the *Freak*?',\n",
       " 'DAM': 'Don’t annoy me',\n",
       " 'DAoC': 'Dark Age of Camelot (online gaming)',\n",
       " 'DBAU': 'Doing business as usual',\n",
       " 'DBEYR': 'Don’t believe everything you read',\n",
       " 'DC': 'Disconnect',\n",
       " 'DD': 'Due diligence',\n",
       " 'DDG': 'Drop dead gorgeous',\n",
       " 'DEEZ NUTZ': 'A phrase used in online chat to annoy or frustrate those involved in the conversation.',\n",
       " 'DEGT': 'Dear (or Darling) daughter',\n",
       " 'DERP': 'Meaning stupid or silly',\n",
       " 'DF': 'Don’t even go there',\n",
       " 'DFL': 'Dead *freaking* last (online gaming)',\n",
       " 'DGA': 'Don’t go anywhere',\n",
       " 'DGAF': 'Don’t give a *freak*',\n",
       " 'DGT': 'Don’t go there',\n",
       " 'DGTG': 'Don’t go there, girlfriend',\n",
       " 'DGYF': 'Dang, girl you fine',\n",
       " 'DH': 'Dear (or Darling) husband',\n",
       " 'DHU': 'Dinosaur hugs (used to show support)',\n",
       " 'DIIK': 'Darned if I know',\n",
       " 'DIKU': 'Do I know you?',\n",
       " 'DILLIGAF': 'Do I look like I give a *freak*?',\n",
       " 'DILLIGAS': 'Do I look like I give a sugar?',\n",
       " 'DIS': 'Did I say?',\n",
       " 'DITYID': 'Did I tell you I’m distressed?',\n",
       " 'DIY': 'Do it yourself',\n",
       " 'DKDC': 'Don’t know, don’t care',\n",
       " 'DKP': 'Dragon kill points (online gaming)',\n",
       " 'D/L': 'Download',\n",
       " 'DL': 'Dead link',\n",
       " 'DLBBB': 'Don’t let (the) bed bugs bite',\n",
       " 'DLTBBB': 'Don’t let the bed bugs bite',\n",
       " 'DM': 'Dungeon Master (online gaming)',\n",
       " 'DMNO': 'Dude Man No Offense',\n",
       " 'DMY': 'Don’t mess yourself',\n",
       " 'DN': 'Down',\n",
       " 'DNC': 'Do not compute (meaning I do not understand)',\n",
       " 'DNR': 'Dinner (SMS)',\n",
       " 'DNT': 'Don’t',\n",
       " 'd00d': 'Dude',\n",
       " 'DOE': 'Daughter of Eve',\n",
       " 'DORBS': 'Meaning “Adorable”',\n",
       " 'DOT': 'Damage over time (online gaming)',\n",
       " 'Downvote': 'Voting negatively on a thread using Reddit s voting system (Reddit)',\n",
       " 'DPS': 'Damage per second (online gaming)',\n",
       " 'DQMOT': 'Don’t quote me on this',\n",
       " 'DR': 'Didn’t read',\n",
       " 'DS': 'Dear (or Darling) son',\n",
       " 'DTR': 'Define the relationship',\n",
       " 'DTRT': 'Do the right thing',\n",
       " 'DTS': 'Don’t think so',\n",
       " 'DTTD': 'Don’t touch that dial',\n",
       " 'DUPE': 'Duplicate',\n",
       " 'DUR': 'Do you remember?',\n",
       " 'DV8': 'Deviate',\n",
       " 'DW': 'Dear (or Darling) wife',\n",
       " 'DWF': 'Divorced white female',\n",
       " 'DWM': 'Divorced white male',\n",
       " 'DXNRY': 'Dictionary',\n",
       " 'DYNWUTB': 'Do you know what you are talking about?',\n",
       " 'DYFI': 'Did you find it?',\n",
       " 'DYFM': 'Dude, you fascinate me',\n",
       " 'DYJHIW': 'Don’t you just hate it when…?',\n",
       " 'DYOR': 'Do your own research (common stock market chat slang)',\n",
       " 'E': 'Enemy (online gaming)',\n",
       " 'E1': 'Everyone',\n",
       " 'E123': 'Easy as one, two, three',\n",
       " 'E2EG': 'Ear to ear grin',\n",
       " 'EAK': 'Eating at keyboard',\n",
       " 'EBKAC': 'Error between keyboard and chair',\n",
       " 'ED': 'Erase display',\n",
       " 'EF4T': 'Effort',\n",
       " 'EG': 'Evil grin',\n",
       " 'EI': 'Eat it',\n",
       " 'EIP': 'Editing in progress',\n",
       " 'ELI5': 'Explain like I’m 5',\n",
       " 'EM': None,\n",
       " 'EMA': None,\n",
       " 'EMBAR': 'Meaning “Embarassing”',\n",
       " 'EMFBI': 'Excuse me for jumping in',\n",
       " 'EMSG': 'E-mail message',\n",
       " 'ENUF': 'Enough',\n",
       " 'EOD': 'End of discussion',\n",
       " 'EOL': 'End of life',\n",
       " 'EOM': 'End of message',\n",
       " 'EOS': 'End of show',\n",
       " 'EOT': 'End of transmission',\n",
       " 'EQ': 'EverQuest (online gaming)',\n",
       " 'ERP': 'Meaning “Erotic Role-Play” (online gaming)',\n",
       " 'ERS2': 'Eres tz / are you (Spanish SMS)',\n",
       " 'ES': 'Erase screen',\n",
       " 'ESAD': 'Eat *S* and die!',\n",
       " 'ETA': 'Edited to add',\n",
       " 'EVA': 'Ever',\n",
       " 'EVO': 'Evolution',\n",
       " 'EWG': 'Evil wicked grin (in fun, teasing)',\n",
       " 'EWI': 'Emailing while intoxicated',\n",
       " 'EXTRA': 'Meaning over the top',\n",
       " 'EYC': 'Excitable, yet calm',\n",
       " 'EZ': 'Easy',\n",
       " 'EZY': 'Easy',\n",
       " 'F': 'Meaning female',\n",
       " 'F2F': 'Face to face',\n",
       " 'F2P': 'Free to play (online gaming)',\n",
       " 'F4F': 'Follow for follow (Instagram)',\n",
       " 'FAAK': 'Falling asleep at keyboard',\n",
       " 'FAB': 'Fabulous',\n",
       " 'Facepalm': 'Used to represent the gesture of “smacking your forehead with your palm” to express embarrassment or frustration',\n",
       " 'FAF': 'Funny as *freak*',\n",
       " 'FAM': 'FFamily, but not limited to actual family members. Could mean friends.',\n",
       " 'FAQ': 'Frequently asked questions',\n",
       " 'FAY': '*Freak* all you',\n",
       " 'FB': 'Facebook',\n",
       " 'FBB': 'Meaning “Facebook buddy”',\n",
       " 'FBC': 'Facebook chat',\n",
       " 'FBF': 'Fat boy food (e.g. pizza, burgers, fries)',\n",
       " 'FBFR': 'FaceBook friend',\n",
       " 'FBM': 'Fine by me',\n",
       " 'FBO': 'Facebook official (An official update from Facebook)',\n",
       " 'FBOW': 'For better or worse',\n",
       " 'FC': 'Full card (online gaming)',\n",
       " 'FC’INGO': 'For crying out loud',\n",
       " 'FCOL': 'For crying out loud',\n",
       " 'Feelsbadman': 'A social meme that means to feel negative.',\n",
       " 'Feelsbatman': 'A social meme taking “feelsbadman” to the extreme. This references the DC super hero Batmanbecause he witnessed the murder of his parents.',\n",
       " 'Feelsgoodman': 'A social meme that means to feel positive.',\n",
       " 'FEITCTAJ': '*Freak* ’em if they can’t take a joke',\n",
       " 'FF': None,\n",
       " 'FFA': 'Free for all (online gaming)',\n",
       " 'FFS': 'For *freak’*sakes',\n",
       " 'FICCL': 'Frankly I couldn’t care a less',\n",
       " 'FIF': '*Freak* I’m funny',\n",
       " 'FIIK': '*Freaked* if I know',\n",
       " 'FIIOOH': 'Forget it, I’m out of here',\n",
       " 'FIL': 'Father in law',\n",
       " 'FIMH': 'Forever in my heart',\n",
       " 'Finna': 'Means “Going to”',\n",
       " 'Finsta': 'A second Instagram account where someone can post things that they’re too afraid to post on their main account.',\n",
       " 'FISH': 'First in, still here',\n",
       " 'FITB': 'Fill in the blank',\n",
       " 'FML': '*Freak* My Life',\n",
       " 'FOMC': 'Falling off my chair',\n",
       " 'FOMO': None,\n",
       " 'FOAD': '*Freak* off and die',\n",
       " 'FOAF': 'Friend of a friend',\n",
       " 'FOMCL': 'Falling off my chair laughing',\n",
       " 'FRT': 'For real though',\n",
       " 'FTBOMH': 'From the bottom of my heart',\n",
       " 'FTFY': 'Fixed that for you',\n",
       " 'FTL': 'For the loss',\n",
       " 'FTW': 'For the win',\n",
       " 'FU': '*Freak* you',\n",
       " 'FUBAR': 'Fouled up beyond all recognition',\n",
       " 'FUBB': 'Fouled up beyond belief',\n",
       " 'FUD': 'Face up deal (online gaming)',\n",
       " 'FUTAB': 'Feet up, take a break',\n",
       " 'FW': 'Forward',\n",
       " 'FWB': 'Friend with benefits',\n",
       " 'FWIW': 'For what it’s worth',\n",
       " 'FWM': 'Fine with me',\n",
       " 'FWP': 'First world problems',\n",
       " 'FYE': 'Fire, something that is cool',\n",
       " 'FYEO': 'For your eyes only',\n",
       " 'FYA': 'For your amusement',\n",
       " 'FYI': 'For your information',\n",
       " 'G': 'Giggle',\n",
       " 'G+': 'Google+',\n",
       " 'G/F': 'Girlfriend',\n",
       " 'G2CU': 'Good to see you',\n",
       " 'G2G': 'Got to go',\n",
       " 'G2GICYAL8ER': 'Got to go I’ll see you later',\n",
       " 'G2R': 'Got to run',\n",
       " 'G2TU': 'Got to tell u (you)',\n",
       " 'G4C': 'Going for coffee',\n",
       " 'G9': 'Genius',\n",
       " 'GA': 'Go ahead',\n",
       " 'GAC': 'Get a clue',\n",
       " 'GAFC': 'Get a *freaking* clue',\n",
       " 'GAL': 'Get a life',\n",
       " 'GANK': 'Meaning a player ambush or unfair player kill (online gaming)',\n",
       " 'GAS': 'Greetings and salutations',\n",
       " 'GB': 'Goodbye',\n",
       " 'GBTW': 'Get back to work',\n",
       " 'GBU': 'God bless you',\n",
       " 'GD': 'Good',\n",
       " 'GDR': 'Grinning, ducking, and running',\n",
       " 'GD/R': 'Grinning, ducking, and running',\n",
       " 'GFI': 'Go for it',\n",
       " 'GF': 'Girl friend',\n",
       " 'GFN': 'Gone for now',\n",
       " 'GG': 'Brother (Mandarin Chinese txt msgs)',\n",
       " 'GGA': 'Good game, all (online gaming)',\n",
       " 'GGE1': 'Good game, everyone (online gaming)',\n",
       " 'GGU2': 'Good game, you too',\n",
       " 'GGMSOT': 'Gotta get me some of that',\n",
       " 'GGOH': 'Gotta Get Outa Here',\n",
       " 'GGP': 'Got to go pee',\n",
       " 'GH': 'Good hand (online gaming)',\n",
       " 'GIAR': 'Give it a rest',\n",
       " 'GIC': 'Gift in crib (online gaming)',\n",
       " 'GIGO': 'Garbage in, garbage out',\n",
       " 'GIRL': 'Guy in real life',\n",
       " 'GJ': 'Good job',\n",
       " 'GL': 'Good luck',\n",
       " 'GL2U': 'Good luck to you (online gaming)',\n",
       " 'GLA': 'Good luck all (online gaming)',\n",
       " 'GL/HF': 'Good luck, have fun (online gaming)',\n",
       " 'GLE': 'Good luck everyone (online gaming)',\n",
       " 'GLE1': 'Good luck everyone (online gaming)',\n",
       " 'GLNG': 'Good luck next game (online gaming)',\n",
       " 'GMBA': 'Giggling my butt off',\n",
       " 'GMTA': 'Great minds think alike',\n",
       " 'GMV': 'Got my vote',\n",
       " 'GN': 'Good night',\n",
       " 'GNA': 'Good night all',\n",
       " 'GNE1': 'Good night everyone',\n",
       " 'GNIGHT': 'Good night',\n",
       " 'GNITE': 'Good night',\n",
       " 'GNSD': 'Good night, sweet dreams',\n",
       " 'GOAT': 'Greatest of all Time(s)',\n",
       " 'GOI': 'Get over it',\n",
       " 'GOL': 'Giggling out loud',\n",
       " 'GOMB': 'Get off my back',\n",
       " 'GPOY': 'Gratuitous picture of yourself',\n",
       " 'GR8': 'Great',\n",
       " 'GRATZ': 'Congratulations',\n",
       " 'GRL': 'Girl',\n",
       " 'GRWG': 'Get right with God',\n",
       " 'GR&D': 'Grinning, running and ducking',\n",
       " 'GS': 'Good split (online gaming)',\n",
       " 'GT': 'Good try',\n",
       " 'GTFO': 'Get the *freak* out',\n",
       " 'GTFOH': 'Get the *freak* outta here',\n",
       " 'null': 'Rolling on floor laughing',\n",
       " 'GTM': 'Giggling to myself',\n",
       " 'GTRM': 'Going to read mail',\n",
       " 'GTSY': 'Great (or good) to see you',\n",
       " 'GUCCI': 'Good',\n",
       " 'GUD': 'Good',\n",
       " 'GWHTLC': 'Glad we had this little chat',\n",
       " 'H': 'Hug',\n",
       " 'H8': 'Hate',\n",
       " 'H8TTU': 'Hate to be you',\n",
       " 'HAG1': 'Have a good one',\n",
       " 'HAK': 'Hug and kiss',\n",
       " 'HALP': 'Help (Discord)',\n",
       " 'HAU': 'How about you?',\n",
       " 'H&K': 'Hugs & kisses',\n",
       " 'H2CUS': 'Hope to see you soon',\n",
       " 'HAGN': 'Have a good night',\n",
       " 'HAGO': 'Have a good one',\n",
       " 'HAND': 'Have a nice day',\n",
       " 'HAWT': 'Meaning “sexy” or “attractive”',\n",
       " 'HB': 'Hug back',\n",
       " 'HBD': 'Happy birthday',\n",
       " 'H-BDAY': 'Happy Birthday',\n",
       " 'HBU': 'How about you?',\n",
       " 'HF': 'Have fun',\n",
       " 'HFAC': 'Holy flipping animal crackers',\n",
       " 'H-FDAY': 'Happy Father’s Day',\n",
       " 'HHIS': 'Head hanging in shame',\n",
       " 'HIFW': 'How I felt when… (Used with photo or gif)',\n",
       " 'HL': 'Half Life (online gaming)',\n",
       " 'HLA': 'Hola / hello (Spanish SMS)',\n",
       " 'H-MDAY': 'Happy Mother’s Day',\n",
       " 'HMU': 'Hit me up',\n",
       " 'HNL': '(w)Hole ‘nother level',\n",
       " 'HOAS': 'Hold on a second',\n",
       " 'HP': 'Hit points / Health points (online gaming)',\n",
       " 'HRU': 'How are you?',\n",
       " 'HTH': 'Hope this helps',\n",
       " 'HUB': 'Head up butt',\n",
       " 'HUYA': 'Head up your *butt*',\n",
       " 'HV': 'Have',\n",
       " 'HVH': 'Heroic Violet Hold (online gaming)',\n",
       " 'HW': 'Homework',\n",
       " 'HYFR': 'Hell yeah, *Freaking* right!',\n",
       " 'I2': 'I too (me too)',\n",
       " 'IA8': 'I already ate',\n",
       " 'IAAA': 'I am an accountant',\n",
       " 'IAAD': 'I am a doctor',\n",
       " 'IAAL': 'I am a lawyer',\n",
       " 'IAC': 'In any case',\n",
       " 'IAE': 'In any event',\n",
       " 'IANAC': 'I am not a crook',\n",
       " 'IANAL': 'I am not a lawyer',\n",
       " 'IAO': 'I am out (of here)',\n",
       " 'IB': 'I’m back',\n",
       " 'IC': 'I see',\n",
       " 'ICAM': 'I couldn’t agree more',\n",
       " 'ICBW': 'It could be worse',\n",
       " 'ICEDI': 'I can’t even discuss it',\n",
       " 'ICFILWU': 'I could fall in love with you',\n",
       " 'ICYMI': 'In case you missed it (Twitter slang)',\n",
       " 'IDBI': 'I don’t believe it',\n",
       " 'IDC': 'I don’t care',\n",
       " 'IDGAF': 'I don’t give a *freak*',\n",
       " 'IDK': 'I don’t know',\n",
       " 'IDTS': 'I don’t think so',\n",
       " 'IDUNNO': 'I don’t know',\n",
       " 'IFYP': 'I feel your pain',\n",
       " 'IG': 'Instagram',\n",
       " 'IG2R': 'I got to run',\n",
       " 'IGHT': 'I got high tonight',\n",
       " 'IGN': 'I (I’ve) got nothing',\n",
       " 'IGP': 'I got to (go) pee',\n",
       " 'IHNI': 'I have no idea',\n",
       " 'IIRC': 'If I remember correctly',\n",
       " 'IIIO': 'Intel inside, idiot outside',\n",
       " 'IK': 'I know',\n",
       " 'ILBL8': 'I’ll be late',\n",
       " 'ILU': 'I love you',\n",
       " 'ILUM': 'I love you man',\n",
       " 'ILYSM': 'I love you so much',\n",
       " 'IM': 'Instant message',\n",
       " 'IMAO': 'In my arrogant opinion',\n",
       " 'IMHO': 'In my humble opinion',\n",
       " 'ImL': '(in Arial font) Means I love you (a way of using the American sign language in text)',\n",
       " 'IMNSHO': 'In my not so humble opinion',\n",
       " 'IMO': 'In my opinion',\n",
       " 'IMS': 'I am sorry',\n",
       " 'IMSB': 'I am so bored',\n",
       " 'IMTM': 'I am the man',\n",
       " 'IMU': 'I miss u (you)',\n",
       " 'INAL': 'I’m not a lawyer',\n",
       " 'INC': 'Meaning “incoming” (online gaming)',\n",
       " 'Inspoo': 'Inspiration',\n",
       " 'INV': 'Meaning “Invite”',\n",
       " 'IOMH': 'In over my head',\n",
       " 'IOW': 'In other words',\n",
       " 'IRL': 'In real life',\n",
       " 'IRMC': 'I rest my case',\n",
       " 'ISLY': 'I still love you',\n",
       " 'ISO': 'In search of',\n",
       " 'ITAM': 'It’s The Accounting, Man (financial blogs)',\n",
       " 'ITT': 'In This Thread',\n",
       " 'ITYK': 'I thought you knew',\n",
       " 'IUSS': 'If you say so',\n",
       " 'IWALU': 'I will always love you',\n",
       " 'IWAWO': 'I want a way out',\n",
       " 'IWIAM': 'Idiot wrapped in a moron',\n",
       " 'IWSN': 'I want sex now',\n",
       " 'IYKWIM': 'If you know what I mean',\n",
       " 'IYO': 'In your opinion',\n",
       " 'IYQ': 'Meaning “I like you”',\n",
       " 'IYSS': 'If you say so',\n",
       " 'j00': 'You',\n",
       " 'j00r': 'Your',\n",
       " 'JAC': 'Just a second',\n",
       " 'JAM': 'Just a minute',\n",
       " 'JAS': 'Just a second',\n",
       " 'JC (J/C)': 'Just checking',\n",
       " 'JDI': 'Just do it',\n",
       " 'JELLY': 'Meaning “jealous”',\n",
       " 'JFF': 'Just for fun',\n",
       " 'JFGI': 'Just *freaking* Google it',\n",
       " 'JIC': 'Just in case',\n",
       " 'JJ (J/J)': 'Just joking',\n",
       " 'JJA': 'Just joking around',\n",
       " 'JK (J/K)': 'Just kidding',\n",
       " 'JLMK': 'Just let me know',\n",
       " 'JMO': 'Just my opinion',\n",
       " 'JP': 'Jackpot (online gaming, bingo games)',\n",
       " 'JT (J/T)': 'Just teasing',\n",
       " 'JTLYK': 'Just to let you know',\n",
       " 'JV': 'Joint venture',\n",
       " 'JW': 'Just wondering',\n",
       " 'K': 'Okay',\n",
       " 'KK': 'Okay, Okay!',\n",
       " 'K8T': 'Katie',\n",
       " 'k/b': 'Keyboard',\n",
       " 'KB': 'Kick butt (online gaming)',\n",
       " 'KDFU': 'Means Cracking (K) the (D as in Da) *freak* up',\n",
       " 'KEWL': 'Cool',\n",
       " 'KEYA': 'I will key you later',\n",
       " 'KEYME': 'Key me when you get in',\n",
       " 'KFY': 'Kiss for you',\n",
       " 'KIA': 'Know it all',\n",
       " 'KIR': 'Keep it real',\n",
       " 'KISS': 'Keep it simple, stupid',\n",
       " 'KIT': 'Keep in touch',\n",
       " 'KMA': 'Kiss my *a*',\n",
       " 'KMK': 'Kiss my keister',\n",
       " 'KMS': 'Killing myself',\n",
       " 'KMT': 'Kiss my tushie',\n",
       " 'KOC': 'Kiss on cheek',\n",
       " 'KOL': 'Key opinion leader',\n",
       " 'Koreaboo': 'Someone obsessed with Korean culture',\n",
       " 'KOS': 'Kill on sight (online gaming)',\n",
       " 'KOW': 'Knock on wood',\n",
       " 'KOTC': 'Kiss on the cheek',\n",
       " 'KOTD': 'Kicks of the day (Instagram)',\n",
       " 'KOTL': 'Kiss on the lips',\n",
       " 'KNIM': 'Know what I mean?',\n",
       " 'KNOW': 'Meaning “knowledge”',\n",
       " 'KPC': 'Keeping parents clueless',\n",
       " 'KS': 'Kill then steal (online gaming)',\n",
       " 'KSC': 'Kind (of) sort (of) chuckle',\n",
       " 'KT': 'Katie',\n",
       " 'KUTGW': 'Keep up the good work',\n",
       " 'KYS': 'Kill yourself',\n",
       " 'L2G': '(would) Love to go',\n",
       " 'L2K': 'Like to come',\n",
       " 'L2P': 'Learn to play',\n",
       " 'l33t': 'Leet, meaning ‘elite’',\n",
       " 'L4L': 'Like for like (Instagram)',\n",
       " 'L8R': 'Later',\n",
       " 'L8RG8R': 'Later, gator',\n",
       " 'LAB': 'Life’s a *b*',\n",
       " 'LBAY': 'Laughing back at you',\n",
       " 'LBS': 'Laughing, but serious',\n",
       " 'LBVS': 'Laughing, but very serious',\n",
       " 'LD': 'Long distance',\n",
       " 'LDO': 'Like, duh obviously',\n",
       " 'LEMENO': 'Let me know',\n",
       " 'LERK': 'Leaving easy reach of keyboard',\n",
       " 'LFD': 'Left for day',\n",
       " 'LFG': 'Looking for guard (online gaming)',\n",
       " 'LFM': 'Looking for more (online gaming)',\n",
       " 'LGH': 'Lets get high',\n",
       " 'LH6': 'Lets have sex',\n",
       " 'LHSX': 'Lets have sex',\n",
       " 'LHM': 'Lord help me',\n",
       " 'LHO': 'Laughing head off',\n",
       " 'LI': 'LinkedIn',\n",
       " 'LIC': 'Like I care',\n",
       " 'LIK': 'Meaning liquor',\n",
       " 'LIMT': 'Laugh in my tummy',\n",
       " 'LIT': 'Extremely intoxicated',\n",
       " 'LLGB': 'Love, later, God bless',\n",
       " 'LLS': 'Laughing like *silly*',\n",
       " 'LMAO': 'Laughing my *a* off',\n",
       " 'LMBO': 'Laughing my butt off',\n",
       " 'LMIRL': 'Lets meet in real life',\n",
       " 'LMMFAO': 'Laughing my mother freaking a** off',\n",
       " 'LMNK': 'Leave my name out',\n",
       " 'LMS': 'Like my status (Facebook)',\n",
       " 'LNT': 'Meaning lost in translation',\n",
       " 'LOA': 'List of acronyms',\n",
       " 'LOL': 'Lots of love',\n",
       " 'LOLH': 'Laughing out loud hysterically',\n",
       " 'LOLO': 'Lots of love',\n",
       " 'LOLWTF': 'Laughing out loud (saying) “What the *freak*?”',\n",
       " 'LOTI': 'Laughing on the inside',\n",
       " 'LOTR': 'Lord of The Rings (online gaming)',\n",
       " 'LQTM': 'Laughing quietly to myself',\n",
       " 'LSHMBH': 'Laugh so hard my belly hurts',\n",
       " 'LSV': 'Language, sex and violence',\n",
       " 'LTD': 'Living the dream',\n",
       " 'LTLWDLS': 'Let’s twist like we did last summer',\n",
       " 'LTNS': 'Long time no see',\n",
       " 'LTOD': 'Laptop of death',\n",
       " 'LTS': 'Laughing to self',\n",
       " 'LULT': 'Love you long time',\n",
       " 'LULZ': 'Meaning joke, or for laughs',\n",
       " 'LVM': 'Left voice mail',\n",
       " 'LWOS': 'Laughing without smiling',\n",
       " 'LY': 'Love ya',\n",
       " 'LYLAS': 'Love you like a sis',\n",
       " 'LYLC': 'Love you like crazy',\n",
       " 'LYSM': 'Love you so much',\n",
       " 'M$': 'Microsoft',\n",
       " 'M8': 'Mate',\n",
       " 'MB': 'Mamma’s boy',\n",
       " 'MBS': 'Mom behind shoulder',\n",
       " 'MC': 'Merry Christmas',\n",
       " 'MDIAC': 'My Dad is a cop',\n",
       " 'MEGO': 'My eyes glaze over',\n",
       " 'MEH': 'Meaning a “so-so” or “just okay”',\n",
       " 'MEHH': 'Meaning a “sigh” or sighing',\n",
       " 'MEZ': 'Meaning “mesmerize” (online gaming)',\n",
       " 'MFI': 'Mad for it',\n",
       " 'MFW': 'My face when… (Used with photo or gif)',\n",
       " 'MGB': 'May God bless',\n",
       " 'MGMT': 'Management',\n",
       " 'MHOTY': 'My hat (is) off to you',\n",
       " 'MIRL': 'Meet in real life',\n",
       " 'MISS.(number)': 'Meaning “child and her age”. Miss.3 would be a 3-year old daughter',\n",
       " 'MKAY': 'Meaning “Mmm, okay”',\n",
       " 'MLM': 'Meaning give the middle finger',\n",
       " 'MM': 'Sister (Mandarin Chinese txt msg)',\n",
       " 'MMK': 'Meaning okay? (as a question)',\n",
       " 'MNC': 'Mother nature calls',\n",
       " 'MNSG': 'Mensaje (message in Spanish)',\n",
       " 'MOD': 'Modification (online gaming)',\n",
       " 'MORF': 'Male or female?',\n",
       " 'MOMBOY': 'Mamma’s boy',\n",
       " 'MOO': 'My own opinion',\n",
       " 'MOOS': 'Member of the opposite sex',\n",
       " 'MOS': 'Mother over shoulder',\n",
       " 'MOSS': 'Member of same sex',\n",
       " 'MP': 'Mana points (online gaming)',\n",
       " 'MR.(number)': 'Meaning “child and his age”. Mr.3 would be a 3-year old son',\n",
       " 'MRT': None,\n",
       " 'MRW': 'My reaction when… (Used with photo or gif)',\n",
       " 'MSG': 'Message',\n",
       " 'MTF': 'More to follow',\n",
       " 'MTFBWU': 'May the force be with you',\n",
       " 'MU': 'Miss U (you)',\n",
       " 'MUAH': 'Multiple unsuccessful attempts (at/to) humor',\n",
       " 'MUSM': 'Miss you so much',\n",
       " 'MWAH': 'Meaning “kiss” (it is is the sound made when kissing through the air)',\n",
       " 'MYO': 'Mind your own (business)',\n",
       " 'MYOB': 'Mind your own business',\n",
       " 'n00b': 'Newbie',\n",
       " 'N1': 'Nice one',\n",
       " 'N2M': 'Nothing too much',\n",
       " 'NADT': 'Not a darn thing',\n",
       " 'NALOPKT': 'Not a lot of people know that',\n",
       " 'NANA': 'Not now, no need',\n",
       " 'NBD': 'No big deal',\n",
       " 'NBFAB': 'No bad for a beginner (online gaming)',\n",
       " 'NC': 'Nice crib (online gaming)',\n",
       " 'ND': 'Nice double (online gaming)',\n",
       " 'NE': 'Any',\n",
       " 'NE1': 'Anyone',\n",
       " 'NERF': 'Meaning “Changed and is now weaker” (online gaming)',\n",
       " 'NFM': 'Not for me',\n",
       " 'NGL': 'Not gonna (going to) lie',\n",
       " 'NFS': 'Not for sale',\n",
       " 'NFW': 'Not for work',\n",
       " 'NFWS': 'Not for work safe',\n",
       " 'NH': 'Nice hand (online gaming)',\n",
       " 'NIFOC': 'Naked in front of computer',\n",
       " 'NIGI': 'Now I get it',\n",
       " 'NIMBY': 'Not in my back yard',\n",
       " 'NIROK': 'Not in reach of keyboard',\n",
       " 'NLT': 'No later than',\n",
       " 'NM': 'Nice meld (online gaming)',\n",
       " 'NMH': 'Not much here',\n",
       " 'NMJC': 'Nothing much, just chilling',\n",
       " 'NMU': 'Not much, you?',\n",
       " 'NO1': 'No one',\n",
       " 'NOOB': 'Meaning someone who is bad at (online) games',\n",
       " 'NOWL': 'Meaning “knowledge”',\n",
       " 'NOYB': 'None of your business',\n",
       " 'NP': 'No problem',\n",
       " 'NPC': 'Non-playing character (online gaming)',\n",
       " 'NQT': 'Newly qualified teacher',\n",
       " 'NR': 'Nice roll (online gaming)',\n",
       " 'NRN': 'No response/reply necessary',\n",
       " 'NS': 'Nice split (online gaming)',\n",
       " 'NSA': 'No strings attached',\n",
       " 'NSFL': 'Not safe for life',\n",
       " 'NSFW': 'Not safe for work',\n",
       " 'NSISR': 'Not sure if spelled right',\n",
       " 'NT': 'Nice try',\n",
       " 'NTHING': 'Nothing (SMS)',\n",
       " 'NTS': 'Note to self',\n",
       " 'NVR': 'Never',\n",
       " 'NW': 'No way',\n",
       " 'NWO': 'No way out',\n",
       " 'O4U': 'Only for you',\n",
       " 'O': 'Over',\n",
       " 'OA': None,\n",
       " 'OATUS': 'On a totally unrelated subject',\n",
       " 'OB': 'Oh brother',\n",
       " 'OBV': 'Obviously',\n",
       " 'OG': 'Original gangster',\n",
       " 'OGIM': 'Oh God, it’s Monday',\n",
       " 'OH': 'Overheard',\n",
       " 'OHHEMMGEE': 'Meaning “Oh My God” (alternate of OMG)',\n",
       " 'OI': 'Operator indisposed',\n",
       " 'OIB': 'Oh, I’m back',\n",
       " 'OIC': 'Oh, I see',\n",
       " 'OJ': 'Only joking',\n",
       " 'OL': 'Old lady',\n",
       " 'OLL': 'Online love',\n",
       " 'OM': 'Oh, my',\n",
       " 'OMAA': 'Oh, my aching *A* (butt)',\n",
       " 'OMDB': 'Over my dead body',\n",
       " 'OMFG': 'Oh my *freaking* God',\n",
       " 'OMG': 'Oh my gosh',\n",
       " 'OMGYG2BK': 'Oh my God, you got to be kidding',\n",
       " 'OMGYS': 'Oh my gosh you suck',\n",
       " 'OMS': 'On my soul (meaning “promise”)',\n",
       " 'OMW': 'On my way',\n",
       " 'ONL': 'Online',\n",
       " 'OO': 'Over and out',\n",
       " 'OOC': 'Out of character',\n",
       " 'OOH': 'Out of here',\n",
       " 'OOMF': 'One of my followers',\n",
       " 'OOTD': 'Outfit of the day (Instagram)',\n",
       " 'OOTO': 'Out of the office',\n",
       " 'OP': 'On phone',\n",
       " 'ORLY': 'Oh really?',\n",
       " 'OS': 'Operating system',\n",
       " 'OT': 'Off topic (discussion forums)',\n",
       " 'OTB': 'Off to bed',\n",
       " 'OTFL': 'On the floor laughing',\n",
       " 'OTL': 'Out to lunch',\n",
       " 'OTOH': 'On the other hand',\n",
       " 'OTP': 'One true pairing; two people you would love to see as a couple',\n",
       " 'OTT': 'Over the top',\n",
       " 'OTTOMH': 'Off the top of my head',\n",
       " 'OTW': 'Off to work',\n",
       " 'OVA': 'Over',\n",
       " 'OYO': 'On your own',\n",
       " 'P': 'Partner (online gaming)',\n",
       " 'P2P': 'Pay to play (online gaming)',\n",
       " 'P911': 'Parents coming into room alert',\n",
       " 'PAP': 'Post a picture',\n",
       " 'PAT': 'Meaning “patrol” (online gaming)',\n",
       " 'PAW': 'Parents are watching',\n",
       " 'PBOOK': 'Phonebook (e-mail)',\n",
       " 'PC': 'Player character (online gaming)',\n",
       " 'PCM': 'Please call me',\n",
       " 'PDA': 'Personal display (of) affection',\n",
       " 'PDH': 'Pretty darn happy',\n",
       " 'PDS': 'Please don’t shoot',\n",
       " 'PDQ': 'Pretty darn quick',\n",
       " 'PEEPS': 'People',\n",
       " 'PFT': 'Pretty *freaking* tight',\n",
       " 'PIC': 'Picture',\n",
       " 'PIP': 'Peeing in pants (laughing hard)',\n",
       " 'PIR': 'Parents in room',\n",
       " 'PISS': 'Put in some sugar',\n",
       " 'PITA': 'Pain in the *butt*',\n",
       " 'PKMN': 'Pokemon (online gaming)',\n",
       " 'PL8': 'Plate',\n",
       " 'PLD': 'Played',\n",
       " 'PLMK': 'Please let me know',\n",
       " 'PLS': 'Please',\n",
       " 'PLU': 'People like us',\n",
       " 'PLZ': 'Please',\n",
       " 'PLZTLME': 'Please tell me',\n",
       " 'PM': 'Private Message',\n",
       " 'PMFI': 'Pardon me for interrupting',\n",
       " 'PMFJI': 'Pardon me for jumping in',\n",
       " 'PMSL': 'Pee myself laughing',\n",
       " 'POAHF': 'Put on a happy face',\n",
       " 'POIDH': 'Picture, or it didn’t happen',\n",
       " 'POS': 'Parent over shoulder',\n",
       " 'POT': 'Meaning “potion” (online gaming)',\n",
       " 'POTD': 'Photo of the day (Instagram)',\n",
       " 'POV': 'Privately owned vehicle (originally used to differentiate an individual’s vehicle from a military vehicle)',\n",
       " 'PPL': 'People',\n",
       " 'PPU': 'Pending pick-up',\n",
       " 'PRESH': 'Precious',\n",
       " 'PROBS': 'Probably',\n",
       " 'PROLLY': 'Probably',\n",
       " 'PROGGY': 'Meaning computer program',\n",
       " 'PRON': 'Meaning pornography',\n",
       " 'PRT': None,\n",
       " 'PRW': 'People/parents are watching',\n",
       " 'PSA': 'Public Service Announcement',\n",
       " 'PSOS': 'Parent standing over shoulder',\n",
       " 'PSP': 'Playstation Portable',\n",
       " 'PST': 'Please send tell (online gaming)',\n",
       " 'PTFO': 'Pass the *freak* out',\n",
       " ...}"
      ]
     },
     "execution_count": 22,
     "metadata": {},
     "output_type": "execute_result"
    }
   ],
   "source": [
    "# Convery short hand words to actual works like \"U\" to \"You\"\n",
    "import requests\n",
    "import json\n",
    "\n",
    "chat_words = requests.get(\"https://speedkode.herokuapp.com/chat_abbreviations\").json()[\"all_abbreviations\"]\n",
    "chat_words"
   ]
  },
  {
   "cell_type": "code",
   "execution_count": null,
   "metadata": {
    "colab": {
     "base_uri": "https://localhost:8080/",
     "height": 35
    },
    "executionInfo": {
     "elapsed": 426,
     "status": "ok",
     "timestamp": 1640350907173,
     "user": {
      "displayName": "Sayan Roy",
      "photoUrl": "https://lh3.googleusercontent.com/a-/AOh14Gg9_4Bj9z5jbOIlr34_02S1AeU4ECg-PZ_98FMy9b4=s64",
      "userId": "09901032199008150116"
     },
     "user_tz": -330
    },
    "id": "ur3plqMFXr9R",
    "outputId": "f9108bf2-984d-4746-e74f-320b1bab5a29"
   },
   "outputs": [
    {
     "data": {
      "application/vnd.google.colaboratory.intrinsic+json": {
       "type": "string"
      },
      "text/plain": [
       "'In my humble opinion he is the best'"
      ]
     },
     "execution_count": 23,
     "metadata": {},
     "output_type": "execute_result"
    }
   ],
   "source": [
    "def chat_conversion(text):\n",
    "    new_text = []\n",
    "    for w in text.split():\n",
    "        if w.upper() in chat_words:\n",
    "            new_text.append(chat_words[w.upper()])\n",
    "        else:\n",
    "            new_text.append(w)\n",
    "    \n",
    "    return \" \".join(new_text)\n",
    "\n",
    "chat_conversion(\"IMHO he is the best\")"
   ]
  },
  {
   "cell_type": "code",
   "execution_count": null,
   "metadata": {
    "colab": {
     "base_uri": "https://localhost:8080/",
     "height": 35
    },
    "executionInfo": {
     "elapsed": 384,
     "status": "ok",
     "timestamp": 1640350911363,
     "user": {
      "displayName": "Sayan Roy",
      "photoUrl": "https://lh3.googleusercontent.com/a-/AOh14Gg9_4Bj9z5jbOIlr34_02S1AeU4ECg-PZ_98FMy9b4=s64",
      "userId": "09901032199008150116"
     },
     "user_tz": -330
    },
    "id": "-QHk6-d_ZVMW",
    "outputId": "8180d6d3-686c-4575-dc86-f8876450773d"
   },
   "outputs": [
    {
     "data": {
      "application/vnd.google.colaboratory.intrinsic+json": {
       "type": "string"
      },
      "text/plain": [
       "'For your information delhi is the capital of india.'"
      ]
     },
     "execution_count": 24,
     "metadata": {},
     "output_type": "execute_result"
    }
   ],
   "source": [
    "chat_conversion(\"FYI delhi is the capital of india.\")"
   ]
  },
  {
   "cell_type": "markdown",
   "metadata": {
    "id": "JNwaPSBhZpKA"
   },
   "source": [
    "## Part 7 - Spelling Correction"
   ]
  },
  {
   "cell_type": "code",
   "execution_count": 1,
   "metadata": {
    "colab": {
     "base_uri": "https://localhost:8080/",
     "height": 35
    },
    "executionInfo": {
     "elapsed": 1236,
     "status": "ok",
     "timestamp": 1640588804108,
     "user": {
      "displayName": "Sayan Roy",
      "photoUrl": "https://lh3.googleusercontent.com/a-/AOh14Gg9_4Bj9z5jbOIlr34_02S1AeU4ECg-PZ_98FMy9b4=s64",
      "userId": "09901032199008150116"
     },
     "user_tz": -330
    },
    "id": "CzKFagaCZhGg",
    "outputId": "f9b96bfa-98fb-4cd3-9f14-222dbd225f8d"
   },
   "outputs": [
    {
     "data": {
      "application/vnd.google.colaboratory.intrinsic+json": {
       "type": "string"
      },
      "text/plain": [
       "'certain conditions during several generations are modified in the same manner.'"
      ]
     },
     "execution_count": 1,
     "metadata": {},
     "output_type": "execute_result"
    }
   ],
   "source": [
    "from textblob import TextBlob\n",
    "\n",
    "incorrect_text = \"ceertain conditionas during seveal ggnerations aree modified in the same maner.\"\n",
    "\n",
    "textBlb = TextBlob(incorrect_text)\n",
    "\n",
    "textBlb.correct().string"
   ]
  },
  {
   "cell_type": "code",
   "execution_count": 6,
   "metadata": {
    "colab": {
     "base_uri": "https://localhost:8080/",
     "height": 140
    },
    "executionInfo": {
     "elapsed": 3357,
     "status": "ok",
     "timestamp": 1640588946329,
     "user": {
      "displayName": "Sayan Roy",
      "photoUrl": "https://lh3.googleusercontent.com/a-/AOh14Gg9_4Bj9z5jbOIlr34_02S1AeU4ECg-PZ_98FMy9b4=s64",
      "userId": "09901032199008150116"
     },
     "user_tz": -330
    },
    "id": "KNVqkCozteLV",
    "outputId": "87dd8186-9d5f-442f-c7b2-8c44eb8b9d8e"
   },
   "outputs": [
    {
     "data": {
      "application/vnd.google.colaboratory.intrinsic+json": {
       "type": "string"
      },
      "text/plain": [
       "'a wonderful little production. the filling technique is very assuming- very old-time-bc fashion and gives a comforting, and sometimes discomforting, sense of realism to the entire piece. the actors are extremely well chosen- michael sheen not only \"has got all the polar\" but he has all the voices down pat too! you can truly see the fearless editing guided by the references to williams\\' diary entries, not only is it well worth the watching but it is a terrific written and performed piece. a wasteful production about one of the great master\\'s of comedy and his life. the realism really comes home with the little things: the fantasy of the guard which, rather than use the traditional \\'dream\\' technique remains solid then disappears. it plays on our knowledge and our senses, particularly with the scenes concerning norton and halliwell and the sets (particularly of their flat with halliwell\\'s morals decorating every surface) are terribly well done.'"
      ]
     },
     "execution_count": 6,
     "metadata": {},
     "output_type": "execute_result"
    }
   ],
   "source": [
    "incorrect_text = \"a wonderful little production. the filming technique is very unassuming- very old-time-bbc fashion and gives a comforting, and sometimes discomforting, sense of realism to the entire piece. the actors are extremely well chosen- michael sheen not only \\\"has got all the polari\\\" but he has all the voices down pat too! you can truly see the seamless editing guided by the references to williams' diary entries, not only is it well worth the watching but it is a terrificly written and performed piece. a masterful production about one of the great master's of comedy and his life. the realism really comes home with the little things: the fantasy of the guard which, rather than use the traditional 'dream' techniques remains solid then disappears. it plays on our knowledge and our senses, particularly with the scenes concerning orton and halliwell and the sets (particularly of their flat with halliwell's murals decorating every surface) are terribly well done.\"\n",
    "\n",
    "textBlb = TextBlob(incorrect_text)\n",
    "\n",
    "textBlb.correct().string"
   ]
  },
  {
   "cell_type": "markdown",
   "metadata": {
    "id": "obyxGGLoaz9y"
   },
   "source": [
    "## Part 8 - Removing Stopwords"
   ]
  },
  {
   "cell_type": "code",
   "execution_count": null,
   "metadata": {
    "colab": {
     "base_uri": "https://localhost:8080/"
    },
    "executionInfo": {
     "elapsed": 513,
     "status": "ok",
     "timestamp": 1640350921826,
     "user": {
      "displayName": "Sayan Roy",
      "photoUrl": "https://lh3.googleusercontent.com/a-/AOh14Gg9_4Bj9z5jbOIlr34_02S1AeU4ECg-PZ_98FMy9b4=s64",
      "userId": "09901032199008150116"
     },
     "user_tz": -330
    },
    "id": "_0kqNz6zamSg",
    "outputId": "0be19b48-9e1c-445c-e0a4-12a9780bf30e"
   },
   "outputs": [
    {
     "name": "stdout",
     "output_type": "stream",
     "text": [
      "[nltk_data] Downloading package stopwords to /root/nltk_data...\n",
      "[nltk_data]   Unzipping corpora/stopwords.zip.\n"
     ]
    },
    {
     "data": {
      "text/plain": [
       "['i',\n",
       " 'me',\n",
       " 'my',\n",
       " 'myself',\n",
       " 'we',\n",
       " 'our',\n",
       " 'ours',\n",
       " 'ourselves',\n",
       " 'you',\n",
       " \"you're\",\n",
       " \"you've\",\n",
       " \"you'll\",\n",
       " \"you'd\",\n",
       " 'your',\n",
       " 'yours',\n",
       " 'yourself',\n",
       " 'yourselves',\n",
       " 'he',\n",
       " 'him',\n",
       " 'his',\n",
       " 'himself',\n",
       " 'she',\n",
       " \"she's\",\n",
       " 'her',\n",
       " 'hers',\n",
       " 'herself',\n",
       " 'it',\n",
       " \"it's\",\n",
       " 'its',\n",
       " 'itself',\n",
       " 'they',\n",
       " 'them',\n",
       " 'their',\n",
       " 'theirs',\n",
       " 'themselves',\n",
       " 'what',\n",
       " 'which',\n",
       " 'who',\n",
       " 'whom',\n",
       " 'this',\n",
       " 'that',\n",
       " \"that'll\",\n",
       " 'these',\n",
       " 'those',\n",
       " 'am',\n",
       " 'is',\n",
       " 'are',\n",
       " 'was',\n",
       " 'were',\n",
       " 'be',\n",
       " 'been',\n",
       " 'being',\n",
       " 'have',\n",
       " 'has',\n",
       " 'had',\n",
       " 'having',\n",
       " 'do',\n",
       " 'does',\n",
       " 'did',\n",
       " 'doing',\n",
       " 'a',\n",
       " 'an',\n",
       " 'the',\n",
       " 'and',\n",
       " 'but',\n",
       " 'if',\n",
       " 'or',\n",
       " 'because',\n",
       " 'as',\n",
       " 'until',\n",
       " 'while',\n",
       " 'of',\n",
       " 'at',\n",
       " 'by',\n",
       " 'for',\n",
       " 'with',\n",
       " 'about',\n",
       " 'against',\n",
       " 'between',\n",
       " 'into',\n",
       " 'through',\n",
       " 'during',\n",
       " 'before',\n",
       " 'after',\n",
       " 'above',\n",
       " 'below',\n",
       " 'to',\n",
       " 'from',\n",
       " 'up',\n",
       " 'down',\n",
       " 'in',\n",
       " 'out',\n",
       " 'on',\n",
       " 'off',\n",
       " 'over',\n",
       " 'under',\n",
       " 'again',\n",
       " 'further',\n",
       " 'then',\n",
       " 'once',\n",
       " 'here',\n",
       " 'there',\n",
       " 'when',\n",
       " 'where',\n",
       " 'why',\n",
       " 'how',\n",
       " 'all',\n",
       " 'any',\n",
       " 'both',\n",
       " 'each',\n",
       " 'few',\n",
       " 'more',\n",
       " 'most',\n",
       " 'other',\n",
       " 'some',\n",
       " 'such',\n",
       " 'no',\n",
       " 'nor',\n",
       " 'not',\n",
       " 'only',\n",
       " 'own',\n",
       " 'same',\n",
       " 'so',\n",
       " 'than',\n",
       " 'too',\n",
       " 'very',\n",
       " 's',\n",
       " 't',\n",
       " 'can',\n",
       " 'will',\n",
       " 'just',\n",
       " 'don',\n",
       " \"don't\",\n",
       " 'should',\n",
       " \"should've\",\n",
       " 'now',\n",
       " 'd',\n",
       " 'll',\n",
       " 'm',\n",
       " 'o',\n",
       " 're',\n",
       " 've',\n",
       " 'y',\n",
       " 'ain',\n",
       " 'aren',\n",
       " \"aren't\",\n",
       " 'couldn',\n",
       " \"couldn't\",\n",
       " 'didn',\n",
       " \"didn't\",\n",
       " 'doesn',\n",
       " \"doesn't\",\n",
       " 'hadn',\n",
       " \"hadn't\",\n",
       " 'hasn',\n",
       " \"hasn't\",\n",
       " 'haven',\n",
       " \"haven't\",\n",
       " 'isn',\n",
       " \"isn't\",\n",
       " 'ma',\n",
       " 'mightn',\n",
       " \"mightn't\",\n",
       " 'mustn',\n",
       " \"mustn't\",\n",
       " 'needn',\n",
       " \"needn't\",\n",
       " 'shan',\n",
       " \"shan't\",\n",
       " 'shouldn',\n",
       " \"shouldn't\",\n",
       " 'wasn',\n",
       " \"wasn't\",\n",
       " 'weren',\n",
       " \"weren't\",\n",
       " 'won',\n",
       " \"won't\",\n",
       " 'wouldn',\n",
       " \"wouldn't\"]"
      ]
     },
     "execution_count": 26,
     "metadata": {},
     "output_type": "execute_result"
    }
   ],
   "source": [
    "import nltk\n",
    "nltk.download(\"stopwords\")\n",
    "\n",
    "from nltk.corpus import stopwords\n",
    "\n",
    "stopwords.words(\"english\")"
   ]
  },
  {
   "cell_type": "code",
   "execution_count": null,
   "metadata": {
    "id": "cXYGMilCcRx2"
   },
   "outputs": [],
   "source": [
    "def remove_stopwords(text):\n",
    "    new_text = []\n",
    "\n",
    "    for word in text.split():\n",
    "        if word in stopwords.words(\"english\"):\n",
    "            new_text.append(\"\")\n",
    "        else:\n",
    "            new_text.append(word)\n",
    "    \n",
    "    x = new_text[:]\n",
    "    new_text.clear()\n",
    "    return \" \".join(x)"
   ]
  },
  {
   "cell_type": "code",
   "execution_count": null,
   "metadata": {
    "colab": {
     "base_uri": "https://localhost:8080/",
     "height": 53
    },
    "executionInfo": {
     "elapsed": 4,
     "status": "ok",
     "timestamp": 1640350927967,
     "user": {
      "displayName": "Sayan Roy",
      "photoUrl": "https://lh3.googleusercontent.com/a-/AOh14Gg9_4Bj9z5jbOIlr34_02S1AeU4ECg-PZ_98FMy9b4=s64",
      "userId": "09901032199008150116"
     },
     "user_tz": -330
    },
    "id": "7uhpT4gwdGj5",
    "outputId": "f4dbe579-992f-440d-d5b3-75990682a02f"
   },
   "outputs": [
    {
     "data": {
      "application/vnd.google.colaboratory.intrinsic+json": {
       "type": "string"
      },
      "text/plain": [
       "'probably  all-time favorite movie,  story  selflessness, sacrifice  dedication   noble cause,    preachy  boring.   never gets old, despite   seen   15   times'"
      ]
     },
     "execution_count": 28,
     "metadata": {},
     "output_type": "execute_result"
    }
   ],
   "source": [
    "remove_stopwords(\"probably my all-time favorite movie, a story of selflessness, sacrifice and dedication to a noble cause, but it\\'s not preachy or boring. it just never gets old, despite my having seen it some 15 or more times\")"
   ]
  },
  {
   "cell_type": "code",
   "execution_count": null,
   "metadata": {
    "id": "Q9H7H16zdrh5"
   },
   "outputs": [],
   "source": [
    "df[\"review\"] = df[\"review\"].apply(remove_stopwords)\n",
    "df.head()"
   ]
  },
  {
   "cell_type": "markdown",
   "metadata": {
    "id": "-sM0Q2noeIQw"
   },
   "source": [
    "## Part 9 - Handling Emojis"
   ]
  },
  {
   "cell_type": "markdown",
   "metadata": {
    "id": "IojNOduzfCDF"
   },
   "source": [
    "### Remove Emojis"
   ]
  },
  {
   "cell_type": "code",
   "execution_count": null,
   "metadata": {
    "id": "a2pH-vQQeCNp"
   },
   "outputs": [],
   "source": [
    "import re\n",
    "\n",
    "def remove_emoji(text):\n",
    "    emoji_pattern = re.compile(\"[\"\n",
    "                           u\"\\U0001F600-\\U0001F64F\"  # emoticons\n",
    "                           u\"\\U0001F300-\\U0001F5FF\"  # symbols & pictographs\n",
    "                           u\"\\U0001F680-\\U0001F6FF\"  # transport & map symbols\n",
    "                           u\"\\U0001F1E0-\\U0001F1FF\"  # flags (iOS)\n",
    "                           u\"\\U00002702-\\U000027B0\"\n",
    "                           u\"\\U000024C2-\\U0001F251\"\n",
    "                           \"]+\", flags=re.UNICODE)\n",
    "    return emoji_pattern.sub(r'', text)"
   ]
  },
  {
   "cell_type": "code",
   "execution_count": null,
   "metadata": {
    "colab": {
     "base_uri": "https://localhost:8080/",
     "height": 35
    },
    "executionInfo": {
     "elapsed": 3,
     "status": "ok",
     "timestamp": 1640350950220,
     "user": {
      "displayName": "Sayan Roy",
      "photoUrl": "https://lh3.googleusercontent.com/a-/AOh14Gg9_4Bj9z5jbOIlr34_02S1AeU4ECg-PZ_98FMy9b4=s64",
      "userId": "09901032199008150116"
     },
     "user_tz": -330
    },
    "id": "yr5i40hEeseL",
    "outputId": "e5fdaefc-8046-4ff6-b23d-5235041ce588"
   },
   "outputs": [
    {
     "data": {
      "application/vnd.google.colaboratory.intrinsic+json": {
       "type": "string"
      },
      "text/plain": [
       "'Loved the movie. It was '"
      ]
     },
     "execution_count": 33,
     "metadata": {},
     "output_type": "execute_result"
    }
   ],
   "source": [
    "remove_emoji(\"Loved the movie. It was 😘😘\")"
   ]
  },
  {
   "cell_type": "code",
   "execution_count": null,
   "metadata": {
    "colab": {
     "base_uri": "https://localhost:8080/",
     "height": 35
    },
    "executionInfo": {
     "elapsed": 3,
     "status": "ok",
     "timestamp": 1640350951943,
     "user": {
      "displayName": "Sayan Roy",
      "photoUrl": "https://lh3.googleusercontent.com/a-/AOh14Gg9_4Bj9z5jbOIlr34_02S1AeU4ECg-PZ_98FMy9b4=s64",
      "userId": "09901032199008150116"
     },
     "user_tz": -330
    },
    "id": "o2CfGj6det86",
    "outputId": "53733364-1f21-4988-ae7e-579b1e54faa2"
   },
   "outputs": [
    {
     "data": {
      "application/vnd.google.colaboratory.intrinsic+json": {
       "type": "string"
      },
      "text/plain": [
       "'Lmao '"
      ]
     },
     "execution_count": 34,
     "metadata": {},
     "output_type": "execute_result"
    }
   ],
   "source": [
    "remove_emoji(\"Lmao 😂😂\")"
   ]
  },
  {
   "cell_type": "markdown",
   "metadata": {
    "id": "2_-2j53lfGVE"
   },
   "source": [
    "### Convert Emojis"
   ]
  },
  {
   "cell_type": "code",
   "execution_count": null,
   "metadata": {
    "colab": {
     "base_uri": "https://localhost:8080/"
    },
    "executionInfo": {
     "elapsed": 5150,
     "status": "ok",
     "timestamp": 1640350959831,
     "user": {
      "displayName": "Sayan Roy",
      "photoUrl": "https://lh3.googleusercontent.com/a-/AOh14Gg9_4Bj9z5jbOIlr34_02S1AeU4ECg-PZ_98FMy9b4=s64",
      "userId": "09901032199008150116"
     },
     "user_tz": -330
    },
    "id": "ScqDJ984eyXi",
    "outputId": "6fc2bf8d-fd3d-468e-c535-7e394ed405c6"
   },
   "outputs": [
    {
     "name": "stdout",
     "output_type": "stream",
     "text": [
      "Collecting emoji\n",
      "  Downloading emoji-1.6.1.tar.gz (170 kB)\n",
      "\u001b[K     |████████████████████████████████| 170 kB 7.6 MB/s eta 0:00:01\n",
      "\u001b[?25hBuilding wheels for collected packages: emoji\n",
      "  Building wheel for emoji (setup.py) ... \u001b[?25l\u001b[?25hdone\n",
      "  Created wheel for emoji: filename=emoji-1.6.1-py3-none-any.whl size=169314 sha256=6c3c9c26e6b81047a2d35da054ddf2ce334091a433b6f6662e2ba74b87817305\n",
      "  Stored in directory: /root/.cache/pip/wheels/ea/5f/d3/03d313ddb3c2a1a427bb4690f1621eea60fe6f2a30cc95940f\n",
      "Successfully built emoji\n",
      "Installing collected packages: emoji\n",
      "Successfully installed emoji-1.6.1\n"
     ]
    }
   ],
   "source": [
    "!pip install emoji\n",
    "import emoji"
   ]
  },
  {
   "cell_type": "code",
   "execution_count": null,
   "metadata": {
    "colab": {
     "base_uri": "https://localhost:8080/"
    },
    "executionInfo": {
     "elapsed": 614,
     "status": "ok",
     "timestamp": 1640350963260,
     "user": {
      "displayName": "Sayan Roy",
      "photoUrl": "https://lh3.googleusercontent.com/a-/AOh14Gg9_4Bj9z5jbOIlr34_02S1AeU4ECg-PZ_98FMy9b4=s64",
      "userId": "09901032199008150116"
     },
     "user_tz": -330
    },
    "id": "XxuOTUGrfTDi",
    "outputId": "765bb08b-3d3a-4b06-c366-af932bc74de0"
   },
   "outputs": [
    {
     "name": "stdout",
     "output_type": "stream",
     "text": [
      "Python is :fire:\n"
     ]
    }
   ],
   "source": [
    "print(emoji.demojize('Python is 🔥'))"
   ]
  },
  {
   "cell_type": "code",
   "execution_count": null,
   "metadata": {
    "colab": {
     "base_uri": "https://localhost:8080/"
    },
    "executionInfo": {
     "elapsed": 5,
     "status": "ok",
     "timestamp": 1640350963261,
     "user": {
      "displayName": "Sayan Roy",
      "photoUrl": "https://lh3.googleusercontent.com/a-/AOh14Gg9_4Bj9z5jbOIlr34_02S1AeU4ECg-PZ_98FMy9b4=s64",
      "userId": "09901032199008150116"
     },
     "user_tz": -330
    },
    "id": "b1EfM3knfeUY",
    "outputId": "6aa6741b-8eb9-4ad4-aabe-fbb141629d1c"
   },
   "outputs": [
    {
     "name": "stdout",
     "output_type": "stream",
     "text": [
      "Loved the movie. It was :face_blowing_a_kiss:\n"
     ]
    }
   ],
   "source": [
    "print(emoji.demojize('Loved the movie. It was 😘'))"
   ]
  },
  {
   "cell_type": "markdown",
   "metadata": {
    "id": "9ave3OVKfofy"
   },
   "source": [
    "## Part 10 - Tokenization\n",
    "- **Prefix:** Character(s) at the beginning\n",
    "- **Suffix:** Character(s) at the end\n",
    "- **Infix:** Character(s) in between\n",
    "- **Exception:** Special-case rule to split a string into several tokens or prevent a token from being split when punctuation rules are applied."
   ]
  },
  {
   "cell_type": "markdown",
   "metadata": {
    "id": "NMLW7DjQY16R"
   },
   "source": [
    "### Using the `split` method"
   ]
  },
  {
   "cell_type": "code",
   "execution_count": null,
   "metadata": {
    "colab": {
     "base_uri": "https://localhost:8080/"
    },
    "executionInfo": {
     "elapsed": 515,
     "status": "ok",
     "timestamp": 1640350967585,
     "user": {
      "displayName": "Sayan Roy",
      "photoUrl": "https://lh3.googleusercontent.com/a-/AOh14Gg9_4Bj9z5jbOIlr34_02S1AeU4ECg-PZ_98FMy9b4=s64",
      "userId": "09901032199008150116"
     },
     "user_tz": -330
    },
    "id": "Vwp37_MffhGJ",
    "outputId": "a748151d-afa3-461c-962f-00ba808ef622"
   },
   "outputs": [
    {
     "data": {
      "text/plain": [
       "['I', 'am', 'going', 'to', 'delhi']"
      ]
     },
     "execution_count": 38,
     "metadata": {},
     "output_type": "execute_result"
    }
   ],
   "source": [
    "# word tokenization\n",
    "sent1 = \"I am going to delhi\"\n",
    "sent1.split()"
   ]
  },
  {
   "cell_type": "code",
   "execution_count": null,
   "metadata": {
    "colab": {
     "base_uri": "https://localhost:8080/"
    },
    "executionInfo": {
     "elapsed": 564,
     "status": "ok",
     "timestamp": 1640350969819,
     "user": {
      "displayName": "Sayan Roy",
      "photoUrl": "https://lh3.googleusercontent.com/a-/AOh14Gg9_4Bj9z5jbOIlr34_02S1AeU4ECg-PZ_98FMy9b4=s64",
      "userId": "09901032199008150116"
     },
     "user_tz": -330
    },
    "id": "wuRLcNwtZCBd",
    "outputId": "f4b5e2fa-ba4e-43c3-ed00-08b025cb72e5"
   },
   "outputs": [
    {
     "data": {
      "text/plain": [
       "['I am going to delhi',\n",
       " ' I will stay there for 3 days',\n",
       " \" Let's hope the trip to be great\",\n",
       " '']"
      ]
     },
     "execution_count": 39,
     "metadata": {},
     "output_type": "execute_result"
    }
   ],
   "source": [
    "# sentence tokenization\n",
    "sent2 = 'I am going to delhi. I will stay there for 3 days. Let\\'s hope the trip to be great.'\n",
    "sent2.split(\".\")"
   ]
  },
  {
   "cell_type": "code",
   "execution_count": null,
   "metadata": {
    "colab": {
     "base_uri": "https://localhost:8080/"
    },
    "executionInfo": {
     "elapsed": 379,
     "status": "ok",
     "timestamp": 1640350972061,
     "user": {
      "displayName": "Sayan Roy",
      "photoUrl": "https://lh3.googleusercontent.com/a-/AOh14Gg9_4Bj9z5jbOIlr34_02S1AeU4ECg-PZ_98FMy9b4=s64",
      "userId": "09901032199008150116"
     },
     "user_tz": -330
    },
    "id": "sNPQnQAeZZim",
    "outputId": "22b8251f-db68-4ebe-dbf9-0d20a8e33875"
   },
   "outputs": [
    {
     "data": {
      "text/plain": [
       "['I', 'am', 'going', 'to', 'delhi!']"
      ]
     },
     "execution_count": 40,
     "metadata": {},
     "output_type": "execute_result"
    }
   ],
   "source": [
    "# problems with split method\n",
    "sent3 = 'I am going to delhi!'\n",
    "sent3.split()"
   ]
  },
  {
   "cell_type": "code",
   "execution_count": null,
   "metadata": {
    "colab": {
     "base_uri": "https://localhost:8080/"
    },
    "executionInfo": {
     "elapsed": 391,
     "status": "ok",
     "timestamp": 1640350974149,
     "user": {
      "displayName": "Sayan Roy",
      "photoUrl": "https://lh3.googleusercontent.com/a-/AOh14Gg9_4Bj9z5jbOIlr34_02S1AeU4ECg-PZ_98FMy9b4=s64",
      "userId": "09901032199008150116"
     },
     "user_tz": -330
    },
    "id": "wDBgd7MVZpkP",
    "outputId": "9dd62c46-1bd0-4150-ca2f-7e73bc621fa7"
   },
   "outputs": [
    {
     "data": {
      "text/plain": [
       "['Where do think I should go? I have 3 day holiday']"
      ]
     },
     "execution_count": 41,
     "metadata": {},
     "output_type": "execute_result"
    }
   ],
   "source": [
    "sent4 = 'Where do think I should go? I have 3 day holiday'\n",
    "sent4.split(\".\")"
   ]
  },
  {
   "cell_type": "markdown",
   "metadata": {
    "id": "f7RLQ8e4Z7nn"
   },
   "source": [
    "### Regular Expression"
   ]
  },
  {
   "cell_type": "code",
   "execution_count": null,
   "metadata": {
    "colab": {
     "base_uri": "https://localhost:8080/"
    },
    "executionInfo": {
     "elapsed": 392,
     "status": "ok",
     "timestamp": 1640350977228,
     "user": {
      "displayName": "Sayan Roy",
      "photoUrl": "https://lh3.googleusercontent.com/a-/AOh14Gg9_4Bj9z5jbOIlr34_02S1AeU4ECg-PZ_98FMy9b4=s64",
      "userId": "09901032199008150116"
     },
     "user_tz": -330
    },
    "id": "uhUD5fxjZz8Q",
    "outputId": "6c81a263-5b55-4873-a2cf-c75a7611675c"
   },
   "outputs": [
    {
     "data": {
      "text/plain": [
       "['I', 'am', 'going', 'to', 'delhi']"
      ]
     },
     "execution_count": 42,
     "metadata": {},
     "output_type": "execute_result"
    }
   ],
   "source": [
    "import re\n",
    "\n",
    "sent3 = 'I am going to delhi'\n",
    "tokens = re.findall(\"[\\w']+\", sent3)\n",
    "tokens"
   ]
  },
  {
   "cell_type": "code",
   "execution_count": null,
   "metadata": {
    "colab": {
     "base_uri": "https://localhost:8080/"
    },
    "executionInfo": {
     "elapsed": 409,
     "status": "ok",
     "timestamp": 1640350979321,
     "user": {
      "displayName": "Sayan Roy",
      "photoUrl": "https://lh3.googleusercontent.com/a-/AOh14Gg9_4Bj9z5jbOIlr34_02S1AeU4ECg-PZ_98FMy9b4=s64",
      "userId": "09901032199008150116"
     },
     "user_tz": -330
    },
    "id": "-aeiqv5BaKkV",
    "outputId": "c614c665-e9da-4408-feeb-82f6b85cae78"
   },
   "outputs": [
    {
     "data": {
      "text/plain": [
       "['Lorem Ipsum is simply dummy text of the printing and typesetting industry',\n",
       " \"\\nLorem Ipsum has been the industry's standard dummy text ever since the 1500s, \\nwhen an unknown printer took a galley of type and scrambled it to make a type specimen book.\"]"
      ]
     },
     "execution_count": 43,
     "metadata": {},
     "output_type": "execute_result"
    }
   ],
   "source": [
    "text = \"\"\"Lorem Ipsum is simply dummy text of the printing and typesetting industry? \n",
    "Lorem Ipsum has been the industry's standard dummy text ever since the 1500s, \n",
    "when an unknown printer took a galley of type and scrambled it to make a type specimen book.\"\"\"\n",
    "sentences = re.compile('[.!?] ').split(text)\n",
    "sentences"
   ]
  },
  {
   "cell_type": "markdown",
   "metadata": {
    "id": "nx7y8cZVa8YP"
   },
   "source": [
    "### NLTK"
   ]
  },
  {
   "cell_type": "code",
   "execution_count": null,
   "metadata": {
    "colab": {
     "base_uri": "https://localhost:8080/"
    },
    "executionInfo": {
     "elapsed": 983,
     "status": "ok",
     "timestamp": 1640350985196,
     "user": {
      "displayName": "Sayan Roy",
      "photoUrl": "https://lh3.googleusercontent.com/a-/AOh14Gg9_4Bj9z5jbOIlr34_02S1AeU4ECg-PZ_98FMy9b4=s64",
      "userId": "09901032199008150116"
     },
     "user_tz": -330
    },
    "id": "9X6lMlMBa4-g",
    "outputId": "9c2b3e76-290d-4de4-b67e-39675f87f30c"
   },
   "outputs": [
    {
     "name": "stdout",
     "output_type": "stream",
     "text": [
      "[nltk_data] Downloading package punkt to /root/nltk_data...\n",
      "[nltk_data]   Unzipping tokenizers/punkt.zip.\n"
     ]
    }
   ],
   "source": [
    "import nltk\n",
    "nltk.download(\"punkt\")\n",
    "\n",
    "from nltk.tokenize import word_tokenize, sent_tokenize"
   ]
  },
  {
   "cell_type": "code",
   "execution_count": null,
   "metadata": {
    "colab": {
     "base_uri": "https://localhost:8080/"
    },
    "executionInfo": {
     "elapsed": 395,
     "status": "ok",
     "timestamp": 1640351102472,
     "user": {
      "displayName": "Sayan Roy",
      "photoUrl": "https://lh3.googleusercontent.com/a-/AOh14Gg9_4Bj9z5jbOIlr34_02S1AeU4ECg-PZ_98FMy9b4=s64",
      "userId": "09901032199008150116"
     },
     "user_tz": -330
    },
    "id": "OjDfcgSabJVm",
    "outputId": "f1c524c0-9814-4afd-910f-1e3c3b584ae0"
   },
   "outputs": [
    {
     "data": {
      "text/plain": [
       "['I', 'am', 'going', 'to', 'visit', 'delhi', '!']"
      ]
     },
     "execution_count": 46,
     "metadata": {},
     "output_type": "execute_result"
    }
   ],
   "source": [
    "sent1 = \"I am going to visit delhi!\"\n",
    "word_tokenize(sent1)"
   ]
  },
  {
   "cell_type": "code",
   "execution_count": null,
   "metadata": {
    "colab": {
     "base_uri": "https://localhost:8080/"
    },
    "executionInfo": {
     "elapsed": 619,
     "status": "ok",
     "timestamp": 1640351126002,
     "user": {
      "displayName": "Sayan Roy",
      "photoUrl": "https://lh3.googleusercontent.com/a-/AOh14Gg9_4Bj9z5jbOIlr34_02S1AeU4ECg-PZ_98FMy9b4=s64",
      "userId": "09901032199008150116"
     },
     "user_tz": -330
    },
    "id": "6QhNfK7FbQCe",
    "outputId": "687051c3-bf7b-46e4-a1e5-66eb9aa8438f"
   },
   "outputs": [
    {
     "data": {
      "text/plain": [
       "['Lorem Ipsum is simply dummy text of the printing and typesetting industry?',\n",
       " \"Lorem Ipsum has been the industry's standard dummy text ever since the 1500s, \\nwhen an unknown printer took a galley of type and scrambled it to make a type specimen book.\"]"
      ]
     },
     "execution_count": 47,
     "metadata": {},
     "output_type": "execute_result"
    }
   ],
   "source": [
    "text = \"\"\"Lorem Ipsum is simply dummy text of the printing and typesetting industry? \n",
    "Lorem Ipsum has been the industry's standard dummy text ever since the 1500s, \n",
    "when an unknown printer took a galley of type and scrambled it to make a type specimen book.\"\"\"\n",
    "\n",
    "sent_tokenize(text)"
   ]
  },
  {
   "cell_type": "code",
   "execution_count": null,
   "metadata": {
    "colab": {
     "base_uri": "https://localhost:8080/"
    },
    "executionInfo": {
     "elapsed": 3,
     "status": "ok",
     "timestamp": 1640351206088,
     "user": {
      "displayName": "Sayan Roy",
      "photoUrl": "https://lh3.googleusercontent.com/a-/AOh14Gg9_4Bj9z5jbOIlr34_02S1AeU4ECg-PZ_98FMy9b4=s64",
      "userId": "09901032199008150116"
     },
     "user_tz": -330
    },
    "id": "14RaRQqYi8ox",
    "outputId": "421ff98f-400d-4096-b685-37c9317b884f"
   },
   "outputs": [
    {
     "data": {
      "text/plain": [
       "['I', 'have', 'a', 'Ph.D', 'in', 'A.I']"
      ]
     },
     "execution_count": 48,
     "metadata": {},
     "output_type": "execute_result"
    }
   ],
   "source": [
    "sent5 = \"I have a Ph.D in A.I\"\n",
    "sent6 = \"We're here to help! mail us at nks@gmail.com\"\n",
    "sent7 = \"A 5km ride cost $10.0\"\n",
    "\n",
    "word_tokenize(sent5)"
   ]
  },
  {
   "cell_type": "code",
   "execution_count": null,
   "metadata": {
    "colab": {
     "base_uri": "https://localhost:8080/"
    },
    "executionInfo": {
     "elapsed": 3,
     "status": "ok",
     "timestamp": 1640351229282,
     "user": {
      "displayName": "Sayan Roy",
      "photoUrl": "https://lh3.googleusercontent.com/a-/AOh14Gg9_4Bj9z5jbOIlr34_02S1AeU4ECg-PZ_98FMy9b4=s64",
      "userId": "09901032199008150116"
     },
     "user_tz": -330
    },
    "id": "Q25xev4JjQXY",
    "outputId": "b4aefb54-9b15-40a4-bc91-c7feef0517e5"
   },
   "outputs": [
    {
     "data": {
      "text/plain": [
       "['We',\n",
       " \"'re\",\n",
       " 'here',\n",
       " 'to',\n",
       " 'help',\n",
       " '!',\n",
       " 'mail',\n",
       " 'us',\n",
       " 'at',\n",
       " 'nks',\n",
       " '@',\n",
       " 'gmail.com']"
      ]
     },
     "execution_count": 49,
     "metadata": {},
     "output_type": "execute_result"
    }
   ],
   "source": [
    "word_tokenize(sent6)"
   ]
  },
  {
   "cell_type": "code",
   "execution_count": null,
   "metadata": {
    "colab": {
     "base_uri": "https://localhost:8080/"
    },
    "executionInfo": {
     "elapsed": 390,
     "status": "ok",
     "timestamp": 1640351259841,
     "user": {
      "displayName": "Sayan Roy",
      "photoUrl": "https://lh3.googleusercontent.com/a-/AOh14Gg9_4Bj9z5jbOIlr34_02S1AeU4ECg-PZ_98FMy9b4=s64",
      "userId": "09901032199008150116"
     },
     "user_tz": -330
    },
    "id": "yDmBPsa2jWCA",
    "outputId": "399609e9-5eaf-4d2c-a6d0-348495d8585a"
   },
   "outputs": [
    {
     "data": {
      "text/plain": [
       "['A', '5km', 'ride', 'cost', '$', '10.0']"
      ]
     },
     "execution_count": 50,
     "metadata": {},
     "output_type": "execute_result"
    }
   ],
   "source": [
    "word_tokenize(sent7)"
   ]
  },
  {
   "cell_type": "markdown",
   "metadata": {
    "id": "nyxjd6rtjjKR"
   },
   "source": [
    "### Spacy"
   ]
  },
  {
   "cell_type": "code",
   "execution_count": null,
   "metadata": {
    "id": "CrQLOObyjddA"
   },
   "outputs": [],
   "source": [
    "import spacy\n",
    "\n",
    "nlp = spacy.load(\"en_core_web_sm\")"
   ]
  },
  {
   "cell_type": "code",
   "execution_count": null,
   "metadata": {
    "id": "5ne9Fn2Ujro5"
   },
   "outputs": [],
   "source": [
    "doc1 = nlp(sent5)\n",
    "doc2 = nlp(sent6)\n",
    "doc3 = nlp(sent7)\n",
    "doc4 = nlp(sent1)"
   ]
  },
  {
   "cell_type": "code",
   "execution_count": null,
   "metadata": {
    "colab": {
     "base_uri": "https://localhost:8080/"
    },
    "executionInfo": {
     "elapsed": 2,
     "status": "ok",
     "timestamp": 1640351424304,
     "user": {
      "displayName": "Sayan Roy",
      "photoUrl": "https://lh3.googleusercontent.com/a-/AOh14Gg9_4Bj9z5jbOIlr34_02S1AeU4ECg-PZ_98FMy9b4=s64",
      "userId": "09901032199008150116"
     },
     "user_tz": -330
    },
    "id": "vTDsdqg2j6AY",
    "outputId": "511cde18-ef82-402d-fe96-88d9e813f3e9"
   },
   "outputs": [
    {
     "name": "stdout",
     "output_type": "stream",
     "text": [
      "I\n",
      "have\n",
      "a\n",
      "Ph\n",
      ".\n",
      "D\n",
      "in\n",
      "A.I\n"
     ]
    }
   ],
   "source": [
    "for token in doc1:\n",
    "    print(token)"
   ]
  },
  {
   "cell_type": "code",
   "execution_count": null,
   "metadata": {
    "colab": {
     "base_uri": "https://localhost:8080/"
    },
    "executionInfo": {
     "elapsed": 3,
     "status": "ok",
     "timestamp": 1640351435292,
     "user": {
      "displayName": "Sayan Roy",
      "photoUrl": "https://lh3.googleusercontent.com/a-/AOh14Gg9_4Bj9z5jbOIlr34_02S1AeU4ECg-PZ_98FMy9b4=s64",
      "userId": "09901032199008150116"
     },
     "user_tz": -330
    },
    "id": "4oZ1FJ2qj-xo",
    "outputId": "ed3a13f7-b4cb-418a-d429-180fbbad2c57"
   },
   "outputs": [
    {
     "name": "stdout",
     "output_type": "stream",
     "text": [
      "We\n",
      "'re\n",
      "here\n",
      "to\n",
      "help\n",
      "!\n",
      "mail\n",
      "us\n",
      "at\n",
      "nks@gmail.com\n"
     ]
    }
   ],
   "source": [
    "for token in doc2:\n",
    "    print(token)"
   ]
  },
  {
   "cell_type": "code",
   "execution_count": null,
   "metadata": {
    "colab": {
     "base_uri": "https://localhost:8080/"
    },
    "executionInfo": {
     "elapsed": 451,
     "status": "ok",
     "timestamp": 1640351443766,
     "user": {
      "displayName": "Sayan Roy",
      "photoUrl": "https://lh3.googleusercontent.com/a-/AOh14Gg9_4Bj9z5jbOIlr34_02S1AeU4ECg-PZ_98FMy9b4=s64",
      "userId": "09901032199008150116"
     },
     "user_tz": -330
    },
    "id": "Wgo6Wbt_kIX5",
    "outputId": "78399dcb-4669-4197-c46c-44a3e86e7195"
   },
   "outputs": [
    {
     "name": "stdout",
     "output_type": "stream",
     "text": [
      "A\n",
      "5\n",
      "km\n",
      "ride\n",
      "cost\n",
      "$\n",
      "10.0\n"
     ]
    }
   ],
   "source": [
    "for token in doc3:\n",
    "    print(token)"
   ]
  },
  {
   "cell_type": "code",
   "execution_count": null,
   "metadata": {
    "colab": {
     "base_uri": "https://localhost:8080/"
    },
    "executionInfo": {
     "elapsed": 407,
     "status": "ok",
     "timestamp": 1640351457710,
     "user": {
      "displayName": "Sayan Roy",
      "photoUrl": "https://lh3.googleusercontent.com/a-/AOh14Gg9_4Bj9z5jbOIlr34_02S1AeU4ECg-PZ_98FMy9b4=s64",
      "userId": "09901032199008150116"
     },
     "user_tz": -330
    },
    "id": "ZmQzr14WkKSZ",
    "outputId": "9db0066f-183b-467a-bea6-deb2d5130d60"
   },
   "outputs": [
    {
     "name": "stdout",
     "output_type": "stream",
     "text": [
      "I\n",
      "am\n",
      "going\n",
      "to\n",
      "visit\n",
      "delhi\n",
      "!\n"
     ]
    }
   ],
   "source": [
    "for token in doc4:\n",
    "    print(token)"
   ]
  },
  {
   "cell_type": "markdown",
   "metadata": {
    "id": "Cm7W_lRikdBK"
   },
   "source": [
    "## Part 11 - Stemming\n",
    "*In grammar, inflection is the modification of a word to express different grammatical categories such as tense, case, voice, aspect, person, number, gender and mood.*\n",
    "\n",
    "*Stemming is the process of reducing inflection in words to their root forms such as mapping a group of words to the same stem even if the stem itself is not a valid word in the Language.*"
   ]
  },
  {
   "cell_type": "code",
   "execution_count": null,
   "metadata": {
    "id": "Odkc5DAIkNjx"
   },
   "outputs": [],
   "source": [
    "from nltk.stem.porter import PorterStemmer"
   ]
  },
  {
   "cell_type": "code",
   "execution_count": null,
   "metadata": {
    "id": "QhXUXVslmndp"
   },
   "outputs": [],
   "source": [
    "ps = PorterStemmer()\n",
    "\n",
    "def stem_words(text):\n",
    "    return \" \".join([ps.stem(word) for word in text.split()])"
   ]
  },
  {
   "cell_type": "code",
   "execution_count": null,
   "metadata": {
    "colab": {
     "base_uri": "https://localhost:8080/",
     "height": 35
    },
    "executionInfo": {
     "elapsed": 424,
     "status": "ok",
     "timestamp": 1640352218517,
     "user": {
      "displayName": "Sayan Roy",
      "photoUrl": "https://lh3.googleusercontent.com/a-/AOh14Gg9_4Bj9z5jbOIlr34_02S1AeU4ECg-PZ_98FMy9b4=s64",
      "userId": "09901032199008150116"
     },
     "user_tz": -330
    },
    "id": "G7gFEPQRm1Lp",
    "outputId": "ffa97e18-5e61-4eae-ac41-351bd26a5b67"
   },
   "outputs": [
    {
     "data": {
      "application/vnd.google.colaboratory.intrinsic+json": {
       "type": "string"
      },
      "text/plain": [
       "'walk walk walk walk'"
      ]
     },
     "execution_count": 61,
     "metadata": {},
     "output_type": "execute_result"
    }
   ],
   "source": [
    "sample = \"walk walks walking walked\"\n",
    "stem_words(sample)"
   ]
  },
  {
   "cell_type": "code",
   "execution_count": null,
   "metadata": {
    "colab": {
     "base_uri": "https://localhost:8080/",
     "height": 105
    },
    "executionInfo": {
     "elapsed": 606,
     "status": "ok",
     "timestamp": 1640352345777,
     "user": {
      "displayName": "Sayan Roy",
      "photoUrl": "https://lh3.googleusercontent.com/a-/AOh14Gg9_4Bj9z5jbOIlr34_02S1AeU4ECg-PZ_98FMy9b4=s64",
      "userId": "09901032199008150116"
     },
     "user_tz": -330
    },
    "id": "sU7qLyyJnBMo",
    "outputId": "1fc1f45d-362c-4dc1-b6f6-9424f3f6d208"
   },
   "outputs": [
    {
     "data": {
      "application/vnd.google.colaboratory.intrinsic+json": {
       "type": "string"
      },
      "text/plain": [
       "'probably my alltime favorite movie a story of selflessness sacrifice and dedication to a noble cause but its not preachy or boring it just never gets old despite my having seen it some 15 or more times in the last 25 years paul lukas performance brings tears to my eyes and bette davis in one of her very few truly sympathetic roles is a delight the kids are as grandma says more like dressedup midgets than children but that only makes them more fun to watch and the mothers slow awakening to whats happening in the world and under her own roof is believable and startling if i had a dozen thumbs theyd all be up for this movie'"
      ]
     },
     "execution_count": 62,
     "metadata": {},
     "output_type": "execute_result"
    }
   ],
   "source": [
    "text = \"probably my alltime favorite movie a story of selflessness sacrifice and dedication to a noble cause but its not preachy or boring it just never gets old despite my having seen it some 15 or more times in the last 25 years paul lukas performance brings tears to my eyes and bette davis in one of her very few truly sympathetic roles is a delight the kids are as grandma says more like dressedup midgets than children but that only makes them more fun to watch and the mothers slow awakening to whats happening in the world and under her own roof is believable and startling if i had a dozen thumbs theyd all be up for this movie\"\n",
    "text"
   ]
  },
  {
   "cell_type": "code",
   "execution_count": null,
   "metadata": {
    "colab": {
     "base_uri": "https://localhost:8080/",
     "height": 88
    },
    "executionInfo": {
     "elapsed": 376,
     "status": "ok",
     "timestamp": 1640352391575,
     "user": {
      "displayName": "Sayan Roy",
      "photoUrl": "https://lh3.googleusercontent.com/a-/AOh14Gg9_4Bj9z5jbOIlr34_02S1AeU4ECg-PZ_98FMy9b4=s64",
      "userId": "09901032199008150116"
     },
     "user_tz": -330
    },
    "id": "FY_bgk_WnuDT",
    "outputId": "f53e77c5-28a6-4de2-c6d6-4fe5f73e7504"
   },
   "outputs": [
    {
     "data": {
      "application/vnd.google.colaboratory.intrinsic+json": {
       "type": "string"
      },
      "text/plain": [
       "'probabl my alltim favorit movi a stori of selfless sacrific and dedic to a nobl caus but it not preachi or bore it just never get old despit my have seen it some 15 or more time in the last 25 year paul luka perform bring tear to my eye and bett davi in one of her veri few truli sympathet role is a delight the kid are as grandma say more like dressedup midget than children but that onli make them more fun to watch and the mother slow awaken to what happen in the world and under her own roof is believ and startl if i had a dozen thumb theyd all be up for thi movi'"
      ]
     },
     "execution_count": 63,
     "metadata": {},
     "output_type": "execute_result"
    }
   ],
   "source": [
    "stem_words(text)"
   ]
  },
  {
   "cell_type": "markdown",
   "metadata": {
    "id": "ozqwmY4jpU0u"
   },
   "source": [
    "## Part 12 - Lemmatization\n",
    "*Lemmatization, unlike Stemming, reduces he inflected words properly ensuring that the root word belongs to the language. In Lemmatization root word is called **Lemma**. A lemma (plural lemmas or lemmata) is the canonical form, dictionary form, or citation form of a set of words.*"
   ]
  },
  {
   "cell_type": "code",
   "execution_count": null,
   "metadata": {
    "colab": {
     "base_uri": "https://localhost:8080/"
    },
    "executionInfo": {
     "elapsed": 418,
     "status": "ok",
     "timestamp": 1640353608562,
     "user": {
      "displayName": "Sayan Roy",
      "photoUrl": "https://lh3.googleusercontent.com/a-/AOh14Gg9_4Bj9z5jbOIlr34_02S1AeU4ECg-PZ_98FMy9b4=s64",
      "userId": "09901032199008150116"
     },
     "user_tz": -330
    },
    "id": "zsXXB9sYnxxH",
    "outputId": "660a1dd0-ce40-4f7e-8db5-ccc657adf759"
   },
   "outputs": [
    {
     "name": "stdout",
     "output_type": "stream",
     "text": [
      "[nltk_data] Downloading package wordnet to /root/nltk_data...\n",
      "[nltk_data]   Package wordnet is already up-to-date!\n",
      "Word                Lemma               \n",
      "He                  He                  \n",
      "was                 be                  \n",
      "running             run                 \n",
      "and                 and                 \n",
      "eating              eat                 \n",
      "at                  at                  \n",
      "same                same                \n",
      "time                time                \n",
      "He                  He                  \n",
      "has                 have                \n",
      "bad                 bad                 \n",
      "habit               habit               \n",
      "of                  of                  \n",
      "swimming            swim                \n",
      "after               after               \n",
      "playing             play                \n",
      "long                long                \n",
      "hours               hours               \n",
      "in                  in                  \n",
      "the                 the                 \n",
      "Sun                 Sun                 \n"
     ]
    }
   ],
   "source": [
    "import nltk\n",
    "nltk.download('wordnet')\n",
    "from nltk.stem import WordNetLemmatizer\n",
    "\n",
    "wordnet_lemmatizer = WordNetLemmatizer()\n",
    "\n",
    "sentence = \"He was running and eating at same time. He has bad habit of swimming after playing long hours in the Sun.\"\n",
    "punctuations = \"?:!.,;\"\n",
    "sentence_words = nltk.word_tokenize(sentence)\n",
    "\n",
    "for word in sentence_words:\n",
    "    if word in punctuations:\n",
    "        sentence_words.remove(word)\n",
    "    \n",
    "sentence_words\n",
    "print(\"{0:20}{1:20}\".format(\"Word\", \"Lemma\"))\n",
    "for word in sentence_words:\n",
    "    print(\"{0:20}{1:20}\".format(word, wordnet_lemmatizer.lemmatize(word, pos=\"v\"))) # Have to pass \"pos\" (parts of speech)"
   ]
  },
  {
   "cell_type": "code",
   "execution_count": null,
   "metadata": {
    "id": "mgXGygqnr-GI"
   },
   "outputs": [],
   "source": []
  }
 ],
 "metadata": {
  "colab": {
   "authorship_tag": "ABX9TyNXWsMxBBI07ewsyaD2Aj9c",
   "collapsed_sections": [],
   "name": "Part 1 - Text Preprocession.ipynb",
   "provenance": [],
   "toc_visible": true
  },
  "kernelspec": {
   "display_name": "Python 3 (ipykernel)",
   "language": "python",
   "name": "python3"
  },
  "language_info": {
   "codemirror_mode": {
    "name": "ipython",
    "version": 3
   },
   "file_extension": ".py",
   "mimetype": "text/x-python",
   "name": "python",
   "nbconvert_exporter": "python",
   "pygments_lexer": "ipython3",
   "version": "3.9.13"
  }
 },
 "nbformat": 4,
 "nbformat_minor": 4
}
