{
 "cells": [
  {
   "cell_type": "markdown",
   "id": "2c6fdd83-e3af-43dd-b1c5-feceacd90b1d",
   "metadata": {
    "tags": []
   },
   "source": [
    "# **Regex Note:**\n",
    "\n",
    "## <span id=\"index\">**Index:**</span>\n",
    "- [**Simple Regex Pattern**](#simple_regex_pattern)\n",
    "- [**Character Sets**](#character_sets)\n",
    "- [**Ranges**](#ranges)\n",
    "- [**Repeating Characters**](#repeating_characters)\n",
    "- [**Metacharacters**](#metacharacters)\n",
    "- [**Special Characters**](#special_characters)\n",
    "- [**Starting & Ending Pattern**](#starting_ending_pattern)\n",
    "- [**Alternate Characters**](#alternate_characters)\n",
    "- [**Some Examples**](#some_examples)\n",
    "\n",
    "**Important methods of the package `re`:**\n",
    "\n",
    "| method | description |\n",
    "| :--: | :-- |\n",
    "| findall | Returns a list containing all matches |\n",
    "| search | Returns a Match object if there is a match anywhere in the string |\n",
    "| split | Returns a list where the string has been split at each match |\n",
    "| sub | Replaces one or many matches with a string |\n",
    "\n",
    "Python regex allows optional flags to specify when using regular expression patterns with `match()`, `search()`, and `split()`, among others.\n",
    "\n",
    "| **Flag** | **Long Syntax** | **Description** |\n",
    "| :--: | :--: | :-- |\n",
    "| **re.A** | **re.ASCII** | Perform ASCII-only matching instead of full Unicode matching |\n",
    "| **re.I** | **re.IGNORECASE** | Perform case-insensitive matching |\n",
    "| **re.M** | **re.MULTILINE** | This flag is used with metacharacter `^` (caret) and `$` (dollar). When this flag is specified, the metacharacter `^` matches the pattern at beginning of the string and each newline's beginning (`\\n`). And the metacharacter `$` matches pattern at the end of the string and the end of each new line (`\\n`) |\n",
    "| **re.S** | **re.DOTALL** | Make the DOT (`.`) special character match any character at all, including a newline. Without this flag, DOT (`.`) will match anything except a newline |\n",
    "| **re.X** | **re.VERBOSE** | Allow comment in the regex. This flag is useful to make regex more readable by alllowing comments in the regex. |\n",
    "| **re.L** | **re.LOCALE** | Perform case-insensitive matching dependent on the current locale. Use only with bytes patterns. |\n",
    "\n",
    "*To specify more than one flag, use the `|` operator to connect them. For example, case insensitive searches in a multiline string*\n",
    "\n",
    "```python\n",
    "re.findall(pattern, string, flags=re.I|re.M|re.X)\n",
    "```\n",
    "\n",
    "## <span id=\"simple_regex_pattern\">[**Simple Regex Pattern:**](https://www.youtube.com/watch?v=uaepGvA-iK4&list=PL4cUxeGkcC9g6m_6Sld9Q4jzqdqHd2HiD&index=2)</span>\n",
    "\n",
    "[**Go to top**](#index)"
   ]
  },
  {
   "cell_type": "code",
   "execution_count": 1,
   "id": "c56408a7-f0a1-4f8e-98da-8fa4e2beb441",
   "metadata": {},
   "outputs": [],
   "source": [
    "import re\n",
    "\n",
    "def check_pattern(pattern: str, txt: str, flags=0) -> bool:\n",
    "    \"\"\"\n",
    "    Check one text/string matches the regex pattern or not. If the string is matched\n",
    "    with the pattern, print which are matched and return True. If it is not matched,\n",
    "    then return False.\n",
    "    \n",
    "    Parameters:\n",
    "        pattern: str, the regex pattern.\n",
    "        txt: the string\n",
    "        flags: flags; {re.A, re.I, re.M, re.S, re.X, re.L}\n",
    "        \n",
    "    Returns:\n",
    "        bool: True if the string is matched also False\n",
    "        \n",
    "    >>> pattern = r\"[0-9]{10}\"\n",
    "    >>> txt = \"987654321\"\n",
    "    >>> print(check_pattern(pattern, txt))\n",
    "        False\n",
    "    \"\"\"\n",
    "    pettern = re.compile(pattern)\n",
    "    result  = re.findall(pattern, txt, flags=flags)\n",
    "    \n",
    "    if len(result) > 0:\n",
    "        print(result)\n",
    "        return True\n",
    "    return False"
   ]
  },
  {
   "cell_type": "code",
   "execution_count": 2,
   "id": "9fa49e57-2e33-4554-a4a9-35950d6b7ff6",
   "metadata": {},
   "outputs": [
    {
     "name": "stdout",
     "output_type": "stream",
     "text": [
      "['data']\n"
     ]
    },
    {
     "data": {
      "text/plain": [
       "True"
      ]
     },
     "execution_count": 2,
     "metadata": {},
     "output_type": "execute_result"
    }
   ],
   "source": [
    "# This pattern only find the word from the given string/txt\n",
    "pattern = r\"data\"\n",
    "txt     = \"Sayan is a data scientist. DaTa is gold now a days.\"\n",
    "\n",
    "check_pattern(pattern, txt)"
   ]
  },
  {
   "cell_type": "code",
   "execution_count": 3,
   "id": "6312f652-2700-47a0-ae57-30cb7bc85fcf",
   "metadata": {},
   "outputs": [
    {
     "name": "stdout",
     "output_type": "stream",
     "text": [
      "['data', 'DaTa']\n"
     ]
    },
    {
     "data": {
      "text/plain": [
       "True"
      ]
     },
     "execution_count": 3,
     "metadata": {},
     "output_type": "execute_result"
    }
   ],
   "source": [
    "# This flag is for non-case sensitive.\n",
    "check_pattern(pattern, txt, flags=re.I)"
   ]
  },
  {
   "cell_type": "markdown",
   "id": "a0b415ba-5037-4472-9d6f-02b4c3362fd7",
   "metadata": {},
   "source": [
    "## <span id=\"character_sets\">[**Character Sets:**](https://www.youtube.com/watch?v=DC-zzUrg0Ws&list=PL4cUxeGkcC9g6m_6Sld9Q4jzqdqHd2HiD&index=3)</span>\n",
    "\n",
    "[**Go to top**](#index)"
   ]
  },
  {
   "cell_type": "code",
   "execution_count": 4,
   "id": "da3d1c1b-f3ab-4f32-bae3-096a17606f34",
   "metadata": {},
   "outputs": [
    {
     "name": "stdout",
     "output_type": "stream",
     "text": [
      "['data', 'Data', 'data']\n"
     ]
    },
    {
     "data": {
      "text/plain": [
       "True"
      ]
     },
     "execution_count": 4,
     "metadata": {},
     "output_type": "execute_result"
    }
   ],
   "source": [
    "# the [] tells that the word can be \"data\" or \"Data\" (without using the flags).\n",
    "# That's mean, the [] tells one of the character inside it will match the word.\n",
    "# This pattern only for \"Data\" or \"data\", will not match with \"Adata\".\n",
    "\n",
    "## This include some specific character sets\n",
    "\n",
    "pattern = r\"[dD]ata\"\n",
    "txt     = \"Sayan is a data scientist. Data is gold now a days. Adata is a good company.\"\n",
    "\n",
    "check_pattern(pattern, txt)"
   ]
  },
  {
   "cell_type": "code",
   "execution_count": 5,
   "id": "bf1f6988-e8b3-43f8-9ae4-a0c677add7e0",
   "metadata": {},
   "outputs": [
    {
     "name": "stdout",
     "output_type": "stream",
     "text": [
      "['data']\n"
     ]
    },
    {
     "data": {
      "text/plain": [
       "True"
      ]
     },
     "execution_count": 5,
     "metadata": {},
     "output_type": "execute_result"
    }
   ],
   "source": [
    "txt = \"Sayan is a data scientist. DaTa is gold now a days. \"\n",
    "\n",
    "check_pattern(pattern, txt)"
   ]
  },
  {
   "cell_type": "code",
   "execution_count": 6,
   "id": "218e6918-df29-4b78-9e95-35ee788f69f0",
   "metadata": {},
   "outputs": [
    {
     "name": "stdout",
     "output_type": "stream",
     "text": [
      "['a', 'b', '3']\n"
     ]
    },
    {
     "data": {
      "text/plain": [
       "True"
      ]
     },
     "execution_count": 6,
     "metadata": {},
     "output_type": "execute_result"
    }
   ],
   "source": [
    "# another example of include a specific character set\n",
    "pattern = r\"[abc123]\"\n",
    "txt     = \"ab3e\"\n",
    "\n",
    "check_pattern(pattern, txt)"
   ]
  },
  {
   "cell_type": "code",
   "execution_count": 7,
   "id": "abef2c77-7704-49e2-ab0a-9583ed567785",
   "metadata": {},
   "outputs": [
    {
     "name": "stdout",
     "output_type": "stream",
     "text": [
      "['a00', 'c00', 'r00', 'g00', 'h00']\n"
     ]
    },
    {
     "data": {
      "text/plain": [
       "True"
      ]
     },
     "execution_count": 7,
     "metadata": {},
     "output_type": "execute_result"
    }
   ],
   "source": [
    "## Include all the characters but exclude some of them\n",
    "pattern = r\"[^p]00\"\n",
    "text = \"a00c00 r00 g00p00 p00h00\"\n",
    "\n",
    "check_pattern(pattern, text)"
   ]
  },
  {
   "cell_type": "code",
   "execution_count": 8,
   "id": "50611cfa-9f72-49e2-8a8f-a5fbedae4415",
   "metadata": {},
   "outputs": [
    {
     "name": "stdout",
     "output_type": "stream",
     "text": [
      "['a00', 'c00', 'r00', 'h00']\n"
     ]
    },
    {
     "data": {
      "text/plain": [
       "True"
      ]
     },
     "execution_count": 8,
     "metadata": {},
     "output_type": "execute_result"
    }
   ],
   "source": [
    "# exclude multiple characters\n",
    "pattern = r\"[^pg]00\"\n",
    "\n",
    "check_pattern(pattern, text)"
   ]
  },
  {
   "cell_type": "markdown",
   "id": "db9dfa74-2bb0-4444-aa31-1b220e1c5315",
   "metadata": {},
   "source": [
    "## <span id=\"ranges\">[**Ranges**](https://www.youtube.com/watch?v=C_HTKPvXjEc&list=PL4cUxeGkcC9g6m_6Sld9Q4jzqdqHd2HiD&index=4)</span>\n",
    "\n",
    "[**Go to top**](#index)"
   ]
  },
  {
   "cell_type": "code",
   "execution_count": 9,
   "id": "8704c4e4-095c-4bfd-a277-c9cecb998225",
   "metadata": {},
   "outputs": [
    {
     "name": "stdout",
     "output_type": "stream",
     "text": [
      "['ninja', 'ginja', 'winja', 'zinja']\n"
     ]
    },
    {
     "data": {
      "text/plain": [
       "True"
      ]
     },
     "execution_count": 9,
     "metadata": {},
     "output_type": "execute_result"
    }
   ],
   "source": [
    "# what if you want to match _00 in which the _ can be any character?\n",
    "# For that, you can the below pattern.\n",
    "pattern = r\"[a-z]inja\"\n",
    "txt = \"ninja ginja winja zinja\"\n",
    "\n",
    "check_pattern(pattern, txt)"
   ]
  },
  {
   "cell_type": "code",
   "execution_count": 10,
   "id": "ad1622fe-b8e5-44b4-9bfb-6b3bc2e8e3b1",
   "metadata": {},
   "outputs": [
    {
     "name": "stdout",
     "output_type": "stream",
     "text": [
      "['Ninja', 'ginja', 'Winja', 'zinja', 'ninja']\n"
     ]
    },
    {
     "data": {
      "text/plain": [
       "True"
      ]
     },
     "execution_count": 10,
     "metadata": {},
     "output_type": "execute_result"
    }
   ],
   "source": [
    "# what if all the small letters and Capital letters without using the flags\n",
    "pattern = r\"[a-zA-Z]inja\"\n",
    "txt = \"Ninja ginja Winja zinja ninja\"\n",
    "\n",
    "check_pattern(pattern, txt)"
   ]
  },
  {
   "cell_type": "code",
   "execution_count": 11,
   "id": "ca38af52-bf61-4a3f-86a2-4c56b4405148",
   "metadata": {},
   "outputs": [
    {
     "name": "stdout",
     "output_type": "stream",
     "text": [
      "['0inja', '7inja']\n"
     ]
    },
    {
     "data": {
      "text/plain": [
       "True"
      ]
     },
     "execution_count": 11,
     "metadata": {},
     "output_type": "execute_result"
    }
   ],
   "source": [
    "# this can be done with numbers also.\n",
    "pattern = r\"[0-9]inja\"\n",
    "txt = \"0inja 7inja ninja\"\n",
    "\n",
    "check_pattern(pattern, txt)"
   ]
  },
  {
   "cell_type": "code",
   "execution_count": 12,
   "id": "b41a1a9b-983c-4060-8174-94c76b7ad1ef",
   "metadata": {},
   "outputs": [
    {
     "name": "stdout",
     "output_type": "stream",
     "text": [
      "['9876543210']\n"
     ]
    },
    {
     "data": {
      "text/plain": [
       "True"
      ]
     },
     "execution_count": 12,
     "metadata": {},
     "output_type": "execute_result"
    }
   ],
   "source": [
    "# create a regex pattern to check phone numbers\n",
    "pattern = r\"[0-9][0-9][0-9][0-9][0-9][0-9][0-9][0-9][0-9][0-9]\"\n",
    "txt1 = \"9876543210\"\n",
    "check_pattern(pattern, txt1)"
   ]
  },
  {
   "cell_type": "code",
   "execution_count": 13,
   "id": "40de7a59-ef69-4c64-adef-9da612f1c728",
   "metadata": {},
   "outputs": [
    {
     "data": {
      "text/plain": [
       "False"
      ]
     },
     "execution_count": 13,
     "metadata": {},
     "output_type": "execute_result"
    }
   ],
   "source": [
    "txt2 = \"987654321\"\n",
    "check_pattern(pattern, txt2)"
   ]
  },
  {
   "cell_type": "markdown",
   "id": "010a01a6-2397-437e-badb-85f71ab4db6c",
   "metadata": {},
   "source": [
    "## <span id=\"repeating_characters\">[**Repeating Characters**](https://www.youtube.com/watch?v=Dvb7eT36hMM&list=PL4cUxeGkcC9g6m_6Sld9Q4jzqdqHd2HiD&index=5)</span>\n",
    "\n",
    "[**Go to top**](#index)"
   ]
  },
  {
   "cell_type": "code",
   "execution_count": 14,
   "id": "7910499a-558f-452d-be03-200c79a7ced2",
   "metadata": {},
   "outputs": [
    {
     "name": "stdout",
     "output_type": "stream",
     "text": [
      "['9876543210']\n",
      "True\n",
      "['987654321']\n",
      "True\n"
     ]
    }
   ],
   "source": [
    "# For the phone number pattern, we have repeated the same pattern 10 times\n",
    "# to match. We can avoid that easily.\n",
    "### RULES:  ###\n",
    "# 1. \"+\" means the single unit pattern can repeate any number of times.\n",
    "#    \"+\" means atleast 1 times and can go up to infinity.\n",
    "# 2. To limit this, have to use {} brackets and inside it have to tell\n",
    "#    how many times it will repeat. Like ph number, it is 10. E.g., r\"[0-9]{10}\"\n",
    "\n",
    "pattern = r\"[0-9]+\"\n",
    "print(check_pattern(pattern, txt1))\n",
    "print(check_pattern(pattern, txt2))"
   ]
  },
  {
   "cell_type": "code",
   "execution_count": 15,
   "id": "ad773855-2dcd-4af3-b263-247294dff684",
   "metadata": {},
   "outputs": [
    {
     "name": "stdout",
     "output_type": "stream",
     "text": [
      "['9876543210']\n",
      "True\n",
      "\n",
      "False\n"
     ]
    }
   ],
   "source": [
    "pattern = r\"[0-9]{10}\"\n",
    "print(check_pattern(pattern, txt1), end=\"\\n\\n\")\n",
    "print(check_pattern(pattern, txt2))"
   ]
  },
  {
   "cell_type": "code",
   "execution_count": 16,
   "id": "11645d47-b36d-4809-a743-9be753ee1eb2",
   "metadata": {},
   "outputs": [
    {
     "name": "stdout",
     "output_type": "stream",
     "text": [
      "['Contr', 'popul', 'belie', 'Lorem', 'Ipsum', 'simpl', 'rando', 'roots', 'piece', 'class', 'Latin', 'liter', 'ature', 'makin', 'years']\n"
     ]
    },
    {
     "data": {
      "text/plain": [
       "True"
      ]
     },
     "execution_count": 16,
     "metadata": {},
     "output_type": "execute_result"
    }
   ],
   "source": [
    "# what if make a pattern that accepts only 5 letters long words.\n",
    "# See the behaviour. Those words which have more than 5 letters, \n",
    "# this pattern splits those words and accepts up to the first 5\n",
    "# letters. This pattern does not include the words which have less\n",
    "# than 5 letters.\n",
    "pattern = r\"[a-zA-Z]{5}\"\n",
    "text = \"\"\"Contrary to popular belief, Lorem Ipsum is not simply random text. It has roots \n",
    "in a piece of classical Latin literature from 45 BC, making it over 2000 years old.\"\"\"\n",
    "check_pattern(pattern, text)"
   ]
  },
  {
   "cell_type": "code",
   "execution_count": 17,
   "id": "8cdd4191-c3de-44d2-9f92-0933ca8f1003",
   "metadata": {},
   "outputs": [
    {
     "name": "stdout",
     "output_type": "stream",
     "text": [
      "['Contr', 'ary', 'popul', 'belie', 'Lorem', 'Ipsum', 'not', 'simpl', 'rando', 'text', 'has', 'roots', 'piece', 'class', 'ical', 'Latin', 'liter', 'ature', 'from', 'makin', 'over', 'years', 'old']\n"
     ]
    },
    {
     "data": {
      "text/plain": [
       "True"
      ]
     },
     "execution_count": 17,
     "metadata": {},
     "output_type": "execute_result"
    }
   ],
   "source": [
    "# what if we want those words which are 3 to 5 characters long? \n",
    "# There should be any white-space between the 3 and 5 like {3, 5}.\n",
    "# It is not allowed!!\n",
    "pattern = r\"[a-zA-Z]{3,5}\"\n",
    "check_pattern(pattern, text)"
   ]
  },
  {
   "cell_type": "code",
   "execution_count": 18,
   "id": "59371921-328b-495b-b29f-e0d16aa64a7b",
   "metadata": {},
   "outputs": [
    {
     "data": {
      "text/plain": [
       "False"
      ]
     },
     "execution_count": 18,
     "metadata": {},
     "output_type": "execute_result"
    }
   ],
   "source": [
    "pattern = r\"[a-zA-Z]{3, 5}\"\n",
    "check_pattern(pattern, text)"
   ]
  },
  {
   "cell_type": "code",
   "execution_count": 19,
   "id": "9632ae6c-a023-4f86-8dce-18d8838f9c71",
   "metadata": {},
   "outputs": [
    {
     "name": "stdout",
     "output_type": "stream",
     "text": [
      "['Contr', 'ary', 'popul', 'belie', 'Lorem', 'Ipsum', 'not', 'simpl', 'rando', 'text', 'has', 'roots', 'piece', 'class', 'ical', 'Latin', 'liter', 'ature', 'from', 'makin', 'over', '2000', 'years', 'old']\n"
     ]
    },
    {
     "data": {
      "text/plain": [
       "True"
      ]
     },
     "execution_count": 19,
     "metadata": {},
     "output_type": "execute_result"
    }
   ],
   "source": [
    "# what if you want to include that \"2000\" also in this list?\n",
    "pattern = r\"[a-zA-Z0-9]{3,5}\"\n",
    "check_pattern(pattern, text)"
   ]
  },
  {
   "cell_type": "code",
   "execution_count": 20,
   "id": "661c12ec-79b6-45c0-9d26-72163ba2c5d0",
   "metadata": {},
   "outputs": [
    {
     "name": "stdout",
     "output_type": "stream",
     "text": [
      "['Contrary', 'popular', 'belief', 'Lorem', 'Ipsum', 'simply', 'random', 'roots', 'piece', 'classical', 'Latin', 'literature', 'making', 'years']\n"
     ]
    },
    {
     "data": {
      "text/plain": [
       "True"
      ]
     },
     "execution_count": 20,
     "metadata": {},
     "output_type": "execute_result"
    }
   ],
   "source": [
    "# what if we need atleast 5 characters long words?\n",
    "pattern = r\"[a-zA-Z0-9]{5,}\"\n",
    "check_pattern(pattern, text)"
   ]
  },
  {
   "cell_type": "markdown",
   "id": "b43a83c9-d202-4583-afd8-84108b74a9a4",
   "metadata": {},
   "source": [
    "## <span id=\"metacharacters\">[**Metacharacters**](https://www.youtube.com/watch?v=MwzIRleH47o&list=PL4cUxeGkcC9g6m_6Sld9Q4jzqdqHd2HiD&index=6)</span>\n",
    "\n",
    "[**Go to top**](#index)"
   ]
  },
  {
   "cell_type": "markdown",
   "id": "a974cc78-4df7-4d28-9e5c-d5201a9c4601",
   "metadata": {},
   "source": [
    "- **`\\d` -** match any digit character (same as [0-9]). `d` matches the literal character.\n",
    "- **`\\w` -** match any word character (a-z, A-Z, 0-9 and _'s)\n",
    "- **`\\s` -** match a whitespace character (spaces, tabs etc)\n",
    "- **`\\t` -** match a tab character only\n",
    "- There are lots of more metacharacters. You can check it out from [here](https://www.w3schools.com/jsref/jsref_obj_regexp.asp)."
   ]
  },
  {
   "cell_type": "code",
   "execution_count": 21,
   "id": "045679c4-8e0a-4ec7-83c6-af2bf424d75d",
   "metadata": {},
   "outputs": [
    {
     "name": "stdout",
     "output_type": "stream",
     "text": [
      "9876543210\n",
      "['9', '8', '7', '6', '5', '4', '3', '2', '1', '0']\n"
     ]
    },
    {
     "data": {
      "text/plain": [
       "True"
      ]
     },
     "execution_count": 21,
     "metadata": {},
     "output_type": "execute_result"
    }
   ],
   "source": [
    "pattern = r\"\\d\"\n",
    "print(txt1)\n",
    "check_pattern(pattern, txt1)"
   ]
  },
  {
   "cell_type": "code",
   "execution_count": 22,
   "id": "237e269e-4d3c-4847-a935-e1096db1bf69",
   "metadata": {},
   "outputs": [
    {
     "name": "stdout",
     "output_type": "stream",
     "text": [
      "['4', '5', '2', '0', '0', '0']\n"
     ]
    },
    {
     "data": {
      "text/plain": [
       "True"
      ]
     },
     "execution_count": 22,
     "metadata": {},
     "output_type": "execute_result"
    }
   ],
   "source": [
    "check_pattern(pattern, text)"
   ]
  },
  {
   "cell_type": "code",
   "execution_count": 23,
   "id": "2c2f2c17-a57d-49cf-8bf9-825e6083e1bb",
   "metadata": {},
   "outputs": [
    {
     "name": "stdout",
     "output_type": "stream",
     "text": [
      "[' Lorem ', ' roots ', ' piece ', ' Latin ', ' years ']\n"
     ]
    },
    {
     "data": {
      "text/plain": [
       "True"
      ]
     },
     "execution_count": 23,
     "metadata": {},
     "output_type": "execute_result"
    }
   ],
   "source": [
    "# from the dummy text, find those words which are exactly 5 charaters long.\n",
    "pattern = r\"\\s\\w{5,5}\\s\"\n",
    "check_pattern(pattern, text)"
   ]
  },
  {
   "cell_type": "markdown",
   "id": "944d93cc",
   "metadata": {},
   "source": [
    "## <span id=\"special_characters\">[Special Characters](https://www.youtube.com/watch?v=ae38f8ZWObI&list=PL4cUxeGkcC9g6m_6Sld9Q4jzqdqHd2HiD&index=8)</span>\n",
    "\n",
    "[**Go to top**](#index)\n",
    "\n",
    "- **`+` -** The one-or-more quantifier\n",
    "- **`\\` -** The escape character\n",
    "- **`[]` -** The character set\n",
    "- **`[^]` -** The negative symbol in a character set\n",
    "- **`?` -** The zero-or-one quantifier (makes a preceding char optional)\n",
    "- **`.` -** Any character whatsoever (except the newline characters)\n",
    "- **`*` -** The 0 or more quantifier (a bit like +)"
   ]
  },
  {
   "cell_type": "code",
   "execution_count": 24,
   "id": "ed286533-88e0-4c53-ad95-e1fc4fad62c2",
   "metadata": {},
   "outputs": [
    {
     "name": "stdout",
     "output_type": "stream",
     "text": [
      "['hello', 'hell', 'hell', 'hello']\n"
     ]
    },
    {
     "data": {
      "text/plain": [
       "True"
      ]
     },
     "execution_count": 24,
     "metadata": {},
     "output_type": "execute_result"
    }
   ],
   "source": [
    "# So, for the below pattern, from the word \"hello\", the letter \"o\"\n",
    "# (the letter before the special character \"?\") is optional. That's\n",
    "# mean, \"hello\" and \"hell\" both are valid.\n",
    "pattern = r\"hello?\"\n",
    "txt = \"hello hell how are you hellhello\"\n",
    "check_pattern(pattern, txt)"
   ]
  },
  {
   "cell_type": "code",
   "execution_count": 25,
   "id": "d1a54217",
   "metadata": {},
   "outputs": [
    {
     "name": "stdout",
     "output_type": "stream",
     "text": [
      "['ontra', 'popula', 'belie', 'simpl', 'rando', 'roots', 'piece', 'class', 'liter', 'ature', 'makin', 'years']\n"
     ]
    },
    {
     "data": {
      "text/plain": [
       "True"
      ]
     },
     "execution_count": 25,
     "metadata": {},
     "output_type": "execute_result"
    }
   ],
   "source": [
    "pattern = r\"[a-z]o?[a-z]{4,4}\"\n",
    "text = \"\"\"Contrary to popular belief, Lorem Ipsum is not simply random text. It has roots \n",
    "in a piece of classical Latin literature from 45 BC, making it over 2000 years old.\"\"\"\n",
    "\n",
    "check_pattern(pattern, text)"
   ]
  },
  {
   "cell_type": "code",
   "execution_count": 26,
   "id": "d9b26b51",
   "metadata": {},
   "outputs": [
    {
     "name": "stdout",
     "output_type": "stream",
     "text": [
      "['roots']\n"
     ]
    },
    {
     "data": {
      "text/plain": [
       "True"
      ]
     },
     "execution_count": 26,
     "metadata": {},
     "output_type": "execute_result"
    }
   ],
   "source": [
    "# Next the dot (.) special character. This below pattern doesn't match the\n",
    "# word \"root\" but the 5th lettern can be anything like \"roots\" which will\n",
    "# match.\n",
    "pattern = r\"root.\"\n",
    "check_pattern(pattern, text)"
   ]
  },
  {
   "cell_type": "code",
   "execution_count": 27,
   "id": "764c5aab",
   "metadata": {},
   "outputs": [
    {
     "name": "stdout",
     "output_type": "stream",
     "text": [
      "['Contrary to popular belief, Lorem Ipsum is not simply random text. It has roots ', 'in a piece of classical Latin literature from 45 BC, making it over 2000 years old.']\n"
     ]
    },
    {
     "data": {
      "text/plain": [
       "True"
      ]
     },
     "execution_count": 27,
     "metadata": {},
     "output_type": "execute_result"
    }
   ],
   "source": [
    "pattern = r\".+\"\n",
    "check_pattern(pattern, text)"
   ]
  },
  {
   "cell_type": "code",
   "execution_count": 28,
   "id": "9ccd53fc",
   "metadata": {},
   "outputs": [
    {
     "name": "stdout",
     "output_type": "stream",
     "text": [
      "['popular', 'psum', 'ply', 'piece']\n"
     ]
    },
    {
     "data": {
      "text/plain": [
       "True"
      ]
     },
     "execution_count": 28,
     "metadata": {},
     "output_type": "execute_result"
    }
   ],
   "source": [
    "# The below patterns tells that the first letter should be always \"p\". But next\n",
    "# there can be 0 to infinity times any small letters possible.\n",
    "pattern = r\"p[a-z]*\"\n",
    "check_pattern(pattern, text)"
   ]
  },
  {
   "cell_type": "markdown",
   "id": "a6f79139",
   "metadata": {},
   "source": [
    "## <span id=\"starting_ending_pattern\">[**Starting & Endeing Pattern**](https://www.youtube.com/watch?v=RD3tMcFDjyo&list=PL4cUxeGkcC9g6m_6Sld9Q4jzqdqHd2HiD&index=8)</span>\n",
    "\n",
    "[**Go to top**](#index)"
   ]
  },
  {
   "cell_type": "code",
   "execution_count": 29,
   "id": "23d851ec",
   "metadata": {},
   "outputs": [
    {
     "name": "stdout",
     "output_type": "stream",
     "text": [
      "['sayan', 'kdcjd', 'cjuds', 'cskck']\n"
     ]
    },
    {
     "data": {
      "text/plain": [
       "True"
      ]
     },
     "execution_count": 29,
     "metadata": {},
     "output_type": "execute_result"
    }
   ],
   "source": [
    "# Let's say we need words which have exact 5 character letters. For, that if we\n",
    "# make a pattern like [a-zA-Z]{5}, then it will match with the sayankdcjdcjudscskcksc,\n",
    "# it will match first 5 letters, then next 5 characters and so on continuously.\n",
    "# Let's have a look.\n",
    "pattern = r\"[a-zA-Z]{5}\"\n",
    "txt = \"sayankdcjdcjudscskcksc\"\n",
    "check_pattern(pattern, txt)"
   ]
  },
  {
   "cell_type": "code",
   "execution_count": 30,
   "id": "b1a50b61",
   "metadata": {},
   "outputs": [
    {
     "name": "stdout",
     "output_type": "stream",
     "text": [
      "['asdef']\n",
      "True\n",
      "\n",
      "False\n"
     ]
    }
   ],
   "source": [
    "# ^[a-z] - Matches any string with any small letter at the beginning of it. So, \"^\"\n",
    "#          tells that it is the starting position of any match.\n",
    "# [a-z]$ - Matches any string with any small letter at the end of it.\n",
    "\n",
    "pattern = r\"^[a-zA-Z]{5}$\"\n",
    "print(check_pattern(pattern, \"asdef\"), end=\"\\n\\n\")\n",
    "print(check_pattern(pattern, \"asdeffvf\"))"
   ]
  },
  {
   "cell_type": "markdown",
   "id": "fa0de925",
   "metadata": {},
   "source": [
    "## <span id=\"alternate_characters\">[**Alternate Character**](https://www.youtube.com/watch?v=62ItDFG4UTM&list=PL4cUxeGkcC9g6m_6Sld9Q4jzqdqHd2HiD&index=9)</span>\n",
    "\n",
    "[**Go to top**](#index)"
   ]
  },
  {
   "cell_type": "code",
   "execution_count": 31,
   "id": "4eaea5f3",
   "metadata": {},
   "outputs": [
    {
     "name": "stdout",
     "output_type": "stream",
     "text": [
      "['u', 'i', 'i', 'u']\n"
     ]
    },
    {
     "data": {
      "text/plain": [
       "True"
      ]
     },
     "execution_count": 31,
     "metadata": {},
     "output_type": "execute_result"
    }
   ],
   "source": [
    "# The pipe symbol \"|\" makes alternate character in regex.\n",
    "pattern = r\"b(u|i)tter\"\n",
    "\n",
    "check_pattern(pattern, \"This butter is bitter, bitter butter is bad for batter..\")"
   ]
  },
  {
   "cell_type": "code",
   "execution_count": 32,
   "id": "bb6a25b9",
   "metadata": {},
   "outputs": [
    {
     "name": "stdout",
     "output_type": "stream",
     "text": [
      "['p']\n"
     ]
    },
    {
     "data": {
      "text/plain": [
       "True"
      ]
     },
     "execution_count": 32,
     "metadata": {},
     "output_type": "execute_result"
    }
   ],
   "source": [
    "check_pattern(r\"(p|t)yre\", \"pyre type\")"
   ]
  },
  {
   "cell_type": "code",
   "execution_count": 33,
   "id": "fbb73cc8",
   "metadata": {},
   "outputs": [
    {
     "name": "stdout",
     "output_type": "stream",
     "text": [
      "['pet', 'toy', 'crazy']\n"
     ]
    },
    {
     "data": {
      "text/plain": [
       "True"
      ]
     },
     "execution_count": 33,
     "metadata": {},
     "output_type": "execute_result"
    }
   ],
   "source": [
    "pattern = r\"(pet|toy|crazy) rabbit\"\n",
    "check_pattern(pattern, \"pet rabbit, toy rabbit, crazy rabbit, hello rabbit\")"
   ]
  },
  {
   "cell_type": "code",
   "execution_count": 34,
   "id": "49df125e",
   "metadata": {},
   "outputs": [
    {
     "name": "stdout",
     "output_type": "stream",
     "text": [
      "['pet', 'toy', 'crazy', '']\n"
     ]
    },
    {
     "data": {
      "text/plain": [
       "True"
      ]
     },
     "execution_count": 34,
     "metadata": {},
     "output_type": "execute_result"
    }
   ],
   "source": [
    "# the last element is comming from the \"hello rabbit\"\n",
    "pattern = r\"(pet|toy|crazy)? rabbit\"\n",
    "check_pattern(pattern, \"pet rabbit, toy rabbit, crazy rabbit, hello rabbit\")"
   ]
  },
  {
   "cell_type": "markdown",
   "id": "03c13fa7",
   "metadata": {},
   "source": [
    "## <span id=\"some_examples\">Some Examples</span>\n",
    "\n",
    "[**Go to top**](#index)"
   ]
  },
  {
   "cell_type": "code",
   "execution_count": 35,
   "id": "82b9c088",
   "metadata": {},
   "outputs": [
    {
     "name": "stdout",
     "output_type": "stream",
     "text": [
      "['9876543210']\n",
      "True\n",
      "\n",
      "False\n",
      "\n",
      "False\n",
      "\n"
     ]
    }
   ],
   "source": [
    "## Match 10 digit telephone number\n",
    "pattern = r\"^\\d{10}$\"\n",
    "txt1 = \"9876543210\"\n",
    "txt2 = \"987654321\"\n",
    "txt3 = \"98765432111\"\n",
    "\n",
    "print(check_pattern(pattern, txt1), end=\"\\n\\n\")\n",
    "print(check_pattern(pattern, txt2), end=\"\\n\\n\")\n",
    "print(check_pattern(pattern, txt3), end=\"\\n\\n\")"
   ]
  },
  {
   "cell_type": "code",
   "execution_count": 36,
   "id": "e3b26264",
   "metadata": {},
   "outputs": [
    {
     "name": "stdout",
     "output_type": "stream",
     "text": [
      "['Lorem', 'Ipsum', 'roots', 'piece', 'Latin', 'years']\n"
     ]
    },
    {
     "data": {
      "text/plain": [
       "True"
      ]
     },
     "execution_count": 36,
     "metadata": {},
     "output_type": "execute_result"
    }
   ],
   "source": [
    "## Find the words which are exact 5 characters long\n",
    "pattern = r\"\\b\\w{5}\\b\"\n",
    "text = \"\"\"Contrary to popular belief, Lorem Ipsum is not simply random text. It has roots \n",
    "in a piece of classical Latin literature from 45 BC, making it over 2000 years old.\"\"\"\n",
    "\n",
    "check_pattern(pattern, text)"
   ]
  },
  {
   "cell_type": "code",
   "execution_count": 37,
   "id": "3ae99418",
   "metadata": {},
   "outputs": [
    {
     "name": "stdout",
     "output_type": "stream",
     "text": [
      "['abc4DKd']\n"
     ]
    },
    {
     "data": {
      "text/plain": [
       "True"
      ]
     },
     "execution_count": 37,
     "metadata": {},
     "output_type": "execute_result"
    }
   ],
   "source": [
    "# matching a username containing 5-12 alpha-numeric characters\n",
    "pattern = r\"^[a-zA-Z\\d]{5,12}$\"\n",
    "text = \"abc4DKd\"\n",
    "\n",
    "check_pattern(pattern, text)"
   ]
  },
  {
   "cell_type": "code",
   "execution_count": 38,
   "id": "fb8f840f",
   "metadata": {},
   "outputs": [
    {
     "data": {
      "text/plain": [
       "False"
      ]
     },
     "execution_count": 38,
     "metadata": {},
     "output_type": "execute_result"
    }
   ],
   "source": [
    "# password matching where password must be alphanumeric (@, \n",
    "# _ and - are also included) and be 8-20 characters long\n",
    "pattern = r\"^[\\w@-]{8,20}$\"\n",
    "text = \"test1234%\"\n",
    "check_pattern(pattern, text)"
   ]
  },
  {
   "cell_type": "code",
   "execution_count": 39,
   "id": "d1223728",
   "metadata": {},
   "outputs": [
    {
     "name": "stdout",
     "output_type": "stream",
     "text": [
      "[('rsayan553', 'gmail', 'com', '')]\n"
     ]
    },
    {
     "data": {
      "text/plain": [
       "True"
      ]
     },
     "execution_count": 39,
     "metadata": {},
     "output_type": "execute_result"
    }
   ],
   "source": [
    "# check a valid email using regex\n",
    "#      1           2            3         4\n",
    "# (your name) @ (domain) . (extension)(.again)\n",
    "#   theboss   @ theregex . co . uk\n",
    "# 1 --> any letters, numbers, dots and/or hyphens\n",
    "# 2 --> any letters, numbers and/or hypens\n",
    "# 3 --> any letters\n",
    "# 4 --> a dot(.) then any letters\n",
    "\n",
    "# we can make sections with () brackets but this will not make any effect.\n",
    "# this also helps to make optional a group of characters which is at position 4.\n",
    "pattern = r\"^([a-z\\d\\.-]+)@([a-z\\d-]+)\\.([a-z]{2,8})(\\.[a-z]{2,8})?$\"\n",
    "text = \"rsayan553@gmail.com\" \n",
    "\n",
    "check_pattern(pattern, text)"
   ]
  },
  {
   "cell_type": "code",
   "execution_count": 40,
   "id": "599819b8",
   "metadata": {},
   "outputs": [
    {
     "name": "stdout",
     "output_type": "stream",
     "text": [
      "[('theboss', 'theregex', 'co', '.uk')]\n"
     ]
    },
    {
     "data": {
      "text/plain": [
       "True"
      ]
     },
     "execution_count": 40,
     "metadata": {},
     "output_type": "execute_result"
    }
   ],
   "source": [
    "check_pattern(pattern, \"theboss@theregex.co.uk\")"
   ]
  },
  {
   "cell_type": "code",
   "execution_count": 41,
   "id": "8cfab5d1",
   "metadata": {},
   "outputs": [
    {
     "name": "stdout",
     "output_type": "stream",
     "text": [
      "[('https://', 'www.', 'flipkart', 'com', '/search?q=iphone+13&sid=tyy%2C4io&as=on&as-show=on&otracker=AS_QueryStore_OrganicAutoSuggest_2_6_na_na_na&otracker1=AS_QueryStore_OrganicAutoSuggest_2_6_na_na_na&as-pos=2&as-type=RECENT&suggestionId=iphone+13%7CMobiles&requestId=077f7ba2-7a63-4bcd-a72f-92516764f9f6&as-searchtext=iphone')]\n"
     ]
    },
    {
     "data": {
      "text/plain": [
       "True"
      ]
     },
     "execution_count": 41,
     "metadata": {},
     "output_type": "execute_result"
    }
   ],
   "source": [
    "# check a valid url or not\n",
    "\n",
    "pattern = r\"^(https?:\\/\\/)?(www\\.)?([\\w@:\\.%_\\+~#=]+)\\.([\\w()]{1,6})([\\w@:%_\\+.~#?&//=-]+)?$\"\n",
    "\n",
    "url = \"https://www.flipkart.com/search?q=iphone+13&sid=tyy%2C4io&as=on&as-show=on&otracker=AS_QueryStore_OrganicAutoSuggest_2_6_na_na_na&otracker1=AS_QueryStore_OrganicAutoSuggest_2_6_na_na_na&as-pos=2&as-type=RECENT&suggestionId=iphone+13%7CMobiles&requestId=077f7ba2-7a63-4bcd-a72f-92516764f9f6&as-searchtext=iphone\"\n",
    "check_pattern(pattern, url)"
   ]
  }
 ],
 "metadata": {
  "kernelspec": {
   "display_name": "Python 3 (ipykernel)",
   "language": "python",
   "name": "python3"
  },
  "language_info": {
   "codemirror_mode": {
    "name": "ipython",
    "version": 3
   },
   "file_extension": ".py",
   "mimetype": "text/x-python",
   "name": "python",
   "nbconvert_exporter": "python",
   "pygments_lexer": "ipython3",
   "version": "3.8.9"
  }
 },
 "nbformat": 4,
 "nbformat_minor": 5
}
