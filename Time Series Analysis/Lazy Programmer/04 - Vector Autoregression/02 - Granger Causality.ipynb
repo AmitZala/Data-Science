{
 "cells": [
  {
   "cell_type": "code",
   "execution_count": null,
   "metadata": {},
   "outputs": [],
   "source": [
    "# The Null hypothesis for grangercausalitytests is that the time series in the\n",
    "# second column, x2, does not Granger cause the time series in the first column,\n",
    "# x1. Granger causality means that past values of x2 have a statistically\n",
    "# significant effect on the current value of x1, taking past values of x1 into\n",
    "# account as regressors."
   ]
  },
  {
   "cell_type": "code",
   "execution_count": null,
   "metadata": {},
   "outputs": [],
   "source": [
    "granger_result = grangercausalitytests(df1, maxlag=18)"
   ]
  },
  {
   "cell_type": "code",
   "execution_count": null,
   "metadata": {},
   "outputs": [],
   "source": []
  },
  {
   "cell_type": "code",
   "execution_count": null,
   "metadata": {},
   "outputs": [],
   "source": []
  },
  {
   "cell_type": "code",
   "execution_count": null,
   "metadata": {},
   "outputs": [],
   "source": []
  },
  {
   "cell_type": "code",
   "execution_count": null,
   "metadata": {},
   "outputs": [],
   "source": []
  }
 ],
 "metadata": {
  "language_info": {
   "name": "python"
  },
  "orig_nbformat": 4
 },
 "nbformat": 4,
 "nbformat_minor": 2
}
