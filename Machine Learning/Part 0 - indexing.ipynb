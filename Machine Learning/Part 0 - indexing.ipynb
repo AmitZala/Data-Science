{
 "cells": [
  {
   "cell_type": "markdown",
   "id": "b4e08566",
   "metadata": {},
   "source": [
    "# Indexing\n",
    "\n",
    "- Part 5 - Feature Scaling (Standardization)\n",
    "    - Standardization\n",
    "- Part 6 - Feature Scaling (Normalization)\n",
    "    - MinMaxScaler\n",
    "    - Mean Normalization\n",
    "    - Max Absolute Scaling\n",
    "    - Robust Scaling\n",
    "- Part 7 - Ordinal & Label Encoding\n",
    "    - Ordinal Encoding\n",
    "    - Label Encoding\n",
    "- Part 8 - One Hot Encoding\n",
    "    - OneHotEncoding\n",
    "- Part 9 - Column Transformer\n",
    "    - Column Transformer\n",
    "- Part 10 - Scikit Learn Pipeline\n",
    "    - Pipeline\n",
    "- Part 11 - Function Transformation\n",
    "    - Log Transformation\n",
    "    - Square Transformation\n",
    "    - Cube Transformation\n",
    "    - Square Root Transformation\n",
    "    - Resiprocal Transformation\n",
    "    - Sign Transformation\n",
    "- Part 12 - Power Transformer\n",
    "    - Box-Cox Transformation\n",
    "    - Yeo-Johnson Transformation\n",
    "- Part 13 - Binning & Binarization\n",
    "    - Discretization (Binning)\n",
    "        - Equal Width Binning\n",
    "        - Quantile Binning\n",
    "        - KMeans Binning\n",
    "    - Binarization"
   ]
  },
  {
   "cell_type": "code",
   "execution_count": null,
   "id": "5d5b35f9",
   "metadata": {},
   "outputs": [],
   "source": []
  }
 ],
 "metadata": {
  "kernelspec": {
   "display_name": "Python 3 (ipykernel)",
   "language": "python",
   "name": "python3"
  },
  "language_info": {
   "codemirror_mode": {
    "name": "ipython",
    "version": 3
   },
   "file_extension": ".py",
   "mimetype": "text/x-python",
   "name": "python",
   "nbconvert_exporter": "python",
   "pygments_lexer": "ipython3",
   "version": "3.9.7"
  },
  "toc": {
   "base_numbering": 1,
   "nav_menu": {},
   "number_sections": true,
   "sideBar": true,
   "skip_h1_title": false,
   "title_cell": "Table of Contents",
   "title_sidebar": "Contents",
   "toc_cell": false,
   "toc_position": {},
   "toc_section_display": true,
   "toc_window_display": false
  }
 },
 "nbformat": 4,
 "nbformat_minor": 5
}
