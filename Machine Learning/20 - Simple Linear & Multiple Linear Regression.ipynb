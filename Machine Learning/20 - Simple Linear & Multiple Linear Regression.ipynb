{
 "cells": [
  {
   "cell_type": "markdown",
   "id": "85a4a4a0",
   "metadata": {},
   "source": [
    "# Simple Linear Regression\n",
    "\n",
    "There are 2 methods for simple linear regression:\n",
    "\n",
    "- OLS\n",
    "- Gradient Descent\n",
    "\n",
    "## OLS Method:\n",
    "\n",
    "$$b = \\bar{y} - m\\bar{x}$$\n",
    "$$m = \\frac{\\sum_{i=1}^{n}(x_i - \\bar{x}){(y_i - \\bar{y)}}}{\\sum_{i=1}^{n}(x_i - \\bar{x})^2}$$\n",
    "\n",
    "Where, $\\bar{x}$ and $\\bar{y}$ are the mean of independent variable and dependent variable."
   ]
  },
  {
   "cell_type": "code",
   "execution_count": 1,
   "id": "5cd3d893",
   "metadata": {},
   "outputs": [],
   "source": [
    "import numpy as np\n",
    "import pandas as pd\n",
    "\n",
    "import warnings\n",
    "\n",
    "warnings.filterwarnings(\"ignore\")\n",
    "pd.options.mode.chained_assignment = None\n",
    "\n",
    "class SimpleLinearRegression:\n",
    "    def __init__(self):\n",
    "        self.m = None\n",
    "        self.b = None\n",
    "    \n",
    "    def fit(self, X_train, y_train):\n",
    "        numerator = 0\n",
    "        denominator = 0\n",
    "        \n",
    "        for i in range(X_train.shape[0]):\n",
    "            numerator += (X_train[i] - X_train.mean()) * (y_train[i] - y_train.mean())\n",
    "            denominator += (X_train[i] - X_train.mean()) ** 2\n",
    "        \n",
    "        self.m = numerator/denominator\n",
    "        self.b = y_train.mean() - (self.m * X_train.mean())\n",
    "    \n",
    "    def predict(self, X_test):\n",
    "        return self.m * X_test + self.b"
   ]
  },
  {
   "cell_type": "code",
   "execution_count": 2,
   "id": "7d28449b",
   "metadata": {},
   "outputs": [],
   "source": [
    "class MultipleLinearRegression:\n",
    "    def __init__(self):\n",
    "        self.coef_      = None\n",
    "        self.intercept_ = None\n",
    "    \n",
    "    def fit(self, X, y):\n",
    "        X = np.insert(X, obj = 0, values = 1, axis = 1)\n",
    "        \n",
    "        # calculate the coefficients\n",
    "        betas = np.linalg.inv(np.dot(X.T, X)).dot(X.T).dot(y)\n",
    "        self.intercept_ = betas[0]\n",
    "        self.coef_ = betas[1:]\n",
    "    \n",
    "    def predict(self, X):\n",
    "        return np.dot(X, self.coef_) + self.intercept_"
   ]
  },
  {
   "cell_type": "code",
   "execution_count": null,
   "id": "92791c0a",
   "metadata": {},
   "outputs": [],
   "source": []
  }
 ],
 "metadata": {
  "kernelspec": {
   "display_name": "Python 3 (ipykernel)",
   "language": "python",
   "name": "python3"
  },
  "language_info": {
   "codemirror_mode": {
    "name": "ipython",
    "version": 3
   },
   "file_extension": ".py",
   "mimetype": "text/x-python",
   "name": "python",
   "nbconvert_exporter": "python",
   "pygments_lexer": "ipython3",
   "version": "3.9.7"
  },
  "toc": {
   "base_numbering": 1,
   "nav_menu": {},
   "number_sections": true,
   "sideBar": true,
   "skip_h1_title": false,
   "title_cell": "Table of Contents",
   "title_sidebar": "Contents",
   "toc_cell": false,
   "toc_position": {},
   "toc_section_display": true,
   "toc_window_display": false
  }
 },
 "nbformat": 4,
 "nbformat_minor": 5
}
