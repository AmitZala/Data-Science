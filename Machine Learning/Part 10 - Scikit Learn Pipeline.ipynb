{
 "cells": [
  {
   "cell_type": "markdown",
   "id": "f19ed52f",
   "metadata": {},
   "source": [
    "# Scikit Learn Pipelines\n",
    "\n",
    "Pipelines chains together multiple steps so that the output of each step is used as input to the next step. Pipelines makes it easy to apply the same preprocessing to train and test!"
   ]
  },
  {
   "cell_type": "code",
   "execution_count": 1,
   "id": "4f075b53",
   "metadata": {},
   "outputs": [],
   "source": [
    "import numpy as np\n",
    "import pandas as pd\n",
    "from sklearn.model_selection import train_test_split\n",
    "from sklearn.impute import SimpleImputer\n",
    "from sklearn.preprocessing import OneHotEncoder, MinMaxScaler\n",
    "from sklearn.tree import DecisionTreeClassifier"
   ]
  },
  {
   "cell_type": "code",
   "execution_count": 2,
   "id": "3e870889",
   "metadata": {},
   "outputs": [
    {
     "data": {
      "text/html": [
       "<div>\n",
       "<style scoped>\n",
       "    .dataframe tbody tr th:only-of-type {\n",
       "        vertical-align: middle;\n",
       "    }\n",
       "\n",
       "    .dataframe tbody tr th {\n",
       "        vertical-align: top;\n",
       "    }\n",
       "\n",
       "    .dataframe thead th {\n",
       "        text-align: right;\n",
       "    }\n",
       "</style>\n",
       "<table border=\"1\" class=\"dataframe\">\n",
       "  <thead>\n",
       "    <tr style=\"text-align: right;\">\n",
       "      <th></th>\n",
       "      <th>PassengerId</th>\n",
       "      <th>Survived</th>\n",
       "      <th>Pclass</th>\n",
       "      <th>Name</th>\n",
       "      <th>Sex</th>\n",
       "      <th>Age</th>\n",
       "      <th>SibSp</th>\n",
       "      <th>Parch</th>\n",
       "      <th>Ticket</th>\n",
       "      <th>Fare</th>\n",
       "      <th>Cabin</th>\n",
       "      <th>Embarked</th>\n",
       "    </tr>\n",
       "  </thead>\n",
       "  <tbody>\n",
       "    <tr>\n",
       "      <th>0</th>\n",
       "      <td>1</td>\n",
       "      <td>0</td>\n",
       "      <td>3</td>\n",
       "      <td>Braund, Mr. Owen Harris</td>\n",
       "      <td>male</td>\n",
       "      <td>22.0</td>\n",
       "      <td>1</td>\n",
       "      <td>0</td>\n",
       "      <td>A/5 21171</td>\n",
       "      <td>7.2500</td>\n",
       "      <td>NaN</td>\n",
       "      <td>S</td>\n",
       "    </tr>\n",
       "    <tr>\n",
       "      <th>1</th>\n",
       "      <td>2</td>\n",
       "      <td>1</td>\n",
       "      <td>1</td>\n",
       "      <td>Cumings, Mrs. John Bradley (Florence Briggs Th...</td>\n",
       "      <td>female</td>\n",
       "      <td>38.0</td>\n",
       "      <td>1</td>\n",
       "      <td>0</td>\n",
       "      <td>PC 17599</td>\n",
       "      <td>71.2833</td>\n",
       "      <td>C85</td>\n",
       "      <td>C</td>\n",
       "    </tr>\n",
       "    <tr>\n",
       "      <th>2</th>\n",
       "      <td>3</td>\n",
       "      <td>1</td>\n",
       "      <td>3</td>\n",
       "      <td>Heikkinen, Miss. Laina</td>\n",
       "      <td>female</td>\n",
       "      <td>26.0</td>\n",
       "      <td>0</td>\n",
       "      <td>0</td>\n",
       "      <td>STON/O2. 3101282</td>\n",
       "      <td>7.9250</td>\n",
       "      <td>NaN</td>\n",
       "      <td>S</td>\n",
       "    </tr>\n",
       "    <tr>\n",
       "      <th>3</th>\n",
       "      <td>4</td>\n",
       "      <td>1</td>\n",
       "      <td>1</td>\n",
       "      <td>Futrelle, Mrs. Jacques Heath (Lily May Peel)</td>\n",
       "      <td>female</td>\n",
       "      <td>35.0</td>\n",
       "      <td>1</td>\n",
       "      <td>0</td>\n",
       "      <td>113803</td>\n",
       "      <td>53.1000</td>\n",
       "      <td>C123</td>\n",
       "      <td>S</td>\n",
       "    </tr>\n",
       "    <tr>\n",
       "      <th>4</th>\n",
       "      <td>5</td>\n",
       "      <td>0</td>\n",
       "      <td>3</td>\n",
       "      <td>Allen, Mr. William Henry</td>\n",
       "      <td>male</td>\n",
       "      <td>35.0</td>\n",
       "      <td>0</td>\n",
       "      <td>0</td>\n",
       "      <td>373450</td>\n",
       "      <td>8.0500</td>\n",
       "      <td>NaN</td>\n",
       "      <td>S</td>\n",
       "    </tr>\n",
       "  </tbody>\n",
       "</table>\n",
       "</div>"
      ],
      "text/plain": [
       "   PassengerId  Survived  Pclass  \\\n",
       "0            1         0       3   \n",
       "1            2         1       1   \n",
       "2            3         1       3   \n",
       "3            4         1       1   \n",
       "4            5         0       3   \n",
       "\n",
       "                                                Name     Sex   Age  SibSp  \\\n",
       "0                            Braund, Mr. Owen Harris    male  22.0      1   \n",
       "1  Cumings, Mrs. John Bradley (Florence Briggs Th...  female  38.0      1   \n",
       "2                             Heikkinen, Miss. Laina  female  26.0      0   \n",
       "3       Futrelle, Mrs. Jacques Heath (Lily May Peel)  female  35.0      1   \n",
       "4                           Allen, Mr. William Henry    male  35.0      0   \n",
       "\n",
       "   Parch            Ticket     Fare Cabin Embarked  \n",
       "0      0         A/5 21171   7.2500   NaN        S  \n",
       "1      0          PC 17599  71.2833   C85        C  \n",
       "2      0  STON/O2. 3101282   7.9250   NaN        S  \n",
       "3      0            113803  53.1000  C123        S  \n",
       "4      0            373450   8.0500   NaN        S  "
      ]
     },
     "execution_count": 2,
     "metadata": {},
     "output_type": "execute_result"
    }
   ],
   "source": [
    "df = pd.read_csv(\"../Datasets/titanic/train.csv\")\n",
    "df.head()"
   ]
  },
  {
   "cell_type": "markdown",
   "id": "ed578286",
   "metadata": {},
   "source": [
    "## Without Using Pipeline\n",
    "### Create a Model"
   ]
  },
  {
   "cell_type": "code",
   "execution_count": 3,
   "id": "0a014939",
   "metadata": {},
   "outputs": [],
   "source": [
    "df.drop(columns = [\"PassengerId\", \"Name\", \"Ticket\", \"Cabin\"], inplace = True)"
   ]
  },
  {
   "cell_type": "code",
   "execution_count": 4,
   "id": "26ce2eb6",
   "metadata": {},
   "outputs": [
    {
     "data": {
      "text/html": [
       "<div>\n",
       "<style scoped>\n",
       "    .dataframe tbody tr th:only-of-type {\n",
       "        vertical-align: middle;\n",
       "    }\n",
       "\n",
       "    .dataframe tbody tr th {\n",
       "        vertical-align: top;\n",
       "    }\n",
       "\n",
       "    .dataframe thead th {\n",
       "        text-align: right;\n",
       "    }\n",
       "</style>\n",
       "<table border=\"1\" class=\"dataframe\">\n",
       "  <thead>\n",
       "    <tr style=\"text-align: right;\">\n",
       "      <th></th>\n",
       "      <th>Survived</th>\n",
       "      <th>Pclass</th>\n",
       "      <th>Sex</th>\n",
       "      <th>Age</th>\n",
       "      <th>SibSp</th>\n",
       "      <th>Parch</th>\n",
       "      <th>Fare</th>\n",
       "      <th>Embarked</th>\n",
       "    </tr>\n",
       "  </thead>\n",
       "  <tbody>\n",
       "    <tr>\n",
       "      <th>0</th>\n",
       "      <td>0</td>\n",
       "      <td>3</td>\n",
       "      <td>male</td>\n",
       "      <td>22.0</td>\n",
       "      <td>1</td>\n",
       "      <td>0</td>\n",
       "      <td>7.2500</td>\n",
       "      <td>S</td>\n",
       "    </tr>\n",
       "    <tr>\n",
       "      <th>1</th>\n",
       "      <td>1</td>\n",
       "      <td>1</td>\n",
       "      <td>female</td>\n",
       "      <td>38.0</td>\n",
       "      <td>1</td>\n",
       "      <td>0</td>\n",
       "      <td>71.2833</td>\n",
       "      <td>C</td>\n",
       "    </tr>\n",
       "    <tr>\n",
       "      <th>2</th>\n",
       "      <td>1</td>\n",
       "      <td>3</td>\n",
       "      <td>female</td>\n",
       "      <td>26.0</td>\n",
       "      <td>0</td>\n",
       "      <td>0</td>\n",
       "      <td>7.9250</td>\n",
       "      <td>S</td>\n",
       "    </tr>\n",
       "    <tr>\n",
       "      <th>3</th>\n",
       "      <td>1</td>\n",
       "      <td>1</td>\n",
       "      <td>female</td>\n",
       "      <td>35.0</td>\n",
       "      <td>1</td>\n",
       "      <td>0</td>\n",
       "      <td>53.1000</td>\n",
       "      <td>S</td>\n",
       "    </tr>\n",
       "    <tr>\n",
       "      <th>4</th>\n",
       "      <td>0</td>\n",
       "      <td>3</td>\n",
       "      <td>male</td>\n",
       "      <td>35.0</td>\n",
       "      <td>0</td>\n",
       "      <td>0</td>\n",
       "      <td>8.0500</td>\n",
       "      <td>S</td>\n",
       "    </tr>\n",
       "  </tbody>\n",
       "</table>\n",
       "</div>"
      ],
      "text/plain": [
       "   Survived  Pclass     Sex   Age  SibSp  Parch     Fare Embarked\n",
       "0         0       3    male  22.0      1      0   7.2500        S\n",
       "1         1       1  female  38.0      1      0  71.2833        C\n",
       "2         1       3  female  26.0      0      0   7.9250        S\n",
       "3         1       1  female  35.0      1      0  53.1000        S\n",
       "4         0       3    male  35.0      0      0   8.0500        S"
      ]
     },
     "execution_count": 4,
     "metadata": {},
     "output_type": "execute_result"
    }
   ],
   "source": [
    "df.head()"
   ]
  },
  {
   "cell_type": "code",
   "execution_count": 5,
   "id": "5a883404",
   "metadata": {},
   "outputs": [],
   "source": [
    "# step 1 -> train/test/split\n",
    "X_train, X_test, y_train, y_test = train_test_split(\n",
    "    df.drop(columns = [\"Survived\"], axis = 1),\n",
    "    df[\"Survived\"],\n",
    "    test_size = 0.2,\n",
    "    random_state = 42\n",
    ")"
   ]
  },
  {
   "cell_type": "code",
   "execution_count": 8,
   "id": "0111f08d",
   "metadata": {},
   "outputs": [],
   "source": [
    "# applying imputation\n",
    "si_age           = SimpleImputer()\n",
    "si_embarked      = SimpleImputer(strategy = \"most_frequent\")\n",
    "\n",
    "X_train_age      = si_age.fit_transform(X_train[[\"Age\"]])\n",
    "X_train_embarked = si_embarked.fit_transform(X_train[[\"Embarked\"]])\n",
    "\n",
    "X_test_age       = si_age.transform(X_test[[\"Age\"]])\n",
    "X_test_embarked  = si_embarked.transform(X_test[[\"Embarked\"]])"
   ]
  },
  {
   "cell_type": "code",
   "execution_count": 9,
   "id": "aad21800",
   "metadata": {},
   "outputs": [],
   "source": [
    "# OneHotEncoding \"Sex\" & \"EMbarked\" column\n",
    "ohe_sex          = OneHotEncoder(sparse = False, handle_unknown = \"ignore\")\n",
    "ohe_embarked     = OneHotEncoder(sparse = False, handle_unknown = \"ignore\")\n",
    "\n",
    "X_train_sex      = ohe_sex.fit_transform(X_train[[\"Sex\"]])\n",
    "X_train_embarked = ohe_embarked.fit_transform(X_train_embarked)\n",
    "\n",
    "X_test_sex       = ohe_sex.transform(X_test[[\"Sex\"]])\n",
    "X_test_embarked  = ohe_embarked.transform(X_test_embarked)"
   ]
  },
  {
   "cell_type": "code",
   "execution_count": 10,
   "id": "4a07db72",
   "metadata": {},
   "outputs": [],
   "source": [
    "# now time to create new array with transformed data\n",
    "\n",
    "X_train_remaining   = X_train.drop(columns = [\"Sex\", \"Age\", \"Embarked\"], axis = 1)\n",
    "X_test_remaining    = X_test.drop(columns = [\"Sex\", \"Age\", \"Embarked\"], axis = 1)\n",
    "\n",
    "X_train_transformed = np.concatenate((X_train_remaining, X_train_age, X_train_sex, X_train_embarked), axis = 1)\n",
    "X_test_transformed  = np.concatenate((X_test_remaining, X_test_age, X_test_sex, X_test_embarked), axis = 1)"
   ]
  },
  {
   "cell_type": "code",
   "execution_count": 11,
   "id": "d1061dab",
   "metadata": {},
   "outputs": [
    {
     "name": "stdout",
     "output_type": "stream",
     "text": [
      "(712, 10)\n",
      "(179, 10)\n"
     ]
    }
   ],
   "source": [
    "print(X_train_transformed.shape)\n",
    "print(X_test_transformed.shape)"
   ]
  },
  {
   "cell_type": "code",
   "execution_count": 12,
   "id": "ad518460",
   "metadata": {},
   "outputs": [
    {
     "data": {
      "text/plain": [
       "DecisionTreeClassifier()"
      ]
     },
     "execution_count": 12,
     "metadata": {},
     "output_type": "execute_result"
    }
   ],
   "source": [
    "# now build DecisionTree Classifier model\n",
    "\n",
    "clf = DecisionTreeClassifier()\n",
    "\n",
    "clf.fit(X_train_transformed, y_train)"
   ]
  },
  {
   "cell_type": "code",
   "execution_count": 13,
   "id": "6cd59456",
   "metadata": {},
   "outputs": [],
   "source": [
    "y_pred = clf.predict(X_test_transformed)"
   ]
  },
  {
   "cell_type": "code",
   "execution_count": 14,
   "id": "444995b6",
   "metadata": {},
   "outputs": [
    {
     "data": {
      "text/plain": [
       "0.776536312849162"
      ]
     },
     "execution_count": 14,
     "metadata": {},
     "output_type": "execute_result"
    }
   ],
   "source": [
    "from sklearn.metrics import accuracy_score\n",
    "\n",
    "accuracy_score(y_test, y_pred)"
   ]
  },
  {
   "cell_type": "code",
   "execution_count": 16,
   "id": "512dcda6",
   "metadata": {},
   "outputs": [],
   "source": [
    "# save the required models for further use-case\n",
    "\n",
    "import pickle\n",
    "\n",
    "pickle.dump(ohe_sex, open(\"models/ohe_sex.pkl\", \"wb\"))\n",
    "pickle.dump(ohe_embarked, open(\"models/ohe_embarked.pkl\", \"wb\"))\n",
    "pickle.dump(clf, open(\"models/clf.pkl\", \"wb\"))"
   ]
  },
  {
   "cell_type": "markdown",
   "id": "0eb25701",
   "metadata": {},
   "source": [
    "### Use the Model"
   ]
  },
  {
   "cell_type": "code",
   "execution_count": 18,
   "id": "4d44378e",
   "metadata": {},
   "outputs": [],
   "source": [
    "import numpy as np\n",
    "import pickle"
   ]
  },
  {
   "cell_type": "code",
   "execution_count": 20,
   "id": "0dbcbb1f",
   "metadata": {},
   "outputs": [],
   "source": [
    "ohe_sex      = pickle.load(open(\"models/ohe_sex.pkl\", \"rb\"))\n",
    "ohe_embarked = pickle.load(open(\"models/ohe_embarked.pkl\", \"rb\"))\n",
    "clf          = pickle.load(open(\"models/clf.pkl\", \"rb\"))"
   ]
  },
  {
   "cell_type": "code",
   "execution_count": 23,
   "id": "ac5f0f18",
   "metadata": {},
   "outputs": [
    {
     "data": {
      "text/plain": [
       "array([[2, 'male', 31.0, 0, 0, 10.5, 'S']], dtype=object)"
      ]
     },
     "execution_count": 23,
     "metadata": {},
     "output_type": "execute_result"
    }
   ],
   "source": [
    "# assuming user input\n",
    "# Pclass/gender/age/SibSp/Parch/Fare/Embarked\n",
    "test_input = np.array([2, \"male\", 31.0, 0, 0, 10.5, \"S\"], dtype=object).reshape(1, 7)\n",
    "test_input"
   ]
  },
  {
   "cell_type": "code",
   "execution_count": 24,
   "id": "443d8384",
   "metadata": {},
   "outputs": [
    {
     "data": {
      "text/plain": [
       "(1, 10)"
      ]
     },
     "execution_count": 24,
     "metadata": {},
     "output_type": "execute_result"
    }
   ],
   "source": [
    "test_input_sex         = ohe_sex.transform(test_input[:, 1].reshape(1, 1))\n",
    "test_input_embarked    = ohe_embarked.transform(test_input[:, -1].reshape(1, 1))\n",
    "test_input_age         = test_input[:, 2].reshape(1, 1)\n",
    "\n",
    "test_input_transformed = np.concatenate(\n",
    "    (test_input[:, [0, 3, 4, 5]], test_input_age, test_input_sex, test_input_embarked),\n",
    "    axis = 1\n",
    ")\n",
    "test_input_transformed.shape"
   ]
  },
  {
   "cell_type": "code",
   "execution_count": 25,
   "id": "65d4ea35",
   "metadata": {},
   "outputs": [
    {
     "data": {
      "text/plain": [
       "array([1], dtype=int64)"
      ]
     },
     "execution_count": 25,
     "metadata": {},
     "output_type": "execute_result"
    }
   ],
   "source": [
    "clf.predict(test_input_transformed)"
   ]
  },
  {
   "cell_type": "markdown",
   "id": "59a4720a",
   "metadata": {},
   "source": [
    "## Using Pipeline"
   ]
  },
  {
   "cell_type": "code",
   "execution_count": 26,
   "id": "069a8630",
   "metadata": {},
   "outputs": [],
   "source": [
    "import numpy as np\n",
    "import pandas as pd\n",
    "from sklearn.model_selection import train_test_split\n",
    "from sklearn.compose import ColumnTransformer\n",
    "from sklearn.impute import SimpleImputer\n",
    "from sklearn.preprocessing import OneHotEncoder, MinMaxScaler\n",
    "from sklearn.pipeline import Pipeline, make_pipeline\n",
    "from sklearn.feature_selection import SelectKBest, chi2\n",
    "from sklearn.tree import DecisionTreeClassifier"
   ]
  },
  {
   "cell_type": "code",
   "execution_count": 41,
   "id": "11bf6a84",
   "metadata": {},
   "outputs": [
    {
     "data": {
      "text/html": [
       "<div>\n",
       "<style scoped>\n",
       "    .dataframe tbody tr th:only-of-type {\n",
       "        vertical-align: middle;\n",
       "    }\n",
       "\n",
       "    .dataframe tbody tr th {\n",
       "        vertical-align: top;\n",
       "    }\n",
       "\n",
       "    .dataframe thead th {\n",
       "        text-align: right;\n",
       "    }\n",
       "</style>\n",
       "<table border=\"1\" class=\"dataframe\">\n",
       "  <thead>\n",
       "    <tr style=\"text-align: right;\">\n",
       "      <th></th>\n",
       "      <th>PassengerId</th>\n",
       "      <th>Survived</th>\n",
       "      <th>Pclass</th>\n",
       "      <th>Name</th>\n",
       "      <th>Sex</th>\n",
       "      <th>Age</th>\n",
       "      <th>SibSp</th>\n",
       "      <th>Parch</th>\n",
       "      <th>Ticket</th>\n",
       "      <th>Fare</th>\n",
       "      <th>Cabin</th>\n",
       "      <th>Embarked</th>\n",
       "    </tr>\n",
       "  </thead>\n",
       "  <tbody>\n",
       "    <tr>\n",
       "      <th>0</th>\n",
       "      <td>1</td>\n",
       "      <td>0</td>\n",
       "      <td>3</td>\n",
       "      <td>Braund, Mr. Owen Harris</td>\n",
       "      <td>male</td>\n",
       "      <td>22.0</td>\n",
       "      <td>1</td>\n",
       "      <td>0</td>\n",
       "      <td>A/5 21171</td>\n",
       "      <td>7.2500</td>\n",
       "      <td>NaN</td>\n",
       "      <td>S</td>\n",
       "    </tr>\n",
       "    <tr>\n",
       "      <th>1</th>\n",
       "      <td>2</td>\n",
       "      <td>1</td>\n",
       "      <td>1</td>\n",
       "      <td>Cumings, Mrs. John Bradley (Florence Briggs Th...</td>\n",
       "      <td>female</td>\n",
       "      <td>38.0</td>\n",
       "      <td>1</td>\n",
       "      <td>0</td>\n",
       "      <td>PC 17599</td>\n",
       "      <td>71.2833</td>\n",
       "      <td>C85</td>\n",
       "      <td>C</td>\n",
       "    </tr>\n",
       "    <tr>\n",
       "      <th>2</th>\n",
       "      <td>3</td>\n",
       "      <td>1</td>\n",
       "      <td>3</td>\n",
       "      <td>Heikkinen, Miss. Laina</td>\n",
       "      <td>female</td>\n",
       "      <td>26.0</td>\n",
       "      <td>0</td>\n",
       "      <td>0</td>\n",
       "      <td>STON/O2. 3101282</td>\n",
       "      <td>7.9250</td>\n",
       "      <td>NaN</td>\n",
       "      <td>S</td>\n",
       "    </tr>\n",
       "    <tr>\n",
       "      <th>3</th>\n",
       "      <td>4</td>\n",
       "      <td>1</td>\n",
       "      <td>1</td>\n",
       "      <td>Futrelle, Mrs. Jacques Heath (Lily May Peel)</td>\n",
       "      <td>female</td>\n",
       "      <td>35.0</td>\n",
       "      <td>1</td>\n",
       "      <td>0</td>\n",
       "      <td>113803</td>\n",
       "      <td>53.1000</td>\n",
       "      <td>C123</td>\n",
       "      <td>S</td>\n",
       "    </tr>\n",
       "    <tr>\n",
       "      <th>4</th>\n",
       "      <td>5</td>\n",
       "      <td>0</td>\n",
       "      <td>3</td>\n",
       "      <td>Allen, Mr. William Henry</td>\n",
       "      <td>male</td>\n",
       "      <td>35.0</td>\n",
       "      <td>0</td>\n",
       "      <td>0</td>\n",
       "      <td>373450</td>\n",
       "      <td>8.0500</td>\n",
       "      <td>NaN</td>\n",
       "      <td>S</td>\n",
       "    </tr>\n",
       "  </tbody>\n",
       "</table>\n",
       "</div>"
      ],
      "text/plain": [
       "   PassengerId  Survived  Pclass  \\\n",
       "0            1         0       3   \n",
       "1            2         1       1   \n",
       "2            3         1       3   \n",
       "3            4         1       1   \n",
       "4            5         0       3   \n",
       "\n",
       "                                                Name     Sex   Age  SibSp  \\\n",
       "0                            Braund, Mr. Owen Harris    male  22.0      1   \n",
       "1  Cumings, Mrs. John Bradley (Florence Briggs Th...  female  38.0      1   \n",
       "2                             Heikkinen, Miss. Laina  female  26.0      0   \n",
       "3       Futrelle, Mrs. Jacques Heath (Lily May Peel)  female  35.0      1   \n",
       "4                           Allen, Mr. William Henry    male  35.0      0   \n",
       "\n",
       "   Parch            Ticket     Fare Cabin Embarked  \n",
       "0      0         A/5 21171   7.2500   NaN        S  \n",
       "1      0          PC 17599  71.2833   C85        C  \n",
       "2      0  STON/O2. 3101282   7.9250   NaN        S  \n",
       "3      0            113803  53.1000  C123        S  \n",
       "4      0            373450   8.0500   NaN        S  "
      ]
     },
     "execution_count": 41,
     "metadata": {},
     "output_type": "execute_result"
    }
   ],
   "source": [
    "df = pd.read_csv(\"../Datasets/titanic/train.csv\")\n",
    "df.head()"
   ]
  },
  {
   "cell_type": "code",
   "execution_count": 42,
   "id": "5cffb53c",
   "metadata": {},
   "outputs": [
    {
     "data": {
      "text/html": [
       "<div>\n",
       "<style scoped>\n",
       "    .dataframe tbody tr th:only-of-type {\n",
       "        vertical-align: middle;\n",
       "    }\n",
       "\n",
       "    .dataframe tbody tr th {\n",
       "        vertical-align: top;\n",
       "    }\n",
       "\n",
       "    .dataframe thead th {\n",
       "        text-align: right;\n",
       "    }\n",
       "</style>\n",
       "<table border=\"1\" class=\"dataframe\">\n",
       "  <thead>\n",
       "    <tr style=\"text-align: right;\">\n",
       "      <th></th>\n",
       "      <th>Survived</th>\n",
       "      <th>Pclass</th>\n",
       "      <th>Sex</th>\n",
       "      <th>Age</th>\n",
       "      <th>SibSp</th>\n",
       "      <th>Parch</th>\n",
       "      <th>Fare</th>\n",
       "      <th>Embarked</th>\n",
       "    </tr>\n",
       "  </thead>\n",
       "  <tbody>\n",
       "    <tr>\n",
       "      <th>0</th>\n",
       "      <td>0</td>\n",
       "      <td>3</td>\n",
       "      <td>male</td>\n",
       "      <td>22.0</td>\n",
       "      <td>1</td>\n",
       "      <td>0</td>\n",
       "      <td>7.2500</td>\n",
       "      <td>S</td>\n",
       "    </tr>\n",
       "    <tr>\n",
       "      <th>1</th>\n",
       "      <td>1</td>\n",
       "      <td>1</td>\n",
       "      <td>female</td>\n",
       "      <td>38.0</td>\n",
       "      <td>1</td>\n",
       "      <td>0</td>\n",
       "      <td>71.2833</td>\n",
       "      <td>C</td>\n",
       "    </tr>\n",
       "    <tr>\n",
       "      <th>2</th>\n",
       "      <td>1</td>\n",
       "      <td>3</td>\n",
       "      <td>female</td>\n",
       "      <td>26.0</td>\n",
       "      <td>0</td>\n",
       "      <td>0</td>\n",
       "      <td>7.9250</td>\n",
       "      <td>S</td>\n",
       "    </tr>\n",
       "    <tr>\n",
       "      <th>3</th>\n",
       "      <td>1</td>\n",
       "      <td>1</td>\n",
       "      <td>female</td>\n",
       "      <td>35.0</td>\n",
       "      <td>1</td>\n",
       "      <td>0</td>\n",
       "      <td>53.1000</td>\n",
       "      <td>S</td>\n",
       "    </tr>\n",
       "    <tr>\n",
       "      <th>4</th>\n",
       "      <td>0</td>\n",
       "      <td>3</td>\n",
       "      <td>male</td>\n",
       "      <td>35.0</td>\n",
       "      <td>0</td>\n",
       "      <td>0</td>\n",
       "      <td>8.0500</td>\n",
       "      <td>S</td>\n",
       "    </tr>\n",
       "  </tbody>\n",
       "</table>\n",
       "</div>"
      ],
      "text/plain": [
       "   Survived  Pclass     Sex   Age  SibSp  Parch     Fare Embarked\n",
       "0         0       3    male  22.0      1      0   7.2500        S\n",
       "1         1       1  female  38.0      1      0  71.2833        C\n",
       "2         1       3  female  26.0      0      0   7.9250        S\n",
       "3         1       1  female  35.0      1      0  53.1000        S\n",
       "4         0       3    male  35.0      0      0   8.0500        S"
      ]
     },
     "execution_count": 42,
     "metadata": {},
     "output_type": "execute_result"
    }
   ],
   "source": [
    "df.drop(columns = [\"PassengerId\", \"Name\", \"Ticket\", \"Cabin\"], inplace = True)\n",
    "df.head()"
   ]
  },
  {
   "cell_type": "markdown",
   "id": "21d9708e",
   "metadata": {},
   "source": [
    "### Create Transformer Chains"
   ]
  },
  {
   "cell_type": "code",
   "execution_count": 43,
   "id": "40801eda",
   "metadata": {},
   "outputs": [
    {
     "data": {
      "text/html": [
       "<div>\n",
       "<style scoped>\n",
       "    .dataframe tbody tr th:only-of-type {\n",
       "        vertical-align: middle;\n",
       "    }\n",
       "\n",
       "    .dataframe tbody tr th {\n",
       "        vertical-align: top;\n",
       "    }\n",
       "\n",
       "    .dataframe thead th {\n",
       "        text-align: right;\n",
       "    }\n",
       "</style>\n",
       "<table border=\"1\" class=\"dataframe\">\n",
       "  <thead>\n",
       "    <tr style=\"text-align: right;\">\n",
       "      <th></th>\n",
       "      <th>Pclass</th>\n",
       "      <th>Sex</th>\n",
       "      <th>Age</th>\n",
       "      <th>SibSp</th>\n",
       "      <th>Parch</th>\n",
       "      <th>Fare</th>\n",
       "      <th>Embarked</th>\n",
       "    </tr>\n",
       "  </thead>\n",
       "  <tbody>\n",
       "    <tr>\n",
       "      <th>331</th>\n",
       "      <td>1</td>\n",
       "      <td>male</td>\n",
       "      <td>45.5</td>\n",
       "      <td>0</td>\n",
       "      <td>0</td>\n",
       "      <td>28.5000</td>\n",
       "      <td>S</td>\n",
       "    </tr>\n",
       "    <tr>\n",
       "      <th>733</th>\n",
       "      <td>2</td>\n",
       "      <td>male</td>\n",
       "      <td>23.0</td>\n",
       "      <td>0</td>\n",
       "      <td>0</td>\n",
       "      <td>13.0000</td>\n",
       "      <td>S</td>\n",
       "    </tr>\n",
       "    <tr>\n",
       "      <th>382</th>\n",
       "      <td>3</td>\n",
       "      <td>male</td>\n",
       "      <td>32.0</td>\n",
       "      <td>0</td>\n",
       "      <td>0</td>\n",
       "      <td>7.9250</td>\n",
       "      <td>S</td>\n",
       "    </tr>\n",
       "    <tr>\n",
       "      <th>704</th>\n",
       "      <td>3</td>\n",
       "      <td>male</td>\n",
       "      <td>26.0</td>\n",
       "      <td>1</td>\n",
       "      <td>0</td>\n",
       "      <td>7.8542</td>\n",
       "      <td>S</td>\n",
       "    </tr>\n",
       "    <tr>\n",
       "      <th>813</th>\n",
       "      <td>3</td>\n",
       "      <td>female</td>\n",
       "      <td>6.0</td>\n",
       "      <td>4</td>\n",
       "      <td>2</td>\n",
       "      <td>31.2750</td>\n",
       "      <td>S</td>\n",
       "    </tr>\n",
       "  </tbody>\n",
       "</table>\n",
       "</div>"
      ],
      "text/plain": [
       "     Pclass     Sex   Age  SibSp  Parch     Fare Embarked\n",
       "331       1    male  45.5      0      0  28.5000        S\n",
       "733       2    male  23.0      0      0  13.0000        S\n",
       "382       3    male  32.0      0      0   7.9250        S\n",
       "704       3    male  26.0      1      0   7.8542        S\n",
       "813       3  female   6.0      4      2  31.2750        S"
      ]
     },
     "execution_count": 43,
     "metadata": {},
     "output_type": "execute_result"
    }
   ],
   "source": [
    "# Step 1 -> train/test/split\n",
    "X_train, X_test, y_train, y_test = train_test_split(\n",
    "    df.drop(columns = [\"Survived\"], axis = 1),\n",
    "    df[\"Survived\"],\n",
    "    test_size = 0.2,\n",
    "    random_state = 42\n",
    ")\n",
    "\n",
    "X_train.head()"
   ]
  },
  {
   "cell_type": "code",
   "execution_count": 44,
   "id": "9be874b2",
   "metadata": {},
   "outputs": [],
   "source": [
    "# imputation transformer\n",
    "trf1 = ColumnTransformer([\n",
    "    ('impute_age',SimpleImputer(),[2]),\n",
    "    ('impute_embarked',SimpleImputer(strategy='most_frequent'),[6])\n",
    "],remainder='passthrough')"
   ]
  },
  {
   "cell_type": "code",
   "execution_count": 45,
   "id": "a2e6c928",
   "metadata": {},
   "outputs": [],
   "source": [
    "# one hot encoding\n",
    "trf2 = ColumnTransformer([\n",
    "    ('ohe_sex_embarked',OneHotEncoder(sparse=False,handle_unknown='ignore'),[1,6])\n",
    "],remainder='passthrough')"
   ]
  },
  {
   "cell_type": "code",
   "execution_count": 46,
   "id": "30227eff",
   "metadata": {},
   "outputs": [],
   "source": [
    "# Scaling\n",
    "trf3 = ColumnTransformer([\n",
    "    ('scale',MinMaxScaler(),slice(0,10))\n",
    "])"
   ]
  },
  {
   "cell_type": "code",
   "execution_count": 47,
   "id": "4ed56189",
   "metadata": {},
   "outputs": [],
   "source": [
    "# Feature selection\n",
    "trf4 = SelectKBest(score_func=chi2,k=8)"
   ]
  },
  {
   "cell_type": "code",
   "execution_count": 48,
   "id": "36df75aa",
   "metadata": {},
   "outputs": [],
   "source": [
    "# train the model\n",
    "trf5 = DecisionTreeClassifier()"
   ]
  },
  {
   "cell_type": "markdown",
   "id": "3c7411a3",
   "metadata": {},
   "source": [
    "### Create Pipeline"
   ]
  },
  {
   "cell_type": "code",
   "execution_count": 49,
   "id": "460221f0",
   "metadata": {},
   "outputs": [],
   "source": [
    "pipe = Pipeline([\n",
    "    (\"trf1\", trf1),\n",
    "    (\"trf2\", trf2),\n",
    "    (\"trf3\", trf3),\n",
    "    (\"trf4\", trf4),\n",
    "    (\"trf5\", trf5)\n",
    "])"
   ]
  },
  {
   "cell_type": "markdown",
   "id": "0887be7e",
   "metadata": {},
   "source": [
    "### Pipeline vs make_pipeline\n",
    "\n",
    "Pipeline requires naming of steps, make_pipeline does not.\n",
    "\n",
    "(Same applies to ColumnTransformer vs make_column_transformer)"
   ]
  },
  {
   "cell_type": "code",
   "execution_count": null,
   "id": "0454c2da",
   "metadata": {},
   "outputs": [],
   "source": [
    "# alternate syntax\n",
    "pipe = make_pipeline(trf1, trf2, trf3, trf4, trf5)"
   ]
  },
  {
   "cell_type": "code",
   "execution_count": 51,
   "id": "7cda5a3a",
   "metadata": {},
   "outputs": [
    {
     "data": {
      "text/html": [
       "<style>#sk-b4439398-6f4e-4e7e-8fb8-51cc609f062f {color: black;background-color: white;}#sk-b4439398-6f4e-4e7e-8fb8-51cc609f062f pre{padding: 0;}#sk-b4439398-6f4e-4e7e-8fb8-51cc609f062f div.sk-toggleable {background-color: white;}#sk-b4439398-6f4e-4e7e-8fb8-51cc609f062f label.sk-toggleable__label {cursor: pointer;display: block;width: 100%;margin-bottom: 0;padding: 0.2em 0.3em;box-sizing: border-box;text-align: center;}#sk-b4439398-6f4e-4e7e-8fb8-51cc609f062f div.sk-toggleable__content {max-height: 0;max-width: 0;overflow: hidden;text-align: left;background-color: #f0f8ff;}#sk-b4439398-6f4e-4e7e-8fb8-51cc609f062f div.sk-toggleable__content pre {margin: 0.2em;color: black;border-radius: 0.25em;background-color: #f0f8ff;}#sk-b4439398-6f4e-4e7e-8fb8-51cc609f062f input.sk-toggleable__control:checked~div.sk-toggleable__content {max-height: 200px;max-width: 100%;overflow: auto;}#sk-b4439398-6f4e-4e7e-8fb8-51cc609f062f div.sk-estimator input.sk-toggleable__control:checked~label.sk-toggleable__label {background-color: #d4ebff;}#sk-b4439398-6f4e-4e7e-8fb8-51cc609f062f div.sk-label input.sk-toggleable__control:checked~label.sk-toggleable__label {background-color: #d4ebff;}#sk-b4439398-6f4e-4e7e-8fb8-51cc609f062f input.sk-hidden--visually {border: 0;clip: rect(1px 1px 1px 1px);clip: rect(1px, 1px, 1px, 1px);height: 1px;margin: -1px;overflow: hidden;padding: 0;position: absolute;width: 1px;}#sk-b4439398-6f4e-4e7e-8fb8-51cc609f062f div.sk-estimator {font-family: monospace;background-color: #f0f8ff;margin: 0.25em 0.25em;border: 1px dotted black;border-radius: 0.25em;box-sizing: border-box;}#sk-b4439398-6f4e-4e7e-8fb8-51cc609f062f div.sk-estimator:hover {background-color: #d4ebff;}#sk-b4439398-6f4e-4e7e-8fb8-51cc609f062f div.sk-parallel-item::after {content: \"\";width: 100%;border-bottom: 1px solid gray;flex-grow: 1;}#sk-b4439398-6f4e-4e7e-8fb8-51cc609f062f div.sk-label:hover label.sk-toggleable__label {background-color: #d4ebff;}#sk-b4439398-6f4e-4e7e-8fb8-51cc609f062f div.sk-serial::before {content: \"\";position: absolute;border-left: 1px solid gray;box-sizing: border-box;top: 2em;bottom: 0;left: 50%;}#sk-b4439398-6f4e-4e7e-8fb8-51cc609f062f div.sk-serial {display: flex;flex-direction: column;align-items: center;background-color: white;}#sk-b4439398-6f4e-4e7e-8fb8-51cc609f062f div.sk-item {z-index: 1;}#sk-b4439398-6f4e-4e7e-8fb8-51cc609f062f div.sk-parallel {display: flex;align-items: stretch;justify-content: center;background-color: white;}#sk-b4439398-6f4e-4e7e-8fb8-51cc609f062f div.sk-parallel-item {display: flex;flex-direction: column;position: relative;background-color: white;}#sk-b4439398-6f4e-4e7e-8fb8-51cc609f062f div.sk-parallel-item:first-child::after {align-self: flex-end;width: 50%;}#sk-b4439398-6f4e-4e7e-8fb8-51cc609f062f div.sk-parallel-item:last-child::after {align-self: flex-start;width: 50%;}#sk-b4439398-6f4e-4e7e-8fb8-51cc609f062f div.sk-parallel-item:only-child::after {width: 0;}#sk-b4439398-6f4e-4e7e-8fb8-51cc609f062f div.sk-dashed-wrapped {border: 1px dashed gray;margin: 0.2em;box-sizing: border-box;padding-bottom: 0.1em;background-color: white;position: relative;}#sk-b4439398-6f4e-4e7e-8fb8-51cc609f062f div.sk-label label {font-family: monospace;font-weight: bold;background-color: white;display: inline-block;line-height: 1.2em;}#sk-b4439398-6f4e-4e7e-8fb8-51cc609f062f div.sk-label-container {position: relative;z-index: 2;text-align: center;}#sk-b4439398-6f4e-4e7e-8fb8-51cc609f062f div.sk-container {display: inline-block;position: relative;}</style><div id=\"sk-b4439398-6f4e-4e7e-8fb8-51cc609f062f\" class\"sk-top-container\"><div class=\"sk-container\"><div class=\"sk-item sk-dashed-wrapped\"><div class=\"sk-label-container\"><div class=\"sk-label sk-toggleable\"><input class=\"sk-toggleable__control sk-hidden--visually\" id=\"57409a90-31e1-4f73-bb2d-c5fac47560f0\" type=\"checkbox\" ><label class=\"sk-toggleable__label\" for=\"57409a90-31e1-4f73-bb2d-c5fac47560f0\">Pipeline</label><div class=\"sk-toggleable__content\"><pre>Pipeline(steps=[('trf1',\n",
       "                 ColumnTransformer(remainder='passthrough',\n",
       "                                   transformers=[('impute_age', SimpleImputer(),\n",
       "                                                  [2]),\n",
       "                                                 ('impute_embarked',\n",
       "                                                  SimpleImputer(strategy='most_frequent'),\n",
       "                                                  [6])])),\n",
       "                ('trf2',\n",
       "                 ColumnTransformer(remainder='passthrough',\n",
       "                                   transformers=[('ohe_sex_embarked',\n",
       "                                                  OneHotEncoder(handle_unknown='ignore',\n",
       "                                                                sparse=False),\n",
       "                                                  [1, 6])])),\n",
       "                ('trf3',\n",
       "                 ColumnTransformer(transformers=[('scale', MinMaxScaler(),\n",
       "                                                  slice(0, 10, None))])),\n",
       "                ('trf4',\n",
       "                 SelectKBest(k=8,\n",
       "                             score_func=<function chi2 at 0x000001B1D0F91EE0>)),\n",
       "                ('trf5', DecisionTreeClassifier())])</pre></div></div></div><div class=\"sk-serial\"><div class=\"sk-item sk-dashed-wrapped\"><div class=\"sk-label-container\"><div class=\"sk-label sk-toggleable\"><input class=\"sk-toggleable__control sk-hidden--visually\" id=\"f19a96df-b25b-4e58-af9e-2cda6c2bfb7b\" type=\"checkbox\" ><label class=\"sk-toggleable__label\" for=\"f19a96df-b25b-4e58-af9e-2cda6c2bfb7b\">trf1: ColumnTransformer</label><div class=\"sk-toggleable__content\"><pre>ColumnTransformer(remainder='passthrough',\n",
       "                  transformers=[('impute_age', SimpleImputer(), [2]),\n",
       "                                ('impute_embarked',\n",
       "                                 SimpleImputer(strategy='most_frequent'),\n",
       "                                 [6])])</pre></div></div></div><div class=\"sk-parallel\"><div class=\"sk-parallel-item\"><div class=\"sk-item\"><div class=\"sk-label-container\"><div class=\"sk-label sk-toggleable\"><input class=\"sk-toggleable__control sk-hidden--visually\" id=\"a59d5385-8be8-482f-a6a9-c220a4f7852c\" type=\"checkbox\" ><label class=\"sk-toggleable__label\" for=\"a59d5385-8be8-482f-a6a9-c220a4f7852c\">impute_age</label><div class=\"sk-toggleable__content\"><pre>[2]</pre></div></div></div><div class=\"sk-serial\"><div class=\"sk-item\"><div class=\"sk-estimator sk-toggleable\"><input class=\"sk-toggleable__control sk-hidden--visually\" id=\"bbe2505b-0a2a-43b2-8a2a-4123eb1b987e\" type=\"checkbox\" ><label class=\"sk-toggleable__label\" for=\"bbe2505b-0a2a-43b2-8a2a-4123eb1b987e\">SimpleImputer</label><div class=\"sk-toggleable__content\"><pre>SimpleImputer()</pre></div></div></div></div></div></div><div class=\"sk-parallel-item\"><div class=\"sk-item\"><div class=\"sk-label-container\"><div class=\"sk-label sk-toggleable\"><input class=\"sk-toggleable__control sk-hidden--visually\" id=\"686a3354-5eb0-4656-85d4-c474775b0bbf\" type=\"checkbox\" ><label class=\"sk-toggleable__label\" for=\"686a3354-5eb0-4656-85d4-c474775b0bbf\">impute_embarked</label><div class=\"sk-toggleable__content\"><pre>[6]</pre></div></div></div><div class=\"sk-serial\"><div class=\"sk-item\"><div class=\"sk-estimator sk-toggleable\"><input class=\"sk-toggleable__control sk-hidden--visually\" id=\"3f904ebd-e89c-4720-881e-c733c5d3701d\" type=\"checkbox\" ><label class=\"sk-toggleable__label\" for=\"3f904ebd-e89c-4720-881e-c733c5d3701d\">SimpleImputer</label><div class=\"sk-toggleable__content\"><pre>SimpleImputer(strategy='most_frequent')</pre></div></div></div></div></div></div><div class=\"sk-parallel-item\"><div class=\"sk-item\"><div class=\"sk-label-container\"><div class=\"sk-label sk-toggleable\"><input class=\"sk-toggleable__control sk-hidden--visually\" id=\"35895ad4-4228-4ba6-88dd-ab72e9bd013a\" type=\"checkbox\" ><label class=\"sk-toggleable__label\" for=\"35895ad4-4228-4ba6-88dd-ab72e9bd013a\">remainder</label><div class=\"sk-toggleable__content\"><pre>['Pclass', 'Sex', 'SibSp', 'Parch', 'Fare']</pre></div></div></div><div class=\"sk-serial\"><div class=\"sk-item\"><div class=\"sk-estimator sk-toggleable\"><input class=\"sk-toggleable__control sk-hidden--visually\" id=\"418266b2-519f-42d6-86f8-1235a3ef4735\" type=\"checkbox\" ><label class=\"sk-toggleable__label\" for=\"418266b2-519f-42d6-86f8-1235a3ef4735\">passthrough</label><div class=\"sk-toggleable__content\"><pre>passthrough</pre></div></div></div></div></div></div></div></div><div class=\"sk-item sk-dashed-wrapped\"><div class=\"sk-label-container\"><div class=\"sk-label sk-toggleable\"><input class=\"sk-toggleable__control sk-hidden--visually\" id=\"8064872c-9fef-4ca8-b98e-6f2d4e33d9ec\" type=\"checkbox\" ><label class=\"sk-toggleable__label\" for=\"8064872c-9fef-4ca8-b98e-6f2d4e33d9ec\">trf2: ColumnTransformer</label><div class=\"sk-toggleable__content\"><pre>ColumnTransformer(remainder='passthrough',\n",
       "                  transformers=[('ohe_sex_embarked',\n",
       "                                 OneHotEncoder(handle_unknown='ignore',\n",
       "                                               sparse=False),\n",
       "                                 [1, 6])])</pre></div></div></div><div class=\"sk-parallel\"><div class=\"sk-parallel-item\"><div class=\"sk-item\"><div class=\"sk-label-container\"><div class=\"sk-label sk-toggleable\"><input class=\"sk-toggleable__control sk-hidden--visually\" id=\"787b5300-6b68-4b36-a448-d7bb78f34689\" type=\"checkbox\" ><label class=\"sk-toggleable__label\" for=\"787b5300-6b68-4b36-a448-d7bb78f34689\">ohe_sex_embarked</label><div class=\"sk-toggleable__content\"><pre>[1, 6]</pre></div></div></div><div class=\"sk-serial\"><div class=\"sk-item\"><div class=\"sk-estimator sk-toggleable\"><input class=\"sk-toggleable__control sk-hidden--visually\" id=\"14199731-cced-477e-b46d-95ca23670240\" type=\"checkbox\" ><label class=\"sk-toggleable__label\" for=\"14199731-cced-477e-b46d-95ca23670240\">OneHotEncoder</label><div class=\"sk-toggleable__content\"><pre>OneHotEncoder(handle_unknown='ignore', sparse=False)</pre></div></div></div></div></div></div><div class=\"sk-parallel-item\"><div class=\"sk-item\"><div class=\"sk-label-container\"><div class=\"sk-label sk-toggleable\"><input class=\"sk-toggleable__control sk-hidden--visually\" id=\"5f2c4c9e-ea7d-4c1e-b684-ac0deb72c56c\" type=\"checkbox\" ><label class=\"sk-toggleable__label\" for=\"5f2c4c9e-ea7d-4c1e-b684-ac0deb72c56c\">remainder</label><div class=\"sk-toggleable__content\"><pre>[0, 2, 3, 4, 5]</pre></div></div></div><div class=\"sk-serial\"><div class=\"sk-item\"><div class=\"sk-estimator sk-toggleable\"><input class=\"sk-toggleable__control sk-hidden--visually\" id=\"b97f865c-6ad5-4703-a92e-ee9df4a911cc\" type=\"checkbox\" ><label class=\"sk-toggleable__label\" for=\"b97f865c-6ad5-4703-a92e-ee9df4a911cc\">passthrough</label><div class=\"sk-toggleable__content\"><pre>passthrough</pre></div></div></div></div></div></div></div></div><div class=\"sk-item sk-dashed-wrapped\"><div class=\"sk-label-container\"><div class=\"sk-label sk-toggleable\"><input class=\"sk-toggleable__control sk-hidden--visually\" id=\"c7864f62-071f-4670-b89d-e33136b7fd9e\" type=\"checkbox\" ><label class=\"sk-toggleable__label\" for=\"c7864f62-071f-4670-b89d-e33136b7fd9e\">trf3: ColumnTransformer</label><div class=\"sk-toggleable__content\"><pre>ColumnTransformer(transformers=[('scale', MinMaxScaler(), slice(0, 10, None))])</pre></div></div></div><div class=\"sk-parallel\"><div class=\"sk-parallel-item\"><div class=\"sk-item\"><div class=\"sk-label-container\"><div class=\"sk-label sk-toggleable\"><input class=\"sk-toggleable__control sk-hidden--visually\" id=\"7374d444-94f9-4373-8c08-824346dc40e9\" type=\"checkbox\" ><label class=\"sk-toggleable__label\" for=\"7374d444-94f9-4373-8c08-824346dc40e9\">scale</label><div class=\"sk-toggleable__content\"><pre>slice(0, 10, None)</pre></div></div></div><div class=\"sk-serial\"><div class=\"sk-item\"><div class=\"sk-estimator sk-toggleable\"><input class=\"sk-toggleable__control sk-hidden--visually\" id=\"be594d88-793c-4f41-83fb-ba91686b6d12\" type=\"checkbox\" ><label class=\"sk-toggleable__label\" for=\"be594d88-793c-4f41-83fb-ba91686b6d12\">MinMaxScaler</label><div class=\"sk-toggleable__content\"><pre>MinMaxScaler()</pre></div></div></div></div></div></div></div></div><div class=\"sk-item\"><div class=\"sk-estimator sk-toggleable\"><input class=\"sk-toggleable__control sk-hidden--visually\" id=\"ea181ac2-d5ad-457a-9bfa-f57ce2972806\" type=\"checkbox\" ><label class=\"sk-toggleable__label\" for=\"ea181ac2-d5ad-457a-9bfa-f57ce2972806\">SelectKBest</label><div class=\"sk-toggleable__content\"><pre>SelectKBest(k=8, score_func=<function chi2 at 0x000001B1D0F91EE0>)</pre></div></div></div><div class=\"sk-item\"><div class=\"sk-estimator sk-toggleable\"><input class=\"sk-toggleable__control sk-hidden--visually\" id=\"7d7f8d99-17f8-4e40-a8b3-7afb602357af\" type=\"checkbox\" ><label class=\"sk-toggleable__label\" for=\"7d7f8d99-17f8-4e40-a8b3-7afb602357af\">DecisionTreeClassifier</label><div class=\"sk-toggleable__content\"><pre>DecisionTreeClassifier()</pre></div></div></div></div></div></div></div>"
      ],
      "text/plain": [
       "Pipeline(steps=[('trf1',\n",
       "                 ColumnTransformer(remainder='passthrough',\n",
       "                                   transformers=[('impute_age', SimpleImputer(),\n",
       "                                                  [2]),\n",
       "                                                 ('impute_embarked',\n",
       "                                                  SimpleImputer(strategy='most_frequent'),\n",
       "                                                  [6])])),\n",
       "                ('trf2',\n",
       "                 ColumnTransformer(remainder='passthrough',\n",
       "                                   transformers=[('ohe_sex_embarked',\n",
       "                                                  OneHotEncoder(handle_unknown='ignore',\n",
       "                                                                sparse=False),\n",
       "                                                  [1, 6])])),\n",
       "                ('trf3',\n",
       "                 ColumnTransformer(transformers=[('scale', MinMaxScaler(),\n",
       "                                                  slice(0, 10, None))])),\n",
       "                ('trf4',\n",
       "                 SelectKBest(k=8,\n",
       "                             score_func=<function chi2 at 0x000001B1D0F91EE0>)),\n",
       "                ('trf5', DecisionTreeClassifier())])"
      ]
     },
     "execution_count": 51,
     "metadata": {},
     "output_type": "execute_result"
    }
   ],
   "source": [
    "# train. If we will do only the transformation processes like OHE rather than creating the model,\n",
    "# then we will call \"fit_transform\" rather than \"fit\" method. We can use \"fit\" that case but then \n",
    "# we have to transform explicetly by \"transform\" method.\n",
    "from sklearn import set_config\n",
    "\n",
    "set_config(display = \"diagram\")\n",
    "\n",
    "pipe.fit(X_train, y_train)"
   ]
  },
  {
   "cell_type": "markdown",
   "id": "8f77b4d6",
   "metadata": {},
   "source": [
    "### Explore the Pipeline"
   ]
  },
  {
   "cell_type": "code",
   "execution_count": 52,
   "id": "68eb89f2",
   "metadata": {},
   "outputs": [
    {
     "data": {
      "text/plain": [
       "{'trf1': ColumnTransformer(remainder='passthrough',\n",
       "                   transformers=[('impute_age', SimpleImputer(), [2]),\n",
       "                                 ('impute_embarked',\n",
       "                                  SimpleImputer(strategy='most_frequent'),\n",
       "                                  [6])]),\n",
       " 'trf2': ColumnTransformer(remainder='passthrough',\n",
       "                   transformers=[('ohe_sex_embarked',\n",
       "                                  OneHotEncoder(handle_unknown='ignore',\n",
       "                                                sparse=False),\n",
       "                                  [1, 6])]),\n",
       " 'trf3': ColumnTransformer(transformers=[('scale', MinMaxScaler(), slice(0, 10, None))]),\n",
       " 'trf4': SelectKBest(k=8, score_func=<function chi2 at 0x000001B1D0F91EE0>),\n",
       " 'trf5': DecisionTreeClassifier()}"
      ]
     },
     "execution_count": 52,
     "metadata": {},
     "output_type": "execute_result"
    }
   ],
   "source": [
    "pipe.named_steps"
   ]
  },
  {
   "cell_type": "code",
   "execution_count": 53,
   "id": "f9b7f6bd",
   "metadata": {},
   "outputs": [
    {
     "data": {
      "text/html": [
       "<style>#sk-197b2a77-646b-4498-b431-c1fbab92f1fd {color: black;background-color: white;}#sk-197b2a77-646b-4498-b431-c1fbab92f1fd pre{padding: 0;}#sk-197b2a77-646b-4498-b431-c1fbab92f1fd div.sk-toggleable {background-color: white;}#sk-197b2a77-646b-4498-b431-c1fbab92f1fd label.sk-toggleable__label {cursor: pointer;display: block;width: 100%;margin-bottom: 0;padding: 0.2em 0.3em;box-sizing: border-box;text-align: center;}#sk-197b2a77-646b-4498-b431-c1fbab92f1fd div.sk-toggleable__content {max-height: 0;max-width: 0;overflow: hidden;text-align: left;background-color: #f0f8ff;}#sk-197b2a77-646b-4498-b431-c1fbab92f1fd div.sk-toggleable__content pre {margin: 0.2em;color: black;border-radius: 0.25em;background-color: #f0f8ff;}#sk-197b2a77-646b-4498-b431-c1fbab92f1fd input.sk-toggleable__control:checked~div.sk-toggleable__content {max-height: 200px;max-width: 100%;overflow: auto;}#sk-197b2a77-646b-4498-b431-c1fbab92f1fd div.sk-estimator input.sk-toggleable__control:checked~label.sk-toggleable__label {background-color: #d4ebff;}#sk-197b2a77-646b-4498-b431-c1fbab92f1fd div.sk-label input.sk-toggleable__control:checked~label.sk-toggleable__label {background-color: #d4ebff;}#sk-197b2a77-646b-4498-b431-c1fbab92f1fd input.sk-hidden--visually {border: 0;clip: rect(1px 1px 1px 1px);clip: rect(1px, 1px, 1px, 1px);height: 1px;margin: -1px;overflow: hidden;padding: 0;position: absolute;width: 1px;}#sk-197b2a77-646b-4498-b431-c1fbab92f1fd div.sk-estimator {font-family: monospace;background-color: #f0f8ff;margin: 0.25em 0.25em;border: 1px dotted black;border-radius: 0.25em;box-sizing: border-box;}#sk-197b2a77-646b-4498-b431-c1fbab92f1fd div.sk-estimator:hover {background-color: #d4ebff;}#sk-197b2a77-646b-4498-b431-c1fbab92f1fd div.sk-parallel-item::after {content: \"\";width: 100%;border-bottom: 1px solid gray;flex-grow: 1;}#sk-197b2a77-646b-4498-b431-c1fbab92f1fd div.sk-label:hover label.sk-toggleable__label {background-color: #d4ebff;}#sk-197b2a77-646b-4498-b431-c1fbab92f1fd div.sk-serial::before {content: \"\";position: absolute;border-left: 1px solid gray;box-sizing: border-box;top: 2em;bottom: 0;left: 50%;}#sk-197b2a77-646b-4498-b431-c1fbab92f1fd div.sk-serial {display: flex;flex-direction: column;align-items: center;background-color: white;}#sk-197b2a77-646b-4498-b431-c1fbab92f1fd div.sk-item {z-index: 1;}#sk-197b2a77-646b-4498-b431-c1fbab92f1fd div.sk-parallel {display: flex;align-items: stretch;justify-content: center;background-color: white;}#sk-197b2a77-646b-4498-b431-c1fbab92f1fd div.sk-parallel-item {display: flex;flex-direction: column;position: relative;background-color: white;}#sk-197b2a77-646b-4498-b431-c1fbab92f1fd div.sk-parallel-item:first-child::after {align-self: flex-end;width: 50%;}#sk-197b2a77-646b-4498-b431-c1fbab92f1fd div.sk-parallel-item:last-child::after {align-self: flex-start;width: 50%;}#sk-197b2a77-646b-4498-b431-c1fbab92f1fd div.sk-parallel-item:only-child::after {width: 0;}#sk-197b2a77-646b-4498-b431-c1fbab92f1fd div.sk-dashed-wrapped {border: 1px dashed gray;margin: 0.2em;box-sizing: border-box;padding-bottom: 0.1em;background-color: white;position: relative;}#sk-197b2a77-646b-4498-b431-c1fbab92f1fd div.sk-label label {font-family: monospace;font-weight: bold;background-color: white;display: inline-block;line-height: 1.2em;}#sk-197b2a77-646b-4498-b431-c1fbab92f1fd div.sk-label-container {position: relative;z-index: 2;text-align: center;}#sk-197b2a77-646b-4498-b431-c1fbab92f1fd div.sk-container {display: inline-block;position: relative;}</style><div id=\"sk-197b2a77-646b-4498-b431-c1fbab92f1fd\" class\"sk-top-container\"><div class=\"sk-container\"><div class=\"sk-item sk-dashed-wrapped\"><div class=\"sk-label-container\"><div class=\"sk-label sk-toggleable\"><input class=\"sk-toggleable__control sk-hidden--visually\" id=\"454ee119-7fee-4181-8fc8-87ede2e466a2\" type=\"checkbox\" ><label class=\"sk-toggleable__label\" for=\"454ee119-7fee-4181-8fc8-87ede2e466a2\">ColumnTransformer</label><div class=\"sk-toggleable__content\"><pre>ColumnTransformer(remainder='passthrough',\n",
       "                  transformers=[('impute_age', SimpleImputer(), [2]),\n",
       "                                ('impute_embarked',\n",
       "                                 SimpleImputer(strategy='most_frequent'),\n",
       "                                 [6])])</pre></div></div></div><div class=\"sk-parallel\"><div class=\"sk-parallel-item\"><div class=\"sk-item\"><div class=\"sk-label-container\"><div class=\"sk-label sk-toggleable\"><input class=\"sk-toggleable__control sk-hidden--visually\" id=\"d6c12147-3f39-49d0-8bc2-e12c55e06afe\" type=\"checkbox\" ><label class=\"sk-toggleable__label\" for=\"d6c12147-3f39-49d0-8bc2-e12c55e06afe\">impute_age</label><div class=\"sk-toggleable__content\"><pre>[2]</pre></div></div></div><div class=\"sk-serial\"><div class=\"sk-item\"><div class=\"sk-estimator sk-toggleable\"><input class=\"sk-toggleable__control sk-hidden--visually\" id=\"1cd3e07a-a642-45d8-9dd4-d59df211c760\" type=\"checkbox\" ><label class=\"sk-toggleable__label\" for=\"1cd3e07a-a642-45d8-9dd4-d59df211c760\">SimpleImputer</label><div class=\"sk-toggleable__content\"><pre>SimpleImputer()</pre></div></div></div></div></div></div><div class=\"sk-parallel-item\"><div class=\"sk-item\"><div class=\"sk-label-container\"><div class=\"sk-label sk-toggleable\"><input class=\"sk-toggleable__control sk-hidden--visually\" id=\"784f8121-9472-474b-8093-0267746441f3\" type=\"checkbox\" ><label class=\"sk-toggleable__label\" for=\"784f8121-9472-474b-8093-0267746441f3\">impute_embarked</label><div class=\"sk-toggleable__content\"><pre>[6]</pre></div></div></div><div class=\"sk-serial\"><div class=\"sk-item\"><div class=\"sk-estimator sk-toggleable\"><input class=\"sk-toggleable__control sk-hidden--visually\" id=\"967e2baf-e757-4be4-b687-f851f28a37f6\" type=\"checkbox\" ><label class=\"sk-toggleable__label\" for=\"967e2baf-e757-4be4-b687-f851f28a37f6\">SimpleImputer</label><div class=\"sk-toggleable__content\"><pre>SimpleImputer(strategy='most_frequent')</pre></div></div></div></div></div></div><div class=\"sk-parallel-item\"><div class=\"sk-item\"><div class=\"sk-label-container\"><div class=\"sk-label sk-toggleable\"><input class=\"sk-toggleable__control sk-hidden--visually\" id=\"ecf60df6-faad-4728-acff-db0787ea1257\" type=\"checkbox\" ><label class=\"sk-toggleable__label\" for=\"ecf60df6-faad-4728-acff-db0787ea1257\">remainder</label><div class=\"sk-toggleable__content\"><pre>['Pclass', 'Sex', 'SibSp', 'Parch', 'Fare']</pre></div></div></div><div class=\"sk-serial\"><div class=\"sk-item\"><div class=\"sk-estimator sk-toggleable\"><input class=\"sk-toggleable__control sk-hidden--visually\" id=\"54034560-e11e-4bc1-bd44-8e6d975f7edc\" type=\"checkbox\" ><label class=\"sk-toggleable__label\" for=\"54034560-e11e-4bc1-bd44-8e6d975f7edc\">passthrough</label><div class=\"sk-toggleable__content\"><pre>passthrough</pre></div></div></div></div></div></div></div></div></div></div>"
      ],
      "text/plain": [
       "ColumnTransformer(remainder='passthrough',\n",
       "                  transformers=[('impute_age', SimpleImputer(), [2]),\n",
       "                                ('impute_embarked',\n",
       "                                 SimpleImputer(strategy='most_frequent'),\n",
       "                                 [6])])"
      ]
     },
     "execution_count": 53,
     "metadata": {},
     "output_type": "execute_result"
    }
   ],
   "source": [
    "pipe.named_steps[\"trf1\"]"
   ]
  },
  {
   "cell_type": "code",
   "execution_count": 54,
   "id": "70713e9b",
   "metadata": {},
   "outputs": [
    {
     "data": {
      "text/plain": [
       "[('impute_age', SimpleImputer(), [2]),\n",
       " ('impute_embarked', SimpleImputer(strategy='most_frequent'), [6]),\n",
       " ('remainder', 'passthrough', [0, 1, 3, 4, 5])]"
      ]
     },
     "execution_count": 54,
     "metadata": {},
     "output_type": "execute_result"
    }
   ],
   "source": [
    "pipe.named_steps[\"trf1\"].transformers_"
   ]
  },
  {
   "cell_type": "code",
   "execution_count": 55,
   "id": "e134199f",
   "metadata": {},
   "outputs": [
    {
     "data": {
      "text/plain": [
       "('impute_age', SimpleImputer(), [2])"
      ]
     },
     "execution_count": 55,
     "metadata": {},
     "output_type": "execute_result"
    }
   ],
   "source": [
    "pipe.named_steps[\"trf1\"].transformers_[0]"
   ]
  },
  {
   "cell_type": "code",
   "execution_count": 56,
   "id": "04b2c020",
   "metadata": {},
   "outputs": [
    {
     "data": {
      "text/html": [
       "<style>#sk-ff2d37b9-4758-4cc5-b248-fc541194eb03 {color: black;background-color: white;}#sk-ff2d37b9-4758-4cc5-b248-fc541194eb03 pre{padding: 0;}#sk-ff2d37b9-4758-4cc5-b248-fc541194eb03 div.sk-toggleable {background-color: white;}#sk-ff2d37b9-4758-4cc5-b248-fc541194eb03 label.sk-toggleable__label {cursor: pointer;display: block;width: 100%;margin-bottom: 0;padding: 0.2em 0.3em;box-sizing: border-box;text-align: center;}#sk-ff2d37b9-4758-4cc5-b248-fc541194eb03 div.sk-toggleable__content {max-height: 0;max-width: 0;overflow: hidden;text-align: left;background-color: #f0f8ff;}#sk-ff2d37b9-4758-4cc5-b248-fc541194eb03 div.sk-toggleable__content pre {margin: 0.2em;color: black;border-radius: 0.25em;background-color: #f0f8ff;}#sk-ff2d37b9-4758-4cc5-b248-fc541194eb03 input.sk-toggleable__control:checked~div.sk-toggleable__content {max-height: 200px;max-width: 100%;overflow: auto;}#sk-ff2d37b9-4758-4cc5-b248-fc541194eb03 div.sk-estimator input.sk-toggleable__control:checked~label.sk-toggleable__label {background-color: #d4ebff;}#sk-ff2d37b9-4758-4cc5-b248-fc541194eb03 div.sk-label input.sk-toggleable__control:checked~label.sk-toggleable__label {background-color: #d4ebff;}#sk-ff2d37b9-4758-4cc5-b248-fc541194eb03 input.sk-hidden--visually {border: 0;clip: rect(1px 1px 1px 1px);clip: rect(1px, 1px, 1px, 1px);height: 1px;margin: -1px;overflow: hidden;padding: 0;position: absolute;width: 1px;}#sk-ff2d37b9-4758-4cc5-b248-fc541194eb03 div.sk-estimator {font-family: monospace;background-color: #f0f8ff;margin: 0.25em 0.25em;border: 1px dotted black;border-radius: 0.25em;box-sizing: border-box;}#sk-ff2d37b9-4758-4cc5-b248-fc541194eb03 div.sk-estimator:hover {background-color: #d4ebff;}#sk-ff2d37b9-4758-4cc5-b248-fc541194eb03 div.sk-parallel-item::after {content: \"\";width: 100%;border-bottom: 1px solid gray;flex-grow: 1;}#sk-ff2d37b9-4758-4cc5-b248-fc541194eb03 div.sk-label:hover label.sk-toggleable__label {background-color: #d4ebff;}#sk-ff2d37b9-4758-4cc5-b248-fc541194eb03 div.sk-serial::before {content: \"\";position: absolute;border-left: 1px solid gray;box-sizing: border-box;top: 2em;bottom: 0;left: 50%;}#sk-ff2d37b9-4758-4cc5-b248-fc541194eb03 div.sk-serial {display: flex;flex-direction: column;align-items: center;background-color: white;}#sk-ff2d37b9-4758-4cc5-b248-fc541194eb03 div.sk-item {z-index: 1;}#sk-ff2d37b9-4758-4cc5-b248-fc541194eb03 div.sk-parallel {display: flex;align-items: stretch;justify-content: center;background-color: white;}#sk-ff2d37b9-4758-4cc5-b248-fc541194eb03 div.sk-parallel-item {display: flex;flex-direction: column;position: relative;background-color: white;}#sk-ff2d37b9-4758-4cc5-b248-fc541194eb03 div.sk-parallel-item:first-child::after {align-self: flex-end;width: 50%;}#sk-ff2d37b9-4758-4cc5-b248-fc541194eb03 div.sk-parallel-item:last-child::after {align-self: flex-start;width: 50%;}#sk-ff2d37b9-4758-4cc5-b248-fc541194eb03 div.sk-parallel-item:only-child::after {width: 0;}#sk-ff2d37b9-4758-4cc5-b248-fc541194eb03 div.sk-dashed-wrapped {border: 1px dashed gray;margin: 0.2em;box-sizing: border-box;padding-bottom: 0.1em;background-color: white;position: relative;}#sk-ff2d37b9-4758-4cc5-b248-fc541194eb03 div.sk-label label {font-family: monospace;font-weight: bold;background-color: white;display: inline-block;line-height: 1.2em;}#sk-ff2d37b9-4758-4cc5-b248-fc541194eb03 div.sk-label-container {position: relative;z-index: 2;text-align: center;}#sk-ff2d37b9-4758-4cc5-b248-fc541194eb03 div.sk-container {display: inline-block;position: relative;}</style><div id=\"sk-ff2d37b9-4758-4cc5-b248-fc541194eb03\" class\"sk-top-container\"><div class=\"sk-container\"><div class=\"sk-item\"><div class=\"sk-estimator sk-toggleable\"><input class=\"sk-toggleable__control sk-hidden--visually\" id=\"144614e3-3c17-4b65-8447-fe31f4cf3f85\" type=\"checkbox\" checked><label class=\"sk-toggleable__label\" for=\"144614e3-3c17-4b65-8447-fe31f4cf3f85\">SimpleImputer</label><div class=\"sk-toggleable__content\"><pre>SimpleImputer()</pre></div></div></div></div></div>"
      ],
      "text/plain": [
       "SimpleImputer()"
      ]
     },
     "execution_count": 56,
     "metadata": {},
     "output_type": "execute_result"
    }
   ],
   "source": [
    "pipe.named_steps[\"trf1\"].transformers_[0][1]"
   ]
  },
  {
   "cell_type": "code",
   "execution_count": 57,
   "id": "30035b4a",
   "metadata": {},
   "outputs": [
    {
     "data": {
      "text/plain": [
       "array([29.49884615])"
      ]
     },
     "execution_count": 57,
     "metadata": {},
     "output_type": "execute_result"
    }
   ],
   "source": [
    "pipe.named_steps[\"trf1\"].transformers_[0][1].statistics_"
   ]
  },
  {
   "cell_type": "code",
   "execution_count": 58,
   "id": "e72d625f",
   "metadata": {},
   "outputs": [
    {
     "data": {
      "text/plain": [
       "('impute_embarked', SimpleImputer(strategy='most_frequent'), [6])"
      ]
     },
     "execution_count": 58,
     "metadata": {},
     "output_type": "execute_result"
    }
   ],
   "source": [
    "pipe.named_steps[\"trf1\"].transformers_[1]"
   ]
  },
  {
   "cell_type": "code",
   "execution_count": 59,
   "id": "f5a067fe",
   "metadata": {},
   "outputs": [
    {
     "data": {
      "text/plain": [
       "array(['S'], dtype=object)"
      ]
     },
     "execution_count": 59,
     "metadata": {},
     "output_type": "execute_result"
    }
   ],
   "source": [
    "pipe.named_steps[\"trf1\"].transformers_[1][1].statistics_"
   ]
  },
  {
   "cell_type": "code",
   "execution_count": 60,
   "id": "2b1c2e0a",
   "metadata": {},
   "outputs": [
    {
     "data": {
      "text/plain": [
       "0.6256983240223464"
      ]
     },
     "execution_count": 60,
     "metadata": {},
     "output_type": "execute_result"
    }
   ],
   "source": [
    "# predict\n",
    "y_pred = pipe.predict(X_test)\n",
    "\n",
    "# accuracy score\n",
    "from sklearn.metrics import accuracy_score\n",
    "accuracy_score(y_test, y_pred)"
   ]
  },
  {
   "cell_type": "markdown",
   "id": "dbb472df",
   "metadata": {},
   "source": [
    "### Cross Validation using Pipeline"
   ]
  },
  {
   "cell_type": "code",
   "execution_count": 61,
   "id": "15c0d3c8",
   "metadata": {},
   "outputs": [
    {
     "data": {
      "text/plain": [
       "0.6391214419383433"
      ]
     },
     "execution_count": 61,
     "metadata": {},
     "output_type": "execute_result"
    }
   ],
   "source": [
    "# cross validation using cross_val_score\n",
    "from sklearn.model_selection import cross_val_score\n",
    "\n",
    "cross_val_score(pipe, X_train, y_train, cv = 5, scoring = \"accuracy\").mean()"
   ]
  },
  {
   "cell_type": "markdown",
   "id": "34fb0b53",
   "metadata": {},
   "source": [
    "### GridSearch using Pipeline"
   ]
  },
  {
   "cell_type": "code",
   "execution_count": 62,
   "id": "240a7efd",
   "metadata": {},
   "outputs": [],
   "source": [
    "# gridsearchcv\n",
    "params = {\n",
    "    \"trf5__max_depth\": [1, 2, 3, 4, 5, None]\n",
    "}"
   ]
  },
  {
   "cell_type": "code",
   "execution_count": 63,
   "id": "1ae340e9",
   "metadata": {},
   "outputs": [
    {
     "data": {
      "text/html": [
       "<style>#sk-550cbc29-2a32-41a0-848e-b05c0be4df21 {color: black;background-color: white;}#sk-550cbc29-2a32-41a0-848e-b05c0be4df21 pre{padding: 0;}#sk-550cbc29-2a32-41a0-848e-b05c0be4df21 div.sk-toggleable {background-color: white;}#sk-550cbc29-2a32-41a0-848e-b05c0be4df21 label.sk-toggleable__label {cursor: pointer;display: block;width: 100%;margin-bottom: 0;padding: 0.2em 0.3em;box-sizing: border-box;text-align: center;}#sk-550cbc29-2a32-41a0-848e-b05c0be4df21 div.sk-toggleable__content {max-height: 0;max-width: 0;overflow: hidden;text-align: left;background-color: #f0f8ff;}#sk-550cbc29-2a32-41a0-848e-b05c0be4df21 div.sk-toggleable__content pre {margin: 0.2em;color: black;border-radius: 0.25em;background-color: #f0f8ff;}#sk-550cbc29-2a32-41a0-848e-b05c0be4df21 input.sk-toggleable__control:checked~div.sk-toggleable__content {max-height: 200px;max-width: 100%;overflow: auto;}#sk-550cbc29-2a32-41a0-848e-b05c0be4df21 div.sk-estimator input.sk-toggleable__control:checked~label.sk-toggleable__label {background-color: #d4ebff;}#sk-550cbc29-2a32-41a0-848e-b05c0be4df21 div.sk-label input.sk-toggleable__control:checked~label.sk-toggleable__label {background-color: #d4ebff;}#sk-550cbc29-2a32-41a0-848e-b05c0be4df21 input.sk-hidden--visually {border: 0;clip: rect(1px 1px 1px 1px);clip: rect(1px, 1px, 1px, 1px);height: 1px;margin: -1px;overflow: hidden;padding: 0;position: absolute;width: 1px;}#sk-550cbc29-2a32-41a0-848e-b05c0be4df21 div.sk-estimator {font-family: monospace;background-color: #f0f8ff;margin: 0.25em 0.25em;border: 1px dotted black;border-radius: 0.25em;box-sizing: border-box;}#sk-550cbc29-2a32-41a0-848e-b05c0be4df21 div.sk-estimator:hover {background-color: #d4ebff;}#sk-550cbc29-2a32-41a0-848e-b05c0be4df21 div.sk-parallel-item::after {content: \"\";width: 100%;border-bottom: 1px solid gray;flex-grow: 1;}#sk-550cbc29-2a32-41a0-848e-b05c0be4df21 div.sk-label:hover label.sk-toggleable__label {background-color: #d4ebff;}#sk-550cbc29-2a32-41a0-848e-b05c0be4df21 div.sk-serial::before {content: \"\";position: absolute;border-left: 1px solid gray;box-sizing: border-box;top: 2em;bottom: 0;left: 50%;}#sk-550cbc29-2a32-41a0-848e-b05c0be4df21 div.sk-serial {display: flex;flex-direction: column;align-items: center;background-color: white;}#sk-550cbc29-2a32-41a0-848e-b05c0be4df21 div.sk-item {z-index: 1;}#sk-550cbc29-2a32-41a0-848e-b05c0be4df21 div.sk-parallel {display: flex;align-items: stretch;justify-content: center;background-color: white;}#sk-550cbc29-2a32-41a0-848e-b05c0be4df21 div.sk-parallel-item {display: flex;flex-direction: column;position: relative;background-color: white;}#sk-550cbc29-2a32-41a0-848e-b05c0be4df21 div.sk-parallel-item:first-child::after {align-self: flex-end;width: 50%;}#sk-550cbc29-2a32-41a0-848e-b05c0be4df21 div.sk-parallel-item:last-child::after {align-self: flex-start;width: 50%;}#sk-550cbc29-2a32-41a0-848e-b05c0be4df21 div.sk-parallel-item:only-child::after {width: 0;}#sk-550cbc29-2a32-41a0-848e-b05c0be4df21 div.sk-dashed-wrapped {border: 1px dashed gray;margin: 0.2em;box-sizing: border-box;padding-bottom: 0.1em;background-color: white;position: relative;}#sk-550cbc29-2a32-41a0-848e-b05c0be4df21 div.sk-label label {font-family: monospace;font-weight: bold;background-color: white;display: inline-block;line-height: 1.2em;}#sk-550cbc29-2a32-41a0-848e-b05c0be4df21 div.sk-label-container {position: relative;z-index: 2;text-align: center;}#sk-550cbc29-2a32-41a0-848e-b05c0be4df21 div.sk-container {display: inline-block;position: relative;}</style><div id=\"sk-550cbc29-2a32-41a0-848e-b05c0be4df21\" class\"sk-top-container\"><div class=\"sk-container\"><div class=\"sk-item sk-dashed-wrapped\"><div class=\"sk-label-container\"><div class=\"sk-label sk-toggleable\"><input class=\"sk-toggleable__control sk-hidden--visually\" id=\"52762183-fab2-45e4-ac43-2f821f368edb\" type=\"checkbox\" ><label class=\"sk-toggleable__label\" for=\"52762183-fab2-45e4-ac43-2f821f368edb\">GridSearchCV</label><div class=\"sk-toggleable__content\"><pre>GridSearchCV(cv=5,\n",
       "             estimator=Pipeline(steps=[('trf1',\n",
       "                                        ColumnTransformer(remainder='passthrough',\n",
       "                                                          transformers=[('impute_age',\n",
       "                                                                         SimpleImputer(),\n",
       "                                                                         [2]),\n",
       "                                                                        ('impute_embarked',\n",
       "                                                                         SimpleImputer(strategy='most_frequent'),\n",
       "                                                                         [6])])),\n",
       "                                       ('trf2',\n",
       "                                        ColumnTransformer(remainder='passthrough',\n",
       "                                                          transformers=[('ohe_sex_embarked',\n",
       "                                                                         OneHotEncoder(handle_unknown='ignore',\n",
       "                                                                                       sparse=False),\n",
       "                                                                         [1,\n",
       "                                                                          6])])),\n",
       "                                       ('trf3',\n",
       "                                        ColumnTransformer(transformers=[('scale',\n",
       "                                                                         MinMaxScaler(),\n",
       "                                                                         slice(0, 10, None))])),\n",
       "                                       ('trf4',\n",
       "                                        SelectKBest(k=8,\n",
       "                                                    score_func=<function chi2 at 0x000001B1D0F91EE0>)),\n",
       "                                       ('trf5', DecisionTreeClassifier())]),\n",
       "             param_grid={'trf5__max_depth': [1, 2, 3, 4, 5, None]},\n",
       "             scoring='accuracy')</pre></div></div></div><div class=\"sk-parallel\"><div class=\"sk-parallel-item\"><div class=\"sk-item\"><div class=\"sk-serial\"><div class=\"sk-item\"><div class=\"sk-serial\"><div class=\"sk-item sk-dashed-wrapped\"><div class=\"sk-label-container\"><div class=\"sk-label sk-toggleable\"><input class=\"sk-toggleable__control sk-hidden--visually\" id=\"de0084fc-0149-4b5f-aa82-9a02d04f80f9\" type=\"checkbox\" ><label class=\"sk-toggleable__label\" for=\"de0084fc-0149-4b5f-aa82-9a02d04f80f9\">trf1: ColumnTransformer</label><div class=\"sk-toggleable__content\"><pre>ColumnTransformer(remainder='passthrough',\n",
       "                  transformers=[('impute_age', SimpleImputer(), [2]),\n",
       "                                ('impute_embarked',\n",
       "                                 SimpleImputer(strategy='most_frequent'),\n",
       "                                 [6])])</pre></div></div></div><div class=\"sk-parallel\"><div class=\"sk-parallel-item\"><div class=\"sk-item\"><div class=\"sk-label-container\"><div class=\"sk-label sk-toggleable\"><input class=\"sk-toggleable__control sk-hidden--visually\" id=\"37578458-b8ba-4f6a-9208-27037a39f1ae\" type=\"checkbox\" ><label class=\"sk-toggleable__label\" for=\"37578458-b8ba-4f6a-9208-27037a39f1ae\">impute_age</label><div class=\"sk-toggleable__content\"><pre>[2]</pre></div></div></div><div class=\"sk-serial\"><div class=\"sk-item\"><div class=\"sk-estimator sk-toggleable\"><input class=\"sk-toggleable__control sk-hidden--visually\" id=\"a8ec06f7-9280-4717-bffc-e0131cf75857\" type=\"checkbox\" ><label class=\"sk-toggleable__label\" for=\"a8ec06f7-9280-4717-bffc-e0131cf75857\">SimpleImputer</label><div class=\"sk-toggleable__content\"><pre>SimpleImputer()</pre></div></div></div></div></div></div><div class=\"sk-parallel-item\"><div class=\"sk-item\"><div class=\"sk-label-container\"><div class=\"sk-label sk-toggleable\"><input class=\"sk-toggleable__control sk-hidden--visually\" id=\"689c250d-caab-403d-8bf7-d5bbaafa6421\" type=\"checkbox\" ><label class=\"sk-toggleable__label\" for=\"689c250d-caab-403d-8bf7-d5bbaafa6421\">impute_embarked</label><div class=\"sk-toggleable__content\"><pre>[6]</pre></div></div></div><div class=\"sk-serial\"><div class=\"sk-item\"><div class=\"sk-estimator sk-toggleable\"><input class=\"sk-toggleable__control sk-hidden--visually\" id=\"4dee76c3-fad9-4c65-ae7d-0f32563860dd\" type=\"checkbox\" ><label class=\"sk-toggleable__label\" for=\"4dee76c3-fad9-4c65-ae7d-0f32563860dd\">SimpleImputer</label><div class=\"sk-toggleable__content\"><pre>SimpleImputer(strategy='most_frequent')</pre></div></div></div></div></div></div><div class=\"sk-parallel-item\"><div class=\"sk-item\"><div class=\"sk-label-container\"><div class=\"sk-label sk-toggleable\"><input class=\"sk-toggleable__control sk-hidden--visually\" id=\"1bfe423d-5ac1-471a-a7fd-9b8ffdcaa9d0\" type=\"checkbox\" ><label class=\"sk-toggleable__label\" for=\"1bfe423d-5ac1-471a-a7fd-9b8ffdcaa9d0\">remainder</label><div class=\"sk-toggleable__content\"><pre>['Pclass', 'Sex', 'SibSp', 'Parch', 'Fare']</pre></div></div></div><div class=\"sk-serial\"><div class=\"sk-item\"><div class=\"sk-estimator sk-toggleable\"><input class=\"sk-toggleable__control sk-hidden--visually\" id=\"2eff6e95-26d9-4afc-86a3-75a75c31c1bc\" type=\"checkbox\" ><label class=\"sk-toggleable__label\" for=\"2eff6e95-26d9-4afc-86a3-75a75c31c1bc\">passthrough</label><div class=\"sk-toggleable__content\"><pre>passthrough</pre></div></div></div></div></div></div></div></div><div class=\"sk-item sk-dashed-wrapped\"><div class=\"sk-label-container\"><div class=\"sk-label sk-toggleable\"><input class=\"sk-toggleable__control sk-hidden--visually\" id=\"b9e0e39f-69de-44ad-a8d8-8ba843adf54f\" type=\"checkbox\" ><label class=\"sk-toggleable__label\" for=\"b9e0e39f-69de-44ad-a8d8-8ba843adf54f\">trf2: ColumnTransformer</label><div class=\"sk-toggleable__content\"><pre>ColumnTransformer(remainder='passthrough',\n",
       "                  transformers=[('ohe_sex_embarked',\n",
       "                                 OneHotEncoder(handle_unknown='ignore',\n",
       "                                               sparse=False),\n",
       "                                 [1, 6])])</pre></div></div></div><div class=\"sk-parallel\"><div class=\"sk-parallel-item\"><div class=\"sk-item\"><div class=\"sk-label-container\"><div class=\"sk-label sk-toggleable\"><input class=\"sk-toggleable__control sk-hidden--visually\" id=\"5e43504f-6b1c-49d2-af6e-f4179d908af5\" type=\"checkbox\" ><label class=\"sk-toggleable__label\" for=\"5e43504f-6b1c-49d2-af6e-f4179d908af5\">ohe_sex_embarked</label><div class=\"sk-toggleable__content\"><pre>[1, 6]</pre></div></div></div><div class=\"sk-serial\"><div class=\"sk-item\"><div class=\"sk-estimator sk-toggleable\"><input class=\"sk-toggleable__control sk-hidden--visually\" id=\"d3451c9a-72a5-4a09-84fd-edc4866cee0c\" type=\"checkbox\" ><label class=\"sk-toggleable__label\" for=\"d3451c9a-72a5-4a09-84fd-edc4866cee0c\">OneHotEncoder</label><div class=\"sk-toggleable__content\"><pre>OneHotEncoder(handle_unknown='ignore', sparse=False)</pre></div></div></div></div></div></div><div class=\"sk-parallel-item\"><div class=\"sk-item\"><div class=\"sk-label-container\"><div class=\"sk-label sk-toggleable\"><input class=\"sk-toggleable__control sk-hidden--visually\" id=\"0d68a06b-e957-402f-a80a-f27a2d8324f8\" type=\"checkbox\" ><label class=\"sk-toggleable__label\" for=\"0d68a06b-e957-402f-a80a-f27a2d8324f8\">remainder</label><div class=\"sk-toggleable__content\"><pre>[0, 2, 3, 4, 5]</pre></div></div></div><div class=\"sk-serial\"><div class=\"sk-item\"><div class=\"sk-estimator sk-toggleable\"><input class=\"sk-toggleable__control sk-hidden--visually\" id=\"125cfa7e-6f72-47bb-b133-b7b76c5ffb24\" type=\"checkbox\" ><label class=\"sk-toggleable__label\" for=\"125cfa7e-6f72-47bb-b133-b7b76c5ffb24\">passthrough</label><div class=\"sk-toggleable__content\"><pre>passthrough</pre></div></div></div></div></div></div></div></div><div class=\"sk-item sk-dashed-wrapped\"><div class=\"sk-label-container\"><div class=\"sk-label sk-toggleable\"><input class=\"sk-toggleable__control sk-hidden--visually\" id=\"b1a1bae3-4308-4f24-945e-f4b4ade52088\" type=\"checkbox\" ><label class=\"sk-toggleable__label\" for=\"b1a1bae3-4308-4f24-945e-f4b4ade52088\">trf3: ColumnTransformer</label><div class=\"sk-toggleable__content\"><pre>ColumnTransformer(transformers=[('scale', MinMaxScaler(), slice(0, 10, None))])</pre></div></div></div><div class=\"sk-parallel\"><div class=\"sk-parallel-item\"><div class=\"sk-item\"><div class=\"sk-label-container\"><div class=\"sk-label sk-toggleable\"><input class=\"sk-toggleable__control sk-hidden--visually\" id=\"563dfebf-0793-42f0-bc82-4cb79659f54b\" type=\"checkbox\" ><label class=\"sk-toggleable__label\" for=\"563dfebf-0793-42f0-bc82-4cb79659f54b\">scale</label><div class=\"sk-toggleable__content\"><pre>slice(0, 10, None)</pre></div></div></div><div class=\"sk-serial\"><div class=\"sk-item\"><div class=\"sk-estimator sk-toggleable\"><input class=\"sk-toggleable__control sk-hidden--visually\" id=\"152dba18-d299-4942-a94e-c05a442f15f9\" type=\"checkbox\" ><label class=\"sk-toggleable__label\" for=\"152dba18-d299-4942-a94e-c05a442f15f9\">MinMaxScaler</label><div class=\"sk-toggleable__content\"><pre>MinMaxScaler()</pre></div></div></div></div></div></div></div></div><div class=\"sk-item\"><div class=\"sk-estimator sk-toggleable\"><input class=\"sk-toggleable__control sk-hidden--visually\" id=\"a6568f5f-a115-433c-82b9-5f506087f68e\" type=\"checkbox\" ><label class=\"sk-toggleable__label\" for=\"a6568f5f-a115-433c-82b9-5f506087f68e\">SelectKBest</label><div class=\"sk-toggleable__content\"><pre>SelectKBest(k=8, score_func=<function chi2 at 0x000001B1D0F91EE0>)</pre></div></div></div><div class=\"sk-item\"><div class=\"sk-estimator sk-toggleable\"><input class=\"sk-toggleable__control sk-hidden--visually\" id=\"6dc4fa16-0279-4e2c-8f3f-fbb80bc155e6\" type=\"checkbox\" ><label class=\"sk-toggleable__label\" for=\"6dc4fa16-0279-4e2c-8f3f-fbb80bc155e6\">DecisionTreeClassifier</label><div class=\"sk-toggleable__content\"><pre>DecisionTreeClassifier()</pre></div></div></div></div></div></div></div></div></div></div></div></div>"
      ],
      "text/plain": [
       "GridSearchCV(cv=5,\n",
       "             estimator=Pipeline(steps=[('trf1',\n",
       "                                        ColumnTransformer(remainder='passthrough',\n",
       "                                                          transformers=[('impute_age',\n",
       "                                                                         SimpleImputer(),\n",
       "                                                                         [2]),\n",
       "                                                                        ('impute_embarked',\n",
       "                                                                         SimpleImputer(strategy='most_frequent'),\n",
       "                                                                         [6])])),\n",
       "                                       ('trf2',\n",
       "                                        ColumnTransformer(remainder='passthrough',\n",
       "                                                          transformers=[('ohe_sex_embarked',\n",
       "                                                                         OneHotEncoder(handle_unknown='ignore',\n",
       "                                                                                       sparse=False),\n",
       "                                                                         [1,\n",
       "                                                                          6])])),\n",
       "                                       ('trf3',\n",
       "                                        ColumnTransformer(transformers=[('scale',\n",
       "                                                                         MinMaxScaler(),\n",
       "                                                                         slice(0, 10, None))])),\n",
       "                                       ('trf4',\n",
       "                                        SelectKBest(k=8,\n",
       "                                                    score_func=<function chi2 at 0x000001B1D0F91EE0>)),\n",
       "                                       ('trf5', DecisionTreeClassifier())]),\n",
       "             param_grid={'trf5__max_depth': [1, 2, 3, 4, 5, None]},\n",
       "             scoring='accuracy')"
      ]
     },
     "execution_count": 63,
     "metadata": {},
     "output_type": "execute_result"
    }
   ],
   "source": [
    "from sklearn.model_selection import GridSearchCV\n",
    "\n",
    "grid = GridSearchCV(pipe, params, cv = 5, scoring = \"accuracy\")\n",
    "grid.fit(X_train, y_train)"
   ]
  },
  {
   "cell_type": "code",
   "execution_count": 64,
   "id": "cec9082e",
   "metadata": {},
   "outputs": [
    {
     "data": {
      "text/plain": [
       "0.6391214419383433"
      ]
     },
     "execution_count": 64,
     "metadata": {},
     "output_type": "execute_result"
    }
   ],
   "source": [
    "grid.best_score_"
   ]
  },
  {
   "cell_type": "code",
   "execution_count": 65,
   "id": "997e5af0",
   "metadata": {},
   "outputs": [
    {
     "data": {
      "text/plain": [
       "{'trf5__max_depth': 2}"
      ]
     },
     "execution_count": 65,
     "metadata": {},
     "output_type": "execute_result"
    }
   ],
   "source": [
    "grid.best_params_"
   ]
  },
  {
   "cell_type": "markdown",
   "id": "de415e22",
   "metadata": {},
   "source": [
    "### Exporting the Pipeline"
   ]
  },
  {
   "cell_type": "code",
   "execution_count": 66,
   "id": "fd05b3ca",
   "metadata": {},
   "outputs": [],
   "source": [
    "# export\n",
    "import pickle\n",
    "\n",
    "pickle.dump(pipe, open(\"./models/pipe.pkl\", \"wb\"))"
   ]
  },
  {
   "cell_type": "markdown",
   "id": "851f20b7",
   "metadata": {},
   "source": [
    "### Production Code"
   ]
  },
  {
   "cell_type": "code",
   "execution_count": 67,
   "id": "8330d4a4",
   "metadata": {},
   "outputs": [],
   "source": [
    "import numpy as np\n",
    "import pickle"
   ]
  },
  {
   "cell_type": "code",
   "execution_count": 68,
   "id": "daba6e8c",
   "metadata": {},
   "outputs": [],
   "source": [
    "pipe = pickle.load(open(\"./models/pipe.pkl\", \"rb\"))"
   ]
  },
  {
   "cell_type": "code",
   "execution_count": 69,
   "id": "696a1d63",
   "metadata": {},
   "outputs": [
    {
     "data": {
      "text/plain": [
       "array([[2, 'male', 31.0, 0, 0, 10.5, 'S']], dtype=object)"
      ]
     },
     "execution_count": 69,
     "metadata": {},
     "output_type": "execute_result"
    }
   ],
   "source": [
    "# assuming user input\n",
    "test_input2 = np.array([2, 'male', 31.0, 0, 0, 10.5, 'S'], dtype = object).reshape(1, 7)\n",
    "test_input2"
   ]
  },
  {
   "cell_type": "code",
   "execution_count": 70,
   "id": "0f45145b",
   "metadata": {},
   "outputs": [
    {
     "data": {
      "text/plain": [
       "array([0], dtype=int64)"
      ]
     },
     "execution_count": 70,
     "metadata": {},
     "output_type": "execute_result"
    }
   ],
   "source": [
    "pipe.predict(test_input2)"
   ]
  }
 ],
 "metadata": {
  "kernelspec": {
   "display_name": "Python 3 (ipykernel)",
   "language": "python",
   "name": "python3"
  },
  "language_info": {
   "codemirror_mode": {
    "name": "ipython",
    "version": 3
   },
   "file_extension": ".py",
   "mimetype": "text/x-python",
   "name": "python",
   "nbconvert_exporter": "python",
   "pygments_lexer": "ipython3",
   "version": "3.9.7"
  },
  "toc": {
   "base_numbering": 1,
   "nav_menu": {},
   "number_sections": true,
   "sideBar": true,
   "skip_h1_title": false,
   "title_cell": "Table of Contents",
   "title_sidebar": "Contents",
   "toc_cell": false,
   "toc_position": {
    "height": "calc(100% - 180px)",
    "left": "10px",
    "top": "150px",
    "width": "207.2px"
   },
   "toc_section_display": true,
   "toc_window_display": true
  }
 },
 "nbformat": 4,
 "nbformat_minor": 5
}
